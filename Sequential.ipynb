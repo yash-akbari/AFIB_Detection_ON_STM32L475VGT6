{
  "cells": [
    {
      "cell_type": "code",
      "execution_count": null,
      "metadata": {
        "colab": {
          "base_uri": "https://localhost:8080/"
        },
        "id": "Z7bqOwezpAUI",
        "outputId": "d9f76193-fbc4-4a31-9290-a69a5132ced6"
      },
      "outputs": [
        {
          "output_type": "stream",
          "name": "stdout",
          "text": [
            "Requirement already satisfied: tensorflow==2.15.1 in /usr/local/lib/python3.10/dist-packages (2.15.1)\n",
            "Requirement already satisfied: psutil in /usr/local/lib/python3.10/dist-packages (5.9.5)\n",
            "Requirement already satisfied: GPUtil in /usr/local/lib/python3.10/dist-packages (1.4.0)\n",
            "Requirement already satisfied: codecarbon in /usr/local/lib/python3.10/dist-packages (2.8.0)\n",
            "Requirement already satisfied: absl-py>=1.0.0 in /usr/local/lib/python3.10/dist-packages (from tensorflow==2.15.1) (1.4.0)\n",
            "Requirement already satisfied: astunparse>=1.6.0 in /usr/local/lib/python3.10/dist-packages (from tensorflow==2.15.1) (1.6.3)\n",
            "Requirement already satisfied: flatbuffers>=23.5.26 in /usr/local/lib/python3.10/dist-packages (from tensorflow==2.15.1) (24.3.25)\n",
            "Requirement already satisfied: gast!=0.5.0,!=0.5.1,!=0.5.2,>=0.2.1 in /usr/local/lib/python3.10/dist-packages (from tensorflow==2.15.1) (0.6.0)\n",
            "Requirement already satisfied: google-pasta>=0.1.1 in /usr/local/lib/python3.10/dist-packages (from tensorflow==2.15.1) (0.2.0)\n",
            "Requirement already satisfied: h5py>=2.9.0 in /usr/local/lib/python3.10/dist-packages (from tensorflow==2.15.1) (3.12.1)\n",
            "Requirement already satisfied: libclang>=13.0.0 in /usr/local/lib/python3.10/dist-packages (from tensorflow==2.15.1) (18.1.1)\n",
            "Requirement already satisfied: ml-dtypes~=0.3.1 in /usr/local/lib/python3.10/dist-packages (from tensorflow==2.15.1) (0.3.2)\n",
            "Requirement already satisfied: numpy<2.0.0,>=1.23.5 in /usr/local/lib/python3.10/dist-packages (from tensorflow==2.15.1) (1.26.4)\n",
            "Requirement already satisfied: opt-einsum>=2.3.2 in /usr/local/lib/python3.10/dist-packages (from tensorflow==2.15.1) (3.4.0)\n",
            "Requirement already satisfied: packaging in /usr/local/lib/python3.10/dist-packages (from tensorflow==2.15.1) (24.2)\n",
            "Requirement already satisfied: protobuf!=4.21.0,!=4.21.1,!=4.21.2,!=4.21.3,!=4.21.4,!=4.21.5,<5.0.0dev,>=3.20.3 in /usr/local/lib/python3.10/dist-packages (from tensorflow==2.15.1) (4.25.5)\n",
            "Requirement already satisfied: setuptools in /usr/local/lib/python3.10/dist-packages (from tensorflow==2.15.1) (75.1.0)\n",
            "Requirement already satisfied: six>=1.12.0 in /usr/local/lib/python3.10/dist-packages (from tensorflow==2.15.1) (1.16.0)\n",
            "Requirement already satisfied: termcolor>=1.1.0 in /usr/local/lib/python3.10/dist-packages (from tensorflow==2.15.1) (2.3.0)\n",
            "Requirement already satisfied: typing-extensions>=3.6.6 in /usr/local/lib/python3.10/dist-packages (from tensorflow==2.15.1) (4.12.2)\n",
            "Requirement already satisfied: wrapt<1.15,>=1.11.0 in /usr/local/lib/python3.10/dist-packages (from tensorflow==2.15.1) (1.14.1)\n",
            "Requirement already satisfied: tensorflow-io-gcs-filesystem>=0.23.1 in /usr/local/lib/python3.10/dist-packages (from tensorflow==2.15.1) (0.37.1)\n",
            "Requirement already satisfied: grpcio<2.0,>=1.24.3 in /usr/local/lib/python3.10/dist-packages (from tensorflow==2.15.1) (1.68.0)\n",
            "Requirement already satisfied: tensorboard<2.16,>=2.15 in /usr/local/lib/python3.10/dist-packages (from tensorflow==2.15.1) (2.15.2)\n",
            "Requirement already satisfied: tensorflow-estimator<2.16,>=2.15.0 in /usr/local/lib/python3.10/dist-packages (from tensorflow==2.15.1) (2.15.0)\n",
            "Requirement already satisfied: keras<2.16,>=2.15.0 in /usr/local/lib/python3.10/dist-packages (from tensorflow==2.15.1) (2.15.0)\n",
            "Requirement already satisfied: arrow in /usr/local/lib/python3.10/dist-packages (from codecarbon) (1.3.0)\n",
            "Requirement already satisfied: click in /usr/local/lib/python3.10/dist-packages (from codecarbon) (8.1.7)\n",
            "Requirement already satisfied: fief-client[cli] in /usr/local/lib/python3.10/dist-packages (from codecarbon) (0.20.0)\n",
            "Requirement already satisfied: pandas in /usr/local/lib/python3.10/dist-packages (from codecarbon) (2.2.2)\n",
            "Requirement already satisfied: prometheus-client in /usr/local/lib/python3.10/dist-packages (from codecarbon) (0.21.0)\n",
            "Requirement already satisfied: py-cpuinfo in /usr/local/lib/python3.10/dist-packages (from codecarbon) (9.0.0)\n",
            "Requirement already satisfied: pynvml in /usr/local/lib/python3.10/dist-packages (from codecarbon) (12.0.0)\n",
            "Requirement already satisfied: questionary in /usr/local/lib/python3.10/dist-packages (from codecarbon) (2.0.1)\n",
            "Requirement already satisfied: rapidfuzz in /usr/local/lib/python3.10/dist-packages (from codecarbon) (3.10.1)\n",
            "Requirement already satisfied: requests in /usr/local/lib/python3.10/dist-packages (from codecarbon) (2.32.3)\n",
            "Requirement already satisfied: rich in /usr/local/lib/python3.10/dist-packages (from codecarbon) (13.9.4)\n",
            "Requirement already satisfied: typer in /usr/local/lib/python3.10/dist-packages (from codecarbon) (0.13.0)\n",
            "Requirement already satisfied: wheel<1.0,>=0.23.0 in /usr/local/lib/python3.10/dist-packages (from astunparse>=1.6.0->tensorflow==2.15.1) (0.45.0)\n",
            "Requirement already satisfied: google-auth<3,>=1.6.3 in /usr/local/lib/python3.10/dist-packages (from tensorboard<2.16,>=2.15->tensorflow==2.15.1) (2.27.0)\n",
            "Requirement already satisfied: google-auth-oauthlib<2,>=0.5 in /usr/local/lib/python3.10/dist-packages (from tensorboard<2.16,>=2.15->tensorflow==2.15.1) (1.2.1)\n",
            "Requirement already satisfied: markdown>=2.6.8 in /usr/local/lib/python3.10/dist-packages (from tensorboard<2.16,>=2.15->tensorflow==2.15.1) (3.7)\n",
            "Requirement already satisfied: tensorboard-data-server<0.8.0,>=0.7.0 in /usr/local/lib/python3.10/dist-packages (from tensorboard<2.16,>=2.15->tensorflow==2.15.1) (0.7.2)\n",
            "Requirement already satisfied: werkzeug>=1.0.1 in /usr/local/lib/python3.10/dist-packages (from tensorboard<2.16,>=2.15->tensorflow==2.15.1) (3.1.3)\n",
            "Requirement already satisfied: charset-normalizer<4,>=2 in /usr/local/lib/python3.10/dist-packages (from requests->codecarbon) (3.4.0)\n",
            "Requirement already satisfied: idna<4,>=2.5 in /usr/local/lib/python3.10/dist-packages (from requests->codecarbon) (3.10)\n",
            "Requirement already satisfied: urllib3<3,>=1.21.1 in /usr/local/lib/python3.10/dist-packages (from requests->codecarbon) (2.2.3)\n",
            "Requirement already satisfied: certifi>=2017.4.17 in /usr/local/lib/python3.10/dist-packages (from requests->codecarbon) (2024.8.30)\n",
            "Requirement already satisfied: python-dateutil>=2.7.0 in /usr/local/lib/python3.10/dist-packages (from arrow->codecarbon) (2.8.2)\n",
            "Requirement already satisfied: types-python-dateutil>=2.8.10 in /usr/local/lib/python3.10/dist-packages (from arrow->codecarbon) (2.9.0.20241003)\n",
            "Requirement already satisfied: httpx<0.28.0,>=0.21.3 in /usr/local/lib/python3.10/dist-packages (from fief-client[cli]->codecarbon) (0.27.2)\n",
            "Requirement already satisfied: jwcrypto<2.0.0,>=1.4 in /usr/local/lib/python3.10/dist-packages (from fief-client[cli]->codecarbon) (1.5.6)\n",
            "Requirement already satisfied: yaspin in /usr/local/lib/python3.10/dist-packages (from fief-client[cli]->codecarbon) (3.1.0)\n",
            "Requirement already satisfied: pytz>=2020.1 in /usr/local/lib/python3.10/dist-packages (from pandas->codecarbon) (2024.2)\n",
            "Requirement already satisfied: tzdata>=2022.7 in /usr/local/lib/python3.10/dist-packages (from pandas->codecarbon) (2024.2)\n",
            "Requirement already satisfied: nvidia-ml-py<13.0.0a0,>=12.0.0 in /usr/local/lib/python3.10/dist-packages (from pynvml->codecarbon) (12.560.30)\n",
            "Requirement already satisfied: prompt_toolkit<=3.0.36,>=2.0 in /usr/local/lib/python3.10/dist-packages (from questionary->codecarbon) (3.0.36)\n",
            "Requirement already satisfied: markdown-it-py>=2.2.0 in /usr/local/lib/python3.10/dist-packages (from rich->codecarbon) (3.0.0)\n",
            "Requirement already satisfied: pygments<3.0.0,>=2.13.0 in /usr/local/lib/python3.10/dist-packages (from rich->codecarbon) (2.18.0)\n",
            "Requirement already satisfied: shellingham>=1.3.0 in /usr/local/lib/python3.10/dist-packages (from typer->codecarbon) (1.5.4)\n",
            "Requirement already satisfied: cachetools<6.0,>=2.0.0 in /usr/local/lib/python3.10/dist-packages (from google-auth<3,>=1.6.3->tensorboard<2.16,>=2.15->tensorflow==2.15.1) (5.5.0)\n",
            "Requirement already satisfied: pyasn1-modules>=0.2.1 in /usr/local/lib/python3.10/dist-packages (from google-auth<3,>=1.6.3->tensorboard<2.16,>=2.15->tensorflow==2.15.1) (0.4.1)\n",
            "Requirement already satisfied: rsa<5,>=3.1.4 in /usr/local/lib/python3.10/dist-packages (from google-auth<3,>=1.6.3->tensorboard<2.16,>=2.15->tensorflow==2.15.1) (4.9)\n",
            "Requirement already satisfied: requests-oauthlib>=0.7.0 in /usr/local/lib/python3.10/dist-packages (from google-auth-oauthlib<2,>=0.5->tensorboard<2.16,>=2.15->tensorflow==2.15.1) (1.3.1)\n",
            "Requirement already satisfied: anyio in /usr/local/lib/python3.10/dist-packages (from httpx<0.28.0,>=0.21.3->fief-client[cli]->codecarbon) (3.7.1)\n",
            "Requirement already satisfied: httpcore==1.* in /usr/local/lib/python3.10/dist-packages (from httpx<0.28.0,>=0.21.3->fief-client[cli]->codecarbon) (1.0.7)\n",
            "Requirement already satisfied: sniffio in /usr/local/lib/python3.10/dist-packages (from httpx<0.28.0,>=0.21.3->fief-client[cli]->codecarbon) (1.3.1)\n",
            "Requirement already satisfied: h11<0.15,>=0.13 in /usr/local/lib/python3.10/dist-packages (from httpcore==1.*->httpx<0.28.0,>=0.21.3->fief-client[cli]->codecarbon) (0.14.0)\n",
            "Requirement already satisfied: cryptography>=3.4 in /usr/local/lib/python3.10/dist-packages (from jwcrypto<2.0.0,>=1.4->fief-client[cli]->codecarbon) (43.0.3)\n",
            "Requirement already satisfied: mdurl~=0.1 in /usr/local/lib/python3.10/dist-packages (from markdown-it-py>=2.2.0->rich->codecarbon) (0.1.2)\n",
            "Requirement already satisfied: wcwidth in /usr/local/lib/python3.10/dist-packages (from prompt_toolkit<=3.0.36,>=2.0->questionary->codecarbon) (0.2.13)\n",
            "Requirement already satisfied: MarkupSafe>=2.1.1 in /usr/local/lib/python3.10/dist-packages (from werkzeug>=1.0.1->tensorboard<2.16,>=2.15->tensorflow==2.15.1) (3.0.2)\n",
            "Requirement already satisfied: cffi>=1.12 in /usr/local/lib/python3.10/dist-packages (from cryptography>=3.4->jwcrypto<2.0.0,>=1.4->fief-client[cli]->codecarbon) (1.17.1)\n",
            "Requirement already satisfied: pyasn1<0.7.0,>=0.4.6 in /usr/local/lib/python3.10/dist-packages (from pyasn1-modules>=0.2.1->google-auth<3,>=1.6.3->tensorboard<2.16,>=2.15->tensorflow==2.15.1) (0.6.1)\n",
            "Requirement already satisfied: oauthlib>=3.0.0 in /usr/local/lib/python3.10/dist-packages (from requests-oauthlib>=0.7.0->google-auth-oauthlib<2,>=0.5->tensorboard<2.16,>=2.15->tensorflow==2.15.1) (3.2.2)\n",
            "Requirement already satisfied: exceptiongroup in /usr/local/lib/python3.10/dist-packages (from anyio->httpx<0.28.0,>=0.21.3->fief-client[cli]->codecarbon) (1.2.2)\n",
            "Requirement already satisfied: pycparser in /usr/local/lib/python3.10/dist-packages (from cffi>=1.12->cryptography>=3.4->jwcrypto<2.0.0,>=1.4->fief-client[cli]->codecarbon) (2.22)\n"
          ]
        }
      ],
      "source": [
        "!pip install tensorflow==2.15.1 psutil GPUtil codecarbon"
      ]
    },
    {
      "cell_type": "code",
      "source": [
        "from google.colab import drive\n",
        "drive.mount('/content/drive')"
      ],
      "metadata": {
        "colab": {
          "base_uri": "https://localhost:8080/"
        },
        "id": "ooaTEpO1uAIG",
        "outputId": "bf5bdd9c-0840-4cca-ee08-2b7c6997b9fc"
      },
      "execution_count": null,
      "outputs": [
        {
          "output_type": "stream",
          "name": "stdout",
          "text": [
            "Mounted at /content/drive\n"
          ]
        }
      ]
    },
    {
      "cell_type": "code",
      "execution_count": null,
      "metadata": {
        "colab": {
          "base_uri": "https://localhost:8080/",
          "height": 1000
        },
        "outputId": "141265a7-e33d-4fa8-9c58-8df5194b3dd3",
        "id": "PB-SVPZl7Y-j"
      },
      "outputs": [
        {
          "output_type": "stream",
          "name": "stderr",
          "text": [
            "[codecarbon INFO @ 15:46:14] [setup] RAM Tracking...\n",
            "[codecarbon INFO @ 15:46:14] [setup] GPU Tracking...\n",
            "[codecarbon INFO @ 15:46:14] Tracking Nvidia GPU via pynvml\n",
            "[codecarbon INFO @ 15:46:14] [setup] CPU Tracking...\n",
            "[codecarbon WARNING @ 15:46:14] No CPU tracking mode found. Falling back on CPU constant mode. \n",
            " Linux OS detected: Please ensure RAPL files exist at \\sys\\class\\powercap\\intel-rapl to measure CPU\n",
            "\n",
            "[codecarbon WARNING @ 15:46:15] We saw that you have a Intel(R) Xeon(R) CPU @ 2.20GHz but we don't know it. Please contact us.\n",
            "[codecarbon INFO @ 15:46:15] CPU Model on constant consumption mode: Intel(R) Xeon(R) CPU @ 2.20GHz\n",
            "[codecarbon INFO @ 15:46:15] >>> Tracker's metadata:\n",
            "[codecarbon INFO @ 15:46:15]   Platform system: Linux-6.1.85+-x86_64-with-glibc2.35\n",
            "[codecarbon INFO @ 15:46:15]   Python version: 3.10.12\n",
            "[codecarbon INFO @ 15:46:15]   CodeCarbon version: 2.8.0\n",
            "[codecarbon INFO @ 15:46:15]   Available RAM : 12.675 GB\n",
            "[codecarbon INFO @ 15:46:15]   CPU count: 2\n",
            "[codecarbon INFO @ 15:46:15]   CPU model: Intel(R) Xeon(R) CPU @ 2.20GHz\n",
            "[codecarbon INFO @ 15:46:15]   GPU count: 1\n",
            "[codecarbon INFO @ 15:46:15]   GPU model: 1 x Tesla T4\n",
            "[codecarbon INFO @ 15:46:15] Saving emissions data to file /content/emissions.csv\n",
            "WARNING:tensorflow:Layer lstm will not use cuDNN kernels since it doesn't meet the criteria. It will use a generic GPU kernel as fallback when running on GPU.\n",
            "WARNING:tensorflow:Layer lstm will not use cuDNN kernels since it doesn't meet the criteria. It will use a generic GPU kernel as fallback when running on GPU.\n",
            "WARNING:tensorflow:Layer lstm will not use cuDNN kernels since it doesn't meet the criteria. It will use a generic GPU kernel as fallback when running on GPU.\n"
          ]
        },
        {
          "output_type": "stream",
          "name": "stdout",
          "text": [
            "Epoch 1/800\n",
            "3/9 [=========>....................] - ETA: 3s - loss: 0.6995 - acc: 0.4869"
          ]
        },
        {
          "output_type": "stream",
          "name": "stderr",
          "text": [
            "[codecarbon INFO @ 15:46:30] Energy consumed for RAM : 0.000020 kWh. RAM Power : 4.753036022186279 W\n",
            "[codecarbon INFO @ 15:46:30] Energy consumed for all GPUs : 0.000129 kWh. Total GPU Power : 30.95308224422069 W\n",
            "[codecarbon INFO @ 15:46:30] Energy consumed for all CPUs : 0.000177 kWh. Total CPU Power : 42.5 W\n",
            "[codecarbon INFO @ 15:46:30] 0.000326 kWh of electricity used since the beginning.\n"
          ]
        },
        {
          "output_type": "stream",
          "name": "stdout",
          "text": [
            "9/9 [==============================] - ETA: 0s - loss: 0.6929 - acc: 0.5200\n",
            "Epoch 1: val_loss improved from inf to 0.69020, saving model to /content/drive/MyDrive/Model/initial_runs_20241202_1546/af_lstm_weights.01-0.69.h5\n",
            "9/9 [==============================] - 15s 915ms/step - loss: 0.6929 - acc: 0.5200 - val_loss: 0.6902 - val_acc: 0.5400\n",
            "Epoch 2/800\n"
          ]
        },
        {
          "output_type": "stream",
          "name": "stderr",
          "text": [
            "/usr/local/lib/python3.10/dist-packages/keras/src/engine/training.py:3103: UserWarning: You are saving your model as an HDF5 file via `model.save()`. This file format is considered legacy. We recommend using instead the native Keras format, e.g. `model.save('my_model.keras')`.\n",
            "  saving_api.save_model(\n"
          ]
        },
        {
          "output_type": "stream",
          "name": "stdout",
          "text": [
            "9/9 [==============================] - ETA: 0s - loss: 0.6843 - acc: 0.5509\n",
            "Epoch 2: val_loss did not improve from 0.69020\n",
            "9/9 [==============================] - 7s 766ms/step - loss: 0.6843 - acc: 0.5509 - val_loss: 0.6908 - val_acc: 0.5400\n",
            "Epoch 3/800\n",
            "3/9 [=========>....................] - ETA: 3s - loss: 0.6806 - acc: 0.5771"
          ]
        },
        {
          "output_type": "stream",
          "name": "stderr",
          "text": [
            "[codecarbon INFO @ 15:46:45] Energy consumed for RAM : 0.000040 kWh. RAM Power : 4.753036022186279 W\n",
            "[codecarbon INFO @ 15:46:45] Energy consumed for all GPUs : 0.000401 kWh. Total GPU Power : 65.35118884302375 W\n",
            "[codecarbon INFO @ 15:46:45] Energy consumed for all CPUs : 0.000354 kWh. Total CPU Power : 42.5 W\n",
            "[codecarbon INFO @ 15:46:45] 0.000795 kWh of electricity used since the beginning.\n"
          ]
        },
        {
          "output_type": "stream",
          "name": "stdout",
          "text": [
            "9/9 [==============================] - ETA: 0s - loss: 0.6788 - acc: 0.5807\n",
            "Epoch 3: val_loss did not improve from 0.69020\n",
            "9/9 [==============================] - 7s 793ms/step - loss: 0.6788 - acc: 0.5807 - val_loss: 0.6911 - val_acc: 0.5435\n",
            "Epoch 4/800\n",
            "9/9 [==============================] - ETA: 0s - loss: 0.6732 - acc: 0.5902\n",
            "Epoch 4: val_loss improved from 0.69020 to 0.68942, saving model to /content/drive/MyDrive/Model/initial_runs_20241202_1546/af_lstm_weights.04-0.69.h5\n",
            "9/9 [==============================] - 7s 777ms/step - loss: 0.6732 - acc: 0.5902 - val_loss: 0.6894 - val_acc: 0.7268\n",
            "Epoch 5/800\n",
            "5/9 [===============>..............] - ETA: 2s - loss: 0.6679 - acc: 0.6082"
          ]
        },
        {
          "output_type": "stream",
          "name": "stderr",
          "text": [
            "[codecarbon INFO @ 15:47:00] Energy consumed for RAM : 0.000059 kWh. RAM Power : 4.753036022186279 W\n",
            "[codecarbon INFO @ 15:47:00] Energy consumed for all GPUs : 0.000680 kWh. Total GPU Power : 66.91155136937148 W\n",
            "[codecarbon INFO @ 15:47:00] Energy consumed for all CPUs : 0.000532 kWh. Total CPU Power : 42.5 W\n",
            "[codecarbon INFO @ 15:47:00] 0.001271 kWh of electricity used since the beginning.\n"
          ]
        },
        {
          "output_type": "stream",
          "name": "stdout",
          "text": [
            "9/9 [==============================] - ETA: 0s - loss: 0.6676 - acc: 0.6078\n",
            "Epoch 5: val_loss improved from 0.68942 to 0.68416, saving model to /content/drive/MyDrive/Model/initial_runs_20241202_1546/af_lstm_weights.05-0.68.h5\n",
            "9/9 [==============================] - 6s 724ms/step - loss: 0.6676 - acc: 0.6078 - val_loss: 0.6842 - val_acc: 0.4624\n",
            "Epoch 6/800\n",
            "9/9 [==============================] - ETA: 0s - loss: 0.6580 - acc: 0.6205\n",
            "Epoch 6: val_loss improved from 0.68416 to 0.68174, saving model to /content/drive/MyDrive/Model/initial_runs_20241202_1546/af_lstm_weights.06-0.68.h5\n",
            "9/9 [==============================] - 6s 703ms/step - loss: 0.6580 - acc: 0.6205 - val_loss: 0.6817 - val_acc: 0.4600\n",
            "Epoch 7/800\n",
            "8/9 [=========================>....] - ETA: 0s - loss: 0.6494 - acc: 0.6377"
          ]
        },
        {
          "output_type": "stream",
          "name": "stderr",
          "text": [
            "[codecarbon INFO @ 15:47:15] Energy consumed for RAM : 0.000079 kWh. RAM Power : 4.753036022186279 W\n",
            "[codecarbon INFO @ 15:47:15] Energy consumed for all GPUs : 0.000967 kWh. Total GPU Power : 68.94655967531338 W\n",
            "[codecarbon INFO @ 15:47:15] Energy consumed for all CPUs : 0.000709 kWh. Total CPU Power : 42.5 W\n",
            "[codecarbon INFO @ 15:47:15] 0.001756 kWh of electricity used since the beginning.\n"
          ]
        },
        {
          "output_type": "stream",
          "name": "stdout",
          "text": [
            "\b\b\b\b\b\b\b\b\b\b\b\b\b\b\b\b\b\b\b\b\b\b\b\b\b\b\b\b\b\b\b\b\b\b\b\b\b\b\b\b\b\b\b\b\b\b\b\b\b\b\b\b\b\b\b\b\b\b\b\b\b\b\b\b\b\b\b\b\b\b\b\b\b\b\b\r9/9 [==============================] - ETA: 0s - loss: 0.6490 - acc: 0.6379\n",
            "Epoch 7: val_loss did not improve from 0.68174\n",
            "9/9 [==============================] - 8s 878ms/step - loss: 0.6490 - acc: 0.6379 - val_loss: 0.6871 - val_acc: 0.4600\n",
            "Epoch 8/800\n",
            "9/9 [==============================] - ETA: 0s - loss: 0.6379 - acc: 0.6484\n",
            "Epoch 8: val_loss did not improve from 0.68174\n",
            "9/9 [==============================] - 6s 694ms/step - loss: 0.6379 - acc: 0.6484 - val_loss: 0.6997 - val_acc: 0.4600\n",
            "Epoch 9/800\n",
            "9/9 [==============================] - ETA: 0s - loss: 0.6279 - acc: 0.6566\n",
            "Epoch 9: val_loss did not improve from 0.68174\n",
            "9/9 [==============================] - 6s 713ms/step - loss: 0.6279 - acc: 0.6566 - val_loss: 0.7213 - val_acc: 0.4600\n",
            "Epoch 10/800\n",
            "1/9 [==>...........................] - ETA: 5s - loss: 0.6225 - acc: 0.6605"
          ]
        },
        {
          "output_type": "stream",
          "name": "stderr",
          "text": [
            "[codecarbon INFO @ 15:47:30] Energy consumed for RAM : 0.000099 kWh. RAM Power : 4.753036022186279 W\n",
            "[codecarbon INFO @ 15:47:30] Energy consumed for all GPUs : 0.001252 kWh. Total GPU Power : 68.20014597785044 W\n",
            "[codecarbon INFO @ 15:47:30] Energy consumed for all CPUs : 0.000886 kWh. Total CPU Power : 42.5 W\n",
            "[codecarbon INFO @ 15:47:30] 0.002236 kWh of electricity used since the beginning.\n"
          ]
        },
        {
          "output_type": "stream",
          "name": "stdout",
          "text": [
            "9/9 [==============================] - ETA: 0s - loss: 0.6183 - acc: 0.6646\n",
            "Epoch 10: val_loss did not improve from 0.68174\n",
            "9/9 [==============================] - 6s 694ms/step - loss: 0.6183 - acc: 0.6646 - val_loss: 0.7421 - val_acc: 0.4600\n",
            "Epoch 11/800\n",
            "9/9 [==============================] - ETA: 0s - loss: 0.6094 - acc: 0.6722\n",
            "Epoch 11: val_loss did not improve from 0.68174\n",
            "9/9 [==============================] - 6s 710ms/step - loss: 0.6094 - acc: 0.6722 - val_loss: 0.7591 - val_acc: 0.4600\n",
            "Epoch 12/800\n",
            "4/9 [============>.................] - ETA: 3s - loss: 0.6021 - acc: 0.6787"
          ]
        },
        {
          "output_type": "stream",
          "name": "stderr",
          "text": [
            "[codecarbon INFO @ 15:47:45] Energy consumed for RAM : 0.000119 kWh. RAM Power : 4.753036022186279 W\n",
            "[codecarbon INFO @ 15:47:45] Energy consumed for all GPUs : 0.001540 kWh. Total GPU Power : 69.30957755605274 W\n",
            "[codecarbon INFO @ 15:47:45] Energy consumed for all CPUs : 0.001063 kWh. Total CPU Power : 42.5 W\n",
            "[codecarbon INFO @ 15:47:45] 0.002722 kWh of electricity used since the beginning.\n"
          ]
        },
        {
          "output_type": "stream",
          "name": "stdout",
          "text": [
            "9/9 [==============================] - ETA: 0s - loss: 0.5990 - acc: 0.6819\n",
            "Epoch 12: val_loss did not improve from 0.68174\n",
            "9/9 [==============================] - 6s 701ms/step - loss: 0.5990 - acc: 0.6819 - val_loss: 0.7605 - val_acc: 0.4600\n",
            "Epoch 13/800\n",
            "9/9 [==============================] - ETA: 0s - loss: 0.5888 - acc: 0.6904\n",
            "Epoch 13: val_loss did not improve from 0.68174\n",
            "9/9 [==============================] - 7s 777ms/step - loss: 0.5888 - acc: 0.6904 - val_loss: 0.8037 - val_acc: 0.4600\n",
            "Epoch 14/800\n",
            "7/9 [======================>.......] - ETA: 1s - loss: 0.5804 - acc: 0.6982"
          ]
        },
        {
          "output_type": "stream",
          "name": "stderr",
          "text": [
            "[codecarbon INFO @ 15:48:00] Energy consumed for RAM : 0.000139 kWh. RAM Power : 4.753036022186279 W\n",
            "[codecarbon INFO @ 15:48:00] Energy consumed for all GPUs : 0.001824 kWh. Total GPU Power : 68.16669566183182 W\n",
            "[codecarbon INFO @ 15:48:00] Energy consumed for all CPUs : 0.001240 kWh. Total CPU Power : 42.5 W\n",
            "[codecarbon INFO @ 15:48:00] 0.003202 kWh of electricity used since the beginning.\n"
          ]
        },
        {
          "output_type": "stream",
          "name": "stdout",
          "text": [
            "9/9 [==============================] - ETA: 0s - loss: 0.5799 - acc: 0.6981\n",
            "Epoch 14: val_loss did not improve from 0.68174\n",
            "9/9 [==============================] - 6s 704ms/step - loss: 0.5799 - acc: 0.6981 - val_loss: 0.8113 - val_acc: 0.4600\n",
            "Epoch 15/800\n",
            "9/9 [==============================] - ETA: 0s - loss: 0.5693 - acc: 0.7069\n",
            "Epoch 15: val_loss did not improve from 0.68174\n",
            "9/9 [==============================] - 6s 699ms/step - loss: 0.5693 - acc: 0.7069 - val_loss: 0.7983 - val_acc: 0.4600\n",
            "Epoch 16/800\n",
            "9/9 [==============================] - ETA: 0s - loss: 0.5606 - acc: 0.7136\n",
            "Epoch 16: val_loss did not improve from 0.68174\n",
            "9/9 [==============================] - 6s 700ms/step - loss: 0.5606 - acc: 0.7136 - val_loss: 0.8014 - val_acc: 0.4600\n",
            "Epoch 17/800\n",
            "2/9 [=====>........................] - ETA: 4s - loss: 0.5575 - acc: 0.7154"
          ]
        },
        {
          "output_type": "stream",
          "name": "stderr",
          "text": [
            "[codecarbon INFO @ 15:48:15] Energy consumed for RAM : 0.000158 kWh. RAM Power : 4.753036022186279 W\n",
            "[codecarbon INFO @ 15:48:15] Energy consumed for all GPUs : 0.002114 kWh. Total GPU Power : 69.60598389913937 W\n",
            "[codecarbon INFO @ 15:48:15] Energy consumed for all CPUs : 0.001417 kWh. Total CPU Power : 42.5 W\n",
            "[codecarbon INFO @ 15:48:15] 0.003689 kWh of electricity used since the beginning.\n",
            "[codecarbon INFO @ 15:48:15] 0.004263 g.CO2eq/s mean an estimation of 134.43816333819456 kg.CO2eq/year\n"
          ]
        },
        {
          "output_type": "stream",
          "name": "stdout",
          "text": [
            "9/9 [==============================] - ETA: 0s - loss: 0.5539 - acc: 0.7182\n",
            "Epoch 17: val_loss did not improve from 0.68174\n",
            "9/9 [==============================] - 6s 695ms/step - loss: 0.5539 - acc: 0.7182 - val_loss: 0.8041 - val_acc: 0.4600\n",
            "Epoch 18/800\n",
            "9/9 [==============================] - ETA: 0s - loss: 0.5480 - acc: 0.7227\n",
            "Epoch 18: val_loss did not improve from 0.68174\n",
            "9/9 [==============================] - 6s 708ms/step - loss: 0.5480 - acc: 0.7227 - val_loss: 0.7742 - val_acc: 0.4600\n",
            "Epoch 19/800\n",
            "5/9 [===============>..............] - ETA: 2s - loss: 0.5432 - acc: 0.7259"
          ]
        },
        {
          "output_type": "stream",
          "name": "stderr",
          "text": [
            "[codecarbon INFO @ 15:48:30] Energy consumed for RAM : 0.000178 kWh. RAM Power : 4.753036022186279 W\n",
            "[codecarbon INFO @ 15:48:30] Energy consumed for all GPUs : 0.002403 kWh. Total GPU Power : 69.36317345448113 W\n",
            "[codecarbon INFO @ 15:48:30] Energy consumed for all CPUs : 0.001594 kWh. Total CPU Power : 42.5 W\n",
            "[codecarbon INFO @ 15:48:30] 0.004175 kWh of electricity used since the beginning.\n"
          ]
        },
        {
          "output_type": "stream",
          "name": "stdout",
          "text": [
            "9/9 [==============================] - ETA: 0s - loss: 0.5423 - acc: 0.7263\n",
            "Epoch 19: val_loss did not improve from 0.68174\n",
            "9/9 [==============================] - 6s 695ms/step - loss: 0.5423 - acc: 0.7263 - val_loss: 0.7839 - val_acc: 0.4600\n",
            "Epoch 20/800\n",
            "9/9 [==============================] - ETA: 0s - loss: 0.5367 - acc: 0.7303\n",
            "Epoch 20: val_loss did not improve from 0.68174\n",
            "9/9 [==============================] - 6s 718ms/step - loss: 0.5367 - acc: 0.7303 - val_loss: 0.7813 - val_acc: 0.4600\n",
            "Epoch 21/800\n",
            "9/9 [==============================] - ETA: 0s - loss: 0.5311 - acc: 0.7341"
          ]
        },
        {
          "output_type": "stream",
          "name": "stderr",
          "text": [
            "[codecarbon INFO @ 15:48:45] Energy consumed for RAM : 0.000198 kWh. RAM Power : 4.753036022186279 W\n",
            "[codecarbon INFO @ 15:48:45] Energy consumed for all GPUs : 0.002691 kWh. Total GPU Power : 69.21224961895878 W\n",
            "[codecarbon INFO @ 15:48:45] Energy consumed for all CPUs : 0.001771 kWh. Total CPU Power : 42.5 W\n",
            "[codecarbon INFO @ 15:48:45] 0.004660 kWh of electricity used since the beginning.\n"
          ]
        },
        {
          "output_type": "stream",
          "name": "stdout",
          "text": [
            "\n",
            "Epoch 21: val_loss did not improve from 0.68174\n",
            "9/9 [==============================] - 7s 778ms/step - loss: 0.5311 - acc: 0.7341 - val_loss: 0.8047 - val_acc: 0.4600\n",
            "Epoch 22/800\n",
            "9/9 [==============================] - ETA: 0s - loss: 0.5251 - acc: 0.7383\n",
            "Epoch 22: val_loss did not improve from 0.68174\n",
            "9/9 [==============================] - 6s 716ms/step - loss: 0.5251 - acc: 0.7383 - val_loss: 0.8183 - val_acc: 0.4600\n",
            "Epoch 23/800\n",
            "9/9 [==============================] - ETA: 0s - loss: 0.5197 - acc: 0.7421\n",
            "Epoch 23: val_loss did not improve from 0.68174\n",
            "9/9 [==============================] - 6s 696ms/step - loss: 0.5197 - acc: 0.7421 - val_loss: 0.8030 - val_acc: 0.4600\n",
            "Epoch 24/800\n",
            "2/9 [=====>........................] - ETA: 4s - loss: 0.5158 - acc: 0.7458"
          ]
        },
        {
          "output_type": "stream",
          "name": "stderr",
          "text": [
            "[codecarbon INFO @ 15:49:00] Energy consumed for RAM : 0.000218 kWh. RAM Power : 4.753036022186279 W\n",
            "[codecarbon INFO @ 15:49:00] Energy consumed for all GPUs : 0.002976 kWh. Total GPU Power : 68.33547004231333 W\n",
            "[codecarbon INFO @ 15:49:00] Energy consumed for all CPUs : 0.001948 kWh. Total CPU Power : 42.5 W\n",
            "[codecarbon INFO @ 15:49:00] 0.005142 kWh of electricity used since the beginning.\n"
          ]
        },
        {
          "output_type": "stream",
          "name": "stdout",
          "text": [
            "9/9 [==============================] - ETA: 0s - loss: 0.5139 - acc: 0.7468\n",
            "Epoch 24: val_loss did not improve from 0.68174\n",
            "9/9 [==============================] - 6s 713ms/step - loss: 0.5139 - acc: 0.7468 - val_loss: 0.8027 - val_acc: 0.4600\n",
            "Epoch 25/800\n",
            "9/9 [==============================] - ETA: 0s - loss: 0.5080 - acc: 0.7509\n",
            "Epoch 25: val_loss did not improve from 0.68174\n",
            "9/9 [==============================] - 7s 780ms/step - loss: 0.5080 - acc: 0.7509 - val_loss: 0.7680 - val_acc: 0.4600\n",
            "Epoch 26/800\n",
            "5/9 [===============>..............] - ETA: 2s - loss: 0.5024 - acc: 0.7543"
          ]
        },
        {
          "output_type": "stream",
          "name": "stderr",
          "text": [
            "[codecarbon INFO @ 15:49:15] Energy consumed for RAM : 0.000238 kWh. RAM Power : 4.753036022186279 W\n",
            "[codecarbon INFO @ 15:49:15] Energy consumed for all GPUs : 0.003262 kWh. Total GPU Power : 68.65313191181042 W\n",
            "[codecarbon INFO @ 15:49:15] Energy consumed for all CPUs : 0.002126 kWh. Total CPU Power : 42.5 W\n",
            "[codecarbon INFO @ 15:49:15] 0.005625 kWh of electricity used since the beginning.\n"
          ]
        },
        {
          "output_type": "stream",
          "name": "stdout",
          "text": [
            "9/9 [==============================] - ETA: 0s - loss: 0.5009 - acc: 0.7552\n",
            "Epoch 26: val_loss did not improve from 0.68174\n",
            "9/9 [==============================] - 6s 711ms/step - loss: 0.5009 - acc: 0.7552 - val_loss: 0.7486 - val_acc: 0.4600\n",
            "Epoch 27/800\n",
            "9/9 [==============================] - ETA: 0s - loss: 0.4953 - acc: 0.7616\n",
            "Epoch 27: val_loss did not improve from 0.68174\n",
            "9/9 [==============================] - 6s 702ms/step - loss: 0.4953 - acc: 0.7616 - val_loss: 0.7526 - val_acc: 0.4600\n",
            "Epoch 28/800\n",
            "9/9 [==============================] - ETA: 0s - loss: 0.4876 - acc: 0.7670"
          ]
        },
        {
          "output_type": "stream",
          "name": "stderr",
          "text": [
            "[codecarbon INFO @ 15:49:30] Energy consumed for RAM : 0.000257 kWh. RAM Power : 4.753036022186279 W\n",
            "[codecarbon INFO @ 15:49:30] Energy consumed for all GPUs : 0.003550 kWh. Total GPU Power : 69.15300256656384 W\n",
            "[codecarbon INFO @ 15:49:30] Energy consumed for all CPUs : 0.002303 kWh. Total CPU Power : 42.5 W\n",
            "[codecarbon INFO @ 15:49:30] 0.006110 kWh of electricity used since the beginning.\n"
          ]
        },
        {
          "output_type": "stream",
          "name": "stdout",
          "text": [
            "\n",
            "Epoch 28: val_loss did not improve from 0.68174\n",
            "9/9 [==============================] - 6s 699ms/step - loss: 0.4876 - acc: 0.7670 - val_loss: 0.7340 - val_acc: 0.4600\n",
            "Epoch 29/800\n",
            "9/9 [==============================] - ETA: 0s - loss: 0.4811 - acc: 0.7714\n",
            "Epoch 29: val_loss did not improve from 0.68174\n",
            "9/9 [==============================] - 6s 703ms/step - loss: 0.4811 - acc: 0.7714 - val_loss: 0.7277 - val_acc: 0.4600\n",
            "Epoch 30/800\n",
            "9/9 [==============================] - ETA: 0s - loss: 0.4752 - acc: 0.7767\n",
            "Epoch 30: val_loss did not improve from 0.68174\n",
            "9/9 [==============================] - 6s 695ms/step - loss: 0.4752 - acc: 0.7767 - val_loss: 0.7314 - val_acc: 0.4600\n",
            "Epoch 31/800\n",
            "3/9 [=========>....................] - ETA: 3s - loss: 0.4706 - acc: 0.7796"
          ]
        },
        {
          "output_type": "stream",
          "name": "stderr",
          "text": [
            "[codecarbon INFO @ 15:49:45] Energy consumed for RAM : 0.000277 kWh. RAM Power : 4.753036022186279 W\n",
            "[codecarbon INFO @ 15:49:45] Energy consumed for all GPUs : 0.003839 kWh. Total GPU Power : 69.34854725635115 W\n",
            "[codecarbon INFO @ 15:49:45] Energy consumed for all CPUs : 0.002480 kWh. Total CPU Power : 42.5 W\n",
            "[codecarbon INFO @ 15:49:45] 0.006595 kWh of electricity used since the beginning.\n"
          ]
        },
        {
          "output_type": "stream",
          "name": "stdout",
          "text": [
            "9/9 [==============================] - ETA: 0s - loss: 0.4685 - acc: 0.7815\n",
            "Epoch 31: val_loss did not improve from 0.68174\n",
            "9/9 [==============================] - 6s 711ms/step - loss: 0.4685 - acc: 0.7815 - val_loss: 0.7163 - val_acc: 0.4600\n",
            "Epoch 32/800\n",
            "9/9 [==============================] - ETA: 0s - loss: 0.4629 - acc: 0.7859\n",
            "Epoch 32: val_loss did not improve from 0.68174\n",
            "9/9 [==============================] - 6s 696ms/step - loss: 0.4629 - acc: 0.7859 - val_loss: 0.7129 - val_acc: 0.4600\n",
            "Epoch 33/800\n",
            "7/9 [======================>.......] - ETA: 1s - loss: 0.4567 - acc: 0.7908"
          ]
        },
        {
          "output_type": "stream",
          "name": "stderr",
          "text": [
            "[codecarbon INFO @ 15:50:00] Energy consumed for RAM : 0.000297 kWh. RAM Power : 4.753036022186279 W\n",
            "[codecarbon INFO @ 15:50:00] Energy consumed for all GPUs : 0.004129 kWh. Total GPU Power : 69.85516776393291 W\n",
            "[codecarbon INFO @ 15:50:00] Energy consumed for all CPUs : 0.002657 kWh. Total CPU Power : 42.5 W\n",
            "[codecarbon INFO @ 15:50:00] 0.007083 kWh of electricity used since the beginning.\n"
          ]
        },
        {
          "output_type": "stream",
          "name": "stdout",
          "text": [
            "9/9 [==============================] - ETA: 0s - loss: 0.4560 - acc: 0.7915\n",
            "Epoch 33: val_loss did not improve from 0.68174\n",
            "9/9 [==============================] - 6s 718ms/step - loss: 0.4560 - acc: 0.7915 - val_loss: 0.7135 - val_acc: 0.4600\n",
            "Epoch 34/800\n",
            "9/9 [==============================] - ETA: 0s - loss: 0.4499 - acc: 0.7957\n",
            "Epoch 34: val_loss did not improve from 0.68174\n",
            "9/9 [==============================] - 6s 721ms/step - loss: 0.4499 - acc: 0.7957 - val_loss: 0.7309 - val_acc: 0.4600\n",
            "Epoch 35/800\n",
            "9/9 [==============================] - ETA: 0s - loss: 0.4453 - acc: 0.7993"
          ]
        },
        {
          "output_type": "stream",
          "name": "stderr",
          "text": [
            "[codecarbon INFO @ 15:50:15] Energy consumed for RAM : 0.000317 kWh. RAM Power : 4.753036022186279 W\n",
            "[codecarbon INFO @ 15:50:15] Energy consumed for all GPUs : 0.004414 kWh. Total GPU Power : 68.40106142319998 W\n",
            "[codecarbon INFO @ 15:50:15] Energy consumed for all CPUs : 0.002834 kWh. Total CPU Power : 42.5 W\n",
            "[codecarbon INFO @ 15:50:15] 0.007565 kWh of electricity used since the beginning.\n",
            "[codecarbon INFO @ 15:50:15] 0.004480 g.CO2eq/s mean an estimation of 141.2697535549414 kg.CO2eq/year\n"
          ]
        },
        {
          "output_type": "stream",
          "name": "stdout",
          "text": [
            "\n",
            "Epoch 35: val_loss did not improve from 0.68174\n",
            "9/9 [==============================] - 7s 802ms/step - loss: 0.4453 - acc: 0.7993 - val_loss: 0.7014 - val_acc: 0.4600\n",
            "Epoch 36/800\n",
            "9/9 [==============================] - ETA: 0s - loss: 0.4390 - acc: 0.8034\n",
            "Epoch 36: val_loss did not improve from 0.68174\n",
            "9/9 [==============================] - 6s 698ms/step - loss: 0.4390 - acc: 0.8034 - val_loss: 0.6871 - val_acc: 0.4824\n",
            "Epoch 37/800\n",
            "9/9 [==============================] - ETA: 0s - loss: 0.4330 - acc: 0.8084\n",
            "Epoch 37: val_loss improved from 0.68174 to 0.67740, saving model to /content/drive/MyDrive/Model/initial_runs_20241202_1546/af_lstm_weights.37-0.68.h5\n",
            "9/9 [==============================] - 7s 800ms/step - loss: 0.4330 - acc: 0.8084 - val_loss: 0.6774 - val_acc: 0.5633\n",
            "Epoch 38/800\n",
            "2/9 [=====>........................] - ETA: 4s - loss: 0.4294 - acc: 0.8108"
          ]
        },
        {
          "output_type": "stream",
          "name": "stderr",
          "text": [
            "[codecarbon INFO @ 15:50:30] Energy consumed for RAM : 0.000336 kWh. RAM Power : 4.753036022186279 W\n",
            "[codecarbon INFO @ 15:50:30] Energy consumed for all GPUs : 0.004696 kWh. Total GPU Power : 67.6497363605907 W\n",
            "[codecarbon INFO @ 15:50:30] Energy consumed for all CPUs : 0.003011 kWh. Total CPU Power : 42.5 W\n",
            "[codecarbon INFO @ 15:50:30] 0.008044 kWh of electricity used since the beginning.\n"
          ]
        },
        {
          "output_type": "stream",
          "name": "stdout",
          "text": [
            "9/9 [==============================] - ETA: 0s - loss: 0.4277 - acc: 0.8108\n",
            "Epoch 38: val_loss improved from 0.67740 to 0.64966, saving model to /content/drive/MyDrive/Model/initial_runs_20241202_1546/af_lstm_weights.38-0.65.h5\n",
            "9/9 [==============================] - 6s 706ms/step - loss: 0.4277 - acc: 0.8108 - val_loss: 0.6497 - val_acc: 0.6694\n",
            "Epoch 39/800\n",
            "9/9 [==============================] - ETA: 0s - loss: 0.4224 - acc: 0.8143\n",
            "Epoch 39: val_loss did not improve from 0.64966\n",
            "9/9 [==============================] - 6s 714ms/step - loss: 0.4224 - acc: 0.8143 - val_loss: 0.6704 - val_acc: 0.6478\n",
            "Epoch 40/800\n",
            "5/9 [===============>..............] - ETA: 2s - loss: 0.4184 - acc: 0.8180"
          ]
        },
        {
          "output_type": "stream",
          "name": "stderr",
          "text": [
            "[codecarbon INFO @ 15:50:45] Energy consumed for RAM : 0.000356 kWh. RAM Power : 4.753036022186279 W\n",
            "[codecarbon INFO @ 15:50:45] Energy consumed for all GPUs : 0.004987 kWh. Total GPU Power : 69.7981706212492 W\n",
            "[codecarbon INFO @ 15:50:45] Energy consumed for all CPUs : 0.003188 kWh. Total CPU Power : 42.5 W\n",
            "[codecarbon INFO @ 15:50:45] 0.008531 kWh of electricity used since the beginning.\n"
          ]
        },
        {
          "output_type": "stream",
          "name": "stdout",
          "text": [
            "9/9 [==============================] - ETA: 0s - loss: 0.4168 - acc: 0.8194\n",
            "Epoch 40: val_loss did not improve from 0.64966\n",
            "9/9 [==============================] - 6s 698ms/step - loss: 0.4168 - acc: 0.8194 - val_loss: 0.6609 - val_acc: 0.6613\n",
            "Epoch 41/800\n",
            "9/9 [==============================] - ETA: 0s - loss: 0.4111 - acc: 0.8232\n",
            "Epoch 41: val_loss did not improve from 0.64966\n",
            "9/9 [==============================] - 7s 791ms/step - loss: 0.4111 - acc: 0.8232 - val_loss: 0.6510 - val_acc: 0.6786\n",
            "Epoch 42/800\n",
            "9/9 [==============================] - ETA: 0s - loss: 0.4069 - acc: 0.8257"
          ]
        },
        {
          "output_type": "stream",
          "name": "stderr",
          "text": [
            "[codecarbon INFO @ 15:51:00] Energy consumed for RAM : 0.000376 kWh. RAM Power : 4.753036022186279 W\n",
            "[codecarbon INFO @ 15:51:00] Energy consumed for all GPUs : 0.005270 kWh. Total GPU Power : 68.05806657814702 W\n",
            "[codecarbon INFO @ 15:51:00] Energy consumed for all CPUs : 0.003365 kWh. Total CPU Power : 42.5 W\n",
            "[codecarbon INFO @ 15:51:00] 0.009011 kWh of electricity used since the beginning.\n"
          ]
        },
        {
          "output_type": "stream",
          "name": "stdout",
          "text": [
            "\n",
            "Epoch 42: val_loss improved from 0.64966 to 0.64286, saving model to /content/drive/MyDrive/Model/initial_runs_20241202_1546/af_lstm_weights.42-0.64.h5\n",
            "9/9 [==============================] - 7s 781ms/step - loss: 0.4069 - acc: 0.8257 - val_loss: 0.6429 - val_acc: 0.6877\n",
            "Epoch 43/800\n",
            "9/9 [==============================] - ETA: 0s - loss: 0.4019 - acc: 0.8287\n",
            "Epoch 43: val_loss did not improve from 0.64286\n",
            "9/9 [==============================] - 7s 800ms/step - loss: 0.4019 - acc: 0.8287 - val_loss: 0.6767 - val_acc: 0.6618\n",
            "Epoch 44/800\n",
            "9/9 [==============================] - ETA: 0s - loss: 0.3984 - acc: 0.8311\n",
            "Epoch 44: val_loss improved from 0.64286 to 0.62774, saving model to /content/drive/MyDrive/Model/initial_runs_20241202_1546/af_lstm_weights.44-0.63.h5\n",
            "9/9 [==============================] - 6s 704ms/step - loss: 0.3984 - acc: 0.8311 - val_loss: 0.6277 - val_acc: 0.6960\n",
            "Epoch 45/800\n"
          ]
        },
        {
          "output_type": "stream",
          "name": "stderr",
          "text": [
            "[codecarbon INFO @ 15:51:15] Energy consumed for RAM : 0.000396 kWh. RAM Power : 4.753036022186279 W\n",
            "[codecarbon INFO @ 15:51:15] Energy consumed for all GPUs : 0.005548 kWh. Total GPU Power : 66.7133976740868 W\n",
            "[codecarbon INFO @ 15:51:15] Energy consumed for all CPUs : 0.003542 kWh. Total CPU Power : 42.5 W\n",
            "[codecarbon INFO @ 15:51:15] 0.009486 kWh of electricity used since the beginning.\n"
          ]
        },
        {
          "output_type": "stream",
          "name": "stdout",
          "text": [
            "9/9 [==============================] - ETA: 0s - loss: 0.3930 - acc: 0.8346\n",
            "Epoch 45: val_loss did not improve from 0.62774\n",
            "9/9 [==============================] - 6s 714ms/step - loss: 0.3930 - acc: 0.8346 - val_loss: 0.6625 - val_acc: 0.6788\n",
            "Epoch 46/800\n",
            "9/9 [==============================] - ETA: 0s - loss: 0.3884 - acc: 0.8370\n",
            "Epoch 46: val_loss did not improve from 0.62774\n",
            "9/9 [==============================] - 6s 699ms/step - loss: 0.3884 - acc: 0.8370 - val_loss: 0.6643 - val_acc: 0.6800\n",
            "Epoch 47/800\n",
            "4/9 [============>.................] - ETA: 3s - loss: 0.3851 - acc: 0.8402"
          ]
        },
        {
          "output_type": "stream",
          "name": "stderr",
          "text": [
            "[codecarbon INFO @ 15:51:30] Energy consumed for RAM : 0.000416 kWh. RAM Power : 4.753036022186279 W\n",
            "[codecarbon INFO @ 15:51:30] Energy consumed for all GPUs : 0.005839 kWh. Total GPU Power : 69.84401076196767 W\n",
            "[codecarbon INFO @ 15:51:30] Energy consumed for all CPUs : 0.003719 kWh. Total CPU Power : 42.5 W\n",
            "[codecarbon INFO @ 15:51:30] 0.009974 kWh of electricity used since the beginning.\n"
          ]
        },
        {
          "output_type": "stream",
          "name": "stdout",
          "text": [
            "9/9 [==============================] - ETA: 0s - loss: 0.3884 - acc: 0.8362\n",
            "Epoch 47: val_loss improved from 0.62774 to 0.59730, saving model to /content/drive/MyDrive/Model/initial_runs_20241202_1546/af_lstm_weights.47-0.60.h5\n",
            "9/9 [==============================] - 7s 802ms/step - loss: 0.3884 - acc: 0.8362 - val_loss: 0.5973 - val_acc: 0.7082\n",
            "Epoch 48/800\n",
            "9/9 [==============================] - ETA: 0s - loss: 0.3838 - acc: 0.8390\n",
            "Epoch 48: val_loss did not improve from 0.59730\n",
            "9/9 [==============================] - 6s 697ms/step - loss: 0.3838 - acc: 0.8390 - val_loss: 0.6383 - val_acc: 0.6924\n",
            "Epoch 49/800\n",
            "6/9 [===================>..........] - ETA: 1s - loss: 0.3789 - acc: 0.8434"
          ]
        },
        {
          "output_type": "stream",
          "name": "stderr",
          "text": [
            "[codecarbon INFO @ 15:51:45] Energy consumed for RAM : 0.000435 kWh. RAM Power : 4.753036022186279 W\n",
            "[codecarbon INFO @ 15:51:45] Energy consumed for all GPUs : 0.006122 kWh. Total GPU Power : 68.01155924472204 W\n",
            "[codecarbon INFO @ 15:51:45] Energy consumed for all CPUs : 0.003897 kWh. Total CPU Power : 42.5 W\n",
            "[codecarbon INFO @ 15:51:45] 0.010454 kWh of electricity used since the beginning.\n"
          ]
        },
        {
          "output_type": "stream",
          "name": "stdout",
          "text": [
            "9/9 [==============================] - ETA: 0s - loss: 0.3786 - acc: 0.8430\n",
            "Epoch 49: val_loss did not improve from 0.59730\n",
            "9/9 [==============================] - 7s 794ms/step - loss: 0.3786 - acc: 0.8430 - val_loss: 0.6833 - val_acc: 0.6665\n",
            "Epoch 50/800\n",
            "9/9 [==============================] - ETA: 0s - loss: 0.3753 - acc: 0.8453\n",
            "Epoch 50: val_loss did not improve from 0.59730\n",
            "9/9 [==============================] - 6s 699ms/step - loss: 0.3753 - acc: 0.8453 - val_loss: 0.6443 - val_acc: 0.6917\n",
            "Epoch 51/800\n",
            "9/9 [==============================] - ETA: 0s - loss: 0.3709 - acc: 0.8485"
          ]
        },
        {
          "output_type": "stream",
          "name": "stderr",
          "text": [
            "[codecarbon INFO @ 15:52:01] Energy consumed for RAM : 0.000455 kWh. RAM Power : 4.753036022186279 W\n",
            "[codecarbon INFO @ 15:52:01] Energy consumed for all GPUs : 0.006408 kWh. Total GPU Power : 68.47306738955434 W\n",
            "[codecarbon INFO @ 15:52:01] Energy consumed for all CPUs : 0.004074 kWh. Total CPU Power : 42.5 W\n",
            "[codecarbon INFO @ 15:52:01] 0.010937 kWh of electricity used since the beginning.\n"
          ]
        },
        {
          "output_type": "stream",
          "name": "stdout",
          "text": [
            "\n",
            "Epoch 51: val_loss did not improve from 0.59730\n",
            "9/9 [==============================] - 6s 713ms/step - loss: 0.3709 - acc: 0.8485 - val_loss: 0.6566 - val_acc: 0.6873\n",
            "Epoch 52/800\n",
            "9/9 [==============================] - ETA: 0s - loss: 0.3670 - acc: 0.8502\n",
            "Epoch 52: val_loss did not improve from 0.59730\n",
            "9/9 [==============================] - 6s 706ms/step - loss: 0.3670 - acc: 0.8502 - val_loss: 0.6395 - val_acc: 0.6951\n",
            "Epoch 53/800\n",
            "9/9 [==============================] - ETA: 0s - loss: 0.3644 - acc: 0.8510\n",
            "Epoch 53: val_loss did not improve from 0.59730\n",
            "9/9 [==============================] - 6s 703ms/step - loss: 0.3644 - acc: 0.8510 - val_loss: 0.6917 - val_acc: 0.6641\n",
            "Epoch 54/800\n",
            "3/9 [=========>....................] - ETA: 3s - loss: 0.3610 - acc: 0.8539"
          ]
        },
        {
          "output_type": "stream",
          "name": "stderr",
          "text": [
            "[codecarbon INFO @ 15:52:16] Energy consumed for RAM : 0.000475 kWh. RAM Power : 4.753036022186279 W\n",
            "[codecarbon INFO @ 15:52:16] Energy consumed for all GPUs : 0.006696 kWh. Total GPU Power : 69.26838577001244 W\n",
            "[codecarbon INFO @ 15:52:16] Energy consumed for all CPUs : 0.004251 kWh. Total CPU Power : 42.5 W\n",
            "[codecarbon INFO @ 15:52:16] 0.011422 kWh of electricity used since the beginning.\n",
            "[codecarbon INFO @ 15:52:16] 0.004457 g.CO2eq/s mean an estimation of 140.56109592041093 kg.CO2eq/year\n"
          ]
        },
        {
          "output_type": "stream",
          "name": "stdout",
          "text": [
            "9/9 [==============================] - ETA: 0s - loss: 0.3626 - acc: 0.8522\n",
            "Epoch 54: val_loss did not improve from 0.59730\n",
            "9/9 [==============================] - 6s 709ms/step - loss: 0.3626 - acc: 0.8522 - val_loss: 0.6066 - val_acc: 0.7061\n",
            "Epoch 55/800\n",
            "9/9 [==============================] - ETA: 0s - loss: 0.3583 - acc: 0.8548\n",
            "Epoch 55: val_loss did not improve from 0.59730\n",
            "9/9 [==============================] - 6s 697ms/step - loss: 0.3583 - acc: 0.8548 - val_loss: 0.6299 - val_acc: 0.6971\n",
            "Epoch 56/800\n",
            "7/9 [======================>.......] - ETA: 1s - loss: 0.3557 - acc: 0.8559"
          ]
        },
        {
          "output_type": "stream",
          "name": "stderr",
          "text": [
            "[codecarbon INFO @ 15:52:31] Energy consumed for RAM : 0.000495 kWh. RAM Power : 4.753036022186279 W\n",
            "[codecarbon INFO @ 15:52:31] Energy consumed for all GPUs : 0.006986 kWh. Total GPU Power : 69.46768371673267 W\n",
            "[codecarbon INFO @ 15:52:31] Energy consumed for all CPUs : 0.004428 kWh. Total CPU Power : 42.5 W\n",
            "[codecarbon INFO @ 15:52:31] 0.011908 kWh of electricity used since the beginning.\n"
          ]
        },
        {
          "output_type": "stream",
          "name": "stdout",
          "text": [
            "9/9 [==============================] - ETA: 0s - loss: 0.3557 - acc: 0.8557\n",
            "Epoch 56: val_loss did not improve from 0.59730\n",
            "9/9 [==============================] - 6s 715ms/step - loss: 0.3557 - acc: 0.8557 - val_loss: 0.6872 - val_acc: 0.6656\n",
            "Epoch 57/800\n",
            "9/9 [==============================] - ETA: 0s - loss: 0.3526 - acc: 0.8586\n",
            "Epoch 57: val_loss did not improve from 0.59730\n",
            "9/9 [==============================] - 6s 701ms/step - loss: 0.3526 - acc: 0.8586 - val_loss: 0.6473 - val_acc: 0.6889\n",
            "Epoch 58/800\n",
            "9/9 [==============================] - ETA: 0s - loss: 0.3488 - acc: 0.8600\n",
            "Epoch 58: val_loss did not improve from 0.59730\n",
            "9/9 [==============================] - 6s 714ms/step - loss: 0.3488 - acc: 0.8600 - val_loss: 0.6496 - val_acc: 0.6853\n",
            "Epoch 59/800\n",
            "1/9 [==>...........................] - ETA: 5s - loss: 0.3477 - acc: 0.8627"
          ]
        },
        {
          "output_type": "stream",
          "name": "stderr",
          "text": [
            "[codecarbon INFO @ 15:52:46] Energy consumed for RAM : 0.000515 kWh. RAM Power : 4.753036022186279 W\n",
            "[codecarbon INFO @ 15:52:46] Energy consumed for all GPUs : 0.007274 kWh. Total GPU Power : 69.23884360689897 W\n",
            "[codecarbon INFO @ 15:52:46] Energy consumed for all CPUs : 0.004605 kWh. Total CPU Power : 42.5 W\n",
            "[codecarbon INFO @ 15:52:46] 0.012394 kWh of electricity used since the beginning.\n"
          ]
        },
        {
          "output_type": "stream",
          "name": "stdout",
          "text": [
            "9/9 [==============================] - ETA: 0s - loss: 0.3503 - acc: 0.8583\n",
            "Epoch 59: val_loss improved from 0.59730 to 0.56679, saving model to /content/drive/MyDrive/Model/initial_runs_20241202_1546/af_lstm_weights.59-0.57.h5\n",
            "9/9 [==============================] - 6s 705ms/step - loss: 0.3503 - acc: 0.8583 - val_loss: 0.5668 - val_acc: 0.7606\n",
            "Epoch 60/800\n",
            "9/9 [==============================] - ETA: 0s - loss: 0.3465 - acc: 0.8611\n",
            "Epoch 60: val_loss did not improve from 0.56679\n",
            "9/9 [==============================] - 6s 716ms/step - loss: 0.3465 - acc: 0.8611 - val_loss: 0.5933 - val_acc: 0.7468\n",
            "Epoch 61/800\n",
            "4/9 [============>.................] - ETA: 3s - loss: 0.3429 - acc: 0.8635"
          ]
        },
        {
          "output_type": "stream",
          "name": "stderr",
          "text": [
            "[codecarbon INFO @ 15:53:01] Energy consumed for RAM : 0.000534 kWh. RAM Power : 4.753036022186279 W\n",
            "[codecarbon INFO @ 15:53:01] Energy consumed for all GPUs : 0.007565 kWh. Total GPU Power : 69.82397365520465 W\n",
            "[codecarbon INFO @ 15:53:01] Energy consumed for all CPUs : 0.004782 kWh. Total CPU Power : 42.5 W\n",
            "[codecarbon INFO @ 15:53:01] 0.012882 kWh of electricity used since the beginning.\n"
          ]
        },
        {
          "output_type": "stream",
          "name": "stdout",
          "text": [
            "9/9 [==============================] - ETA: 0s - loss: 0.3422 - acc: 0.8634\n",
            "Epoch 61: val_loss improved from 0.56679 to 0.52749, saving model to /content/drive/MyDrive/Model/initial_runs_20241202_1546/af_lstm_weights.61-0.53.h5\n",
            "9/9 [==============================] - 6s 706ms/step - loss: 0.3422 - acc: 0.8634 - val_loss: 0.5275 - val_acc: 0.7989\n",
            "Epoch 62/800\n",
            "9/9 [==============================] - ETA: 0s - loss: 0.3395 - acc: 0.8651\n",
            "Epoch 62: val_loss did not improve from 0.52749\n",
            "9/9 [==============================] - 6s 719ms/step - loss: 0.3395 - acc: 0.8651 - val_loss: 0.5454 - val_acc: 0.7905\n",
            "Epoch 63/800\n",
            "8/9 [=========================>....] - ETA: 0s - loss: 0.3377 - acc: 0.8659"
          ]
        },
        {
          "output_type": "stream",
          "name": "stderr",
          "text": [
            "[codecarbon INFO @ 15:53:16] Energy consumed for RAM : 0.000554 kWh. RAM Power : 4.753036022186279 W\n",
            "[codecarbon INFO @ 15:53:16] Energy consumed for all GPUs : 0.007853 kWh. Total GPU Power : 69.15363012509246 W\n",
            "[codecarbon INFO @ 15:53:16] Energy consumed for all CPUs : 0.004959 kWh. Total CPU Power : 42.5 W\n",
            "[codecarbon INFO @ 15:53:16] 0.013367 kWh of electricity used since the beginning.\n"
          ]
        },
        {
          "output_type": "stream",
          "name": "stdout",
          "text": [
            "\b\b\b\b\b\b\b\b\b\b\b\b\b\b\b\b\b\b\b\b\b\b\b\b\b\b\b\b\b\b\b\b\b\b\b\b\b\b\b\b\b\b\b\b\b\b\b\b\b\b\b\b\b\b\b\b\b\b\b\b\b\b\b\b\b\b\b\b\b\b\b\b\b\b\b\r9/9 [==============================] - ETA: 0s - loss: 0.3376 - acc: 0.8660\n",
            "Epoch 63: val_loss did not improve from 0.52749\n",
            "9/9 [==============================] - 6s 702ms/step - loss: 0.3376 - acc: 0.8660 - val_loss: 0.5734 - val_acc: 0.7695\n",
            "Epoch 64/800\n",
            "9/9 [==============================] - ETA: 0s - loss: 0.3361 - acc: 0.8667\n",
            "Epoch 64: val_loss did not improve from 0.52749\n",
            "9/9 [==============================] - 7s 791ms/step - loss: 0.3361 - acc: 0.8667 - val_loss: 0.6017 - val_acc: 0.7431\n",
            "Epoch 65/800\n",
            "9/9 [==============================] - ETA: 0s - loss: 0.3331 - acc: 0.8682\n",
            "Epoch 65: val_loss did not improve from 0.52749\n",
            "9/9 [==============================] - 6s 705ms/step - loss: 0.3331 - acc: 0.8682 - val_loss: 0.5605 - val_acc: 0.7816\n",
            "Epoch 66/800\n",
            "1/9 [==>...........................] - ETA: 5s - loss: 0.3329 - acc: 0.8691"
          ]
        },
        {
          "output_type": "stream",
          "name": "stderr",
          "text": [
            "[codecarbon INFO @ 15:53:31] Energy consumed for RAM : 0.000574 kWh. RAM Power : 4.753036022186279 W\n",
            "[codecarbon INFO @ 15:53:31] Energy consumed for all GPUs : 0.008139 kWh. Total GPU Power : 68.70508878792074 W\n",
            "[codecarbon INFO @ 15:53:31] Energy consumed for all CPUs : 0.005137 kWh. Total CPU Power : 42.5 W\n",
            "[codecarbon INFO @ 15:53:31] 0.013850 kWh of electricity used since the beginning.\n"
          ]
        },
        {
          "output_type": "stream",
          "name": "stdout",
          "text": [
            "9/9 [==============================] - ETA: 0s - loss: 0.3305 - acc: 0.8690\n",
            "Epoch 66: val_loss did not improve from 0.52749\n",
            "9/9 [==============================] - 7s 793ms/step - loss: 0.3305 - acc: 0.8690 - val_loss: 0.7080 - val_acc: 0.6263\n",
            "Epoch 67/800\n",
            "9/9 [==============================] - ETA: 0s - loss: 0.3566 - acc: 0.8539\n",
            "Epoch 67: val_loss improved from 0.52749 to 0.47108, saving model to /content/drive/MyDrive/Model/initial_runs_20241202_1546/af_lstm_weights.67-0.47.h5\n",
            "9/9 [==============================] - 6s 709ms/step - loss: 0.3566 - acc: 0.8539 - val_loss: 0.4711 - val_acc: 0.8173\n",
            "Epoch 68/800\n",
            "3/9 [=========>....................] - ETA: 3s - loss: 0.3403 - acc: 0.8676"
          ]
        },
        {
          "output_type": "stream",
          "name": "stderr",
          "text": [
            "[codecarbon INFO @ 15:53:46] Energy consumed for RAM : 0.000594 kWh. RAM Power : 4.753036022186279 W\n",
            "[codecarbon INFO @ 15:53:46] Energy consumed for all GPUs : 0.008423 kWh. Total GPU Power : 68.08336049261914 W\n",
            "[codecarbon INFO @ 15:53:46] Energy consumed for all CPUs : 0.005314 kWh. Total CPU Power : 42.5 W\n",
            "[codecarbon INFO @ 15:53:46] 0.014330 kWh of electricity used since the beginning.\n"
          ]
        },
        {
          "output_type": "stream",
          "name": "stdout",
          "text": [
            "9/9 [==============================] - ETA: 0s - loss: 0.3359 - acc: 0.8664\n",
            "Epoch 68: val_loss did not improve from 0.47108\n",
            "9/9 [==============================] - 6s 710ms/step - loss: 0.3359 - acc: 0.8664 - val_loss: 0.5932 - val_acc: 0.7825\n",
            "Epoch 69/800\n",
            "9/9 [==============================] - ETA: 0s - loss: 0.3300 - acc: 0.8689\n",
            "Epoch 69: val_loss did not improve from 0.47108\n",
            "9/9 [==============================] - 6s 703ms/step - loss: 0.3300 - acc: 0.8689 - val_loss: 0.5908 - val_acc: 0.7828\n",
            "Epoch 70/800\n",
            "7/9 [======================>.......] - ETA: 1s - loss: 0.3271 - acc: 0.8716"
          ]
        },
        {
          "output_type": "stream",
          "name": "stderr",
          "text": [
            "[codecarbon INFO @ 15:54:01] Energy consumed for RAM : 0.000614 kWh. RAM Power : 4.753036022186279 W\n",
            "[codecarbon INFO @ 15:54:01] Energy consumed for all GPUs : 0.008712 kWh. Total GPU Power : 69.38098133158343 W\n",
            "[codecarbon INFO @ 15:54:01] Energy consumed for all CPUs : 0.005491 kWh. Total CPU Power : 42.5 W\n",
            "[codecarbon INFO @ 15:54:01] 0.014816 kWh of electricity used since the beginning.\n"
          ]
        },
        {
          "output_type": "stream",
          "name": "stdout",
          "text": [
            "9/9 [==============================] - ETA: 0s - loss: 0.3269 - acc: 0.8722\n",
            "Epoch 70: val_loss did not improve from 0.47108\n",
            "9/9 [==============================] - 6s 699ms/step - loss: 0.3269 - acc: 0.8722 - val_loss: 0.5155 - val_acc: 0.8070\n",
            "Epoch 71/800\n",
            "9/9 [==============================] - ETA: 0s - loss: 0.3239 - acc: 0.8727\n",
            "Epoch 71: val_loss did not improve from 0.47108\n",
            "9/9 [==============================] - 6s 708ms/step - loss: 0.3239 - acc: 0.8727 - val_loss: 0.5434 - val_acc: 0.8008\n",
            "Epoch 72/800\n",
            "9/9 [==============================] - ETA: 0s - loss: 0.3217 - acc: 0.8743\n",
            "Epoch 72: val_loss did not improve from 0.47108\n",
            "9/9 [==============================] - 6s 700ms/step - loss: 0.3217 - acc: 0.8743 - val_loss: 0.5258 - val_acc: 0.8047\n",
            "Epoch 73/800\n",
            "1/9 [==>...........................] - ETA: 5s - loss: 0.3224 - acc: 0.8744"
          ]
        },
        {
          "output_type": "stream",
          "name": "stderr",
          "text": [
            "[codecarbon INFO @ 15:54:16] Energy consumed for RAM : 0.000633 kWh. RAM Power : 4.753036022186279 W\n",
            "[codecarbon INFO @ 15:54:16] Energy consumed for all GPUs : 0.009000 kWh. Total GPU Power : 69.31551779742877 W\n",
            "[codecarbon INFO @ 15:54:16] Energy consumed for all CPUs : 0.005668 kWh. Total CPU Power : 42.5 W\n",
            "[codecarbon INFO @ 15:54:16] 0.015301 kWh of electricity used since the beginning.\n",
            "[codecarbon INFO @ 15:54:16] 0.004483 g.CO2eq/s mean an estimation of 141.36473596573407 kg.CO2eq/year\n"
          ]
        },
        {
          "output_type": "stream",
          "name": "stdout",
          "text": [
            "9/9 [==============================] - ETA: 0s - loss: 0.3195 - acc: 0.8754\n",
            "Epoch 73: val_loss did not improve from 0.47108\n",
            "9/9 [==============================] - 6s 718ms/step - loss: 0.3195 - acc: 0.8754 - val_loss: 0.5328 - val_acc: 0.8028\n",
            "Epoch 74/800\n",
            "9/9 [==============================] - ETA: 0s - loss: 0.3183 - acc: 0.8759\n",
            "Epoch 74: val_loss did not improve from 0.47108\n",
            "9/9 [==============================] - 6s 700ms/step - loss: 0.3183 - acc: 0.8759 - val_loss: 0.5267 - val_acc: 0.8041\n",
            "Epoch 75/800\n",
            "5/9 [===============>..............] - ETA: 2s - loss: 0.3168 - acc: 0.8763"
          ]
        },
        {
          "output_type": "stream",
          "name": "stderr",
          "text": [
            "[codecarbon INFO @ 15:54:31] Energy consumed for RAM : 0.000653 kWh. RAM Power : 4.753036022186279 W\n",
            "[codecarbon INFO @ 15:54:31] Energy consumed for all GPUs : 0.009291 kWh. Total GPU Power : 69.95454303896622 W\n",
            "[codecarbon INFO @ 15:54:31] Energy consumed for all CPUs : 0.005844 kWh. Total CPU Power : 42.5 W\n",
            "[codecarbon INFO @ 15:54:31] 0.015789 kWh of electricity used since the beginning.\n"
          ]
        },
        {
          "output_type": "stream",
          "name": "stdout",
          "text": [
            "9/9 [==============================] - ETA: 0s - loss: 0.3163 - acc: 0.8764\n",
            "Epoch 75: val_loss did not improve from 0.47108\n",
            "9/9 [==============================] - 6s 724ms/step - loss: 0.3163 - acc: 0.8764 - val_loss: 0.5340 - val_acc: 0.8023\n",
            "Epoch 76/800\n",
            "9/9 [==============================] - ETA: 0s - loss: 0.3146 - acc: 0.8774\n",
            "Epoch 76: val_loss did not improve from 0.47108\n",
            "9/9 [==============================] - 6s 700ms/step - loss: 0.3146 - acc: 0.8774 - val_loss: 0.5461 - val_acc: 0.7993\n",
            "Epoch 77/800\n",
            "9/9 [==============================] - ETA: 0s - loss: 0.3135 - acc: 0.8779"
          ]
        },
        {
          "output_type": "stream",
          "name": "stderr",
          "text": [
            "[codecarbon INFO @ 15:54:46] Energy consumed for RAM : 0.000673 kWh. RAM Power : 4.753036022186279 W\n",
            "[codecarbon INFO @ 15:54:46] Energy consumed for all GPUs : 0.009580 kWh. Total GPU Power : 69.2289254869753 W\n",
            "[codecarbon INFO @ 15:54:46] Energy consumed for all CPUs : 0.006022 kWh. Total CPU Power : 42.5 W\n",
            "[codecarbon INFO @ 15:54:46] 0.016275 kWh of electricity used since the beginning.\n"
          ]
        },
        {
          "output_type": "stream",
          "name": "stdout",
          "text": [
            "\n",
            "Epoch 77: val_loss did not improve from 0.47108\n",
            "9/9 [==============================] - 7s 791ms/step - loss: 0.3135 - acc: 0.8779 - val_loss: 0.5569 - val_acc: 0.7955\n",
            "Epoch 78/800\n",
            "9/9 [==============================] - ETA: 0s - loss: 0.3121 - acc: 0.8792\n",
            "Epoch 78: val_loss did not improve from 0.47108\n",
            "9/9 [==============================] - 6s 700ms/step - loss: 0.3121 - acc: 0.8792 - val_loss: 0.4860 - val_acc: 0.8207\n",
            "Epoch 79/800\n",
            "9/9 [==============================] - ETA: 0s - loss: 0.3108 - acc: 0.8796\n",
            "Epoch 79: val_loss did not improve from 0.47108\n",
            "9/9 [==============================] - 7s 796ms/step - loss: 0.3108 - acc: 0.8796 - val_loss: 0.5086 - val_acc: 0.8136\n",
            "Epoch 80/800\n"
          ]
        },
        {
          "output_type": "stream",
          "name": "stderr",
          "text": [
            "[codecarbon INFO @ 15:55:01] Energy consumed for RAM : 0.000693 kWh. RAM Power : 4.753036022186279 W\n",
            "[codecarbon INFO @ 15:55:01] Energy consumed for all GPUs : 0.009859 kWh. Total GPU Power : 67.08035013477277 W\n",
            "[codecarbon INFO @ 15:55:01] Energy consumed for all CPUs : 0.006199 kWh. Total CPU Power : 42.5 W\n",
            "[codecarbon INFO @ 15:55:01] 0.016751 kWh of electricity used since the beginning.\n"
          ]
        },
        {
          "output_type": "stream",
          "name": "stdout",
          "text": [
            "9/9 [==============================] - ETA: 0s - loss: 0.3088 - acc: 0.8806\n",
            "Epoch 80: val_loss did not improve from 0.47108\n",
            "9/9 [==============================] - 6s 700ms/step - loss: 0.3088 - acc: 0.8806 - val_loss: 0.5497 - val_acc: 0.7949\n",
            "Epoch 81/800\n",
            "9/9 [==============================] - ETA: 0s - loss: 0.3078 - acc: 0.8816\n",
            "Epoch 81: val_loss did not improve from 0.47108\n",
            "9/9 [==============================] - 6s 715ms/step - loss: 0.3078 - acc: 0.8816 - val_loss: 0.5129 - val_acc: 0.8120\n",
            "Epoch 82/800\n",
            "4/9 [============>.................] - ETA: 3s - loss: 0.3051 - acc: 0.8822"
          ]
        },
        {
          "output_type": "stream",
          "name": "stderr",
          "text": [
            "[codecarbon INFO @ 15:55:16] Energy consumed for RAM : 0.000713 kWh. RAM Power : 4.753036022186279 W\n",
            "[codecarbon INFO @ 15:55:16] Energy consumed for all GPUs : 0.010150 kWh. Total GPU Power : 69.8324476392803 W\n",
            "[codecarbon INFO @ 15:55:16] Energy consumed for all CPUs : 0.006376 kWh. Total CPU Power : 42.5 W\n",
            "[codecarbon INFO @ 15:55:16] 0.017238 kWh of electricity used since the beginning.\n"
          ]
        },
        {
          "output_type": "stream",
          "name": "stdout",
          "text": [
            "9/9 [==============================] - ETA: 0s - loss: 0.3059 - acc: 0.8822\n",
            "Epoch 82: val_loss did not improve from 0.47108\n",
            "9/9 [==============================] - 6s 702ms/step - loss: 0.3059 - acc: 0.8822 - val_loss: 0.5255 - val_acc: 0.8060\n",
            "Epoch 83/800\n",
            "9/9 [==============================] - ETA: 0s - loss: 0.3050 - acc: 0.8829\n",
            "Epoch 83: val_loss did not improve from 0.47108\n",
            "9/9 [==============================] - 7s 795ms/step - loss: 0.3050 - acc: 0.8829 - val_loss: 0.5395 - val_acc: 0.7987\n",
            "Epoch 84/800\n",
            "7/9 [======================>.......] - ETA: 1s - loss: 0.3042 - acc: 0.8830"
          ]
        },
        {
          "output_type": "stream",
          "name": "stderr",
          "text": [
            "[codecarbon INFO @ 15:55:31] Energy consumed for RAM : 0.000732 kWh. RAM Power : 4.753036022186279 W\n",
            "[codecarbon INFO @ 15:55:31] Energy consumed for all GPUs : 0.010434 kWh. Total GPU Power : 68.19686557396567 W\n",
            "[codecarbon INFO @ 15:55:31] Energy consumed for all CPUs : 0.006553 kWh. Total CPU Power : 42.5 W\n",
            "[codecarbon INFO @ 15:55:31] 0.017719 kWh of electricity used since the beginning.\n"
          ]
        },
        {
          "output_type": "stream",
          "name": "stdout",
          "text": [
            "9/9 [==============================] - ETA: 0s - loss: 0.3043 - acc: 0.8832\n",
            "Epoch 84: val_loss did not improve from 0.47108\n",
            "9/9 [==============================] - 6s 703ms/step - loss: 0.3043 - acc: 0.8832 - val_loss: 0.5129 - val_acc: 0.8112\n",
            "Epoch 85/800\n",
            "9/9 [==============================] - ETA: 0s - loss: 0.3029 - acc: 0.8831\n",
            "Epoch 85: val_loss did not improve from 0.47108\n",
            "9/9 [==============================] - 7s 792ms/step - loss: 0.3029 - acc: 0.8831 - val_loss: 0.5226 - val_acc: 0.8061\n",
            "Epoch 86/800\n",
            "9/9 [==============================] - ETA: 0s - loss: 0.3015 - acc: 0.8845\n",
            "Epoch 86: val_loss did not improve from 0.47108\n",
            "9/9 [==============================] - 6s 701ms/step - loss: 0.3015 - acc: 0.8845 - val_loss: 0.5423 - val_acc: 0.7935\n",
            "Epoch 87/800\n"
          ]
        },
        {
          "output_type": "stream",
          "name": "stderr",
          "text": [
            "[codecarbon INFO @ 15:55:46] Energy consumed for RAM : 0.000752 kWh. RAM Power : 4.753036022186279 W\n",
            "[codecarbon INFO @ 15:55:46] Energy consumed for all GPUs : 0.010718 kWh. Total GPU Power : 68.25624001115409 W\n",
            "[codecarbon INFO @ 15:55:46] Energy consumed for all CPUs : 0.006730 kWh. Total CPU Power : 42.5 W\n",
            "[codecarbon INFO @ 15:55:46] 0.018200 kWh of electricity used since the beginning.\n"
          ]
        },
        {
          "output_type": "stream",
          "name": "stdout",
          "text": [
            "9/9 [==============================] - ETA: 0s - loss: 0.3006 - acc: 0.8854\n",
            "Epoch 87: val_loss improved from 0.47108 to 0.44937, saving model to /content/drive/MyDrive/Model/initial_runs_20241202_1546/af_lstm_weights.87-0.45.h5\n",
            "9/9 [==============================] - 7s 794ms/step - loss: 0.3006 - acc: 0.8854 - val_loss: 0.4494 - val_acc: 0.8359\n",
            "Epoch 88/800\n",
            "9/9 [==============================] - ETA: 0s - loss: 0.2986 - acc: 0.8850\n",
            "Epoch 88: val_loss did not improve from 0.44937\n",
            "9/9 [==============================] - 6s 706ms/step - loss: 0.2986 - acc: 0.8850 - val_loss: 0.4913 - val_acc: 0.8204\n",
            "Epoch 89/800\n",
            "2/9 [=====>........................] - ETA: 4s - loss: 0.3001 - acc: 0.8832"
          ]
        },
        {
          "output_type": "stream",
          "name": "stderr",
          "text": [
            "[codecarbon INFO @ 15:56:01] Energy consumed for RAM : 0.000772 kWh. RAM Power : 4.753036022186279 W\n",
            "[codecarbon INFO @ 15:56:01] Energy consumed for all GPUs : 0.011003 kWh. Total GPU Power : 68.45270180487898 W\n",
            "[codecarbon INFO @ 15:56:01] Energy consumed for all CPUs : 0.006907 kWh. Total CPU Power : 42.5 W\n",
            "[codecarbon INFO @ 15:56:01] 0.018682 kWh of electricity used since the beginning.\n"
          ]
        },
        {
          "output_type": "stream",
          "name": "stdout",
          "text": [
            "9/9 [==============================] - ETA: 0s - loss: 0.2976 - acc: 0.8867\n",
            "Epoch 89: val_loss did not improve from 0.44937\n",
            "9/9 [==============================] - 7s 807ms/step - loss: 0.2976 - acc: 0.8867 - val_loss: 0.4706 - val_acc: 0.8286\n",
            "Epoch 90/800\n",
            "9/9 [==============================] - ETA: 0s - loss: 0.2955 - acc: 0.8879\n",
            "Epoch 90: val_loss improved from 0.44937 to 0.44715, saving model to /content/drive/MyDrive/Model/initial_runs_20241202_1546/af_lstm_weights.90-0.45.h5\n",
            "9/9 [==============================] - 6s 713ms/step - loss: 0.2955 - acc: 0.8879 - val_loss: 0.4472 - val_acc: 0.8367\n",
            "Epoch 91/800\n",
            "5/9 [===============>..............] - ETA: 2s - loss: 0.2958 - acc: 0.8863"
          ]
        },
        {
          "output_type": "stream",
          "name": "stderr",
          "text": [
            "[codecarbon INFO @ 15:56:16] Energy consumed for RAM : 0.000792 kWh. RAM Power : 4.753036022186279 W\n",
            "[codecarbon INFO @ 15:56:16] Energy consumed for all GPUs : 0.011287 kWh. Total GPU Power : 68.06414263338901 W\n",
            "[codecarbon INFO @ 15:56:16] Energy consumed for all CPUs : 0.007084 kWh. Total CPU Power : 42.5 W\n",
            "[codecarbon INFO @ 15:56:16] 0.019163 kWh of electricity used since the beginning.\n",
            "[codecarbon INFO @ 15:56:16] 0.004463 g.CO2eq/s mean an estimation of 140.75016143354256 kg.CO2eq/year\n"
          ]
        },
        {
          "output_type": "stream",
          "name": "stdout",
          "text": [
            "9/9 [==============================] - ETA: 0s - loss: 0.2959 - acc: 0.8873\n",
            "Epoch 91: val_loss improved from 0.44715 to 0.41647, saving model to /content/drive/MyDrive/Model/initial_runs_20241202_1546/af_lstm_weights.91-0.42.h5\n",
            "9/9 [==============================] - 7s 797ms/step - loss: 0.2959 - acc: 0.8873 - val_loss: 0.4165 - val_acc: 0.8483\n",
            "Epoch 92/800\n",
            "9/9 [==============================] - ETA: 0s - loss: 0.2938 - acc: 0.8883\n",
            "Epoch 92: val_loss did not improve from 0.41647\n",
            "9/9 [==============================] - 6s 704ms/step - loss: 0.2938 - acc: 0.8883 - val_loss: 0.4538 - val_acc: 0.8335\n",
            "Epoch 93/800\n",
            "7/9 [======================>.......] - ETA: 1s - loss: 0.2918 - acc: 0.8895"
          ]
        },
        {
          "output_type": "stream",
          "name": "stderr",
          "text": [
            "[codecarbon INFO @ 15:56:31] Energy consumed for RAM : 0.000811 kWh. RAM Power : 4.753036022186279 W\n",
            "[codecarbon INFO @ 15:56:31] Energy consumed for all GPUs : 0.011570 kWh. Total GPU Power : 68.19191499990019 W\n",
            "[codecarbon INFO @ 15:56:31] Energy consumed for all CPUs : 0.007261 kWh. Total CPU Power : 42.5 W\n",
            "[codecarbon INFO @ 15:56:31] 0.019643 kWh of electricity used since the beginning.\n"
          ]
        },
        {
          "output_type": "stream",
          "name": "stdout",
          "text": [
            "9/9 [==============================] - ETA: 0s - loss: 0.2915 - acc: 0.8899\n",
            "Epoch 93: val_loss did not improve from 0.41647\n",
            "9/9 [==============================] - 7s 792ms/step - loss: 0.2915 - acc: 0.8899 - val_loss: 0.4504 - val_acc: 0.8361\n",
            "Epoch 94/800\n",
            "9/9 [==============================] - ETA: 0s - loss: 0.2928 - acc: 0.8884\n",
            "Epoch 94: val_loss did not improve from 0.41647\n",
            "9/9 [==============================] - 6s 700ms/step - loss: 0.2928 - acc: 0.8884 - val_loss: 0.4762 - val_acc: 0.8264\n",
            "Epoch 95/800\n",
            "9/9 [==============================] - ETA: 0s - loss: 0.2908 - acc: 0.8898"
          ]
        },
        {
          "output_type": "stream",
          "name": "stderr",
          "text": [
            "[codecarbon INFO @ 15:56:46] Energy consumed for RAM : 0.000831 kWh. RAM Power : 4.753036022186279 W\n",
            "[codecarbon INFO @ 15:56:46] Energy consumed for all GPUs : 0.011854 kWh. Total GPU Power : 68.08800199626447 W\n",
            "[codecarbon INFO @ 15:56:46] Energy consumed for all CPUs : 0.007438 kWh. Total CPU Power : 42.5 W\n",
            "[codecarbon INFO @ 15:56:46] 0.020123 kWh of electricity used since the beginning.\n"
          ]
        },
        {
          "output_type": "stream",
          "name": "stdout",
          "text": [
            "\n",
            "Epoch 95: val_loss did not improve from 0.41647\n",
            "9/9 [==============================] - 7s 795ms/step - loss: 0.2908 - acc: 0.8898 - val_loss: 0.4325 - val_acc: 0.8422\n",
            "Epoch 96/800\n",
            "9/9 [==============================] - ETA: 0s - loss: 0.2890 - acc: 0.8907\n",
            "Epoch 96: val_loss did not improve from 0.41647\n",
            "9/9 [==============================] - 6s 700ms/step - loss: 0.2890 - acc: 0.8907 - val_loss: 0.4310 - val_acc: 0.8440\n",
            "Epoch 97/800\n",
            "9/9 [==============================] - ETA: 0s - loss: 0.2864 - acc: 0.8924\n",
            "Epoch 97: val_loss did not improve from 0.41647\n",
            "9/9 [==============================] - 7s 795ms/step - loss: 0.2864 - acc: 0.8924 - val_loss: 0.4357 - val_acc: 0.8423\n",
            "Epoch 98/800\n",
            "2/9 [=====>........................] - ETA: 4s - loss: 0.2849 - acc: 0.8924"
          ]
        },
        {
          "output_type": "stream",
          "name": "stderr",
          "text": [
            "[codecarbon INFO @ 15:57:01] Energy consumed for RAM : 0.000851 kWh. RAM Power : 4.753036022186279 W\n",
            "[codecarbon INFO @ 15:57:01] Energy consumed for all GPUs : 0.012136 kWh. Total GPU Power : 67.67176935002622 W\n",
            "[codecarbon INFO @ 15:57:01] Energy consumed for all CPUs : 0.007615 kWh. Total CPU Power : 42.5 W\n",
            "[codecarbon INFO @ 15:57:01] 0.020602 kWh of electricity used since the beginning.\n"
          ]
        },
        {
          "output_type": "stream",
          "name": "stdout",
          "text": [
            "9/9 [==============================] - ETA: 0s - loss: 0.2858 - acc: 0.8924\n",
            "Epoch 98: val_loss did not improve from 0.41647\n",
            "9/9 [==============================] - 6s 700ms/step - loss: 0.2858 - acc: 0.8924 - val_loss: 0.4300 - val_acc: 0.8438\n",
            "Epoch 99/800\n",
            "9/9 [==============================] - ETA: 0s - loss: 0.2844 - acc: 0.8932\n",
            "Epoch 99: val_loss did not improve from 0.41647\n",
            "9/9 [==============================] - 7s 788ms/step - loss: 0.2844 - acc: 0.8932 - val_loss: 0.4323 - val_acc: 0.8433\n",
            "Epoch 100/800\n",
            "4/9 [============>.................] - ETA: 3s - loss: 0.2833 - acc: 0.8939"
          ]
        },
        {
          "output_type": "stream",
          "name": "stderr",
          "text": [
            "[codecarbon INFO @ 15:57:16] Energy consumed for RAM : 0.000871 kWh. RAM Power : 4.753036022186279 W\n",
            "[codecarbon INFO @ 15:57:16] Energy consumed for all GPUs : 0.012420 kWh. Total GPU Power : 68.19988916278969 W\n",
            "[codecarbon INFO @ 15:57:16] Energy consumed for all CPUs : 0.007792 kWh. Total CPU Power : 42.5 W\n",
            "[codecarbon INFO @ 15:57:16] 0.021083 kWh of electricity used since the beginning.\n"
          ]
        },
        {
          "output_type": "stream",
          "name": "stdout",
          "text": [
            "9/9 [==============================] - ETA: 0s - loss: 0.2838 - acc: 0.8935\n",
            "Epoch 100: val_loss did not improve from 0.41647\n",
            "9/9 [==============================] - 6s 702ms/step - loss: 0.2838 - acc: 0.8935 - val_loss: 0.4418 - val_acc: 0.8400\n",
            "Epoch 101/800\n",
            "9/9 [==============================] - ETA: 0s - loss: 0.2821 - acc: 0.8944\n",
            "Epoch 101: val_loss improved from 0.41647 to 0.41548, saving model to /content/drive/MyDrive/Model/initial_runs_20241202_1546/af_lstm_weights.101-0.42.h5\n",
            "9/9 [==============================] - 6s 722ms/step - loss: 0.2821 - acc: 0.8944 - val_loss: 0.4155 - val_acc: 0.8508\n",
            "Epoch 102/800\n",
            "8/9 [=========================>....] - ETA: 0s - loss: 0.2813 - acc: 0.8948"
          ]
        },
        {
          "output_type": "stream",
          "name": "stderr",
          "text": [
            "[codecarbon INFO @ 15:57:31] Energy consumed for RAM : 0.000891 kWh. RAM Power : 4.753036022186279 W\n",
            "[codecarbon INFO @ 15:57:31] Energy consumed for all GPUs : 0.012710 kWh. Total GPU Power : 69.57435056937977 W\n",
            "[codecarbon INFO @ 15:57:31] Energy consumed for all CPUs : 0.007970 kWh. Total CPU Power : 42.5 W\n",
            "[codecarbon INFO @ 15:57:31] 0.021570 kWh of electricity used since the beginning.\n"
          ]
        },
        {
          "output_type": "stream",
          "name": "stdout",
          "text": [
            "\b\b\b\b\b\b\b\b\b\b\b\b\b\b\b\b\b\b\b\b\b\b\b\b\b\b\b\b\b\b\b\b\b\b\b\b\b\b\b\b\b\b\b\b\b\b\b\b\b\b\b\b\b\b\b\b\b\b\b\b\b\b\b\b\b\b\b\b\b\b\b\b\b\b\b\r9/9 [==============================] - ETA: 0s - loss: 0.2810 - acc: 0.8947\n",
            "Epoch 102: val_loss did not improve from 0.41548\n",
            "9/9 [==============================] - 6s 705ms/step - loss: 0.2810 - acc: 0.8947 - val_loss: 0.4223 - val_acc: 0.8479\n",
            "Epoch 103/800\n",
            "9/9 [==============================] - ETA: 0s - loss: 0.2815 - acc: 0.8947\n",
            "Epoch 103: val_loss did not improve from 0.41548\n",
            "9/9 [==============================] - 7s 782ms/step - loss: 0.2815 - acc: 0.8947 - val_loss: 0.4568 - val_acc: 0.8344\n",
            "Epoch 104/800\n",
            "9/9 [==============================] - ETA: 0s - loss: 0.2820 - acc: 0.8948\n",
            "Epoch 104: val_loss improved from 0.41548 to 0.39703, saving model to /content/drive/MyDrive/Model/initial_runs_20241202_1546/af_lstm_weights.104-0.40.h5\n",
            "9/9 [==============================] - 6s 707ms/step - loss: 0.2820 - acc: 0.8948 - val_loss: 0.3970 - val_acc: 0.8585\n",
            "Epoch 105/800\n",
            "1/9 [==>...........................] - ETA: 5s - loss: 0.2813 - acc: 0.8918"
          ]
        },
        {
          "output_type": "stream",
          "name": "stderr",
          "text": [
            "[codecarbon INFO @ 15:57:46] Energy consumed for RAM : 0.000910 kWh. RAM Power : 4.753036022186279 W\n",
            "[codecarbon INFO @ 15:57:46] Energy consumed for all GPUs : 0.012994 kWh. Total GPU Power : 68.16051298982804 W\n",
            "[codecarbon INFO @ 15:57:46] Energy consumed for all CPUs : 0.008147 kWh. Total CPU Power : 42.5 W\n",
            "[codecarbon INFO @ 15:57:46] 0.022051 kWh of electricity used since the beginning.\n"
          ]
        },
        {
          "output_type": "stream",
          "name": "stdout",
          "text": [
            "9/9 [==============================] - ETA: 0s - loss: 0.2796 - acc: 0.8952\n",
            "Epoch 105: val_loss did not improve from 0.39703\n",
            "9/9 [==============================] - 7s 781ms/step - loss: 0.2796 - acc: 0.8952 - val_loss: 0.4195 - val_acc: 0.8502\n",
            "Epoch 106/800\n",
            "9/9 [==============================] - ETA: 0s - loss: 0.2771 - acc: 0.8971\n",
            "Epoch 106: val_loss did not improve from 0.39703\n",
            "9/9 [==============================] - 6s 704ms/step - loss: 0.2771 - acc: 0.8971 - val_loss: 0.4176 - val_acc: 0.8515\n",
            "Epoch 107/800\n",
            "4/9 [============>.................] - ETA: 3s - loss: 0.2763 - acc: 0.8973"
          ]
        },
        {
          "output_type": "stream",
          "name": "stderr",
          "text": [
            "[codecarbon INFO @ 15:58:01] Energy consumed for RAM : 0.000930 kWh. RAM Power : 4.753036022186279 W\n",
            "[codecarbon INFO @ 15:58:01] Energy consumed for all GPUs : 0.013278 kWh. Total GPU Power : 68.30420984333408 W\n",
            "[codecarbon INFO @ 15:58:01] Energy consumed for all CPUs : 0.008324 kWh. Total CPU Power : 42.5 W\n",
            "[codecarbon INFO @ 15:58:01] 0.022532 kWh of electricity used since the beginning.\n"
          ]
        },
        {
          "output_type": "stream",
          "name": "stdout",
          "text": [
            "9/9 [==============================] - ETA: 0s - loss: 0.2758 - acc: 0.8976\n",
            "Epoch 107: val_loss improved from 0.39703 to 0.39226, saving model to /content/drive/MyDrive/Model/initial_runs_20241202_1546/af_lstm_weights.107-0.39.h5\n",
            "9/9 [==============================] - 7s 788ms/step - loss: 0.2758 - acc: 0.8976 - val_loss: 0.3923 - val_acc: 0.8616\n",
            "Epoch 108/800\n",
            "9/9 [==============================] - ETA: 0s - loss: 0.2753 - acc: 0.8975\n",
            "Epoch 108: val_loss did not improve from 0.39226\n",
            "9/9 [==============================] - 6s 703ms/step - loss: 0.2753 - acc: 0.8975 - val_loss: 0.3926 - val_acc: 0.8612\n",
            "Epoch 109/800\n",
            "6/9 [===================>..........] - ETA: 1s - loss: 0.2740 - acc: 0.8979"
          ]
        },
        {
          "output_type": "stream",
          "name": "stderr",
          "text": [
            "[codecarbon INFO @ 15:58:16] Energy consumed for RAM : 0.000950 kWh. RAM Power : 4.753036022186279 W\n",
            "[codecarbon INFO @ 15:58:16] Energy consumed for all GPUs : 0.013564 kWh. Total GPU Power : 68.53655684452855 W\n",
            "[codecarbon INFO @ 15:58:16] Energy consumed for all CPUs : 0.008501 kWh. Total CPU Power : 42.5 W\n",
            "[codecarbon INFO @ 15:58:16] 0.023014 kWh of electricity used since the beginning.\n",
            "[codecarbon INFO @ 15:58:16] 0.004453 g.CO2eq/s mean an estimation of 140.41831225333502 kg.CO2eq/year\n"
          ]
        },
        {
          "output_type": "stream",
          "name": "stdout",
          "text": [
            "9/9 [==============================] - ETA: 0s - loss: 0.2744 - acc: 0.8980\n",
            "Epoch 109: val_loss improved from 0.39226 to 0.38542, saving model to /content/drive/MyDrive/Model/initial_runs_20241202_1546/af_lstm_weights.109-0.39.h5\n",
            "9/9 [==============================] - 6s 707ms/step - loss: 0.2744 - acc: 0.8980 - val_loss: 0.3854 - val_acc: 0.8648\n",
            "Epoch 110/800\n",
            "9/9 [==============================] - ETA: 0s - loss: 0.2742 - acc: 0.8981\n",
            "Epoch 110: val_loss did not improve from 0.38542\n",
            "9/9 [==============================] - 6s 706ms/step - loss: 0.2742 - acc: 0.8981 - val_loss: 0.3880 - val_acc: 0.8633\n",
            "Epoch 111/800\n",
            "9/9 [==============================] - ETA: 0s - loss: 0.2765 - acc: 0.8962\n",
            "Epoch 111: val_loss did not improve from 0.38542\n",
            "9/9 [==============================] - 6s 699ms/step - loss: 0.2765 - acc: 0.8962 - val_loss: 0.4276 - val_acc: 0.8477\n",
            "Epoch 112/800\n"
          ]
        },
        {
          "output_type": "stream",
          "name": "stderr",
          "text": [
            "[codecarbon INFO @ 15:58:31] Energy consumed for RAM : 0.000970 kWh. RAM Power : 4.753036022186279 W\n",
            "[codecarbon INFO @ 15:58:31] Energy consumed for all GPUs : 0.013852 kWh. Total GPU Power : 69.24030803702675 W\n",
            "[codecarbon INFO @ 15:58:31] Energy consumed for all CPUs : 0.008678 kWh. Total CPU Power : 42.5 W\n",
            "[codecarbon INFO @ 15:58:31] 0.023499 kWh of electricity used since the beginning.\n"
          ]
        },
        {
          "output_type": "stream",
          "name": "stdout",
          "text": [
            "9/9 [==============================] - ETA: 0s - loss: 0.2727 - acc: 0.8990\n",
            "Epoch 112: val_loss improved from 0.38542 to 0.38445, saving model to /content/drive/MyDrive/Model/initial_runs_20241202_1546/af_lstm_weights.112-0.38.h5\n",
            "9/9 [==============================] - 6s 716ms/step - loss: 0.2727 - acc: 0.8990 - val_loss: 0.3844 - val_acc: 0.8652\n",
            "Epoch 113/800\n",
            "9/9 [==============================] - ETA: 0s - loss: 0.2712 - acc: 0.8993\n",
            "Epoch 113: val_loss did not improve from 0.38445\n",
            "9/9 [==============================] - 6s 701ms/step - loss: 0.2712 - acc: 0.8993 - val_loss: 0.3982 - val_acc: 0.8602\n",
            "Epoch 114/800\n",
            "4/9 [============>.................] - ETA: 3s - loss: 0.2704 - acc: 0.8996"
          ]
        },
        {
          "output_type": "stream",
          "name": "stderr",
          "text": [
            "[codecarbon INFO @ 15:58:46] Energy consumed for RAM : 0.000990 kWh. RAM Power : 4.753036022186279 W\n",
            "[codecarbon INFO @ 15:58:46] Energy consumed for all GPUs : 0.014141 kWh. Total GPU Power : 69.386194232238 W\n",
            "[codecarbon INFO @ 15:58:46] Energy consumed for all CPUs : 0.008855 kWh. Total CPU Power : 42.5 W\n",
            "[codecarbon INFO @ 15:58:46] 0.023985 kWh of electricity used since the beginning.\n"
          ]
        },
        {
          "output_type": "stream",
          "name": "stdout",
          "text": [
            "9/9 [==============================] - ETA: 0s - loss: 0.2696 - acc: 0.9002\n",
            "Epoch 114: val_loss did not improve from 0.38445\n",
            "9/9 [==============================] - 6s 718ms/step - loss: 0.2696 - acc: 0.9002 - val_loss: 0.3949 - val_acc: 0.8616\n",
            "Epoch 115/800\n",
            "9/9 [==============================] - ETA: 0s - loss: 0.2690 - acc: 0.9011\n",
            "Epoch 115: val_loss did not improve from 0.38445\n",
            "9/9 [==============================] - 6s 701ms/step - loss: 0.2690 - acc: 0.9011 - val_loss: 0.3980 - val_acc: 0.8608\n",
            "Epoch 116/800\n",
            "8/9 [=========================>....] - ETA: 0s - loss: 0.2678 - acc: 0.9014"
          ]
        },
        {
          "output_type": "stream",
          "name": "stderr",
          "text": [
            "[codecarbon INFO @ 15:59:01] Energy consumed for RAM : 0.001009 kWh. RAM Power : 4.753036022186279 W\n",
            "[codecarbon INFO @ 15:59:01] Energy consumed for all GPUs : 0.014430 kWh. Total GPU Power : 69.42563439934135 W\n",
            "[codecarbon INFO @ 15:59:01] Energy consumed for all CPUs : 0.009032 kWh. Total CPU Power : 42.5 W\n",
            "[codecarbon INFO @ 15:59:01] 0.024471 kWh of electricity used since the beginning.\n"
          ]
        },
        {
          "output_type": "stream",
          "name": "stdout",
          "text": [
            "\b\b\b\b\b\b\b\b\b\b\b\b\b\b\b\b\b\b\b\b\b\b\b\b\b\b\b\b\b\b\b\b\b\b\b\b\b\b\b\b\b\b\b\b\b\b\b\b\b\b\b\b\b\b\b\b\b\b\b\b\b\b\b\b\b\b\b\b\b\b\b\b\b\b\b\r9/9 [==============================] - ETA: 0s - loss: 0.2680 - acc: 0.9009\n",
            "Epoch 116: val_loss did not improve from 0.38445\n",
            "9/9 [==============================] - 7s 800ms/step - loss: 0.2680 - acc: 0.9009 - val_loss: 0.4037 - val_acc: 0.8590\n",
            "Epoch 117/800\n",
            "9/9 [==============================] - ETA: 0s - loss: 0.2672 - acc: 0.9019\n",
            "Epoch 117: val_loss did not improve from 0.38445\n",
            "9/9 [==============================] - 6s 702ms/step - loss: 0.2672 - acc: 0.9019 - val_loss: 0.3855 - val_acc: 0.8666\n",
            "Epoch 118/800\n",
            "9/9 [==============================] - ETA: 0s - loss: 0.2666 - acc: 0.9021\n",
            "Epoch 118: val_loss improved from 0.38445 to 0.35549, saving model to /content/drive/MyDrive/Model/initial_runs_20241202_1546/af_lstm_weights.118-0.36.h5\n",
            "9/9 [==============================] - 6s 722ms/step - loss: 0.2666 - acc: 0.9021 - val_loss: 0.3555 - val_acc: 0.8776\n",
            "Epoch 119/800\n"
          ]
        },
        {
          "output_type": "stream",
          "name": "stderr",
          "text": [
            "[codecarbon INFO @ 15:59:16] Energy consumed for RAM : 0.001029 kWh. RAM Power : 4.753036022186279 W\n",
            "[codecarbon INFO @ 15:59:16] Energy consumed for all GPUs : 0.014715 kWh. Total GPU Power : 68.42228278665938 W\n",
            "[codecarbon INFO @ 15:59:16] Energy consumed for all CPUs : 0.009209 kWh. Total CPU Power : 42.5 W\n",
            "[codecarbon INFO @ 15:59:16] 0.024953 kWh of electricity used since the beginning.\n"
          ]
        },
        {
          "output_type": "stream",
          "name": "stdout",
          "text": [
            "9/9 [==============================] - ETA: 0s - loss: 0.2658 - acc: 0.9020\n",
            "Epoch 119: val_loss did not improve from 0.35549\n",
            "9/9 [==============================] - 6s 699ms/step - loss: 0.2658 - acc: 0.9020 - val_loss: 0.3825 - val_acc: 0.8682\n",
            "Epoch 120/800\n",
            "9/9 [==============================] - ETA: 0s - loss: 0.2650 - acc: 0.9023\n",
            "Epoch 120: val_loss did not improve from 0.35549\n",
            "9/9 [==============================] - 7s 793ms/step - loss: 0.2650 - acc: 0.9023 - val_loss: 0.4271 - val_acc: 0.8496\n",
            "Epoch 121/800\n",
            "3/9 [=========>....................] - ETA: 3s - loss: 0.2697 - acc: 0.9016"
          ]
        },
        {
          "output_type": "stream",
          "name": "stderr",
          "text": [
            "[codecarbon INFO @ 15:59:31] Energy consumed for RAM : 0.001049 kWh. RAM Power : 4.753036022186279 W\n",
            "[codecarbon INFO @ 15:59:31] Energy consumed for all GPUs : 0.014999 kWh. Total GPU Power : 68.0733671038962 W\n",
            "[codecarbon INFO @ 15:59:31] Energy consumed for all CPUs : 0.009386 kWh. Total CPU Power : 42.5 W\n",
            "[codecarbon INFO @ 15:59:31] 0.025434 kWh of electricity used since the beginning.\n"
          ]
        },
        {
          "output_type": "stream",
          "name": "stdout",
          "text": [
            "9/9 [==============================] - ETA: 0s - loss: 0.2668 - acc: 0.9014\n",
            "Epoch 121: val_loss did not improve from 0.35549\n",
            "9/9 [==============================] - 6s 700ms/step - loss: 0.2668 - acc: 0.9014 - val_loss: 0.3641 - val_acc: 0.8754\n",
            "Epoch 122/800\n",
            "9/9 [==============================] - ETA: 0s - loss: 0.2633 - acc: 0.9034\n",
            "Epoch 122: val_loss improved from 0.35549 to 0.33925, saving model to /content/drive/MyDrive/Model/initial_runs_20241202_1546/af_lstm_weights.122-0.34.h5\n",
            "9/9 [==============================] - 7s 801ms/step - loss: 0.2633 - acc: 0.9034 - val_loss: 0.3393 - val_acc: 0.8873\n",
            "Epoch 123/800\n",
            "6/9 [===================>..........] - ETA: 1s - loss: 0.2677 - acc: 0.8994"
          ]
        },
        {
          "output_type": "stream",
          "name": "stderr",
          "text": [
            "[codecarbon INFO @ 15:59:46] Energy consumed for RAM : 0.001069 kWh. RAM Power : 4.753036022186279 W\n",
            "[codecarbon INFO @ 15:59:46] Energy consumed for all GPUs : 0.015284 kWh. Total GPU Power : 68.6086207185804 W\n",
            "[codecarbon INFO @ 15:59:46] Energy consumed for all CPUs : 0.009563 kWh. Total CPU Power : 42.5 W\n",
            "[codecarbon INFO @ 15:59:46] 0.025916 kWh of electricity used since the beginning.\n"
          ]
        },
        {
          "output_type": "stream",
          "name": "stdout",
          "text": [
            "9/9 [==============================] - ETA: 0s - loss: 0.2668 - acc: 0.9005\n",
            "Epoch 123: val_loss did not improve from 0.33925\n",
            "9/9 [==============================] - 6s 702ms/step - loss: 0.2668 - acc: 0.9005 - val_loss: 0.3879 - val_acc: 0.8665\n",
            "Epoch 124/800\n",
            "9/9 [==============================] - ETA: 0s - loss: 0.2624 - acc: 0.9035\n",
            "Epoch 124: val_loss did not improve from 0.33925\n",
            "9/9 [==============================] - 6s 716ms/step - loss: 0.2624 - acc: 0.9035 - val_loss: 0.4034 - val_acc: 0.8609\n",
            "Epoch 125/800\n",
            "9/9 [==============================] - ETA: 0s - loss: 0.2610 - acc: 0.9048\n",
            "Epoch 125: val_loss did not improve from 0.33925\n",
            "9/9 [==============================] - 6s 702ms/step - loss: 0.2610 - acc: 0.9048 - val_loss: 0.3443 - val_acc: 0.8864\n",
            "Epoch 126/800\n"
          ]
        },
        {
          "output_type": "stream",
          "name": "stderr",
          "text": [
            "[codecarbon INFO @ 16:00:01] Energy consumed for RAM : 0.001089 kWh. RAM Power : 4.753036022186279 W\n",
            "[codecarbon INFO @ 16:00:01] Energy consumed for all GPUs : 0.015573 kWh. Total GPU Power : 69.23869658164102 W\n",
            "[codecarbon INFO @ 16:00:01] Energy consumed for all CPUs : 0.009740 kWh. Total CPU Power : 42.5 W\n",
            "[codecarbon INFO @ 16:00:01] 0.026402 kWh of electricity used since the beginning.\n"
          ]
        },
        {
          "output_type": "stream",
          "name": "stdout",
          "text": [
            "9/9 [==============================] - ETA: 0s - loss: 0.2590 - acc: 0.9055\n",
            "Epoch 126: val_loss did not improve from 0.33925\n",
            "9/9 [==============================] - 7s 786ms/step - loss: 0.2590 - acc: 0.9055 - val_loss: 0.3442 - val_acc: 0.8862\n",
            "Epoch 127/800\n",
            "9/9 [==============================] - ETA: 0s - loss: 0.2578 - acc: 0.9055\n",
            "Epoch 127: val_loss did not improve from 0.33925\n",
            "9/9 [==============================] - 6s 707ms/step - loss: 0.2578 - acc: 0.9055 - val_loss: 0.3625 - val_acc: 0.8804\n",
            "Epoch 128/800\n",
            "2/9 [=====>........................] - ETA: 4s - loss: 0.2601 - acc: 0.9044"
          ]
        },
        {
          "output_type": "stream",
          "name": "stderr",
          "text": [
            "[codecarbon INFO @ 16:00:16] Energy consumed for RAM : 0.001108 kWh. RAM Power : 4.753036022186279 W\n",
            "[codecarbon INFO @ 16:00:16] Energy consumed for all GPUs : 0.015856 kWh. Total GPU Power : 68.17402894160188 W\n",
            "[codecarbon INFO @ 16:00:16] Energy consumed for all CPUs : 0.009917 kWh. Total CPU Power : 42.5 W\n",
            "[codecarbon INFO @ 16:00:16] 0.026882 kWh of electricity used since the beginning.\n",
            "[codecarbon INFO @ 16:00:16] 0.004470 g.CO2eq/s mean an estimation of 140.9731235278933 kg.CO2eq/year\n"
          ]
        },
        {
          "output_type": "stream",
          "name": "stdout",
          "text": [
            "9/9 [==============================] - ETA: 0s - loss: 0.2598 - acc: 0.9049\n",
            "Epoch 128: val_loss did not improve from 0.33925\n",
            "9/9 [==============================] - 7s 787ms/step - loss: 0.2598 - acc: 0.9049 - val_loss: 0.3522 - val_acc: 0.8831\n",
            "Epoch 129/800\n",
            "9/9 [==============================] - ETA: 0s - loss: 0.2560 - acc: 0.9066\n",
            "Epoch 129: val_loss improved from 0.33925 to 0.32628, saving model to /content/drive/MyDrive/Model/initial_runs_20241202_1546/af_lstm_weights.129-0.33.h5\n",
            "9/9 [==============================] - 6s 711ms/step - loss: 0.2560 - acc: 0.9066 - val_loss: 0.3263 - val_acc: 0.8965\n",
            "Epoch 130/800\n",
            "5/9 [===============>..............] - ETA: 2s - loss: 0.2554 - acc: 0.9078"
          ]
        },
        {
          "output_type": "stream",
          "name": "stderr",
          "text": [
            "[codecarbon INFO @ 16:00:31] Energy consumed for RAM : 0.001128 kWh. RAM Power : 4.753036022186279 W\n",
            "[codecarbon INFO @ 16:00:31] Energy consumed for all GPUs : 0.016142 kWh. Total GPU Power : 68.62544917750735 W\n",
            "[codecarbon INFO @ 16:00:31] Energy consumed for all CPUs : 0.010094 kWh. Total CPU Power : 42.5 W\n",
            "[codecarbon INFO @ 16:00:31] 0.027365 kWh of electricity used since the beginning.\n"
          ]
        },
        {
          "output_type": "stream",
          "name": "stdout",
          "text": [
            "9/9 [==============================] - ETA: 0s - loss: 0.2552 - acc: 0.9073\n",
            "Epoch 130: val_loss did not improve from 0.32628\n",
            "9/9 [==============================] - 6s 711ms/step - loss: 0.2552 - acc: 0.9073 - val_loss: 0.3387 - val_acc: 0.8912\n",
            "Epoch 131/800\n",
            "9/9 [==============================] - ETA: 0s - loss: 0.2572 - acc: 0.9056\n",
            "Epoch 131: val_loss did not improve from 0.32628\n",
            "9/9 [==============================] - 6s 708ms/step - loss: 0.2572 - acc: 0.9056 - val_loss: 0.3743 - val_acc: 0.8745\n",
            "Epoch 132/800\n",
            "9/9 [==============================] - ETA: 0s - loss: 0.2535 - acc: 0.9084"
          ]
        },
        {
          "output_type": "stream",
          "name": "stderr",
          "text": [
            "[codecarbon INFO @ 16:00:46] Energy consumed for RAM : 0.001148 kWh. RAM Power : 4.753036022186279 W\n",
            "[codecarbon INFO @ 16:00:46] Energy consumed for all GPUs : 0.016431 kWh. Total GPU Power : 69.33996074489765 W\n",
            "[codecarbon INFO @ 16:00:46] Energy consumed for all CPUs : 0.010272 kWh. Total CPU Power : 42.5 W\n",
            "[codecarbon INFO @ 16:00:46] 0.027850 kWh of electricity used since the beginning.\n"
          ]
        },
        {
          "output_type": "stream",
          "name": "stdout",
          "text": [
            "\n",
            "Epoch 132: val_loss improved from 0.32628 to 0.29887, saving model to /content/drive/MyDrive/Model/initial_runs_20241202_1546/af_lstm_weights.132-0.30.h5\n",
            "9/9 [==============================] - 7s 789ms/step - loss: 0.2535 - acc: 0.9084 - val_loss: 0.2989 - val_acc: 0.9038\n",
            "Epoch 133/800\n",
            "9/9 [==============================] - ETA: 0s - loss: 0.2597 - acc: 0.9040\n",
            "Epoch 133: val_loss did not improve from 0.29887\n",
            "9/9 [==============================] - 6s 705ms/step - loss: 0.2597 - acc: 0.9040 - val_loss: 0.3784 - val_acc: 0.8718\n",
            "Epoch 134/800\n",
            "9/9 [==============================] - ETA: 0s - loss: 0.2539 - acc: 0.9075\n",
            "Epoch 134: val_loss did not improve from 0.29887\n",
            "9/9 [==============================] - 6s 701ms/step - loss: 0.2539 - acc: 0.9075 - val_loss: 0.3017 - val_acc: 0.9034\n",
            "Epoch 135/800\n",
            "2/9 [=====>........................] - ETA: 4s - loss: 0.2512 - acc: 0.9076"
          ]
        },
        {
          "output_type": "stream",
          "name": "stderr",
          "text": [
            "[codecarbon INFO @ 16:01:01] Energy consumed for RAM : 0.001168 kWh. RAM Power : 4.753036022186279 W\n",
            "[codecarbon INFO @ 16:01:01] Energy consumed for all GPUs : 0.016715 kWh. Total GPU Power : 68.09026616062259 W\n",
            "[codecarbon INFO @ 16:01:01] Energy consumed for all CPUs : 0.010449 kWh. Total CPU Power : 42.5 W\n",
            "[codecarbon INFO @ 16:01:01] 0.028331 kWh of electricity used since the beginning.\n"
          ]
        },
        {
          "output_type": "stream",
          "name": "stdout",
          "text": [
            "9/9 [==============================] - ETA: 0s - loss: 0.2502 - acc: 0.9095\n",
            "Epoch 135: val_loss did not improve from 0.29887\n",
            "9/9 [==============================] - 6s 715ms/step - loss: 0.2502 - acc: 0.9095 - val_loss: 0.3347 - val_acc: 0.8936\n",
            "Epoch 136/800\n",
            "9/9 [==============================] - ETA: 0s - loss: 0.2510 - acc: 0.9090\n",
            "Epoch 136: val_loss did not improve from 0.29887\n",
            "9/9 [==============================] - 6s 701ms/step - loss: 0.2510 - acc: 0.9090 - val_loss: 0.3086 - val_acc: 0.9017\n",
            "Epoch 137/800\n",
            "5/9 [===============>..............] - ETA: 2s - loss: 0.2509 - acc: 0.9081"
          ]
        },
        {
          "output_type": "stream",
          "name": "stderr",
          "text": [
            "[codecarbon INFO @ 16:01:16] Energy consumed for RAM : 0.001187 kWh. RAM Power : 4.753036022186279 W\n",
            "[codecarbon INFO @ 16:01:16] Energy consumed for all GPUs : 0.017006 kWh. Total GPU Power : 69.89319940325757 W\n",
            "[codecarbon INFO @ 16:01:16] Energy consumed for all CPUs : 0.010626 kWh. Total CPU Power : 42.5 W\n",
            "[codecarbon INFO @ 16:01:16] 0.028819 kWh of electricity used since the beginning.\n"
          ]
        },
        {
          "output_type": "stream",
          "name": "stdout",
          "text": [
            "9/9 [==============================] - ETA: 0s - loss: 0.2515 - acc: 0.9087\n",
            "Epoch 137: val_loss did not improve from 0.29887\n",
            "9/9 [==============================] - 6s 708ms/step - loss: 0.2515 - acc: 0.9087 - val_loss: 0.3108 - val_acc: 0.8992\n",
            "Epoch 138/800\n",
            "9/9 [==============================] - ETA: 0s - loss: 0.2514 - acc: 0.9084\n",
            "Epoch 138: val_loss did not improve from 0.29887\n",
            "9/9 [==============================] - 6s 699ms/step - loss: 0.2514 - acc: 0.9084 - val_loss: 0.3359 - val_acc: 0.8925\n",
            "Epoch 139/800\n",
            "9/9 [==============================] - ETA: 0s - loss: 0.2503 - acc: 0.9091"
          ]
        },
        {
          "output_type": "stream",
          "name": "stderr",
          "text": [
            "[codecarbon INFO @ 16:01:31] Energy consumed for RAM : 0.001207 kWh. RAM Power : 4.753036022186279 W\n",
            "[codecarbon INFO @ 16:01:31] Energy consumed for all GPUs : 0.017294 kWh. Total GPU Power : 69.41118514994594 W\n",
            "[codecarbon INFO @ 16:01:31] Energy consumed for all CPUs : 0.010803 kWh. Total CPU Power : 42.5 W\n",
            "[codecarbon INFO @ 16:01:31] 0.029304 kWh of electricity used since the beginning.\n"
          ]
        },
        {
          "output_type": "stream",
          "name": "stdout",
          "text": [
            "\n",
            "Epoch 139: val_loss did not improve from 0.29887\n",
            "9/9 [==============================] - 6s 724ms/step - loss: 0.2503 - acc: 0.9091 - val_loss: 0.3115 - val_acc: 0.9003\n",
            "Epoch 140/800\n",
            "9/9 [==============================] - ETA: 0s - loss: 0.2482 - acc: 0.9102\n",
            "Epoch 140: val_loss improved from 0.29887 to 0.29522, saving model to /content/drive/MyDrive/Model/initial_runs_20241202_1546/af_lstm_weights.140-0.30.h5\n",
            "9/9 [==============================] - 6s 706ms/step - loss: 0.2482 - acc: 0.9102 - val_loss: 0.2952 - val_acc: 0.9018\n",
            "Epoch 141/800\n",
            "9/9 [==============================] - ETA: 0s - loss: 0.2484 - acc: 0.9098\n",
            "Epoch 141: val_loss did not improve from 0.29522\n",
            "9/9 [==============================] - 6s 724ms/step - loss: 0.2484 - acc: 0.9098 - val_loss: 0.3319 - val_acc: 0.8945\n",
            "Epoch 142/800\n",
            "3/9 [=========>....................] - ETA: 3s - loss: 0.2487 - acc: 0.9109"
          ]
        },
        {
          "output_type": "stream",
          "name": "stderr",
          "text": [
            "[codecarbon INFO @ 16:01:46] Energy consumed for RAM : 0.001227 kWh. RAM Power : 4.753036022186279 W\n",
            "[codecarbon INFO @ 16:01:46] Energy consumed for all GPUs : 0.017583 kWh. Total GPU Power : 69.20316706650121 W\n",
            "[codecarbon INFO @ 16:01:46] Energy consumed for all CPUs : 0.010980 kWh. Total CPU Power : 42.5 W\n",
            "[codecarbon INFO @ 16:01:46] 0.029789 kWh of electricity used since the beginning.\n"
          ]
        },
        {
          "output_type": "stream",
          "name": "stdout",
          "text": [
            "9/9 [==============================] - ETA: 0s - loss: 0.2486 - acc: 0.9099\n",
            "Epoch 142: val_loss did not improve from 0.29522\n",
            "9/9 [==============================] - 6s 702ms/step - loss: 0.2486 - acc: 0.9099 - val_loss: 0.3294 - val_acc: 0.8945\n",
            "Epoch 143/800\n",
            "9/9 [==============================] - ETA: 0s - loss: 0.2451 - acc: 0.9116\n",
            "Epoch 143: val_loss did not improve from 0.29522\n",
            "9/9 [==============================] - 7s 734ms/step - loss: 0.2451 - acc: 0.9116 - val_loss: 0.2982 - val_acc: 0.9043\n",
            "Epoch 144/800\n",
            "6/9 [===================>..........] - ETA: 2s - loss: 0.2458 - acc: 0.9109"
          ]
        },
        {
          "output_type": "stream",
          "name": "stderr",
          "text": [
            "[codecarbon INFO @ 16:02:01] Energy consumed for RAM : 0.001247 kWh. RAM Power : 4.753036022186279 W\n",
            "[codecarbon INFO @ 16:02:01] Energy consumed for all GPUs : 0.017870 kWh. Total GPU Power : 69.05365545348997 W\n",
            "[codecarbon INFO @ 16:02:01] Energy consumed for all CPUs : 0.011157 kWh. Total CPU Power : 42.5 W\n",
            "[codecarbon INFO @ 16:02:01] 0.030274 kWh of electricity used since the beginning.\n"
          ]
        },
        {
          "output_type": "stream",
          "name": "stdout",
          "text": [
            "9/9 [==============================] - ETA: 0s - loss: 0.2470 - acc: 0.9105\n",
            "Epoch 144: val_loss did not improve from 0.29522\n",
            "9/9 [==============================] - 6s 714ms/step - loss: 0.2470 - acc: 0.9105 - val_loss: 0.3078 - val_acc: 0.9000\n",
            "Epoch 145/800\n",
            "9/9 [==============================] - ETA: 0s - loss: 0.2494 - acc: 0.9090\n",
            "Epoch 145: val_loss did not improve from 0.29522\n",
            "9/9 [==============================] - 6s 700ms/step - loss: 0.2494 - acc: 0.9090 - val_loss: 0.3038 - val_acc: 0.9006\n",
            "Epoch 146/800\n",
            "9/9 [==============================] - ETA: 0s - loss: 0.2453 - acc: 0.9112\n",
            "Epoch 146: val_loss did not improve from 0.29522\n",
            "9/9 [==============================] - 6s 716ms/step - loss: 0.2453 - acc: 0.9112 - val_loss: 0.3171 - val_acc: 0.8997\n",
            "Epoch 147/800\n"
          ]
        },
        {
          "output_type": "stream",
          "name": "stderr",
          "text": [
            "[codecarbon INFO @ 16:02:16] Energy consumed for RAM : 0.001267 kWh. RAM Power : 4.753036022186279 W\n",
            "[codecarbon INFO @ 16:02:16] Energy consumed for all GPUs : 0.018161 kWh. Total GPU Power : 69.73312102752195 W\n",
            "[codecarbon INFO @ 16:02:16] Energy consumed for all CPUs : 0.011334 kWh. Total CPU Power : 42.5 W\n",
            "[codecarbon INFO @ 16:02:16] 0.030761 kWh of electricity used since the beginning.\n",
            "[codecarbon INFO @ 16:02:16] 0.004484 g.CO2eq/s mean an estimation of 141.40890041667706 kg.CO2eq/year\n"
          ]
        },
        {
          "output_type": "stream",
          "name": "stdout",
          "text": [
            "9/9 [==============================] - ETA: 0s - loss: 0.2448 - acc: 0.9116\n",
            "Epoch 147: val_loss did not improve from 0.29522\n",
            "9/9 [==============================] - 6s 701ms/step - loss: 0.2448 - acc: 0.9116 - val_loss: 0.3148 - val_acc: 0.8991\n",
            "Epoch 148/800\n",
            "9/9 [==============================] - ETA: 0s - loss: 0.2425 - acc: 0.9128\n",
            "Epoch 148: val_loss did not improve from 0.29522\n",
            "9/9 [==============================] - 6s 724ms/step - loss: 0.2425 - acc: 0.9128 - val_loss: 0.3035 - val_acc: 0.9017\n",
            "Epoch 149/800\n",
            "3/9 [=========>....................] - ETA: 3s - loss: 0.2428 - acc: 0.9124"
          ]
        },
        {
          "output_type": "stream",
          "name": "stderr",
          "text": [
            "[codecarbon INFO @ 16:02:31] Energy consumed for RAM : 0.001286 kWh. RAM Power : 4.753036022186279 W\n",
            "[codecarbon INFO @ 16:02:31] Energy consumed for all GPUs : 0.018450 kWh. Total GPU Power : 69.43167028959036 W\n",
            "[codecarbon INFO @ 16:02:31] Energy consumed for all CPUs : 0.011511 kWh. Total CPU Power : 42.5 W\n",
            "[codecarbon INFO @ 16:02:31] 0.031247 kWh of electricity used since the beginning.\n"
          ]
        },
        {
          "output_type": "stream",
          "name": "stdout",
          "text": [
            "9/9 [==============================] - ETA: 0s - loss: 0.2439 - acc: 0.9119\n",
            "Epoch 149: val_loss did not improve from 0.29522\n",
            "9/9 [==============================] - 6s 702ms/step - loss: 0.2439 - acc: 0.9119 - val_loss: 0.3466 - val_acc: 0.8867\n",
            "Epoch 150/800\n",
            "9/9 [==============================] - ETA: 0s - loss: 0.2451 - acc: 0.9115\n",
            "Epoch 150: val_loss did not improve from 0.29522\n",
            "9/9 [==============================] - 6s 723ms/step - loss: 0.2451 - acc: 0.9115 - val_loss: 0.3095 - val_acc: 0.9005\n",
            "Epoch 151/800\n",
            "7/9 [======================>.......] - ETA: 1s - loss: 0.2423 - acc: 0.9120"
          ]
        },
        {
          "output_type": "stream",
          "name": "stderr",
          "text": [
            "[codecarbon INFO @ 16:02:46] Energy consumed for RAM : 0.001306 kWh. RAM Power : 4.753036022186279 W\n",
            "[codecarbon INFO @ 16:02:46] Energy consumed for all GPUs : 0.018738 kWh. Total GPU Power : 69.31156805691258 W\n",
            "[codecarbon INFO @ 16:02:46] Energy consumed for all CPUs : 0.011688 kWh. Total CPU Power : 42.5 W\n",
            "[codecarbon INFO @ 16:02:46] 0.031733 kWh of electricity used since the beginning.\n"
          ]
        },
        {
          "output_type": "stream",
          "name": "stdout",
          "text": [
            "9/9 [==============================] - ETA: 0s - loss: 0.2428 - acc: 0.9121\n",
            "Epoch 151: val_loss did not improve from 0.29522\n",
            "9/9 [==============================] - 6s 699ms/step - loss: 0.2428 - acc: 0.9121 - val_loss: 0.3164 - val_acc: 0.8987\n",
            "Epoch 152/800\n",
            "9/9 [==============================] - ETA: 0s - loss: 0.2429 - acc: 0.9125\n",
            "Epoch 152: val_loss did not improve from 0.29522\n",
            "9/9 [==============================] - 6s 717ms/step - loss: 0.2429 - acc: 0.9125 - val_loss: 0.2987 - val_acc: 0.9023\n",
            "Epoch 153/800\n",
            "9/9 [==============================] - ETA: 0s - loss: 0.2412 - acc: 0.9128\n",
            "Epoch 153: val_loss did not improve from 0.29522\n",
            "9/9 [==============================] - 6s 706ms/step - loss: 0.2412 - acc: 0.9128 - val_loss: 0.3168 - val_acc: 0.8986\n",
            "Epoch 154/800\n",
            "1/9 [==>...........................] - ETA: 5s - loss: 0.2423 - acc: 0.9161"
          ]
        },
        {
          "output_type": "stream",
          "name": "stderr",
          "text": [
            "[codecarbon INFO @ 16:03:01] Energy consumed for RAM : 0.001326 kWh. RAM Power : 4.753036022186279 W\n",
            "[codecarbon INFO @ 16:03:01] Energy consumed for all GPUs : 0.019029 kWh. Total GPU Power : 69.7122329009253 W\n",
            "[codecarbon INFO @ 16:03:01] Energy consumed for all CPUs : 0.011865 kWh. Total CPU Power : 42.5 W\n",
            "[codecarbon INFO @ 16:03:01] 0.032220 kWh of electricity used since the beginning.\n"
          ]
        },
        {
          "output_type": "stream",
          "name": "stdout",
          "text": [
            "9/9 [==============================] - ETA: 0s - loss: 0.2409 - acc: 0.9135\n",
            "Epoch 154: val_loss improved from 0.29522 to 0.28529, saving model to /content/drive/MyDrive/Model/initial_runs_20241202_1546/af_lstm_weights.154-0.29.h5\n",
            "9/9 [==============================] - 7s 797ms/step - loss: 0.2409 - acc: 0.9135 - val_loss: 0.2853 - val_acc: 0.9042\n",
            "Epoch 155/800\n",
            "9/9 [==============================] - ETA: 0s - loss: 0.2418 - acc: 0.9127\n",
            "Epoch 155: val_loss did not improve from 0.28529\n",
            "9/9 [==============================] - 6s 706ms/step - loss: 0.2418 - acc: 0.9127 - val_loss: 0.2892 - val_acc: 0.9037\n",
            "Epoch 156/800\n",
            "3/9 [=========>....................] - ETA: 3s - loss: 0.2383 - acc: 0.9143"
          ]
        },
        {
          "output_type": "stream",
          "name": "stderr",
          "text": [
            "[codecarbon INFO @ 16:03:16] Energy consumed for RAM : 0.001346 kWh. RAM Power : 4.753036022186279 W\n",
            "[codecarbon INFO @ 16:03:16] Energy consumed for all GPUs : 0.019313 kWh. Total GPU Power : 68.12412940241491 W\n",
            "[codecarbon INFO @ 16:03:16] Energy consumed for all CPUs : 0.012042 kWh. Total CPU Power : 42.5 W\n",
            "[codecarbon INFO @ 16:03:16] 0.032701 kWh of electricity used since the beginning.\n"
          ]
        },
        {
          "output_type": "stream",
          "name": "stdout",
          "text": [
            "9/9 [==============================] - ETA: 0s - loss: 0.2398 - acc: 0.9135\n",
            "Epoch 156: val_loss did not improve from 0.28529\n",
            "9/9 [==============================] - 6s 713ms/step - loss: 0.2398 - acc: 0.9135 - val_loss: 0.3048 - val_acc: 0.9042\n",
            "Epoch 157/800\n",
            "9/9 [==============================] - ETA: 0s - loss: 0.2388 - acc: 0.9151\n",
            "Epoch 157: val_loss did not improve from 0.28529\n",
            "9/9 [==============================] - 6s 708ms/step - loss: 0.2388 - acc: 0.9151 - val_loss: 0.2950 - val_acc: 0.9044\n",
            "Epoch 158/800\n",
            "7/9 [======================>.......] - ETA: 1s - loss: 0.2377 - acc: 0.9154"
          ]
        },
        {
          "output_type": "stream",
          "name": "stderr",
          "text": [
            "[codecarbon INFO @ 16:03:31] Energy consumed for RAM : 0.001366 kWh. RAM Power : 4.753036022186279 W\n",
            "[codecarbon INFO @ 16:03:31] Energy consumed for all GPUs : 0.019601 kWh. Total GPU Power : 69.2986222406785 W\n",
            "[codecarbon INFO @ 16:03:31] Energy consumed for all CPUs : 0.012219 kWh. Total CPU Power : 42.5 W\n",
            "[codecarbon INFO @ 16:03:31] 0.033186 kWh of electricity used since the beginning.\n"
          ]
        },
        {
          "output_type": "stream",
          "name": "stdout",
          "text": [
            "9/9 [==============================] - ETA: 0s - loss: 0.2373 - acc: 0.9155\n",
            "Epoch 158: val_loss did not improve from 0.28529\n",
            "9/9 [==============================] - 6s 705ms/step - loss: 0.2373 - acc: 0.9155 - val_loss: 0.3055 - val_acc: 0.9038\n",
            "Epoch 159/800\n",
            "9/9 [==============================] - ETA: 0s - loss: 0.2397 - acc: 0.9142\n",
            "Epoch 159: val_loss did not improve from 0.28529\n",
            "9/9 [==============================] - 6s 709ms/step - loss: 0.2397 - acc: 0.9142 - val_loss: 0.3153 - val_acc: 0.8996\n",
            "Epoch 160/800\n",
            "9/9 [==============================] - ETA: 0s - loss: 0.2368 - acc: 0.9158\n",
            "Epoch 160: val_loss improved from 0.28529 to 0.28479, saving model to /content/drive/MyDrive/Model/initial_runs_20241202_1546/af_lstm_weights.160-0.28.h5\n",
            "9/9 [==============================] - 6s 708ms/step - loss: 0.2368 - acc: 0.9158 - val_loss: 0.2848 - val_acc: 0.9064\n",
            "Epoch 161/800\n",
            "1/9 [==>...........................] - ETA: 5s - loss: 0.2360 - acc: 0.9136"
          ]
        },
        {
          "output_type": "stream",
          "name": "stderr",
          "text": [
            "[codecarbon INFO @ 16:03:46] Energy consumed for RAM : 0.001385 kWh. RAM Power : 4.753036022186279 W\n",
            "[codecarbon INFO @ 16:03:46] Energy consumed for all GPUs : 0.019892 kWh. Total GPU Power : 69.78250010651088 W\n",
            "[codecarbon INFO @ 16:03:46] Energy consumed for all CPUs : 0.012397 kWh. Total CPU Power : 42.5 W\n",
            "[codecarbon INFO @ 16:03:46] 0.033674 kWh of electricity used since the beginning.\n"
          ]
        },
        {
          "output_type": "stream",
          "name": "stdout",
          "text": [
            "9/9 [==============================] - ETA: 0s - loss: 0.2357 - acc: 0.9159\n",
            "Epoch 161: val_loss improved from 0.28479 to 0.28459, saving model to /content/drive/MyDrive/Model/initial_runs_20241202_1546/af_lstm_weights.161-0.28.h5\n",
            "9/9 [==============================] - 6s 719ms/step - loss: 0.2357 - acc: 0.9159 - val_loss: 0.2846 - val_acc: 0.9069\n",
            "Epoch 162/800\n",
            "9/9 [==============================] - ETA: 0s - loss: 0.2376 - acc: 0.9150\n",
            "Epoch 162: val_loss improved from 0.28459 to 0.28248, saving model to /content/drive/MyDrive/Model/initial_runs_20241202_1546/af_lstm_weights.162-0.28.h5\n",
            "9/9 [==============================] - 6s 706ms/step - loss: 0.2376 - acc: 0.9150 - val_loss: 0.2825 - val_acc: 0.9046\n",
            "Epoch 163/800\n",
            "4/9 [============>.................] - ETA: 3s - loss: 0.2374 - acc: 0.9143"
          ]
        },
        {
          "output_type": "stream",
          "name": "stderr",
          "text": [
            "[codecarbon INFO @ 16:04:01] Energy consumed for RAM : 0.001405 kWh. RAM Power : 4.753036022186279 W\n",
            "[codecarbon INFO @ 16:04:01] Energy consumed for all GPUs : 0.020180 kWh. Total GPU Power : 69.25122765019248 W\n",
            "[codecarbon INFO @ 16:04:01] Energy consumed for all CPUs : 0.012574 kWh. Total CPU Power : 42.5 W\n",
            "[codecarbon INFO @ 16:04:01] 0.034159 kWh of electricity used since the beginning.\n"
          ]
        },
        {
          "output_type": "stream",
          "name": "stdout",
          "text": [
            "9/9 [==============================] - ETA: 0s - loss: 0.2384 - acc: 0.9141\n",
            "Epoch 163: val_loss did not improve from 0.28248\n",
            "9/9 [==============================] - 6s 719ms/step - loss: 0.2384 - acc: 0.9141 - val_loss: 0.3185 - val_acc: 0.8981\n",
            "Epoch 164/800\n",
            "9/9 [==============================] - ETA: 0s - loss: 0.2369 - acc: 0.9154\n",
            "Epoch 164: val_loss did not improve from 0.28248\n",
            "9/9 [==============================] - 6s 700ms/step - loss: 0.2369 - acc: 0.9154 - val_loss: 0.2844 - val_acc: 0.9053\n",
            "Epoch 165/800\n",
            "8/9 [=========================>....] - ETA: 0s - loss: 0.2338 - acc: 0.9165"
          ]
        },
        {
          "output_type": "stream",
          "name": "stderr",
          "text": [
            "[codecarbon INFO @ 16:04:16] Energy consumed for RAM : 0.001425 kWh. RAM Power : 4.753036022186279 W\n",
            "[codecarbon INFO @ 16:04:16] Energy consumed for all GPUs : 0.020469 kWh. Total GPU Power : 69.28547367679126 W\n",
            "[codecarbon INFO @ 16:04:16] Energy consumed for all CPUs : 0.012751 kWh. Total CPU Power : 42.5 W\n",
            "[codecarbon INFO @ 16:04:16] 0.034644 kWh of electricity used since the beginning.\n",
            "[codecarbon INFO @ 16:04:16] 0.004488 g.CO2eq/s mean an estimation of 141.52844297775326 kg.CO2eq/year\n"
          ]
        },
        {
          "output_type": "stream",
          "name": "stdout",
          "text": [
            "\b\b\b\b\b\b\b\b\b\b\b\b\b\b\b\b\b\b\b\b\b\b\b\b\b\b\b\b\b\b\b\b\b\b\b\b\b\b\b\b\b\b\b\b\b\b\b\b\b\b\b\b\b\b\b\b\b\b\b\b\b\b\b\b\b\b\b\b\b\b\b\b\b\b\b\r9/9 [==============================] - ETA: 0s - loss: 0.2338 - acc: 0.9165\n",
            "Epoch 165: val_loss did not improve from 0.28248\n",
            "9/9 [==============================] - 6s 726ms/step - loss: 0.2338 - acc: 0.9165 - val_loss: 0.2950 - val_acc: 0.9068\n",
            "Epoch 166/800\n",
            "9/9 [==============================] - ETA: 0s - loss: 0.2336 - acc: 0.9171\n",
            "Epoch 166: val_loss did not improve from 0.28248\n",
            "9/9 [==============================] - 6s 701ms/step - loss: 0.2336 - acc: 0.9171 - val_loss: 0.2937 - val_acc: 0.9060\n",
            "Epoch 167/800\n",
            "9/9 [==============================] - ETA: 0s - loss: 0.2335 - acc: 0.9166\n",
            "Epoch 167: val_loss did not improve from 0.28248\n",
            "9/9 [==============================] - 6s 716ms/step - loss: 0.2335 - acc: 0.9166 - val_loss: 0.3073 - val_acc: 0.9029\n",
            "Epoch 168/800\n",
            "1/9 [==>...........................] - ETA: 5s - loss: 0.2401 - acc: 0.9192"
          ]
        },
        {
          "output_type": "stream",
          "name": "stderr",
          "text": [
            "[codecarbon INFO @ 16:04:31] Energy consumed for RAM : 0.001445 kWh. RAM Power : 4.753036022186279 W\n"
          ]
        },
        {
          "output_type": "stream",
          "name": "stdout",
          "text": [
            "\b\b\b\b\b\b\b\b\b\b\b\b\b\b\b\b\b\b\b\b\b\b\b\b\b\b\b\b\b\b\b\b\b\b\b\b\b\b\b\b\b\b\b\b\b\b\b\b\b\b\b\b\b\b\b\b\b\b\b\b\b\b\b\b\b\b\b\b\b\b\b\b\b\b\b\r2/9 [=====>........................] - ETA: 4s - loss: 0.2376 - acc: 0.9153"
          ]
        },
        {
          "output_type": "stream",
          "name": "stderr",
          "text": [
            "[codecarbon INFO @ 16:04:31] Energy consumed for all GPUs : 0.020759 kWh. Total GPU Power : 69.67159387604782 W\n",
            "[codecarbon INFO @ 16:04:31] Energy consumed for all CPUs : 0.012928 kWh. Total CPU Power : 42.5 W\n",
            "[codecarbon INFO @ 16:04:31] 0.035131 kWh of electricity used since the beginning.\n"
          ]
        },
        {
          "output_type": "stream",
          "name": "stdout",
          "text": [
            "9/9 [==============================] - ETA: 0s - loss: 0.2338 - acc: 0.9171\n",
            "Epoch 168: val_loss improved from 0.28248 to 0.28176, saving model to /content/drive/MyDrive/Model/initial_runs_20241202_1546/af_lstm_weights.168-0.28.h5\n",
            "9/9 [==============================] - 6s 713ms/step - loss: 0.2338 - acc: 0.9171 - val_loss: 0.2818 - val_acc: 0.9061\n",
            "Epoch 169/800\n",
            "9/9 [==============================] - ETA: 0s - loss: 0.2320 - acc: 0.9174\n",
            "Epoch 169: val_loss improved from 0.28176 to 0.28058, saving model to /content/drive/MyDrive/Model/initial_runs_20241202_1546/af_lstm_weights.169-0.28.h5\n",
            "9/9 [==============================] - 7s 794ms/step - loss: 0.2320 - acc: 0.9174 - val_loss: 0.2806 - val_acc: 0.9073\n",
            "Epoch 170/800\n",
            "4/9 [============>.................] - ETA: 3s - loss: 0.2327 - acc: 0.9159"
          ]
        },
        {
          "output_type": "stream",
          "name": "stderr",
          "text": [
            "[codecarbon INFO @ 16:04:46] Energy consumed for RAM : 0.001464 kWh. RAM Power : 4.753036022186279 W\n",
            "[codecarbon INFO @ 16:04:46] Energy consumed for all GPUs : 0.021042 kWh. Total GPU Power : 68.18482793371932 W\n",
            "[codecarbon INFO @ 16:04:46] Energy consumed for all CPUs : 0.013105 kWh. Total CPU Power : 42.5 W\n",
            "[codecarbon INFO @ 16:04:46] 0.035612 kWh of electricity used since the beginning.\n"
          ]
        },
        {
          "output_type": "stream",
          "name": "stdout",
          "text": [
            "9/9 [==============================] - ETA: 0s - loss: 0.2330 - acc: 0.9167\n",
            "Epoch 170: val_loss did not improve from 0.28058\n",
            "9/9 [==============================] - 6s 705ms/step - loss: 0.2330 - acc: 0.9167 - val_loss: 0.2912 - val_acc: 0.9060\n",
            "Epoch 171/800\n",
            "9/9 [==============================] - ETA: 0s - loss: 0.2302 - acc: 0.9182\n",
            "Epoch 171: val_loss improved from 0.28058 to 0.27984, saving model to /content/drive/MyDrive/Model/initial_runs_20241202_1546/af_lstm_weights.171-0.28.h5\n",
            "9/9 [==============================] - 7s 803ms/step - loss: 0.2302 - acc: 0.9182 - val_loss: 0.2798 - val_acc: 0.9080\n",
            "Epoch 172/800\n",
            "7/9 [======================>.......] - ETA: 1s - loss: 0.2312 - acc: 0.9183"
          ]
        },
        {
          "output_type": "stream",
          "name": "stderr",
          "text": [
            "[codecarbon INFO @ 16:05:01] Energy consumed for RAM : 0.001484 kWh. RAM Power : 4.753036022186279 W\n",
            "[codecarbon INFO @ 16:05:01] Energy consumed for all GPUs : 0.021326 kWh. Total GPU Power : 68.08467565384235 W\n",
            "[codecarbon INFO @ 16:05:01] Energy consumed for all CPUs : 0.013282 kWh. Total CPU Power : 42.5 W\n",
            "[codecarbon INFO @ 16:05:01] 0.036092 kWh of electricity used since the beginning.\n"
          ]
        },
        {
          "output_type": "stream",
          "name": "stdout",
          "text": [
            "9/9 [==============================] - ETA: 0s - loss: 0.2341 - acc: 0.9164\n",
            "Epoch 172: val_loss improved from 0.27984 to 0.27801, saving model to /content/drive/MyDrive/Model/initial_runs_20241202_1546/af_lstm_weights.172-0.28.h5\n",
            "9/9 [==============================] - 6s 708ms/step - loss: 0.2341 - acc: 0.9164 - val_loss: 0.2780 - val_acc: 0.9000\n",
            "Epoch 173/800\n",
            "9/9 [==============================] - ETA: 0s - loss: 0.2343 - acc: 0.9154\n",
            "Epoch 173: val_loss did not improve from 0.27801\n",
            "9/9 [==============================] - 7s 790ms/step - loss: 0.2343 - acc: 0.9154 - val_loss: 0.2889 - val_acc: 0.9026\n",
            "Epoch 174/800\n",
            "9/9 [==============================] - ETA: 0s - loss: 0.2305 - acc: 0.9176\n",
            "Epoch 174: val_loss did not improve from 0.27801\n",
            "9/9 [==============================] - 6s 703ms/step - loss: 0.2305 - acc: 0.9176 - val_loss: 0.2934 - val_acc: 0.9049\n",
            "Epoch 175/800\n"
          ]
        },
        {
          "output_type": "stream",
          "name": "stderr",
          "text": [
            "[codecarbon INFO @ 16:05:16] Energy consumed for RAM : 0.001504 kWh. RAM Power : 4.753036022186279 W\n",
            "[codecarbon INFO @ 16:05:16] Energy consumed for all GPUs : 0.021611 kWh. Total GPU Power : 68.35792222882002 W\n",
            "[codecarbon INFO @ 16:05:16] Energy consumed for all CPUs : 0.013459 kWh. Total CPU Power : 42.5 W\n",
            "[codecarbon INFO @ 16:05:16] 0.036574 kWh of electricity used since the beginning.\n"
          ]
        },
        {
          "output_type": "stream",
          "name": "stdout",
          "text": [
            "9/9 [==============================] - ETA: 0s - loss: 0.2297 - acc: 0.9189\n",
            "Epoch 175: val_loss did not improve from 0.27801\n",
            "9/9 [==============================] - 7s 790ms/step - loss: 0.2297 - acc: 0.9189 - val_loss: 0.2842 - val_acc: 0.9069\n",
            "Epoch 176/800\n",
            "9/9 [==============================] - ETA: 0s - loss: 0.2279 - acc: 0.9195\n",
            "Epoch 176: val_loss improved from 0.27801 to 0.26981, saving model to /content/drive/MyDrive/Model/initial_runs_20241202_1546/af_lstm_weights.176-0.27.h5\n",
            "9/9 [==============================] - 6s 707ms/step - loss: 0.2279 - acc: 0.9195 - val_loss: 0.2698 - val_acc: 0.9084\n",
            "Epoch 177/800\n",
            "2/9 [=====>........................] - ETA: 4s - loss: 0.2294 - acc: 0.9183"
          ]
        },
        {
          "output_type": "stream",
          "name": "stderr",
          "text": [
            "[codecarbon INFO @ 16:05:31] Energy consumed for RAM : 0.001524 kWh. RAM Power : 4.753036022186279 W\n",
            "[codecarbon INFO @ 16:05:31] Energy consumed for all GPUs : 0.021895 kWh. Total GPU Power : 68.19072249784405 W\n",
            "[codecarbon INFO @ 16:05:31] Energy consumed for all CPUs : 0.013636 kWh. Total CPU Power : 42.5 W\n",
            "[codecarbon INFO @ 16:05:31] 0.037054 kWh of electricity used since the beginning.\n"
          ]
        },
        {
          "output_type": "stream",
          "name": "stdout",
          "text": [
            "9/9 [==============================] - ETA: 0s - loss: 0.2308 - acc: 0.9177\n",
            "Epoch 177: val_loss did not improve from 0.26981\n",
            "9/9 [==============================] - 6s 708ms/step - loss: 0.2308 - acc: 0.9177 - val_loss: 0.2700 - val_acc: 0.9082\n",
            "Epoch 178/800\n",
            "9/9 [==============================] - ETA: 0s - loss: 0.2279 - acc: 0.9188\n",
            "Epoch 178: val_loss did not improve from 0.26981\n",
            "9/9 [==============================] - 6s 704ms/step - loss: 0.2279 - acc: 0.9188 - val_loss: 0.2824 - val_acc: 0.9091\n",
            "Epoch 179/800\n",
            "6/9 [===================>..........] - ETA: 1s - loss: 0.2313 - acc: 0.9178"
          ]
        },
        {
          "output_type": "stream",
          "name": "stderr",
          "text": [
            "[codecarbon INFO @ 16:05:46] Energy consumed for RAM : 0.001544 kWh. RAM Power : 4.753036022186279 W\n",
            "[codecarbon INFO @ 16:05:46] Energy consumed for all GPUs : 0.022184 kWh. Total GPU Power : 69.43872575605795 W\n",
            "[codecarbon INFO @ 16:05:46] Energy consumed for all CPUs : 0.013813 kWh. Total CPU Power : 42.5 W\n",
            "[codecarbon INFO @ 16:05:46] 0.037540 kWh of electricity used since the beginning.\n"
          ]
        },
        {
          "output_type": "stream",
          "name": "stdout",
          "text": [
            "9/9 [==============================] - ETA: 0s - loss: 0.2300 - acc: 0.9183\n",
            "Epoch 179: val_loss did not improve from 0.26981\n",
            "9/9 [==============================] - 6s 702ms/step - loss: 0.2300 - acc: 0.9183 - val_loss: 0.2911 - val_acc: 0.9062\n",
            "Epoch 180/800\n",
            "9/9 [==============================] - ETA: 0s - loss: 0.2276 - acc: 0.9195\n",
            "Epoch 180: val_loss did not improve from 0.26981\n",
            "9/9 [==============================] - 6s 712ms/step - loss: 0.2276 - acc: 0.9195 - val_loss: 0.2707 - val_acc: 0.9094\n",
            "Epoch 181/800\n",
            "9/9 [==============================] - ETA: 0s - loss: 0.2263 - acc: 0.9197\n",
            "Epoch 181: val_loss did not improve from 0.26981\n",
            "9/9 [==============================] - 6s 702ms/step - loss: 0.2263 - acc: 0.9197 - val_loss: 0.2833 - val_acc: 0.9084\n",
            "Epoch 182/800\n"
          ]
        },
        {
          "output_type": "stream",
          "name": "stderr",
          "text": [
            "[codecarbon INFO @ 16:06:01] Energy consumed for RAM : 0.001563 kWh. RAM Power : 4.753036022186279 W\n",
            "[codecarbon INFO @ 16:06:01] Energy consumed for all GPUs : 0.022473 kWh. Total GPU Power : 69.37551022537554 W\n",
            "[codecarbon INFO @ 16:06:01] Energy consumed for all CPUs : 0.013990 kWh. Total CPU Power : 42.5 W\n",
            "[codecarbon INFO @ 16:06:01] 0.038026 kWh of electricity used since the beginning.\n"
          ]
        },
        {
          "output_type": "stream",
          "name": "stdout",
          "text": [
            "9/9 [==============================] - ETA: 0s - loss: 0.2281 - acc: 0.9190\n",
            "Epoch 182: val_loss did not improve from 0.26981\n",
            "9/9 [==============================] - 6s 711ms/step - loss: 0.2281 - acc: 0.9190 - val_loss: 0.2732 - val_acc: 0.9094\n",
            "Epoch 183/800\n",
            "9/9 [==============================] - ETA: 0s - loss: 0.2256 - acc: 0.9199\n",
            "Epoch 183: val_loss improved from 0.26981 to 0.26584, saving model to /content/drive/MyDrive/Model/initial_runs_20241202_1546/af_lstm_weights.183-0.27.h5\n",
            "9/9 [==============================] - 6s 705ms/step - loss: 0.2256 - acc: 0.9199 - val_loss: 0.2658 - val_acc: 0.9066\n",
            "Epoch 184/800\n",
            "3/9 [=========>....................] - ETA: 3s - loss: 0.2270 - acc: 0.9183"
          ]
        },
        {
          "output_type": "stream",
          "name": "stderr",
          "text": [
            "[codecarbon INFO @ 16:06:16] Energy consumed for RAM : 0.001583 kWh. RAM Power : 4.753036022186279 W\n",
            "[codecarbon INFO @ 16:06:16] Energy consumed for all GPUs : 0.022763 kWh. Total GPU Power : 69.81850385007617 W\n",
            "[codecarbon INFO @ 16:06:16] Energy consumed for all CPUs : 0.014167 kWh. Total CPU Power : 42.5 W\n",
            "[codecarbon INFO @ 16:06:16] 0.038513 kWh of electricity used since the beginning.\n",
            "[codecarbon INFO @ 16:06:16] 0.004472 g.CO2eq/s mean an estimation of 141.03792139463766 kg.CO2eq/year\n"
          ]
        },
        {
          "output_type": "stream",
          "name": "stdout",
          "text": [
            "9/9 [==============================] - ETA: 0s - loss: 0.2259 - acc: 0.9192\n",
            "Epoch 184: val_loss did not improve from 0.26584\n",
            "9/9 [==============================] - 6s 708ms/step - loss: 0.2259 - acc: 0.9192 - val_loss: 0.2889 - val_acc: 0.9061\n",
            "Epoch 185/800\n",
            "9/9 [==============================] - ETA: 0s - loss: 0.2267 - acc: 0.9196\n",
            "Epoch 185: val_loss did not improve from 0.26584\n",
            "9/9 [==============================] - 6s 700ms/step - loss: 0.2267 - acc: 0.9196 - val_loss: 0.2666 - val_acc: 0.9089\n",
            "Epoch 186/800\n",
            "7/9 [======================>.......] - ETA: 1s - loss: 0.2250 - acc: 0.9201"
          ]
        },
        {
          "output_type": "stream",
          "name": "stderr",
          "text": [
            "[codecarbon INFO @ 16:06:31] Energy consumed for RAM : 0.001603 kWh. RAM Power : 4.753036022186279 W\n",
            "[codecarbon INFO @ 16:06:31] Energy consumed for all GPUs : 0.023052 kWh. Total GPU Power : 69.24020529903713 W\n",
            "[codecarbon INFO @ 16:06:31] Energy consumed for all CPUs : 0.014344 kWh. Total CPU Power : 42.5 W\n",
            "[codecarbon INFO @ 16:06:31] 0.038999 kWh of electricity used since the beginning.\n"
          ]
        },
        {
          "output_type": "stream",
          "name": "stdout",
          "text": [
            "9/9 [==============================] - ETA: 0s - loss: 0.2252 - acc: 0.9198\n",
            "Epoch 186: val_loss did not improve from 0.26584\n",
            "9/9 [==============================] - 6s 716ms/step - loss: 0.2252 - acc: 0.9198 - val_loss: 0.2659 - val_acc: 0.9106\n",
            "Epoch 187/800\n",
            "9/9 [==============================] - ETA: 0s - loss: 0.2232 - acc: 0.9212\n",
            "Epoch 187: val_loss did not improve from 0.26584\n",
            "9/9 [==============================] - 6s 704ms/step - loss: 0.2232 - acc: 0.9212 - val_loss: 0.2704 - val_acc: 0.9116\n",
            "Epoch 188/800\n",
            "9/9 [==============================] - ETA: 0s - loss: 0.2229 - acc: 0.9212\n",
            "Epoch 188: val_loss did not improve from 0.26584\n",
            "9/9 [==============================] - 7s 797ms/step - loss: 0.2229 - acc: 0.9212 - val_loss: 0.2737 - val_acc: 0.9110\n",
            "Epoch 189/800\n"
          ]
        },
        {
          "output_type": "stream",
          "name": "stderr",
          "text": [
            "[codecarbon INFO @ 16:06:46] Energy consumed for RAM : 0.001623 kWh. RAM Power : 4.753036022186279 W\n",
            "[codecarbon INFO @ 16:06:46] Energy consumed for all GPUs : 0.023337 kWh. Total GPU Power : 68.49624737489084 W\n",
            "[codecarbon INFO @ 16:06:46] Energy consumed for all CPUs : 0.014522 kWh. Total CPU Power : 42.5 W\n",
            "[codecarbon INFO @ 16:06:46] 0.039482 kWh of electricity used since the beginning.\n"
          ]
        },
        {
          "output_type": "stream",
          "name": "stdout",
          "text": [
            "9/9 [==============================] - ETA: 0s - loss: 0.2241 - acc: 0.9206\n",
            "Epoch 189: val_loss did not improve from 0.26584\n",
            "9/9 [==============================] - 6s 701ms/step - loss: 0.2241 - acc: 0.9206 - val_loss: 0.2731 - val_acc: 0.9109\n",
            "Epoch 190/800\n",
            "9/9 [==============================] - ETA: 0s - loss: 0.2233 - acc: 0.9212\n",
            "Epoch 190: val_loss improved from 0.26584 to 0.26231, saving model to /content/drive/MyDrive/Model/initial_runs_20241202_1546/af_lstm_weights.190-0.26.h5\n",
            "9/9 [==============================] - 6s 725ms/step - loss: 0.2233 - acc: 0.9212 - val_loss: 0.2623 - val_acc: 0.9102\n",
            "Epoch 191/800\n",
            "4/9 [============>.................] - ETA: 3s - loss: 0.2249 - acc: 0.9203"
          ]
        },
        {
          "output_type": "stream",
          "name": "stderr",
          "text": [
            "[codecarbon INFO @ 16:07:01] Energy consumed for RAM : 0.001643 kWh. RAM Power : 4.753036022186279 W\n",
            "[codecarbon INFO @ 16:07:01] Energy consumed for all GPUs : 0.023626 kWh. Total GPU Power : 69.22804190676678 W\n",
            "[codecarbon INFO @ 16:07:01] Energy consumed for all CPUs : 0.014699 kWh. Total CPU Power : 42.5 W\n",
            "[codecarbon INFO @ 16:07:01] 0.039968 kWh of electricity used since the beginning.\n"
          ]
        },
        {
          "output_type": "stream",
          "name": "stdout",
          "text": [
            "9/9 [==============================] - ETA: 0s - loss: 0.2234 - acc: 0.9208\n",
            "Epoch 191: val_loss improved from 0.26231 to 0.25883, saving model to /content/drive/MyDrive/Model/initial_runs_20241202_1546/af_lstm_weights.191-0.26.h5\n",
            "9/9 [==============================] - 6s 707ms/step - loss: 0.2234 - acc: 0.9208 - val_loss: 0.2588 - val_acc: 0.9086\n",
            "Epoch 192/800\n",
            "9/9 [==============================] - ETA: 0s - loss: 0.2226 - acc: 0.9212\n",
            "Epoch 192: val_loss did not improve from 0.25883\n",
            "9/9 [==============================] - 6s 717ms/step - loss: 0.2226 - acc: 0.9212 - val_loss: 0.2627 - val_acc: 0.9115\n",
            "Epoch 193/800\n",
            "7/9 [======================>.......] - ETA: 1s - loss: 0.2212 - acc: 0.9218"
          ]
        },
        {
          "output_type": "stream",
          "name": "stderr",
          "text": [
            "[codecarbon INFO @ 16:07:16] Energy consumed for RAM : 0.001662 kWh. RAM Power : 4.753036022186279 W\n",
            "[codecarbon INFO @ 16:07:16] Energy consumed for all GPUs : 0.023914 kWh. Total GPU Power : 69.28585070262669 W\n",
            "[codecarbon INFO @ 16:07:16] Energy consumed for all CPUs : 0.014876 kWh. Total CPU Power : 42.5 W\n",
            "[codecarbon INFO @ 16:07:16] 0.040453 kWh of electricity used since the beginning.\n"
          ]
        },
        {
          "output_type": "stream",
          "name": "stdout",
          "text": [
            "9/9 [==============================] - ETA: 0s - loss: 0.2210 - acc: 0.9218\n",
            "Epoch 193: val_loss did not improve from 0.25883\n",
            "9/9 [==============================] - 6s 710ms/step - loss: 0.2210 - acc: 0.9218 - val_loss: 0.2662 - val_acc: 0.9119\n",
            "Epoch 194/800\n",
            "9/9 [==============================] - ETA: 0s - loss: 0.2227 - acc: 0.9211\n",
            "Epoch 194: val_loss did not improve from 0.25883\n",
            "9/9 [==============================] - 7s 782ms/step - loss: 0.2227 - acc: 0.9211 - val_loss: 0.2625 - val_acc: 0.9118\n",
            "Epoch 195/800\n",
            "9/9 [==============================] - ETA: 0s - loss: 0.2203 - acc: 0.9221\n",
            "Epoch 195: val_loss did not improve from 0.25883\n",
            "9/9 [==============================] - 6s 707ms/step - loss: 0.2203 - acc: 0.9221 - val_loss: 0.2707 - val_acc: 0.9115\n",
            "Epoch 196/800\n"
          ]
        },
        {
          "output_type": "stream",
          "name": "stderr",
          "text": [
            "[codecarbon INFO @ 16:07:31] Energy consumed for RAM : 0.001682 kWh. RAM Power : 4.753036022186279 W\n",
            "[codecarbon INFO @ 16:07:31] Energy consumed for all GPUs : 0.024200 kWh. Total GPU Power : 68.44480309193789 W\n",
            "[codecarbon INFO @ 16:07:31] Energy consumed for all CPUs : 0.015053 kWh. Total CPU Power : 42.5 W\n",
            "[codecarbon INFO @ 16:07:31] 0.040935 kWh of electricity used since the beginning.\n"
          ]
        },
        {
          "output_type": "stream",
          "name": "stdout",
          "text": [
            "9/9 [==============================] - ETA: 0s - loss: 0.2198 - acc: 0.9225\n",
            "Epoch 196: val_loss did not improve from 0.25883\n",
            "9/9 [==============================] - 7s 783ms/step - loss: 0.2198 - acc: 0.9225 - val_loss: 0.2633 - val_acc: 0.9127\n",
            "Epoch 197/800\n",
            "9/9 [==============================] - ETA: 0s - loss: 0.2195 - acc: 0.9227\n",
            "Epoch 197: val_loss improved from 0.25883 to 0.25624, saving model to /content/drive/MyDrive/Model/initial_runs_20241202_1546/af_lstm_weights.197-0.26.h5\n",
            "9/9 [==============================] - 6s 711ms/step - loss: 0.2195 - acc: 0.9227 - val_loss: 0.2562 - val_acc: 0.9090\n",
            "Epoch 198/800\n",
            "3/9 [=========>....................] - ETA: 3s - loss: 0.2305 - acc: 0.9152"
          ]
        },
        {
          "output_type": "stream",
          "name": "stderr",
          "text": [
            "[codecarbon INFO @ 16:07:46] Energy consumed for RAM : 0.001702 kWh. RAM Power : 4.753036022186279 W\n",
            "[codecarbon INFO @ 16:07:46] Energy consumed for all GPUs : 0.024483 kWh. Total GPU Power : 68.0507331272686 W\n",
            "[codecarbon INFO @ 16:07:46] Energy consumed for all CPUs : 0.015230 kWh. Total CPU Power : 42.5 W\n",
            "[codecarbon INFO @ 16:07:46] 0.041416 kWh of electricity used since the beginning.\n"
          ]
        },
        {
          "output_type": "stream",
          "name": "stdout",
          "text": [
            "9/9 [==============================] - ETA: 0s - loss: 0.2289 - acc: 0.9176\n",
            "Epoch 198: val_loss did not improve from 0.25624\n",
            "9/9 [==============================] - 6s 715ms/step - loss: 0.2289 - acc: 0.9176 - val_loss: 0.2668 - val_acc: 0.9103\n",
            "Epoch 199/800\n",
            "9/9 [==============================] - ETA: 0s - loss: 0.2217 - acc: 0.9209\n",
            "Epoch 199: val_loss did not improve from 0.25624\n",
            "9/9 [==============================] - 6s 723ms/step - loss: 0.2217 - acc: 0.9209 - val_loss: 0.2578 - val_acc: 0.9094\n",
            "Epoch 200/800\n",
            "6/9 [===================>..........] - ETA: 1s - loss: 0.2207 - acc: 0.9213"
          ]
        },
        {
          "output_type": "stream",
          "name": "stderr",
          "text": [
            "[codecarbon INFO @ 16:08:01] Energy consumed for RAM : 0.001722 kWh. RAM Power : 4.753036022186279 W\n",
            "[codecarbon INFO @ 16:08:01] Energy consumed for all GPUs : 0.024774 kWh. Total GPU Power : 69.78196690063405 W\n",
            "[codecarbon INFO @ 16:08:01] Energy consumed for all CPUs : 0.015407 kWh. Total CPU Power : 42.5 W\n",
            "[codecarbon INFO @ 16:08:01] 0.041903 kWh of electricity used since the beginning.\n"
          ]
        },
        {
          "output_type": "stream",
          "name": "stdout",
          "text": [
            "9/9 [==============================] - ETA: 0s - loss: 0.2201 - acc: 0.9217\n",
            "Epoch 200: val_loss did not improve from 0.25624\n",
            "9/9 [==============================] - 6s 702ms/step - loss: 0.2201 - acc: 0.9217 - val_loss: 0.2713 - val_acc: 0.9116\n",
            "Epoch 201/800\n",
            "9/9 [==============================] - ETA: 0s - loss: 0.2206 - acc: 0.9221\n",
            "Epoch 201: val_loss improved from 0.25624 to 0.25503, saving model to /content/drive/MyDrive/Model/initial_runs_20241202_1546/af_lstm_weights.201-0.26.h5\n",
            "9/9 [==============================] - 6s 731ms/step - loss: 0.2206 - acc: 0.9221 - val_loss: 0.2550 - val_acc: 0.9122\n",
            "Epoch 202/800\n",
            "9/9 [==============================] - ETA: 0s - loss: 0.2200 - acc: 0.9218\n",
            "Epoch 202: val_loss did not improve from 0.25503\n",
            "9/9 [==============================] - 6s 703ms/step - loss: 0.2200 - acc: 0.9218 - val_loss: 0.2664 - val_acc: 0.9124\n",
            "Epoch 203/800\n"
          ]
        },
        {
          "output_type": "stream",
          "name": "stderr",
          "text": [
            "[codecarbon INFO @ 16:08:16] Energy consumed for RAM : 0.001742 kWh. RAM Power : 4.753036022186279 W\n",
            "[codecarbon INFO @ 16:08:16] Energy consumed for all GPUs : 0.025062 kWh. Total GPU Power : 69.19881774958026 W\n",
            "[codecarbon INFO @ 16:08:16] Energy consumed for all CPUs : 0.015584 kWh. Total CPU Power : 42.5 W\n",
            "[codecarbon INFO @ 16:08:16] 0.042388 kWh of electricity used since the beginning.\n",
            "[codecarbon INFO @ 16:08:16] 0.004476 g.CO2eq/s mean an estimation of 141.14641360675208 kg.CO2eq/year\n"
          ]
        },
        {
          "output_type": "stream",
          "name": "stdout",
          "text": [
            "9/9 [==============================] - ETA: 0s - loss: 0.2183 - acc: 0.9230\n",
            "Epoch 203: val_loss improved from 0.25503 to 0.25438, saving model to /content/drive/MyDrive/Model/initial_runs_20241202_1546/af_lstm_weights.203-0.25.h5\n",
            "9/9 [==============================] - 7s 799ms/step - loss: 0.2183 - acc: 0.9230 - val_loss: 0.2544 - val_acc: 0.9148\n",
            "Epoch 204/800\n",
            "9/9 [==============================] - ETA: 0s - loss: 0.2168 - acc: 0.9235\n",
            "Epoch 204: val_loss did not improve from 0.25438\n",
            "9/9 [==============================] - 6s 701ms/step - loss: 0.2168 - acc: 0.9235 - val_loss: 0.2555 - val_acc: 0.9150\n",
            "Epoch 205/800\n",
            "3/9 [=========>....................] - ETA: 3s - loss: 0.2158 - acc: 0.9247"
          ]
        },
        {
          "output_type": "stream",
          "name": "stderr",
          "text": [
            "[codecarbon INFO @ 16:08:31] Energy consumed for RAM : 0.001761 kWh. RAM Power : 4.753036022186279 W\n",
            "[codecarbon INFO @ 16:08:31] Energy consumed for all GPUs : 0.025346 kWh. Total GPU Power : 68.17435670847684 W\n",
            "[codecarbon INFO @ 16:08:31] Energy consumed for all CPUs : 0.015762 kWh. Total CPU Power : 42.5 W\n",
            "[codecarbon INFO @ 16:08:31] 0.042869 kWh of electricity used since the beginning.\n"
          ]
        },
        {
          "output_type": "stream",
          "name": "stdout",
          "text": [
            "9/9 [==============================] - ETA: 0s - loss: 0.2184 - acc: 0.9231\n",
            "Epoch 205: val_loss improved from 0.25438 to 0.25432, saving model to /content/drive/MyDrive/Model/initial_runs_20241202_1546/af_lstm_weights.205-0.25.h5\n",
            "9/9 [==============================] - 7s 805ms/step - loss: 0.2184 - acc: 0.9231 - val_loss: 0.2543 - val_acc: 0.9127\n",
            "Epoch 206/800\n",
            "9/9 [==============================] - ETA: 0s - loss: 0.2170 - acc: 0.9235\n",
            "Epoch 206: val_loss did not improve from 0.25432\n",
            "9/9 [==============================] - 6s 701ms/step - loss: 0.2170 - acc: 0.9235 - val_loss: 0.2584 - val_acc: 0.9135\n",
            "Epoch 207/800\n",
            "5/9 [===============>..............] - ETA: 2s - loss: 0.2178 - acc: 0.9234"
          ]
        },
        {
          "output_type": "stream",
          "name": "stderr",
          "text": [
            "[codecarbon INFO @ 16:08:46] Energy consumed for RAM : 0.001781 kWh. RAM Power : 4.753036022186279 W\n",
            "[codecarbon INFO @ 16:08:46] Energy consumed for all GPUs : 0.025631 kWh. Total GPU Power : 68.57531957819093 W\n",
            "[codecarbon INFO @ 16:08:46] Energy consumed for all CPUs : 0.015939 kWh. Total CPU Power : 42.5 W\n",
            "[codecarbon INFO @ 16:08:46] 0.043351 kWh of electricity used since the beginning.\n"
          ]
        },
        {
          "output_type": "stream",
          "name": "stdout",
          "text": [
            "9/9 [==============================] - ETA: 0s - loss: 0.2172 - acc: 0.9235\n",
            "Epoch 207: val_loss did not improve from 0.25432\n",
            "9/9 [==============================] - 6s 716ms/step - loss: 0.2172 - acc: 0.9235 - val_loss: 0.2652 - val_acc: 0.9129\n",
            "Epoch 208/800\n",
            "9/9 [==============================] - ETA: 0s - loss: 0.2164 - acc: 0.9239\n",
            "Epoch 208: val_loss improved from 0.25432 to 0.25351, saving model to /content/drive/MyDrive/Model/initial_runs_20241202_1546/af_lstm_weights.208-0.25.h5\n",
            "9/9 [==============================] - 6s 709ms/step - loss: 0.2164 - acc: 0.9239 - val_loss: 0.2535 - val_acc: 0.9154\n",
            "Epoch 209/800\n",
            "9/9 [==============================] - ETA: 0s - loss: 0.2152 - acc: 0.9244"
          ]
        },
        {
          "output_type": "stream",
          "name": "stderr",
          "text": [
            "[codecarbon INFO @ 16:09:01] Energy consumed for RAM : 0.001801 kWh. RAM Power : 4.753036022186279 W\n",
            "[codecarbon INFO @ 16:09:01] Energy consumed for all GPUs : 0.025919 kWh. Total GPU Power : 69.07954852184535 W\n",
            "[codecarbon INFO @ 16:09:01] Energy consumed for all CPUs : 0.016116 kWh. Total CPU Power : 42.5 W\n",
            "[codecarbon INFO @ 16:09:01] 0.043836 kWh of electricity used since the beginning.\n"
          ]
        },
        {
          "output_type": "stream",
          "name": "stdout",
          "text": [
            "\n",
            "Epoch 209: val_loss improved from 0.25351 to 0.24828, saving model to /content/drive/MyDrive/Model/initial_runs_20241202_1546/af_lstm_weights.209-0.25.h5\n",
            "9/9 [==============================] - 7s 799ms/step - loss: 0.2152 - acc: 0.9244 - val_loss: 0.2483 - val_acc: 0.9157\n",
            "Epoch 210/800\n",
            "9/9 [==============================] - ETA: 0s - loss: 0.2158 - acc: 0.9242\n",
            "Epoch 210: val_loss improved from 0.24828 to 0.24657, saving model to /content/drive/MyDrive/Model/initial_runs_20241202_1546/af_lstm_weights.210-0.25.h5\n",
            "9/9 [==============================] - 6s 712ms/step - loss: 0.2158 - acc: 0.9242 - val_loss: 0.2466 - val_acc: 0.9144\n",
            "Epoch 211/800\n",
            "9/9 [==============================] - ETA: 0s - loss: 0.2173 - acc: 0.9230\n",
            "Epoch 211: val_loss did not improve from 0.24657\n",
            "9/9 [==============================] - 6s 711ms/step - loss: 0.2173 - acc: 0.9230 - val_loss: 0.2481 - val_acc: 0.9164\n",
            "Epoch 212/800\n",
            "1/9 [==>...........................] - ETA: 5s - loss: 0.2157 - acc: 0.9225"
          ]
        },
        {
          "output_type": "stream",
          "name": "stderr",
          "text": [
            "[codecarbon INFO @ 16:09:16] Energy consumed for RAM : 0.001821 kWh. RAM Power : 4.753036022186279 W\n",
            "[codecarbon INFO @ 16:09:16] Energy consumed for all GPUs : 0.026205 kWh. Total GPU Power : 68.51826100651546 W\n",
            "[codecarbon INFO @ 16:09:16] Energy consumed for all CPUs : 0.016293 kWh. Total CPU Power : 42.5 W\n",
            "[codecarbon INFO @ 16:09:16] 0.044319 kWh of electricity used since the beginning.\n"
          ]
        },
        {
          "output_type": "stream",
          "name": "stdout",
          "text": [
            "9/9 [==============================] - ETA: 0s - loss: 0.2143 - acc: 0.9246\n",
            "Epoch 212: val_loss did not improve from 0.24657\n",
            "9/9 [==============================] - 6s 705ms/step - loss: 0.2143 - acc: 0.9246 - val_loss: 0.2480 - val_acc: 0.9161\n",
            "Epoch 213/800\n",
            "9/9 [==============================] - ETA: 0s - loss: 0.2146 - acc: 0.9245\n",
            "Epoch 213: val_loss did not improve from 0.24657\n",
            "9/9 [==============================] - 7s 784ms/step - loss: 0.2146 - acc: 0.9245 - val_loss: 0.2532 - val_acc: 0.9170\n",
            "Epoch 214/800\n",
            "4/9 [============>.................] - ETA: 3s - loss: 0.2138 - acc: 0.9247"
          ]
        },
        {
          "output_type": "stream",
          "name": "stderr",
          "text": [
            "[codecarbon INFO @ 16:09:31] Energy consumed for RAM : 0.001840 kWh. RAM Power : 4.753036022186279 W\n",
            "[codecarbon INFO @ 16:09:31] Energy consumed for all GPUs : 0.026489 kWh. Total GPU Power : 68.25124818653319 W\n",
            "[codecarbon INFO @ 16:09:31] Energy consumed for all CPUs : 0.016470 kWh. Total CPU Power : 42.5 W\n",
            "[codecarbon INFO @ 16:09:31] 0.044799 kWh of electricity used since the beginning.\n"
          ]
        },
        {
          "output_type": "stream",
          "name": "stdout",
          "text": [
            "9/9 [==============================] - ETA: 0s - loss: 0.2134 - acc: 0.9250\n",
            "Epoch 214: val_loss did not improve from 0.24657\n",
            "9/9 [==============================] - 6s 707ms/step - loss: 0.2134 - acc: 0.9250 - val_loss: 0.2573 - val_acc: 0.9159\n",
            "Epoch 215/800\n",
            "9/9 [==============================] - ETA: 0s - loss: 0.2183 - acc: 0.9225\n",
            "Epoch 215: val_loss did not improve from 0.24657\n",
            "9/9 [==============================] - 6s 703ms/step - loss: 0.2183 - acc: 0.9225 - val_loss: 0.2638 - val_acc: 0.9133\n",
            "Epoch 216/800\n",
            "8/9 [=========================>....] - ETA: 0s - loss: 0.2146 - acc: 0.9243"
          ]
        },
        {
          "output_type": "stream",
          "name": "stderr",
          "text": [
            "[codecarbon INFO @ 16:09:46] Energy consumed for RAM : 0.001860 kWh. RAM Power : 4.753036022186279 W\n",
            "[codecarbon INFO @ 16:09:46] Energy consumed for all GPUs : 0.026778 kWh. Total GPU Power : 69.34358833664605 W\n",
            "[codecarbon INFO @ 16:09:46] Energy consumed for all CPUs : 0.016647 kWh. Total CPU Power : 42.5 W\n",
            "[codecarbon INFO @ 16:09:46] 0.045285 kWh of electricity used since the beginning.\n"
          ]
        },
        {
          "output_type": "stream",
          "name": "stdout",
          "text": [
            "\b\b\b\b\b\b\b\b\b\b\b\b\b\b\b\b\b\b\b\b\b\b\b\b\b\b\b\b\b\b\b\b\b\b\b\b\b\b\b\b\b\b\b\b\b\b\b\b\b\b\b\b\b\b\b\b\b\b\b\b\b\b\b\b\b\b\b\b\b\b\b\b\b\b\b\r9/9 [==============================] - ETA: 0s - loss: 0.2144 - acc: 0.9245\n",
            "Epoch 216: val_loss improved from 0.24657 to 0.24440, saving model to /content/drive/MyDrive/Model/initial_runs_20241202_1546/af_lstm_weights.216-0.24.h5\n",
            "9/9 [==============================] - 6s 715ms/step - loss: 0.2144 - acc: 0.9245 - val_loss: 0.2444 - val_acc: 0.9155\n",
            "Epoch 217/800\n",
            "9/9 [==============================] - ETA: 0s - loss: 0.2157 - acc: 0.9234\n",
            "Epoch 217: val_loss did not improve from 0.24440\n",
            "9/9 [==============================] - 6s 701ms/step - loss: 0.2157 - acc: 0.9234 - val_loss: 0.2458 - val_acc: 0.9173\n",
            "Epoch 218/800\n",
            "9/9 [==============================] - ETA: 0s - loss: 0.2153 - acc: 0.9237\n",
            "Epoch 218: val_loss did not improve from 0.24440\n",
            "9/9 [==============================] - 6s 707ms/step - loss: 0.2153 - acc: 0.9237 - val_loss: 0.2569 - val_acc: 0.9152\n",
            "Epoch 219/800\n",
            "2/9 [=====>........................] - ETA: 4s - loss: 0.2128 - acc: 0.9246"
          ]
        },
        {
          "output_type": "stream",
          "name": "stderr",
          "text": [
            "[codecarbon INFO @ 16:10:01] Energy consumed for RAM : 0.001880 kWh. RAM Power : 4.753036022186279 W\n",
            "[codecarbon INFO @ 16:10:01] Energy consumed for all GPUs : 0.027066 kWh. Total GPU Power : 69.40468055871365 W\n",
            "[codecarbon INFO @ 16:10:01] Energy consumed for all CPUs : 0.016824 kWh. Total CPU Power : 42.5 W\n",
            "[codecarbon INFO @ 16:10:01] 0.045771 kWh of electricity used since the beginning.\n"
          ]
        },
        {
          "output_type": "stream",
          "name": "stdout",
          "text": [
            "9/9 [==============================] - ETA: 0s - loss: 0.2126 - acc: 0.9253\n",
            "Epoch 219: val_loss did not improve from 0.24440\n",
            "9/9 [==============================] - 6s 703ms/step - loss: 0.2126 - acc: 0.9253 - val_loss: 0.2486 - val_acc: 0.9168\n",
            "Epoch 220/800\n",
            "9/9 [==============================] - ETA: 0s - loss: 0.2111 - acc: 0.9263\n",
            "Epoch 220: val_loss improved from 0.24440 to 0.24046, saving model to /content/drive/MyDrive/Model/initial_runs_20241202_1546/af_lstm_weights.220-0.24.h5\n",
            "9/9 [==============================] - 6s 716ms/step - loss: 0.2111 - acc: 0.9263 - val_loss: 0.2405 - val_acc: 0.9161\n",
            "Epoch 221/800\n",
            "5/9 [===============>..............] - ETA: 2s - loss: 0.2235 - acc: 0.9189"
          ]
        },
        {
          "output_type": "stream",
          "name": "stderr",
          "text": [
            "[codecarbon INFO @ 16:10:16] Energy consumed for RAM : 0.001900 kWh. RAM Power : 4.753036022186279 W\n",
            "[codecarbon INFO @ 16:10:16] Energy consumed for all GPUs : 0.027357 kWh. Total GPU Power : 69.9314415021988 W\n",
            "[codecarbon INFO @ 16:10:16] Energy consumed for all CPUs : 0.017001 kWh. Total CPU Power : 42.5 W\n",
            "[codecarbon INFO @ 16:10:16] 0.046258 kWh of electricity used since the beginning.\n",
            "[codecarbon INFO @ 16:10:16] 0.004474 g.CO2eq/s mean an estimation of 141.07880724541232 kg.CO2eq/year\n"
          ]
        },
        {
          "output_type": "stream",
          "name": "stdout",
          "text": [
            "9/9 [==============================] - ETA: 0s - loss: 0.2202 - acc: 0.9211\n",
            "Epoch 221: val_loss did not improve from 0.24046\n",
            "9/9 [==============================] - 6s 699ms/step - loss: 0.2202 - acc: 0.9211 - val_loss: 0.2449 - val_acc: 0.9158\n",
            "Epoch 222/800\n",
            "9/9 [==============================] - ETA: 0s - loss: 0.2125 - acc: 0.9247\n",
            "Epoch 222: val_loss did not improve from 0.24046\n",
            "9/9 [==============================] - 6s 722ms/step - loss: 0.2125 - acc: 0.9247 - val_loss: 0.2454 - val_acc: 0.9158\n",
            "Epoch 223/800\n",
            "9/9 [==============================] - ETA: 0s - loss: 0.2107 - acc: 0.9259"
          ]
        },
        {
          "output_type": "stream",
          "name": "stderr",
          "text": [
            "[codecarbon INFO @ 16:10:31] Energy consumed for RAM : 0.001920 kWh. RAM Power : 4.753036022186279 W\n",
            "[codecarbon INFO @ 16:10:31] Energy consumed for all GPUs : 0.027646 kWh. Total GPU Power : 69.22092646380268 W\n",
            "[codecarbon INFO @ 16:10:31] Energy consumed for all CPUs : 0.017178 kWh. Total CPU Power : 42.5 W\n",
            "[codecarbon INFO @ 16:10:31] 0.046744 kWh of electricity used since the beginning.\n"
          ]
        },
        {
          "output_type": "stream",
          "name": "stdout",
          "text": [
            "\n",
            "Epoch 223: val_loss did not improve from 0.24046\n",
            "9/9 [==============================] - 6s 700ms/step - loss: 0.2107 - acc: 0.9259 - val_loss: 0.2478 - val_acc: 0.9177\n",
            "Epoch 224/800\n",
            "9/9 [==============================] - ETA: 0s - loss: 0.2122 - acc: 0.9253\n",
            "Epoch 224: val_loss did not improve from 0.24046\n",
            "9/9 [==============================] - 6s 712ms/step - loss: 0.2122 - acc: 0.9253 - val_loss: 0.2551 - val_acc: 0.9163\n",
            "Epoch 225/800\n",
            "9/9 [==============================] - ETA: 0s - loss: 0.2107 - acc: 0.9260\n",
            "Epoch 225: val_loss did not improve from 0.24046\n",
            "9/9 [==============================] - 6s 701ms/step - loss: 0.2107 - acc: 0.9260 - val_loss: 0.2453 - val_acc: 0.9180\n",
            "Epoch 226/800\n",
            "3/9 [=========>....................] - ETA: 3s - loss: 0.2081 - acc: 0.9270"
          ]
        },
        {
          "output_type": "stream",
          "name": "stderr",
          "text": [
            "[codecarbon INFO @ 16:10:46] Energy consumed for RAM : 0.001939 kWh. RAM Power : 4.753036022186279 W\n",
            "[codecarbon INFO @ 16:10:46] Energy consumed for all GPUs : 0.027935 kWh. Total GPU Power : 69.28220203336313 W\n",
            "[codecarbon INFO @ 16:10:46] Energy consumed for all CPUs : 0.017355 kWh. Total CPU Power : 42.5 W\n",
            "[codecarbon INFO @ 16:10:46] 0.047230 kWh of electricity used since the beginning.\n"
          ]
        },
        {
          "output_type": "stream",
          "name": "stdout",
          "text": [
            "9/9 [==============================] - ETA: 0s - loss: 0.2098 - acc: 0.9265\n",
            "Epoch 226: val_loss improved from 0.24046 to 0.23929, saving model to /content/drive/MyDrive/Model/initial_runs_20241202_1546/af_lstm_weights.226-0.24.h5\n",
            "9/9 [==============================] - 6s 721ms/step - loss: 0.2098 - acc: 0.9265 - val_loss: 0.2393 - val_acc: 0.9184\n",
            "Epoch 227/800\n",
            "9/9 [==============================] - ETA: 0s - loss: 0.2094 - acc: 0.9264\n",
            "Epoch 227: val_loss did not improve from 0.23929\n",
            "9/9 [==============================] - 6s 707ms/step - loss: 0.2094 - acc: 0.9264 - val_loss: 0.2435 - val_acc: 0.9189\n",
            "Epoch 228/800\n",
            "6/9 [===================>..........] - ETA: 1s - loss: 0.2088 - acc: 0.9269"
          ]
        },
        {
          "output_type": "stream",
          "name": "stderr",
          "text": [
            "[codecarbon INFO @ 16:11:01] Energy consumed for RAM : 0.001959 kWh. RAM Power : 4.753036022186279 W\n",
            "[codecarbon INFO @ 16:11:01] Energy consumed for all GPUs : 0.028225 kWh. Total GPU Power : 69.68431812887623 W\n",
            "[codecarbon INFO @ 16:11:01] Energy consumed for all CPUs : 0.017533 kWh. Total CPU Power : 42.5 W\n",
            "[codecarbon INFO @ 16:11:01] 0.047717 kWh of electricity used since the beginning.\n"
          ]
        },
        {
          "output_type": "stream",
          "name": "stdout",
          "text": [
            "9/9 [==============================] - ETA: 0s - loss: 0.2091 - acc: 0.9267\n",
            "Epoch 228: val_loss did not improve from 0.23929\n",
            "9/9 [==============================] - 7s 792ms/step - loss: 0.2091 - acc: 0.9267 - val_loss: 0.2491 - val_acc: 0.9181\n",
            "Epoch 229/800\n",
            "9/9 [==============================] - ETA: 0s - loss: 0.2111 - acc: 0.9257\n",
            "Epoch 229: val_loss did not improve from 0.23929\n",
            "9/9 [==============================] - 6s 703ms/step - loss: 0.2111 - acc: 0.9257 - val_loss: 0.2398 - val_acc: 0.9198\n",
            "Epoch 230/800\n",
            "9/9 [==============================] - ETA: 0s - loss: 0.2080 - acc: 0.9271"
          ]
        },
        {
          "output_type": "stream",
          "name": "stderr",
          "text": [
            "[codecarbon INFO @ 16:11:16] Energy consumed for RAM : 0.001979 kWh. RAM Power : 4.753036022186279 W\n",
            "[codecarbon INFO @ 16:11:16] Energy consumed for all GPUs : 0.028508 kWh. Total GPU Power : 68.12848010756264 W\n",
            "[codecarbon INFO @ 16:11:16] Energy consumed for all CPUs : 0.017710 kWh. Total CPU Power : 42.5 W\n",
            "[codecarbon INFO @ 16:11:16] 0.048197 kWh of electricity used since the beginning.\n"
          ]
        },
        {
          "output_type": "stream",
          "name": "stdout",
          "text": [
            "\n",
            "Epoch 230: val_loss improved from 0.23929 to 0.23621, saving model to /content/drive/MyDrive/Model/initial_runs_20241202_1546/af_lstm_weights.230-0.24.h5\n",
            "9/9 [==============================] - 6s 710ms/step - loss: 0.2080 - acc: 0.9271 - val_loss: 0.2362 - val_acc: 0.9193\n",
            "Epoch 231/800\n",
            "9/9 [==============================] - ETA: 0s - loss: 0.2138 - acc: 0.9241\n",
            "Epoch 231: val_loss did not improve from 0.23621\n",
            "9/9 [==============================] - 6s 707ms/step - loss: 0.2138 - acc: 0.9241 - val_loss: 0.2363 - val_acc: 0.9179\n",
            "Epoch 232/800\n",
            "9/9 [==============================] - ETA: 0s - loss: 0.2103 - acc: 0.9258\n",
            "Epoch 232: val_loss did not improve from 0.23621\n",
            "9/9 [==============================] - 6s 701ms/step - loss: 0.2103 - acc: 0.9258 - val_loss: 0.2445 - val_acc: 0.9191\n",
            "Epoch 233/800\n",
            "3/9 [=========>....................] - ETA: 3s - loss: 0.2078 - acc: 0.9272"
          ]
        },
        {
          "output_type": "stream",
          "name": "stderr",
          "text": [
            "[codecarbon INFO @ 16:11:31] Energy consumed for RAM : 0.001999 kWh. RAM Power : 4.753036022186279 W\n",
            "[codecarbon INFO @ 16:11:31] Energy consumed for all GPUs : 0.028797 kWh. Total GPU Power : 69.41200428932378 W\n",
            "[codecarbon INFO @ 16:11:31] Energy consumed for all CPUs : 0.017887 kWh. Total CPU Power : 42.5 W\n",
            "[codecarbon INFO @ 16:11:31] 0.048683 kWh of electricity used since the beginning.\n"
          ]
        },
        {
          "output_type": "stream",
          "name": "stdout",
          "text": [
            "9/9 [==============================] - ETA: 0s - loss: 0.2083 - acc: 0.9268\n",
            "Epoch 233: val_loss improved from 0.23621 to 0.23585, saving model to /content/drive/MyDrive/Model/initial_runs_20241202_1546/af_lstm_weights.233-0.24.h5\n",
            "9/9 [==============================] - 6s 715ms/step - loss: 0.2083 - acc: 0.9268 - val_loss: 0.2359 - val_acc: 0.9199\n",
            "Epoch 234/800\n",
            "9/9 [==============================] - ETA: 0s - loss: 0.2157 - acc: 0.9231\n",
            "Epoch 234: val_loss did not improve from 0.23585\n",
            "9/9 [==============================] - 6s 702ms/step - loss: 0.2157 - acc: 0.9231 - val_loss: 0.2383 - val_acc: 0.9175\n",
            "Epoch 235/800\n",
            "6/9 [===================>..........] - ETA: 2s - loss: 0.2097 - acc: 0.9263"
          ]
        },
        {
          "output_type": "stream",
          "name": "stderr",
          "text": [
            "[codecarbon INFO @ 16:11:46] Energy consumed for RAM : 0.002019 kWh. RAM Power : 4.753036022186279 W\n",
            "[codecarbon INFO @ 16:11:46] Energy consumed for all GPUs : 0.029086 kWh. Total GPU Power : 69.13495872989479 W\n",
            "[codecarbon INFO @ 16:11:46] Energy consumed for all CPUs : 0.018064 kWh. Total CPU Power : 42.5 W\n",
            "[codecarbon INFO @ 16:11:46] 0.049168 kWh of electricity used since the beginning.\n"
          ]
        },
        {
          "output_type": "stream",
          "name": "stdout",
          "text": [
            "9/9 [==============================] - ETA: 0s - loss: 0.2097 - acc: 0.9260\n",
            "Epoch 235: val_loss improved from 0.23585 to 0.23580, saving model to /content/drive/MyDrive/Model/initial_runs_20241202_1546/af_lstm_weights.235-0.24.h5\n",
            "9/9 [==============================] - 6s 722ms/step - loss: 0.2097 - acc: 0.9260 - val_loss: 0.2358 - val_acc: 0.9174\n",
            "Epoch 236/800\n",
            "9/9 [==============================] - ETA: 0s - loss: 0.2097 - acc: 0.9262\n",
            "Epoch 236: val_loss did not improve from 0.23580\n",
            "9/9 [==============================] - 6s 702ms/step - loss: 0.2097 - acc: 0.9262 - val_loss: 0.2490 - val_acc: 0.9176\n",
            "Epoch 237/800\n",
            "9/9 [==============================] - ETA: 0s - loss: 0.2078 - acc: 0.9272\n",
            "Epoch 237: val_loss improved from 0.23580 to 0.23430, saving model to /content/drive/MyDrive/Model/initial_runs_20241202_1546/af_lstm_weights.237-0.23.h5\n",
            "9/9 [==============================] - 6s 724ms/step - loss: 0.2078 - acc: 0.9272 - val_loss: 0.2343 - val_acc: 0.9192\n",
            "Epoch 238/800\n"
          ]
        },
        {
          "output_type": "stream",
          "name": "stderr",
          "text": [
            "[codecarbon INFO @ 16:12:01] Energy consumed for RAM : 0.002038 kWh. RAM Power : 4.753036022186279 W\n",
            "[codecarbon INFO @ 16:12:01] Energy consumed for all GPUs : 0.029375 kWh. Total GPU Power : 69.56020977393376 W\n",
            "[codecarbon INFO @ 16:12:01] Energy consumed for all CPUs : 0.018241 kWh. Total CPU Power : 42.5 W\n",
            "[codecarbon INFO @ 16:12:01] 0.049655 kWh of electricity used since the beginning.\n"
          ]
        },
        {
          "output_type": "stream",
          "name": "stdout",
          "text": [
            "9/9 [==============================] - ETA: 0s - loss: 0.2088 - acc: 0.9264\n",
            "Epoch 238: val_loss did not improve from 0.23430\n",
            "9/9 [==============================] - 6s 700ms/step - loss: 0.2088 - acc: 0.9264 - val_loss: 0.2443 - val_acc: 0.9194\n",
            "Epoch 239/800\n",
            "9/9 [==============================] - ETA: 0s - loss: 0.2073 - acc: 0.9275\n",
            "Epoch 239: val_loss did not improve from 0.23430\n",
            "9/9 [==============================] - 7s 794ms/step - loss: 0.2073 - acc: 0.9275 - val_loss: 0.2350 - val_acc: 0.9204\n",
            "Epoch 240/800\n",
            "3/9 [=========>....................] - ETA: 3s - loss: 0.2072 - acc: 0.9267"
          ]
        },
        {
          "output_type": "stream",
          "name": "stderr",
          "text": [
            "[codecarbon INFO @ 16:12:16] Energy consumed for RAM : 0.002058 kWh. RAM Power : 4.753036022186279 W\n",
            "[codecarbon INFO @ 16:12:16] Energy consumed for all GPUs : 0.029660 kWh. Total GPU Power : 68.24225751206959 W\n",
            "[codecarbon INFO @ 16:12:16] Energy consumed for all CPUs : 0.018418 kWh. Total CPU Power : 42.5 W\n",
            "[codecarbon INFO @ 16:12:16] 0.050136 kWh of electricity used since the beginning.\n",
            "[codecarbon INFO @ 16:12:16] 0.004481 g.CO2eq/s mean an estimation of 141.30371795281528 kg.CO2eq/year\n"
          ]
        },
        {
          "output_type": "stream",
          "name": "stdout",
          "text": [
            "9/9 [==============================] - ETA: 0s - loss: 0.2065 - acc: 0.9276\n",
            "Epoch 240: val_loss did not improve from 0.23430\n",
            "9/9 [==============================] - 6s 702ms/step - loss: 0.2065 - acc: 0.9276 - val_loss: 0.2349 - val_acc: 0.9215\n",
            "Epoch 241/800\n",
            "9/9 [==============================] - ETA: 0s - loss: 0.2054 - acc: 0.9281\n",
            "Epoch 241: val_loss improved from 0.23430 to 0.23291, saving model to /content/drive/MyDrive/Model/initial_runs_20241202_1546/af_lstm_weights.241-0.23.h5\n",
            "9/9 [==============================] - 7s 801ms/step - loss: 0.2054 - acc: 0.9281 - val_loss: 0.2329 - val_acc: 0.9221\n",
            "Epoch 242/800\n",
            "6/9 [===================>..........] - ETA: 1s - loss: 0.2068 - acc: 0.9276"
          ]
        },
        {
          "output_type": "stream",
          "name": "stderr",
          "text": [
            "[codecarbon INFO @ 16:12:31] Energy consumed for RAM : 0.002078 kWh. RAM Power : 4.753036022186279 W\n",
            "[codecarbon INFO @ 16:12:31] Energy consumed for all GPUs : 0.029945 kWh. Total GPU Power : 68.4973150657367 W\n",
            "[codecarbon INFO @ 16:12:31] Energy consumed for all CPUs : 0.018595 kWh. Total CPU Power : 42.5 W\n",
            "[codecarbon INFO @ 16:12:31] 0.050619 kWh of electricity used since the beginning.\n"
          ]
        },
        {
          "output_type": "stream",
          "name": "stdout",
          "text": [
            "9/9 [==============================] - ETA: 0s - loss: 0.2062 - acc: 0.9276\n",
            "Epoch 242: val_loss improved from 0.23291 to 0.22906, saving model to /content/drive/MyDrive/Model/initial_runs_20241202_1546/af_lstm_weights.242-0.23.h5\n",
            "9/9 [==============================] - 6s 707ms/step - loss: 0.2062 - acc: 0.9276 - val_loss: 0.2291 - val_acc: 0.9225\n",
            "Epoch 243/800\n",
            "9/9 [==============================] - ETA: 0s - loss: 0.2055 - acc: 0.9282\n",
            "Epoch 243: val_loss did not improve from 0.22906\n",
            "9/9 [==============================] - 6s 715ms/step - loss: 0.2055 - acc: 0.9282 - val_loss: 0.2294 - val_acc: 0.9222\n",
            "Epoch 244/800\n",
            "9/9 [==============================] - ETA: 0s - loss: 0.2056 - acc: 0.9280"
          ]
        },
        {
          "output_type": "stream",
          "name": "stderr",
          "text": [
            "[codecarbon INFO @ 16:12:46] Energy consumed for RAM : 0.002098 kWh. RAM Power : 4.753036022186279 W\n",
            "[codecarbon INFO @ 16:12:46] Energy consumed for all GPUs : 0.030234 kWh. Total GPU Power : 69.38448794323321 W\n",
            "[codecarbon INFO @ 16:12:46] Energy consumed for all CPUs : 0.018772 kWh. Total CPU Power : 42.5 W\n",
            "[codecarbon INFO @ 16:12:46] 0.051104 kWh of electricity used since the beginning.\n"
          ]
        },
        {
          "output_type": "stream",
          "name": "stdout",
          "text": [
            "\n",
            "Epoch 244: val_loss improved from 0.22906 to 0.22221, saving model to /content/drive/MyDrive/Model/initial_runs_20241202_1546/af_lstm_weights.244-0.22.h5\n",
            "9/9 [==============================] - 6s 707ms/step - loss: 0.2056 - acc: 0.9280 - val_loss: 0.2222 - val_acc: 0.9251\n",
            "Epoch 245/800\n",
            "9/9 [==============================] - ETA: 0s - loss: 0.2045 - acc: 0.9285\n",
            "Epoch 245: val_loss did not improve from 0.22221\n",
            "9/9 [==============================] - 7s 797ms/step - loss: 0.2045 - acc: 0.9285 - val_loss: 0.2230 - val_acc: 0.9278\n",
            "Epoch 246/800\n",
            "9/9 [==============================] - ETA: 0s - loss: 0.2024 - acc: 0.9295\n",
            "Epoch 246: val_loss improved from 0.22221 to 0.21694, saving model to /content/drive/MyDrive/Model/initial_runs_20241202_1546/af_lstm_weights.246-0.22.h5\n",
            "9/9 [==============================] - 6s 708ms/step - loss: 0.2024 - acc: 0.9295 - val_loss: 0.2169 - val_acc: 0.9262\n",
            "Epoch 247/800\n",
            "2/9 [=====>........................] - ETA: 4s - loss: 0.2009 - acc: 0.9288"
          ]
        },
        {
          "output_type": "stream",
          "name": "stderr",
          "text": [
            "[codecarbon INFO @ 16:13:01] Energy consumed for RAM : 0.002118 kWh. RAM Power : 4.753036022186279 W\n",
            "[codecarbon INFO @ 16:13:01] Energy consumed for all GPUs : 0.030517 kWh. Total GPU Power : 68.00333102376557 W\n",
            "[codecarbon INFO @ 16:13:01] Energy consumed for all CPUs : 0.018949 kWh. Total CPU Power : 42.5 W\n",
            "[codecarbon INFO @ 16:13:01] 0.051584 kWh of electricity used since the beginning.\n"
          ]
        },
        {
          "output_type": "stream",
          "name": "stdout",
          "text": [
            "9/9 [==============================] - ETA: 0s - loss: 0.2013 - acc: 0.9293\n",
            "Epoch 247: val_loss improved from 0.21694 to 0.21675, saving model to /content/drive/MyDrive/Model/initial_runs_20241202_1546/af_lstm_weights.247-0.22.h5\n",
            "9/9 [==============================] - 6s 718ms/step - loss: 0.2013 - acc: 0.9293 - val_loss: 0.2168 - val_acc: 0.9278\n",
            "Epoch 248/800\n",
            "9/9 [==============================] - ETA: 0s - loss: 0.2029 - acc: 0.9290\n",
            "Epoch 248: val_loss did not improve from 0.21675\n",
            "9/9 [==============================] - 6s 704ms/step - loss: 0.2029 - acc: 0.9290 - val_loss: 0.2184 - val_acc: 0.9287\n",
            "Epoch 249/800\n",
            "5/9 [===============>..............] - ETA: 2s - loss: 0.2005 - acc: 0.9304"
          ]
        },
        {
          "output_type": "stream",
          "name": "stderr",
          "text": [
            "[codecarbon INFO @ 16:13:16] Energy consumed for RAM : 0.002137 kWh. RAM Power : 4.753036022186279 W\n",
            "[codecarbon INFO @ 16:13:16] Energy consumed for all GPUs : 0.030807 kWh. Total GPU Power : 69.70069522000807 W\n",
            "[codecarbon INFO @ 16:13:16] Energy consumed for all CPUs : 0.019126 kWh. Total CPU Power : 42.5 W\n",
            "[codecarbon INFO @ 16:13:16] 0.052071 kWh of electricity used since the beginning.\n"
          ]
        },
        {
          "output_type": "stream",
          "name": "stdout",
          "text": [
            "9/9 [==============================] - ETA: 0s - loss: 0.2008 - acc: 0.9302\n",
            "Epoch 249: val_loss improved from 0.21675 to 0.21596, saving model to /content/drive/MyDrive/Model/initial_runs_20241202_1546/af_lstm_weights.249-0.22.h5\n",
            "9/9 [==============================] - 7s 796ms/step - loss: 0.2008 - acc: 0.9302 - val_loss: 0.2160 - val_acc: 0.9291\n",
            "Epoch 250/800\n",
            "9/9 [==============================] - ETA: 0s - loss: 0.2007 - acc: 0.9301\n",
            "Epoch 250: val_loss improved from 0.21596 to 0.21214, saving model to /content/drive/MyDrive/Model/initial_runs_20241202_1546/af_lstm_weights.250-0.21.h5\n",
            "9/9 [==============================] - 7s 789ms/step - loss: 0.2007 - acc: 0.9301 - val_loss: 0.2121 - val_acc: 0.9292\n",
            "Epoch 251/800\n",
            "7/9 [======================>.......] - ETA: 1s - loss: 0.2010 - acc: 0.9296"
          ]
        },
        {
          "output_type": "stream",
          "name": "stderr",
          "text": [
            "[codecarbon INFO @ 16:13:31] Energy consumed for RAM : 0.002157 kWh. RAM Power : 4.753036022186279 W\n",
            "[codecarbon INFO @ 16:13:31] Energy consumed for all GPUs : 0.031086 kWh. Total GPU Power : 66.76319307260536 W\n",
            "[codecarbon INFO @ 16:13:31] Energy consumed for all CPUs : 0.019304 kWh. Total CPU Power : 42.5 W\n",
            "[codecarbon INFO @ 16:13:31] 0.052546 kWh of electricity used since the beginning.\n"
          ]
        },
        {
          "output_type": "stream",
          "name": "stdout",
          "text": [
            "9/9 [==============================] - ETA: 0s - loss: 0.2008 - acc: 0.9299\n",
            "Epoch 251: val_loss did not improve from 0.21214\n",
            "9/9 [==============================] - 6s 718ms/step - loss: 0.2008 - acc: 0.9299 - val_loss: 0.2168 - val_acc: 0.9293\n",
            "Epoch 252/800\n",
            "9/9 [==============================] - ETA: 0s - loss: 0.1999 - acc: 0.9304\n",
            "Epoch 252: val_loss did not improve from 0.21214\n",
            "9/9 [==============================] - 6s 713ms/step - loss: 0.1999 - acc: 0.9304 - val_loss: 0.2187 - val_acc: 0.9294\n",
            "Epoch 253/800\n",
            "9/9 [==============================] - ETA: 0s - loss: 0.2024 - acc: 0.9291\n",
            "Epoch 253: val_loss did not improve from 0.21214\n",
            "9/9 [==============================] - 6s 719ms/step - loss: 0.2024 - acc: 0.9291 - val_loss: 0.2218 - val_acc: 0.9290\n",
            "Epoch 254/800\n",
            "1/9 [==>...........................] - ETA: 5s - loss: 0.2039 - acc: 0.9313"
          ]
        },
        {
          "output_type": "stream",
          "name": "stderr",
          "text": [
            "[codecarbon INFO @ 16:13:46] Energy consumed for RAM : 0.002177 kWh. RAM Power : 4.753036022186279 W\n",
            "[codecarbon INFO @ 16:13:46] Energy consumed for all GPUs : 0.031373 kWh. Total GPU Power : 69.12812277880032 W\n",
            "[codecarbon INFO @ 16:13:46] Energy consumed for all CPUs : 0.019481 kWh. Total CPU Power : 42.5 W\n",
            "[codecarbon INFO @ 16:13:46] 0.053031 kWh of electricity used since the beginning.\n"
          ]
        },
        {
          "output_type": "stream",
          "name": "stdout",
          "text": [
            "9/9 [==============================] - ETA: 0s - loss: 0.2025 - acc: 0.9293\n",
            "Epoch 254: val_loss did not improve from 0.21214\n",
            "9/9 [==============================] - 6s 711ms/step - loss: 0.2025 - acc: 0.9293 - val_loss: 0.2123 - val_acc: 0.9289\n",
            "Epoch 255/800\n",
            "9/9 [==============================] - ETA: 0s - loss: 0.2005 - acc: 0.9298\n",
            "Epoch 255: val_loss improved from 0.21214 to 0.21120, saving model to /content/drive/MyDrive/Model/initial_runs_20241202_1546/af_lstm_weights.255-0.21.h5\n",
            "9/9 [==============================] - 6s 710ms/step - loss: 0.2005 - acc: 0.9298 - val_loss: 0.2112 - val_acc: 0.9284\n",
            "Epoch 256/800\n",
            "4/9 [============>.................] - ETA: 3s - loss: 0.1996 - acc: 0.9298"
          ]
        },
        {
          "output_type": "stream",
          "name": "stderr",
          "text": [
            "[codecarbon INFO @ 16:14:01] Energy consumed for RAM : 0.002197 kWh. RAM Power : 4.753036022186279 W\n",
            "[codecarbon INFO @ 16:14:01] Energy consumed for all GPUs : 0.031662 kWh. Total GPU Power : 69.27452080847873 W\n",
            "[codecarbon INFO @ 16:14:01] Energy consumed for all CPUs : 0.019658 kWh. Total CPU Power : 42.5 W\n",
            "[codecarbon INFO @ 16:14:01] 0.053516 kWh of electricity used since the beginning.\n"
          ]
        },
        {
          "output_type": "stream",
          "name": "stdout",
          "text": [
            "9/9 [==============================] - ETA: 0s - loss: 0.1992 - acc: 0.9305\n",
            "Epoch 256: val_loss did not improve from 0.21120\n",
            "9/9 [==============================] - 6s 711ms/step - loss: 0.1992 - acc: 0.9305 - val_loss: 0.2179 - val_acc: 0.9297\n",
            "Epoch 257/800\n",
            "9/9 [==============================] - ETA: 0s - loss: 0.2012 - acc: 0.9295\n",
            "Epoch 257: val_loss did not improve from 0.21120\n",
            "9/9 [==============================] - 6s 701ms/step - loss: 0.2012 - acc: 0.9295 - val_loss: 0.2223 - val_acc: 0.9293\n",
            "Epoch 258/800\n",
            "8/9 [=========================>....] - ETA: 0s - loss: 0.2018 - acc: 0.9294"
          ]
        },
        {
          "output_type": "stream",
          "name": "stderr",
          "text": [
            "[codecarbon INFO @ 16:14:16] Energy consumed for RAM : 0.002217 kWh. RAM Power : 4.753036022186279 W\n",
            "[codecarbon INFO @ 16:14:16] Energy consumed for all GPUs : 0.031952 kWh. Total GPU Power : 69.79899962269707 W\n",
            "[codecarbon INFO @ 16:14:16] Energy consumed for all CPUs : 0.019835 kWh. Total CPU Power : 42.5 W\n",
            "[codecarbon INFO @ 16:14:16] 0.054004 kWh of electricity used since the beginning.\n",
            "[codecarbon INFO @ 16:14:16] 0.004470 g.CO2eq/s mean an estimation of 140.9724093859082 kg.CO2eq/year\n"
          ]
        },
        {
          "output_type": "stream",
          "name": "stdout",
          "text": [
            "\b\b\b\b\b\b\b\b\b\b\b\b\b\b\b\b\b\b\b\b\b\b\b\b\b\b\b\b\b\b\b\b\b\b\b\b\b\b\b\b\b\b\b\b\b\b\b\b\b\b\b\b\b\b\b\b\b\b\b\b\b\b\b\b\b\b\b\b\b\b\b\b\b\b\b\r9/9 [==============================] - ETA: 0s - loss: 0.2016 - acc: 0.9295\n",
            "Epoch 258: val_loss improved from 0.21120 to 0.20768, saving model to /content/drive/MyDrive/Model/initial_runs_20241202_1546/af_lstm_weights.258-0.21.h5\n",
            "9/9 [==============================] - 6s 724ms/step - loss: 0.2016 - acc: 0.9295 - val_loss: 0.2077 - val_acc: 0.9290\n",
            "Epoch 259/800\n",
            "9/9 [==============================] - ETA: 0s - loss: 0.2015 - acc: 0.9292\n",
            "Epoch 259: val_loss improved from 0.20768 to 0.20729, saving model to /content/drive/MyDrive/Model/initial_runs_20241202_1546/af_lstm_weights.259-0.21.h5\n",
            "9/9 [==============================] - 6s 709ms/step - loss: 0.2015 - acc: 0.9292 - val_loss: 0.2073 - val_acc: 0.9298\n",
            "Epoch 260/800\n",
            "9/9 [==============================] - ETA: 0s - loss: 0.1980 - acc: 0.9310\n",
            "Epoch 260: val_loss improved from 0.20729 to 0.20444, saving model to /content/drive/MyDrive/Model/initial_runs_20241202_1546/af_lstm_weights.260-0.20.h5\n",
            "9/9 [==============================] - 7s 733ms/step - loss: 0.1980 - acc: 0.9310 - val_loss: 0.2044 - val_acc: 0.9319\n",
            "Epoch 261/800\n",
            "1/9 [==>...........................] - ETA: 5s - loss: 0.1991 - acc: 0.9300"
          ]
        },
        {
          "output_type": "stream",
          "name": "stderr",
          "text": [
            "[codecarbon INFO @ 16:14:31] Energy consumed for RAM : 0.002236 kWh. RAM Power : 4.753036022186279 W\n",
            "[codecarbon INFO @ 16:14:31] Energy consumed for all GPUs : 0.032240 kWh. Total GPU Power : 69.0956211758208 W\n",
            "[codecarbon INFO @ 16:14:31] Energy consumed for all CPUs : 0.020012 kWh. Total CPU Power : 42.5 W\n",
            "[codecarbon INFO @ 16:14:31] 0.054488 kWh of electricity used since the beginning.\n"
          ]
        },
        {
          "output_type": "stream",
          "name": "stdout",
          "text": [
            "9/9 [==============================] - ETA: 0s - loss: 0.2014 - acc: 0.9293\n",
            "Epoch 261: val_loss did not improve from 0.20444\n",
            "9/9 [==============================] - 6s 705ms/step - loss: 0.2014 - acc: 0.9293 - val_loss: 0.2082 - val_acc: 0.9281\n",
            "Epoch 262/800\n",
            "9/9 [==============================] - ETA: 0s - loss: 0.1993 - acc: 0.9302\n",
            "Epoch 262: val_loss did not improve from 0.20444\n",
            "9/9 [==============================] - 6s 715ms/step - loss: 0.1993 - acc: 0.9302 - val_loss: 0.2085 - val_acc: 0.9313\n",
            "Epoch 263/800\n",
            "5/9 [===============>..............] - ETA: 2s - loss: 0.1980 - acc: 0.9307"
          ]
        },
        {
          "output_type": "stream",
          "name": "stderr",
          "text": [
            "[codecarbon INFO @ 16:14:46] Energy consumed for RAM : 0.002256 kWh. RAM Power : 4.753036022186279 W\n",
            "[codecarbon INFO @ 16:14:46] Energy consumed for all GPUs : 0.032531 kWh. Total GPU Power : 69.72103883244482 W\n",
            "[codecarbon INFO @ 16:14:46] Energy consumed for all CPUs : 0.020189 kWh. Total CPU Power : 42.5 W\n",
            "[codecarbon INFO @ 16:14:46] 0.054976 kWh of electricity used since the beginning.\n"
          ]
        },
        {
          "output_type": "stream",
          "name": "stdout",
          "text": [
            "9/9 [==============================] - ETA: 0s - loss: 0.1974 - acc: 0.9312\n",
            "Epoch 263: val_loss did not improve from 0.20444\n",
            "9/9 [==============================] - 6s 702ms/step - loss: 0.1974 - acc: 0.9312 - val_loss: 0.2068 - val_acc: 0.9312\n",
            "Epoch 264/800\n",
            "9/9 [==============================] - ETA: 0s - loss: 0.1973 - acc: 0.9313\n",
            "Epoch 264: val_loss did not improve from 0.20444\n",
            "9/9 [==============================] - 6s 711ms/step - loss: 0.1973 - acc: 0.9313 - val_loss: 0.2088 - val_acc: 0.9322\n",
            "Epoch 265/800\n",
            "9/9 [==============================] - ETA: 0s - loss: 0.1979 - acc: 0.9311"
          ]
        },
        {
          "output_type": "stream",
          "name": "stderr",
          "text": [
            "[codecarbon INFO @ 16:15:01] Energy consumed for RAM : 0.002276 kWh. RAM Power : 4.753036022186279 W\n",
            "[codecarbon INFO @ 16:15:01] Energy consumed for all GPUs : 0.032819 kWh. Total GPU Power : 69.32167216912895 W\n",
            "[codecarbon INFO @ 16:15:01] Energy consumed for all CPUs : 0.020366 kWh. Total CPU Power : 42.5 W\n",
            "[codecarbon INFO @ 16:15:01] 0.055461 kWh of electricity used since the beginning.\n"
          ]
        },
        {
          "output_type": "stream",
          "name": "stdout",
          "text": [
            "\n",
            "Epoch 265: val_loss did not improve from 0.20444\n",
            "9/9 [==============================] - 6s 704ms/step - loss: 0.1979 - acc: 0.9311 - val_loss: 0.2059 - val_acc: 0.9285\n",
            "Epoch 266/800\n",
            "9/9 [==============================] - ETA: 0s - loss: 0.1977 - acc: 0.9310\n",
            "Epoch 266: val_loss did not improve from 0.20444\n",
            "9/9 [==============================] - 6s 707ms/step - loss: 0.1977 - acc: 0.9310 - val_loss: 0.2054 - val_acc: 0.9309\n",
            "Epoch 267/800\n",
            "9/9 [==============================] - ETA: 0s - loss: 0.1959 - acc: 0.9320\n",
            "Epoch 267: val_loss did not improve from 0.20444\n",
            "9/9 [==============================] - 6s 707ms/step - loss: 0.1959 - acc: 0.9320 - val_loss: 0.2054 - val_acc: 0.9314\n",
            "Epoch 268/800\n",
            "2/9 [=====>........................] - ETA: 4s - loss: 0.1954 - acc: 0.9322"
          ]
        },
        {
          "output_type": "stream",
          "name": "stderr",
          "text": [
            "[codecarbon INFO @ 16:15:16] Energy consumed for RAM : 0.002296 kWh. RAM Power : 4.753036022186279 W\n",
            "[codecarbon INFO @ 16:15:16] Energy consumed for all GPUs : 0.033108 kWh. Total GPU Power : 69.32712120914422 W\n",
            "[codecarbon INFO @ 16:15:16] Energy consumed for all CPUs : 0.020543 kWh. Total CPU Power : 42.5 W\n",
            "[codecarbon INFO @ 16:15:16] 0.055947 kWh of electricity used since the beginning.\n"
          ]
        },
        {
          "output_type": "stream",
          "name": "stdout",
          "text": [
            "9/9 [==============================] - ETA: 0s - loss: 0.2026 - acc: 0.9284\n",
            "Epoch 268: val_loss did not improve from 0.20444\n",
            "9/9 [==============================] - 6s 702ms/step - loss: 0.2026 - acc: 0.9284 - val_loss: 0.2099 - val_acc: 0.9253\n",
            "Epoch 269/800\n",
            "9/9 [==============================] - ETA: 0s - loss: 0.1995 - acc: 0.9295\n",
            "Epoch 269: val_loss did not improve from 0.20444\n",
            "9/9 [==============================] - 6s 709ms/step - loss: 0.1995 - acc: 0.9295 - val_loss: 0.2100 - val_acc: 0.9316\n",
            "Epoch 270/800\n",
            "6/9 [===================>..........] - ETA: 1s - loss: 0.1956 - acc: 0.9316"
          ]
        },
        {
          "output_type": "stream",
          "name": "stderr",
          "text": [
            "[codecarbon INFO @ 16:15:31] Energy consumed for RAM : 0.002315 kWh. RAM Power : 4.753036022186279 W\n",
            "[codecarbon INFO @ 16:15:31] Energy consumed for all GPUs : 0.033397 kWh. Total GPU Power : 69.38610987328785 W\n",
            "[codecarbon INFO @ 16:15:31] Energy consumed for all CPUs : 0.020720 kWh. Total CPU Power : 42.5 W\n",
            "[codecarbon INFO @ 16:15:31] 0.056433 kWh of electricity used since the beginning.\n"
          ]
        },
        {
          "output_type": "stream",
          "name": "stdout",
          "text": [
            "9/9 [==============================] - ETA: 0s - loss: 0.1970 - acc: 0.9312\n",
            "Epoch 270: val_loss did not improve from 0.20444\n",
            "9/9 [==============================] - 6s 703ms/step - loss: 0.1970 - acc: 0.9312 - val_loss: 0.2063 - val_acc: 0.9301\n",
            "Epoch 271/800\n",
            "9/9 [==============================] - ETA: 0s - loss: 0.1994 - acc: 0.9297\n",
            "Epoch 271: val_loss did not improve from 0.20444\n",
            "9/9 [==============================] - 7s 799ms/step - loss: 0.1994 - acc: 0.9297 - val_loss: 0.2159 - val_acc: 0.9312\n",
            "Epoch 272/800\n",
            "9/9 [==============================] - ETA: 0s - loss: 0.1973 - acc: 0.9312"
          ]
        },
        {
          "output_type": "stream",
          "name": "stderr",
          "text": [
            "[codecarbon INFO @ 16:15:46] Energy consumed for RAM : 0.002335 kWh. RAM Power : 4.753036022186279 W\n",
            "[codecarbon INFO @ 16:15:46] Energy consumed for all GPUs : 0.033683 kWh. Total GPU Power : 68.5516434492846 W\n",
            "[codecarbon INFO @ 16:15:46] Energy consumed for all CPUs : 0.020897 kWh. Total CPU Power : 42.5 W\n",
            "[codecarbon INFO @ 16:15:46] 0.056915 kWh of electricity used since the beginning.\n"
          ]
        },
        {
          "output_type": "stream",
          "name": "stdout",
          "text": [
            "\n",
            "Epoch 272: val_loss improved from 0.20444 to 0.20417, saving model to /content/drive/MyDrive/Model/initial_runs_20241202_1546/af_lstm_weights.272-0.20.h5\n",
            "9/9 [==============================] - 6s 706ms/step - loss: 0.1973 - acc: 0.9312 - val_loss: 0.2042 - val_acc: 0.9305\n",
            "Epoch 273/800\n",
            "9/9 [==============================] - ETA: 0s - loss: 0.1952 - acc: 0.9322\n",
            "Epoch 273: val_loss did not improve from 0.20417\n",
            "9/9 [==============================] - 6s 719ms/step - loss: 0.1952 - acc: 0.9322 - val_loss: 0.2059 - val_acc: 0.9328\n",
            "Epoch 274/800\n",
            "9/9 [==============================] - ETA: 0s - loss: 0.1937 - acc: 0.9327\n",
            "Epoch 274: val_loss improved from 0.20417 to 0.20244, saving model to /content/drive/MyDrive/Model/initial_runs_20241202_1546/af_lstm_weights.274-0.20.h5\n",
            "9/9 [==============================] - 6s 709ms/step - loss: 0.1937 - acc: 0.9327 - val_loss: 0.2024 - val_acc: 0.9331\n",
            "Epoch 275/800\n",
            "3/9 [=========>....................] - ETA: 3s - loss: 0.1931 - acc: 0.9330"
          ]
        },
        {
          "output_type": "stream",
          "name": "stderr",
          "text": [
            "[codecarbon INFO @ 16:16:01] Energy consumed for RAM : 0.002355 kWh. RAM Power : 4.753036022186279 W\n",
            "[codecarbon INFO @ 16:16:01] Energy consumed for all GPUs : 0.033971 kWh. Total GPU Power : 69.3270736120178 W\n",
            "[codecarbon INFO @ 16:16:01] Energy consumed for all CPUs : 0.021074 kWh. Total CPU Power : 42.5 W\n",
            "[codecarbon INFO @ 16:16:01] 0.057401 kWh of electricity used since the beginning.\n"
          ]
        },
        {
          "output_type": "stream",
          "name": "stdout",
          "text": [
            "9/9 [==============================] - ETA: 0s - loss: 0.1937 - acc: 0.9327\n",
            "Epoch 275: val_loss did not improve from 0.20244\n",
            "9/9 [==============================] - 7s 799ms/step - loss: 0.1937 - acc: 0.9327 - val_loss: 0.2085 - val_acc: 0.9325\n",
            "Epoch 276/800\n",
            "9/9 [==============================] - ETA: 0s - loss: 0.2093 - acc: 0.9249\n",
            "Epoch 276: val_loss did not improve from 0.20244\n",
            "9/9 [==============================] - 6s 701ms/step - loss: 0.2093 - acc: 0.9249 - val_loss: 0.2264 - val_acc: 0.9285\n",
            "Epoch 277/800\n",
            "5/9 [===============>..............] - ETA: 2s - loss: 0.2002 - acc: 0.9300"
          ]
        },
        {
          "output_type": "stream",
          "name": "stderr",
          "text": [
            "[codecarbon INFO @ 16:16:16] Energy consumed for RAM : 0.002375 kWh. RAM Power : 4.753036022186279 W\n",
            "[codecarbon INFO @ 16:16:16] Energy consumed for all GPUs : 0.034255 kWh. Total GPU Power : 68.20714630793225 W\n",
            "[codecarbon INFO @ 16:16:16] Energy consumed for all CPUs : 0.021251 kWh. Total CPU Power : 42.5 W\n",
            "[codecarbon INFO @ 16:16:16] 0.057881 kWh of electricity used since the beginning.\n",
            "[codecarbon INFO @ 16:16:16] 0.004482 g.CO2eq/s mean an estimation of 141.337399560392 kg.CO2eq/year\n"
          ]
        },
        {
          "output_type": "stream",
          "name": "stdout",
          "text": [
            "9/9 [==============================] - ETA: 0s - loss: 0.1992 - acc: 0.9299\n",
            "Epoch 277: val_loss did not improve from 0.20244\n",
            "9/9 [==============================] - 7s 798ms/step - loss: 0.1992 - acc: 0.9299 - val_loss: 0.2101 - val_acc: 0.9309\n",
            "Epoch 278/800\n",
            "9/9 [==============================] - ETA: 0s - loss: 0.1950 - acc: 0.9319\n",
            "Epoch 278: val_loss did not improve from 0.20244\n",
            "9/9 [==============================] - 6s 701ms/step - loss: 0.1950 - acc: 0.9319 - val_loss: 0.2046 - val_acc: 0.9318\n",
            "Epoch 279/800\n",
            "8/9 [=========================>....] - ETA: 0s - loss: 0.1932 - acc: 0.9330"
          ]
        },
        {
          "output_type": "stream",
          "name": "stderr",
          "text": [
            "[codecarbon INFO @ 16:16:31] Energy consumed for RAM : 0.002395 kWh. RAM Power : 4.753036022186279 W\n",
            "[codecarbon INFO @ 16:16:31] Energy consumed for all GPUs : 0.034541 kWh. Total GPU Power : 68.51957391628086 W\n",
            "[codecarbon INFO @ 16:16:31] Energy consumed for all CPUs : 0.021429 kWh. Total CPU Power : 42.5 W\n",
            "[codecarbon INFO @ 16:16:31] 0.058364 kWh of electricity used since the beginning.\n"
          ]
        },
        {
          "output_type": "stream",
          "name": "stdout",
          "text": [
            "\b\b\b\b\b\b\b\b\b\b\b\b\b\b\b\b\b\b\b\b\b\b\b\b\b\b\b\b\b\b\b\b\b\b\b\b\b\b\b\b\b\b\b\b\b\b\b\b\b\b\b\b\b\b\b\b\b\b\b\b\b\b\b\b\b\b\b\b\b\b\b\b\b\b\b\r9/9 [==============================] - ETA: 0s - loss: 0.1931 - acc: 0.9330\n",
            "Epoch 279: val_loss did not improve from 0.20244\n",
            "9/9 [==============================] - 7s 800ms/step - loss: 0.1931 - acc: 0.9330 - val_loss: 0.2038 - val_acc: 0.9329\n",
            "Epoch 280/800\n",
            "9/9 [==============================] - ETA: 0s - loss: 0.1934 - acc: 0.9329\n",
            "Epoch 280: val_loss improved from 0.20244 to 0.20076, saving model to /content/drive/MyDrive/Model/initial_runs_20241202_1546/af_lstm_weights.280-0.20.h5\n",
            "9/9 [==============================] - 6s 710ms/step - loss: 0.1934 - acc: 0.9329 - val_loss: 0.2008 - val_acc: 0.9328\n",
            "Epoch 281/800\n",
            "9/9 [==============================] - ETA: 0s - loss: 0.1933 - acc: 0.9331"
          ]
        },
        {
          "output_type": "stream",
          "name": "stderr",
          "text": [
            "[codecarbon INFO @ 16:16:46] Energy consumed for RAM : 0.002414 kWh. RAM Power : 4.753036022186279 W\n",
            "[codecarbon INFO @ 16:16:46] Energy consumed for all GPUs : 0.034820 kWh. Total GPU Power : 66.9585209369144 W\n",
            "[codecarbon INFO @ 16:16:46] Energy consumed for all CPUs : 0.021606 kWh. Total CPU Power : 42.5 W\n",
            "[codecarbon INFO @ 16:16:46] 0.058840 kWh of electricity used since the beginning.\n"
          ]
        },
        {
          "output_type": "stream",
          "name": "stdout",
          "text": [
            "\n",
            "Epoch 281: val_loss improved from 0.20076 to 0.19884, saving model to /content/drive/MyDrive/Model/initial_runs_20241202_1546/af_lstm_weights.281-0.20.h5\n",
            "9/9 [==============================] - 7s 806ms/step - loss: 0.1933 - acc: 0.9331 - val_loss: 0.1988 - val_acc: 0.9309\n",
            "Epoch 282/800\n",
            "9/9 [==============================] - ETA: 0s - loss: 0.1951 - acc: 0.9318\n",
            "Epoch 282: val_loss did not improve from 0.19884\n",
            "9/9 [==============================] - 6s 702ms/step - loss: 0.1951 - acc: 0.9318 - val_loss: 0.1992 - val_acc: 0.9316\n",
            "Epoch 283/800\n",
            "9/9 [==============================] - ETA: 0s - loss: 0.1919 - acc: 0.9332\n",
            "Epoch 283: val_loss did not improve from 0.19884\n",
            "9/9 [==============================] - 6s 718ms/step - loss: 0.1919 - acc: 0.9332 - val_loss: 0.1998 - val_acc: 0.9342\n",
            "Epoch 284/800\n",
            "3/9 [=========>....................] - ETA: 3s - loss: 0.1924 - acc: 0.9336"
          ]
        },
        {
          "output_type": "stream",
          "name": "stderr",
          "text": [
            "[codecarbon INFO @ 16:17:01] Energy consumed for RAM : 0.002434 kWh. RAM Power : 4.753036022186279 W\n",
            "[codecarbon INFO @ 16:17:01] Energy consumed for all GPUs : 0.035109 kWh. Total GPU Power : 69.59473132650119 W\n",
            "[codecarbon INFO @ 16:17:01] Energy consumed for all CPUs : 0.021783 kWh. Total CPU Power : 42.5 W\n",
            "[codecarbon INFO @ 16:17:01] 0.059326 kWh of electricity used since the beginning.\n"
          ]
        },
        {
          "output_type": "stream",
          "name": "stdout",
          "text": [
            "9/9 [==============================] - ETA: 0s - loss: 0.1920 - acc: 0.9334\n",
            "Epoch 284: val_loss did not improve from 0.19884\n",
            "9/9 [==============================] - 6s 706ms/step - loss: 0.1920 - acc: 0.9334 - val_loss: 0.2064 - val_acc: 0.9329\n",
            "Epoch 285/800\n",
            "9/9 [==============================] - ETA: 0s - loss: 0.1921 - acc: 0.9334\n",
            "Epoch 285: val_loss did not improve from 0.19884\n",
            "9/9 [==============================] - 7s 795ms/step - loss: 0.1921 - acc: 0.9334 - val_loss: 0.2077 - val_acc: 0.9318\n",
            "Epoch 286/800\n",
            "6/9 [===================>..........] - ETA: 1s - loss: 0.1918 - acc: 0.9339"
          ]
        },
        {
          "output_type": "stream",
          "name": "stderr",
          "text": [
            "[codecarbon INFO @ 16:17:16] Energy consumed for RAM : 0.002454 kWh. RAM Power : 4.753036022186279 W\n",
            "[codecarbon INFO @ 16:17:16] Energy consumed for all GPUs : 0.035393 kWh. Total GPU Power : 68.15629228062014 W\n",
            "[codecarbon INFO @ 16:17:16] Energy consumed for all CPUs : 0.021960 kWh. Total CPU Power : 42.5 W\n",
            "[codecarbon INFO @ 16:17:16] 0.059807 kWh of electricity used since the beginning.\n"
          ]
        },
        {
          "output_type": "stream",
          "name": "stdout",
          "text": [
            "9/9 [==============================] - ETA: 0s - loss: 0.1921 - acc: 0.9336\n",
            "Epoch 286: val_loss did not improve from 0.19884\n",
            "9/9 [==============================] - 6s 705ms/step - loss: 0.1921 - acc: 0.9336 - val_loss: 0.2122 - val_acc: 0.9310\n",
            "Epoch 287/800\n",
            "9/9 [==============================] - ETA: 0s - loss: 0.2016 - acc: 0.9288\n",
            "Epoch 287: val_loss did not improve from 0.19884\n",
            "9/9 [==============================] - 6s 715ms/step - loss: 0.2016 - acc: 0.9288 - val_loss: 0.2068 - val_acc: 0.9322\n",
            "Epoch 288/800\n",
            "9/9 [==============================] - ETA: 0s - loss: 0.1932 - acc: 0.9326"
          ]
        },
        {
          "output_type": "stream",
          "name": "stderr",
          "text": [
            "[codecarbon INFO @ 16:17:31] Energy consumed for RAM : 0.002474 kWh. RAM Power : 4.753036022186279 W\n",
            "[codecarbon INFO @ 16:17:31] Energy consumed for all GPUs : 0.035682 kWh. Total GPU Power : 69.31490258178071 W\n",
            "[codecarbon INFO @ 16:17:31] Energy consumed for all CPUs : 0.022137 kWh. Total CPU Power : 42.5 W\n",
            "[codecarbon INFO @ 16:17:31] 0.060292 kWh of electricity used since the beginning.\n"
          ]
        },
        {
          "output_type": "stream",
          "name": "stdout",
          "text": [
            "\n",
            "Epoch 288: val_loss improved from 0.19884 to 0.19765, saving model to /content/drive/MyDrive/Model/initial_runs_20241202_1546/af_lstm_weights.288-0.20.h5\n",
            "9/9 [==============================] - 6s 710ms/step - loss: 0.1932 - acc: 0.9326 - val_loss: 0.1976 - val_acc: 0.9343\n",
            "Epoch 289/800\n",
            "9/9 [==============================] - ETA: 0s - loss: 0.1910 - acc: 0.9339\n",
            "Epoch 289: val_loss improved from 0.19765 to 0.19416, saving model to /content/drive/MyDrive/Model/initial_runs_20241202_1546/af_lstm_weights.289-0.19.h5\n",
            "9/9 [==============================] - 6s 710ms/step - loss: 0.1910 - acc: 0.9339 - val_loss: 0.1942 - val_acc: 0.9354\n",
            "Epoch 290/800\n",
            "9/9 [==============================] - ETA: 0s - loss: 0.1909 - acc: 0.9339\n",
            "Epoch 290: val_loss did not improve from 0.19416\n",
            "9/9 [==============================] - 6s 710ms/step - loss: 0.1909 - acc: 0.9339 - val_loss: 0.1950 - val_acc: 0.9349\n",
            "Epoch 291/800\n",
            "3/9 [=========>....................] - ETA: 3s - loss: 0.1908 - acc: 0.9336"
          ]
        },
        {
          "output_type": "stream",
          "name": "stderr",
          "text": [
            "[codecarbon INFO @ 16:17:46] Energy consumed for RAM : 0.002494 kWh. RAM Power : 4.753036022186279 W\n",
            "[codecarbon INFO @ 16:17:46] Energy consumed for all GPUs : 0.035970 kWh. Total GPU Power : 69.16612024909656 W\n",
            "[codecarbon INFO @ 16:17:46] Energy consumed for all CPUs : 0.022314 kWh. Total CPU Power : 42.5 W\n",
            "[codecarbon INFO @ 16:17:46] 0.060777 kWh of electricity used since the beginning.\n"
          ]
        },
        {
          "output_type": "stream",
          "name": "stdout",
          "text": [
            "9/9 [==============================] - ETA: 0s - loss: 0.1909 - acc: 0.9339\n",
            "Epoch 291: val_loss improved from 0.19416 to 0.19349, saving model to /content/drive/MyDrive/Model/initial_runs_20241202_1546/af_lstm_weights.291-0.19.h5\n",
            "9/9 [==============================] - 7s 789ms/step - loss: 0.1909 - acc: 0.9339 - val_loss: 0.1935 - val_acc: 0.9352\n",
            "Epoch 292/800\n",
            "9/9 [==============================] - ETA: 0s - loss: 0.1899 - acc: 0.9345\n",
            "Epoch 292: val_loss improved from 0.19349 to 0.19297, saving model to /content/drive/MyDrive/Model/initial_runs_20241202_1546/af_lstm_weights.292-0.19.h5\n",
            "9/9 [==============================] - 6s 719ms/step - loss: 0.1899 - acc: 0.9345 - val_loss: 0.1930 - val_acc: 0.9350\n",
            "Epoch 293/800\n",
            "5/9 [===============>..............] - ETA: 2s - loss: 0.1903 - acc: 0.9342"
          ]
        },
        {
          "output_type": "stream",
          "name": "stderr",
          "text": [
            "[codecarbon INFO @ 16:18:01] Energy consumed for RAM : 0.002513 kWh. RAM Power : 4.753036022186279 W\n",
            "[codecarbon INFO @ 16:18:01] Energy consumed for all GPUs : 0.036255 kWh. Total GPU Power : 68.53164300817089 W\n",
            "[codecarbon INFO @ 16:18:01] Energy consumed for all CPUs : 0.022491 kWh. Total CPU Power : 42.5 W\n",
            "[codecarbon INFO @ 16:18:01] 0.061259 kWh of electricity used since the beginning.\n"
          ]
        },
        {
          "output_type": "stream",
          "name": "stdout",
          "text": [
            "9/9 [==============================] - ETA: 0s - loss: 0.1907 - acc: 0.9339\n",
            "Epoch 293: val_loss improved from 0.19297 to 0.19257, saving model to /content/drive/MyDrive/Model/initial_runs_20241202_1546/af_lstm_weights.293-0.19.h5\n",
            "9/9 [==============================] - 6s 709ms/step - loss: 0.1907 - acc: 0.9339 - val_loss: 0.1926 - val_acc: 0.9344\n",
            "Epoch 294/800\n",
            "9/9 [==============================] - ETA: 0s - loss: 0.1895 - acc: 0.9344\n",
            "Epoch 294: val_loss did not improve from 0.19257\n",
            "9/9 [==============================] - 6s 714ms/step - loss: 0.1895 - acc: 0.9344 - val_loss: 0.1943 - val_acc: 0.9327\n",
            "Epoch 295/800\n",
            "9/9 [==============================] - ETA: 0s - loss: 0.1926 - acc: 0.9328"
          ]
        },
        {
          "output_type": "stream",
          "name": "stderr",
          "text": [
            "[codecarbon INFO @ 16:18:16] Energy consumed for RAM : 0.002533 kWh. RAM Power : 4.753036022186279 W\n",
            "[codecarbon INFO @ 16:18:16] Energy consumed for all GPUs : 0.036544 kWh. Total GPU Power : 69.26218400096582 W\n",
            "[codecarbon INFO @ 16:18:16] Energy consumed for all CPUs : 0.022668 kWh. Total CPU Power : 42.5 W\n",
            "[codecarbon INFO @ 16:18:16] 0.061745 kWh of electricity used since the beginning.\n",
            "[codecarbon INFO @ 16:18:16] 0.004466 g.CO2eq/s mean an estimation of 140.8404536813554 kg.CO2eq/year\n"
          ]
        },
        {
          "output_type": "stream",
          "name": "stdout",
          "text": [
            "\n",
            "Epoch 295: val_loss did not improve from 0.19257\n",
            "9/9 [==============================] - 6s 699ms/step - loss: 0.1926 - acc: 0.9328 - val_loss: 0.1955 - val_acc: 0.9332\n",
            "Epoch 296/800\n",
            "9/9 [==============================] - ETA: 0s - loss: 0.1912 - acc: 0.9335\n",
            "Epoch 296: val_loss did not improve from 0.19257\n",
            "9/9 [==============================] - 6s 712ms/step - loss: 0.1912 - acc: 0.9335 - val_loss: 0.1988 - val_acc: 0.9341\n",
            "Epoch 297/800\n",
            "9/9 [==============================] - ETA: 0s - loss: 0.1938 - acc: 0.9320\n",
            "Epoch 297: val_loss did not improve from 0.19257\n",
            "9/9 [==============================] - 6s 699ms/step - loss: 0.1938 - acc: 0.9320 - val_loss: 0.2052 - val_acc: 0.9343\n",
            "Epoch 298/800\n",
            "3/9 [=========>....................] - ETA: 3s - loss: 0.1938 - acc: 0.9326"
          ]
        },
        {
          "output_type": "stream",
          "name": "stderr",
          "text": [
            "[codecarbon INFO @ 16:18:31] Energy consumed for RAM : 0.002553 kWh. RAM Power : 4.753036022186279 W\n",
            "[codecarbon INFO @ 16:18:31] Energy consumed for all GPUs : 0.036833 kWh. Total GPU Power : 69.41203805670527 W\n",
            "[codecarbon INFO @ 16:18:31] Energy consumed for all CPUs : 0.022845 kWh. Total CPU Power : 42.5 W\n",
            "[codecarbon INFO @ 16:18:31] 0.062231 kWh of electricity used since the beginning.\n"
          ]
        },
        {
          "output_type": "stream",
          "name": "stdout",
          "text": [
            "9/9 [==============================] - ETA: 0s - loss: 0.1917 - acc: 0.9333\n",
            "Epoch 298: val_loss did not improve from 0.19257\n",
            "9/9 [==============================] - 7s 806ms/step - loss: 0.1917 - acc: 0.9333 - val_loss: 0.1946 - val_acc: 0.9336\n",
            "Epoch 299/800\n",
            "9/9 [==============================] - ETA: 0s - loss: 0.1905 - acc: 0.9338\n",
            "Epoch 299: val_loss did not improve from 0.19257\n",
            "9/9 [==============================] - 6s 702ms/step - loss: 0.1905 - acc: 0.9338 - val_loss: 0.1938 - val_acc: 0.9337\n",
            "Epoch 300/800\n",
            "6/9 [===================>..........] - ETA: 1s - loss: 0.1889 - acc: 0.9345"
          ]
        },
        {
          "output_type": "stream",
          "name": "stderr",
          "text": [
            "[codecarbon INFO @ 16:18:46] Energy consumed for RAM : 0.002573 kWh. RAM Power : 4.753036022186279 W\n",
            "[codecarbon INFO @ 16:18:46] Energy consumed for all GPUs : 0.037118 kWh. Total GPU Power : 68.42286472394217 W\n",
            "[codecarbon INFO @ 16:18:46] Energy consumed for all CPUs : 0.023022 kWh. Total CPU Power : 42.5 W\n",
            "[codecarbon INFO @ 16:18:46] 0.062713 kWh of electricity used since the beginning.\n"
          ]
        },
        {
          "output_type": "stream",
          "name": "stdout",
          "text": [
            "9/9 [==============================] - ETA: 0s - loss: 0.1892 - acc: 0.9344\n",
            "Epoch 300: val_loss did not improve from 0.19257\n",
            "9/9 [==============================] - 7s 800ms/step - loss: 0.1892 - acc: 0.9344 - val_loss: 0.1934 - val_acc: 0.9340\n",
            "Epoch 301/800\n",
            "9/9 [==============================] - ETA: 0s - loss: 0.1899 - acc: 0.9341\n",
            "Epoch 301: val_loss did not improve from 0.19257\n",
            "9/9 [==============================] - 6s 700ms/step - loss: 0.1899 - acc: 0.9341 - val_loss: 0.1973 - val_acc: 0.9355\n",
            "Epoch 302/800\n",
            "8/9 [=========================>....] - ETA: 0s - loss: 0.1930 - acc: 0.9329"
          ]
        },
        {
          "output_type": "stream",
          "name": "stderr",
          "text": [
            "[codecarbon INFO @ 16:19:01] Energy consumed for RAM : 0.002593 kWh. RAM Power : 4.753036022186279 W\n",
            "[codecarbon INFO @ 16:19:01] Energy consumed for all GPUs : 0.037402 kWh. Total GPU Power : 68.2095476362006 W\n",
            "[codecarbon INFO @ 16:19:01] Energy consumed for all CPUs : 0.023199 kWh. Total CPU Power : 42.5 W\n",
            "[codecarbon INFO @ 16:19:01] 0.063194 kWh of electricity used since the beginning.\n"
          ]
        },
        {
          "output_type": "stream",
          "name": "stdout",
          "text": [
            "\b\b\b\b\b\b\b\b\b\b\b\b\b\b\b\b\b\b\b\b\b\b\b\b\b\b\b\b\b\b\b\b\b\b\b\b\b\b\b\b\b\b\b\b\b\b\b\b\b\b\b\b\b\b\b\b\b\b\b\b\b\b\b\b\b\b\b\b\b\b\b\b\b\b\b\r9/9 [==============================] - ETA: 0s - loss: 0.1929 - acc: 0.9328\n",
            "Epoch 302: val_loss did not improve from 0.19257\n",
            "9/9 [==============================] - 7s 802ms/step - loss: 0.1929 - acc: 0.9328 - val_loss: 0.1976 - val_acc: 0.9351\n",
            "Epoch 303/800\n",
            "9/9 [==============================] - ETA: 0s - loss: 0.1875 - acc: 0.9353\n",
            "Epoch 303: val_loss improved from 0.19257 to 0.19222, saving model to /content/drive/MyDrive/Model/initial_runs_20241202_1546/af_lstm_weights.303-0.19.h5\n",
            "9/9 [==============================] - 6s 707ms/step - loss: 0.1875 - acc: 0.9353 - val_loss: 0.1922 - val_acc: 0.9343\n",
            "Epoch 304/800\n",
            "9/9 [==============================] - ETA: 0s - loss: 0.1898 - acc: 0.9340\n",
            "Epoch 304: val_loss did not improve from 0.19222\n",
            "9/9 [==============================] - 6s 719ms/step - loss: 0.1898 - acc: 0.9340 - val_loss: 0.1923 - val_acc: 0.9334\n",
            "Epoch 305/800\n",
            "1/9 [==>...........................] - ETA: 5s - loss: 0.1894 - acc: 0.9324"
          ]
        },
        {
          "output_type": "stream",
          "name": "stderr",
          "text": [
            "[codecarbon INFO @ 16:19:16] Energy consumed for RAM : 0.002612 kWh. RAM Power : 4.753036022186279 W\n",
            "[codecarbon INFO @ 16:19:16] Energy consumed for all GPUs : 0.037685 kWh. Total GPU Power : 68.08313465827202 W\n",
            "[codecarbon INFO @ 16:19:16] Energy consumed for all CPUs : 0.023376 kWh. Total CPU Power : 42.5 W\n",
            "[codecarbon INFO @ 16:19:16] 0.063674 kWh of electricity used since the beginning.\n"
          ]
        },
        {
          "output_type": "stream",
          "name": "stdout",
          "text": [
            "9/9 [==============================] - ETA: 0s - loss: 0.1896 - acc: 0.9340\n",
            "Epoch 305: val_loss did not improve from 0.19222\n",
            "9/9 [==============================] - 6s 701ms/step - loss: 0.1896 - acc: 0.9340 - val_loss: 0.1962 - val_acc: 0.9366\n",
            "Epoch 306/800\n",
            "9/9 [==============================] - ETA: 0s - loss: 0.1897 - acc: 0.9343\n",
            "Epoch 306: val_loss did not improve from 0.19222\n",
            "9/9 [==============================] - 7s 792ms/step - loss: 0.1897 - acc: 0.9343 - val_loss: 0.1935 - val_acc: 0.9360\n",
            "Epoch 307/800\n",
            "4/9 [============>.................] - ETA: 3s - loss: 0.1869 - acc: 0.9357"
          ]
        },
        {
          "output_type": "stream",
          "name": "stderr",
          "text": [
            "[codecarbon INFO @ 16:19:31] Energy consumed for RAM : 0.002632 kWh. RAM Power : 4.753036022186279 W\n",
            "[codecarbon INFO @ 16:19:31] Energy consumed for all GPUs : 0.037971 kWh. Total GPU Power : 68.66079995441821 W\n",
            "[codecarbon INFO @ 16:19:31] Energy consumed for all CPUs : 0.023553 kWh. Total CPU Power : 42.5 W\n",
            "[codecarbon INFO @ 16:19:31] 0.064157 kWh of electricity used since the beginning.\n"
          ]
        },
        {
          "output_type": "stream",
          "name": "stdout",
          "text": [
            "9/9 [==============================] - ETA: 0s - loss: 0.1871 - acc: 0.9354\n",
            "Epoch 307: val_loss improved from 0.19222 to 0.19089, saving model to /content/drive/MyDrive/Model/initial_runs_20241202_1546/af_lstm_weights.307-0.19.h5\n",
            "9/9 [==============================] - 6s 706ms/step - loss: 0.1871 - acc: 0.9354 - val_loss: 0.1909 - val_acc: 0.9350\n",
            "Epoch 308/800\n",
            "9/9 [==============================] - ETA: 0s - loss: 0.1890 - acc: 0.9343\n",
            "Epoch 308: val_loss did not improve from 0.19089\n",
            "9/9 [==============================] - 7s 733ms/step - loss: 0.1890 - acc: 0.9343 - val_loss: 0.1921 - val_acc: 0.9338\n",
            "Epoch 309/800\n",
            "7/9 [======================>.......] - ETA: 1s - loss: 0.1890 - acc: 0.9344"
          ]
        },
        {
          "output_type": "stream",
          "name": "stderr",
          "text": [
            "[codecarbon INFO @ 16:19:46] Energy consumed for RAM : 0.002652 kWh. RAM Power : 4.753036022186279 W\n",
            "[codecarbon INFO @ 16:19:46] Energy consumed for all GPUs : 0.038259 kWh. Total GPU Power : 69.12933224440735 W\n",
            "[codecarbon INFO @ 16:19:46] Energy consumed for all CPUs : 0.023731 kWh. Total CPU Power : 42.5 W\n",
            "[codecarbon INFO @ 16:19:46] 0.064642 kWh of electricity used since the beginning.\n"
          ]
        },
        {
          "output_type": "stream",
          "name": "stdout",
          "text": [
            "9/9 [==============================] - ETA: 0s - loss: 0.1884 - acc: 0.9345\n",
            "Epoch 309: val_loss did not improve from 0.19089\n",
            "9/9 [==============================] - 6s 709ms/step - loss: 0.1884 - acc: 0.9345 - val_loss: 0.1953 - val_acc: 0.9362\n",
            "Epoch 310/800\n",
            "9/9 [==============================] - ETA: 0s - loss: 0.1875 - acc: 0.9353\n",
            "Epoch 310: val_loss did not improve from 0.19089\n",
            "9/9 [==============================] - 6s 702ms/step - loss: 0.1875 - acc: 0.9353 - val_loss: 0.1921 - val_acc: 0.9365\n",
            "Epoch 311/800\n",
            "9/9 [==============================] - ETA: 0s - loss: 0.1855 - acc: 0.9362\n",
            "Epoch 311: val_loss improved from 0.19089 to 0.18910, saving model to /content/drive/MyDrive/Model/initial_runs_20241202_1546/af_lstm_weights.311-0.19.h5\n",
            "9/9 [==============================] - 6s 715ms/step - loss: 0.1855 - acc: 0.9362 - val_loss: 0.1891 - val_acc: 0.9359\n",
            "Epoch 312/800\n",
            "1/9 [==>...........................] - ETA: 5s - loss: 0.1854 - acc: 0.9356"
          ]
        },
        {
          "output_type": "stream",
          "name": "stderr",
          "text": [
            "[codecarbon INFO @ 16:20:01] Energy consumed for RAM : 0.002672 kWh. RAM Power : 4.753036022186279 W\n",
            "[codecarbon INFO @ 16:20:01] Energy consumed for all GPUs : 0.038548 kWh. Total GPU Power : 69.34040304376954 W\n",
            "[codecarbon INFO @ 16:20:01] Energy consumed for all CPUs : 0.023908 kWh. Total CPU Power : 42.5 W\n",
            "[codecarbon INFO @ 16:20:01] 0.065127 kWh of electricity used since the beginning.\n"
          ]
        },
        {
          "output_type": "stream",
          "name": "stdout",
          "text": [
            "9/9 [==============================] - ETA: 0s - loss: 0.1889 - acc: 0.9343\n",
            "Epoch 312: val_loss did not improve from 0.18910\n",
            "9/9 [==============================] - 6s 702ms/step - loss: 0.1889 - acc: 0.9343 - val_loss: 0.1992 - val_acc: 0.9358\n",
            "Epoch 313/800\n",
            "9/9 [==============================] - ETA: 0s - loss: 0.1878 - acc: 0.9350\n",
            "Epoch 313: val_loss did not improve from 0.18910\n",
            "9/9 [==============================] - 6s 708ms/step - loss: 0.1878 - acc: 0.9350 - val_loss: 0.1909 - val_acc: 0.9370\n",
            "Epoch 314/800\n",
            "4/9 [============>.................] - ETA: 3s - loss: 0.1855 - acc: 0.9359"
          ]
        },
        {
          "output_type": "stream",
          "name": "stderr",
          "text": [
            "[codecarbon INFO @ 16:20:16] Energy consumed for RAM : 0.002691 kWh. RAM Power : 4.753036022186279 W\n",
            "[codecarbon INFO @ 16:20:16] Energy consumed for all GPUs : 0.038839 kWh. Total GPU Power : 69.80721209444437 W\n",
            "[codecarbon INFO @ 16:20:16] Energy consumed for all CPUs : 0.024085 kWh. Total CPU Power : 42.5 W\n",
            "[codecarbon INFO @ 16:20:16] 0.065615 kWh of electricity used since the beginning.\n",
            "[codecarbon INFO @ 16:20:16] 0.004472 g.CO2eq/s mean an estimation of 141.03821838530857 kg.CO2eq/year\n"
          ]
        },
        {
          "output_type": "stream",
          "name": "stdout",
          "text": [
            "9/9 [==============================] - ETA: 0s - loss: 0.1855 - acc: 0.9360\n",
            "Epoch 314: val_loss improved from 0.18910 to 0.18825, saving model to /content/drive/MyDrive/Model/initial_runs_20241202_1546/af_lstm_weights.314-0.19.h5\n",
            "9/9 [==============================] - 6s 709ms/step - loss: 0.1855 - acc: 0.9360 - val_loss: 0.1883 - val_acc: 0.9360\n",
            "Epoch 315/800\n",
            "9/9 [==============================] - ETA: 0s - loss: 0.1849 - acc: 0.9364\n",
            "Epoch 315: val_loss did not improve from 0.18825\n",
            "9/9 [==============================] - 6s 709ms/step - loss: 0.1849 - acc: 0.9364 - val_loss: 0.1887 - val_acc: 0.9372\n",
            "Epoch 316/800\n",
            "9/9 [==============================] - ETA: 0s - loss: 0.1843 - acc: 0.9367"
          ]
        },
        {
          "output_type": "stream",
          "name": "stderr",
          "text": [
            "[codecarbon INFO @ 16:20:31] Energy consumed for RAM : 0.002711 kWh. RAM Power : 4.753036022186279 W\n",
            "[codecarbon INFO @ 16:20:31] Energy consumed for all GPUs : 0.039128 kWh. Total GPU Power : 69.4055405115831 W\n",
            "[codecarbon INFO @ 16:20:31] Energy consumed for all CPUs : 0.024262 kWh. Total CPU Power : 42.5 W\n",
            "[codecarbon INFO @ 16:20:31] 0.066101 kWh of electricity used since the beginning.\n"
          ]
        },
        {
          "output_type": "stream",
          "name": "stdout",
          "text": [
            "\n",
            "Epoch 316: val_loss did not improve from 0.18825\n",
            "9/9 [==============================] - 6s 702ms/step - loss: 0.1843 - acc: 0.9367 - val_loss: 0.1888 - val_acc: 0.9377\n",
            "Epoch 317/800\n",
            "9/9 [==============================] - ETA: 0s - loss: 0.2357 - acc: 0.9111\n",
            "Epoch 317: val_loss did not improve from 0.18825\n",
            "9/9 [==============================] - 6s 716ms/step - loss: 0.2357 - acc: 0.9111 - val_loss: 0.2177 - val_acc: 0.9314\n",
            "Epoch 318/800\n",
            "9/9 [==============================] - ETA: 0s - loss: 0.2234 - acc: 0.9166\n",
            "Epoch 318: val_loss did not improve from 0.18825\n",
            "9/9 [==============================] - 7s 781ms/step - loss: 0.2234 - acc: 0.9166 - val_loss: 0.2659 - val_acc: 0.9170\n",
            "Epoch 319/800\n",
            "1/9 [==>...........................] - ETA: 5s - loss: 0.2314 - acc: 0.9147"
          ]
        },
        {
          "output_type": "stream",
          "name": "stderr",
          "text": [
            "[codecarbon INFO @ 16:20:46] Energy consumed for RAM : 0.002731 kWh. RAM Power : 4.753036022186279 W\n",
            "[codecarbon INFO @ 16:20:46] Energy consumed for all GPUs : 0.039411 kWh. Total GPU Power : 68.07096259622718 W\n",
            "[codecarbon INFO @ 16:20:46] Energy consumed for all CPUs : 0.024439 kWh. Total CPU Power : 42.5 W\n",
            "[codecarbon INFO @ 16:20:46] 0.066581 kWh of electricity used since the beginning.\n"
          ]
        },
        {
          "output_type": "stream",
          "name": "stdout",
          "text": [
            "9/9 [==============================] - ETA: 0s - loss: 0.2095 - acc: 0.9231\n",
            "Epoch 319: val_loss did not improve from 0.18825\n",
            "9/9 [==============================] - 7s 798ms/step - loss: 0.2095 - acc: 0.9231 - val_loss: 0.2120 - val_acc: 0.9281\n",
            "Epoch 320/800\n",
            "9/9 [==============================] - ETA: 0s - loss: 0.1975 - acc: 0.9296\n",
            "Epoch 320: val_loss did not improve from 0.18825\n",
            "9/9 [==============================] - 6s 701ms/step - loss: 0.1975 - acc: 0.9296 - val_loss: 0.2063 - val_acc: 0.9272\n",
            "Epoch 321/800\n",
            "4/9 [============>.................] - ETA: 3s - loss: 0.1948 - acc: 0.9309"
          ]
        },
        {
          "output_type": "stream",
          "name": "stderr",
          "text": [
            "[codecarbon INFO @ 16:21:01] Energy consumed for RAM : 0.002751 kWh. RAM Power : 4.753036022186279 W\n",
            "[codecarbon INFO @ 16:21:01] Energy consumed for all GPUs : 0.039697 kWh. Total GPU Power : 68.4944452553822 W\n",
            "[codecarbon INFO @ 16:21:01] Energy consumed for all CPUs : 0.024616 kWh. Total CPU Power : 42.5 W\n",
            "[codecarbon INFO @ 16:21:01] 0.067064 kWh of electricity used since the beginning.\n"
          ]
        },
        {
          "output_type": "stream",
          "name": "stdout",
          "text": [
            "9/9 [==============================] - ETA: 0s - loss: 0.1929 - acc: 0.9319\n",
            "Epoch 321: val_loss did not improve from 0.18825\n",
            "9/9 [==============================] - 6s 718ms/step - loss: 0.1929 - acc: 0.9319 - val_loss: 0.2015 - val_acc: 0.9311\n",
            "Epoch 322/800\n",
            "9/9 [==============================] - ETA: 0s - loss: 0.1901 - acc: 0.9335\n",
            "Epoch 322: val_loss did not improve from 0.18825\n",
            "9/9 [==============================] - 6s 702ms/step - loss: 0.1901 - acc: 0.9335 - val_loss: 0.2017 - val_acc: 0.9342\n",
            "Epoch 323/800\n",
            "7/9 [======================>.......] - ETA: 1s - loss: 0.1876 - acc: 0.9349"
          ]
        },
        {
          "output_type": "stream",
          "name": "stderr",
          "text": [
            "[codecarbon INFO @ 16:21:16] Energy consumed for RAM : 0.002771 kWh. RAM Power : 4.753036022186279 W\n",
            "[codecarbon INFO @ 16:21:16] Energy consumed for all GPUs : 0.039986 kWh. Total GPU Power : 69.3466737457804 W\n",
            "[codecarbon INFO @ 16:21:16] Energy consumed for all CPUs : 0.024793 kWh. Total CPU Power : 42.5 W\n",
            "[codecarbon INFO @ 16:21:16] 0.067550 kWh of electricity used since the beginning.\n"
          ]
        },
        {
          "output_type": "stream",
          "name": "stdout",
          "text": [
            "9/9 [==============================] - ETA: 0s - loss: 0.1876 - acc: 0.9350\n",
            "Epoch 323: val_loss did not improve from 0.18825\n",
            "9/9 [==============================] - 7s 797ms/step - loss: 0.1876 - acc: 0.9350 - val_loss: 0.1923 - val_acc: 0.9368\n",
            "Epoch 324/800\n",
            "9/9 [==============================] - ETA: 0s - loss: 0.1855 - acc: 0.9357\n",
            "Epoch 324: val_loss did not improve from 0.18825\n",
            "9/9 [==============================] - 6s 702ms/step - loss: 0.1855 - acc: 0.9357 - val_loss: 0.1900 - val_acc: 0.9372\n",
            "Epoch 325/800\n",
            "9/9 [==============================] - ETA: 0s - loss: 0.1850 - acc: 0.9361"
          ]
        },
        {
          "output_type": "stream",
          "name": "stderr",
          "text": [
            "[codecarbon INFO @ 16:21:31] Energy consumed for RAM : 0.002790 kWh. RAM Power : 4.753036022186279 W\n",
            "[codecarbon INFO @ 16:21:31] Energy consumed for all GPUs : 0.040268 kWh. Total GPU Power : 67.80654700174281 W\n",
            "[codecarbon INFO @ 16:21:31] Energy consumed for all CPUs : 0.024970 kWh. Total CPU Power : 42.5 W\n",
            "[codecarbon INFO @ 16:21:31] 0.068029 kWh of electricity used since the beginning.\n"
          ]
        },
        {
          "output_type": "stream",
          "name": "stdout",
          "text": [
            "\n",
            "Epoch 325: val_loss did not improve from 0.18825\n",
            "9/9 [==============================] - 7s 799ms/step - loss: 0.1850 - acc: 0.9361 - val_loss: 0.1884 - val_acc: 0.9370\n",
            "Epoch 326/800\n",
            "9/9 [==============================] - ETA: 0s - loss: 0.1837 - acc: 0.9368\n",
            "Epoch 326: val_loss improved from 0.18825 to 0.18417, saving model to /content/drive/MyDrive/Model/initial_runs_20241202_1546/af_lstm_weights.326-0.18.h5\n",
            "9/9 [==============================] - 6s 707ms/step - loss: 0.1837 - acc: 0.9368 - val_loss: 0.1842 - val_acc: 0.9379\n",
            "Epoch 327/800\n",
            "9/9 [==============================] - ETA: 0s - loss: 0.1840 - acc: 0.9365\n",
            "Epoch 327: val_loss did not improve from 0.18417\n",
            "9/9 [==============================] - 7s 799ms/step - loss: 0.1840 - acc: 0.9365 - val_loss: 0.1852 - val_acc: 0.9364\n",
            "Epoch 328/800\n",
            "2/9 [=====>........................] - ETA: 4s - loss: 0.1847 - acc: 0.9362"
          ]
        },
        {
          "output_type": "stream",
          "name": "stderr",
          "text": [
            "[codecarbon INFO @ 16:21:46] Energy consumed for RAM : 0.002810 kWh. RAM Power : 4.753036022186279 W\n",
            "[codecarbon INFO @ 16:21:46] Energy consumed for all GPUs : 0.040550 kWh. Total GPU Power : 67.69678231456426 W\n",
            "[codecarbon INFO @ 16:21:46] Energy consumed for all CPUs : 0.025148 kWh. Total CPU Power : 42.5 W\n",
            "[codecarbon INFO @ 16:21:46] 0.068508 kWh of electricity used since the beginning.\n"
          ]
        },
        {
          "output_type": "stream",
          "name": "stdout",
          "text": [
            "9/9 [==============================] - ETA: 0s - loss: 0.1833 - acc: 0.9368\n",
            "Epoch 328: val_loss did not improve from 0.18417\n",
            "9/9 [==============================] - 6s 702ms/step - loss: 0.1833 - acc: 0.9368 - val_loss: 0.1853 - val_acc: 0.9362\n",
            "Epoch 329/800\n",
            "9/9 [==============================] - ETA: 0s - loss: 0.1831 - acc: 0.9370\n",
            "Epoch 329: val_loss did not improve from 0.18417\n",
            "9/9 [==============================] - 6s 716ms/step - loss: 0.1831 - acc: 0.9370 - val_loss: 0.1860 - val_acc: 0.9365\n",
            "Epoch 330/800\n",
            "5/9 [===============>..............] - ETA: 2s - loss: 0.1824 - acc: 0.9373"
          ]
        },
        {
          "output_type": "stream",
          "name": "stderr",
          "text": [
            "[codecarbon INFO @ 16:22:01] Energy consumed for RAM : 0.002830 kWh. RAM Power : 4.753036022186279 W\n",
            "[codecarbon INFO @ 16:22:01] Energy consumed for all GPUs : 0.040839 kWh. Total GPU Power : 69.30308947468927 W\n",
            "[codecarbon INFO @ 16:22:01] Energy consumed for all CPUs : 0.025325 kWh. Total CPU Power : 42.5 W\n",
            "[codecarbon INFO @ 16:22:01] 0.068994 kWh of electricity used since the beginning.\n"
          ]
        },
        {
          "output_type": "stream",
          "name": "stdout",
          "text": [
            "9/9 [==============================] - ETA: 0s - loss: 0.1828 - acc: 0.9371\n",
            "Epoch 330: val_loss did not improve from 0.18417\n",
            "9/9 [==============================] - 6s 704ms/step - loss: 0.1828 - acc: 0.9371 - val_loss: 0.1848 - val_acc: 0.9386\n",
            "Epoch 331/800\n",
            "9/9 [==============================] - ETA: 0s - loss: 0.1830 - acc: 0.9370\n",
            "Epoch 331: val_loss did not improve from 0.18417\n",
            "9/9 [==============================] - 6s 712ms/step - loss: 0.1830 - acc: 0.9370 - val_loss: 0.1867 - val_acc: 0.9380\n",
            "Epoch 332/800\n",
            "9/9 [==============================] - ETA: 0s - loss: 0.1831 - acc: 0.9369"
          ]
        },
        {
          "output_type": "stream",
          "name": "stderr",
          "text": [
            "[codecarbon INFO @ 16:22:16] Energy consumed for RAM : 0.002850 kWh. RAM Power : 4.753036022186279 W\n",
            "[codecarbon INFO @ 16:22:16] Energy consumed for all GPUs : 0.041130 kWh. Total GPU Power : 69.74486931802277 W\n",
            "[codecarbon INFO @ 16:22:16] Energy consumed for all CPUs : 0.025502 kWh. Total CPU Power : 42.5 W\n",
            "[codecarbon INFO @ 16:22:16] 0.069481 kWh of electricity used since the beginning.\n",
            "[codecarbon INFO @ 16:22:16] 0.004468 g.CO2eq/s mean an estimation of 140.89645320847129 kg.CO2eq/year\n"
          ]
        },
        {
          "output_type": "stream",
          "name": "stdout",
          "text": [
            "\n",
            "Epoch 332: val_loss did not improve from 0.18417\n",
            "9/9 [==============================] - 6s 704ms/step - loss: 0.1831 - acc: 0.9369 - val_loss: 0.1863 - val_acc: 0.9355\n",
            "Epoch 333/800\n",
            "9/9 [==============================] - ETA: 0s - loss: 0.1831 - acc: 0.9369\n",
            "Epoch 333: val_loss did not improve from 0.18417\n",
            "9/9 [==============================] - 7s 784ms/step - loss: 0.1831 - acc: 0.9369 - val_loss: 0.1876 - val_acc: 0.9376\n",
            "Epoch 334/800\n",
            "9/9 [==============================] - ETA: 0s - loss: 0.1841 - acc: 0.9362\n",
            "Epoch 334: val_loss did not improve from 0.18417\n",
            "9/9 [==============================] - 6s 707ms/step - loss: 0.1841 - acc: 0.9362 - val_loss: 0.1850 - val_acc: 0.9376\n",
            "Epoch 335/800\n",
            "2/9 [=====>........................] - ETA: 4s - loss: 0.1834 - acc: 0.9365"
          ]
        },
        {
          "output_type": "stream",
          "name": "stderr",
          "text": [
            "[codecarbon INFO @ 16:22:31] Energy consumed for RAM : 0.002870 kWh. RAM Power : 4.753036022186279 W\n",
            "[codecarbon INFO @ 16:22:31] Energy consumed for all GPUs : 0.041413 kWh. Total GPU Power : 67.99744601921059 W\n",
            "[codecarbon INFO @ 16:22:31] Energy consumed for all CPUs : 0.025679 kWh. Total CPU Power : 42.5 W\n",
            "[codecarbon INFO @ 16:22:31] 0.069962 kWh of electricity used since the beginning.\n"
          ]
        },
        {
          "output_type": "stream",
          "name": "stdout",
          "text": [
            "9/9 [==============================] - ETA: 0s - loss: 0.1827 - acc: 0.9371\n",
            "Epoch 335: val_loss did not improve from 0.18417\n",
            "9/9 [==============================] - 7s 784ms/step - loss: 0.1827 - acc: 0.9371 - val_loss: 0.1854 - val_acc: 0.9374\n",
            "Epoch 336/800\n",
            "9/9 [==============================] - ETA: 0s - loss: 0.1821 - acc: 0.9372\n",
            "Epoch 336: val_loss did not improve from 0.18417\n",
            "9/9 [==============================] - 7s 786ms/step - loss: 0.1821 - acc: 0.9372 - val_loss: 0.1877 - val_acc: 0.9381\n",
            "Epoch 337/800\n",
            "4/9 [============>.................] - ETA: 3s - loss: 0.1815 - acc: 0.9378"
          ]
        },
        {
          "output_type": "stream",
          "name": "stderr",
          "text": [
            "[codecarbon INFO @ 16:22:46] Energy consumed for RAM : 0.002889 kWh. RAM Power : 4.753036022186279 W\n",
            "[codecarbon INFO @ 16:22:46] Energy consumed for all GPUs : 0.041692 kWh. Total GPU Power : 67.06399570103947 W\n",
            "[codecarbon INFO @ 16:22:46] Energy consumed for all CPUs : 0.025856 kWh. Total CPU Power : 42.5 W\n",
            "[codecarbon INFO @ 16:22:46] 0.070438 kWh of electricity used since the beginning.\n"
          ]
        },
        {
          "output_type": "stream",
          "name": "stdout",
          "text": [
            "9/9 [==============================] - ETA: 0s - loss: 0.1821 - acc: 0.9374\n",
            "Epoch 337: val_loss did not improve from 0.18417\n",
            "9/9 [==============================] - 6s 714ms/step - loss: 0.1821 - acc: 0.9374 - val_loss: 0.1853 - val_acc: 0.9361\n",
            "Epoch 338/800\n",
            "9/9 [==============================] - ETA: 0s - loss: 0.1824 - acc: 0.9370\n",
            "Epoch 338: val_loss did not improve from 0.18417\n",
            "9/9 [==============================] - 6s 709ms/step - loss: 0.1824 - acc: 0.9370 - val_loss: 0.1863 - val_acc: 0.9387\n",
            "Epoch 339/800\n",
            "7/9 [======================>.......] - ETA: 1s - loss: 0.1820 - acc: 0.9373"
          ]
        },
        {
          "output_type": "stream",
          "name": "stderr",
          "text": [
            "[codecarbon INFO @ 16:23:01] Energy consumed for RAM : 0.002909 kWh. RAM Power : 4.753036022186279 W\n",
            "[codecarbon INFO @ 16:23:01] Energy consumed for all GPUs : 0.041983 kWh. Total GPU Power : 69.85739252105465 W\n",
            "[codecarbon INFO @ 16:23:01] Energy consumed for all CPUs : 0.026033 kWh. Total CPU Power : 42.5 W\n",
            "[codecarbon INFO @ 16:23:01] 0.070925 kWh of electricity used since the beginning.\n"
          ]
        },
        {
          "output_type": "stream",
          "name": "stdout",
          "text": [
            "9/9 [==============================] - ETA: 0s - loss: 0.1825 - acc: 0.9371\n",
            "Epoch 339: val_loss did not improve from 0.18417\n",
            "9/9 [==============================] - 7s 782ms/step - loss: 0.1825 - acc: 0.9371 - val_loss: 0.1884 - val_acc: 0.9382\n",
            "Epoch 340/800\n",
            "9/9 [==============================] - ETA: 0s - loss: 0.1813 - acc: 0.9377\n",
            "Epoch 340: val_loss did not improve from 0.18417\n",
            "9/9 [==============================] - 6s 708ms/step - loss: 0.1813 - acc: 0.9377 - val_loss: 0.1849 - val_acc: 0.9382\n",
            "Epoch 341/800\n",
            "9/9 [==============================] - ETA: 0s - loss: 0.1812 - acc: 0.9377\n",
            "Epoch 341: val_loss improved from 0.18417 to 0.18368, saving model to /content/drive/MyDrive/Model/initial_runs_20241202_1546/af_lstm_weights.341-0.18.h5\n",
            "9/9 [==============================] - 6s 709ms/step - loss: 0.1812 - acc: 0.9377 - val_loss: 0.1837 - val_acc: 0.9377\n",
            "Epoch 342/800\n"
          ]
        },
        {
          "output_type": "stream",
          "name": "stderr",
          "text": [
            "[codecarbon INFO @ 16:23:16] Energy consumed for RAM : 0.002929 kWh. RAM Power : 4.753036022186279 W\n",
            "[codecarbon INFO @ 16:23:16] Energy consumed for all GPUs : 0.042266 kWh. Total GPU Power : 67.89057531881463 W\n",
            "[codecarbon INFO @ 16:23:16] Energy consumed for all CPUs : 0.026210 kWh. Total CPU Power : 42.5 W\n",
            "[codecarbon INFO @ 16:23:16] 0.071405 kWh of electricity used since the beginning.\n"
          ]
        },
        {
          "output_type": "stream",
          "name": "stdout",
          "text": [
            "9/9 [==============================] - ETA: 0s - loss: 0.1810 - acc: 0.9378\n",
            "Epoch 342: val_loss did not improve from 0.18368\n",
            "9/9 [==============================] - 6s 718ms/step - loss: 0.1810 - acc: 0.9378 - val_loss: 0.1857 - val_acc: 0.9382\n",
            "Epoch 343/800\n",
            "9/9 [==============================] - ETA: 0s - loss: 0.1830 - acc: 0.9369\n",
            "Epoch 343: val_loss did not improve from 0.18368\n",
            "9/9 [==============================] - 6s 702ms/step - loss: 0.1830 - acc: 0.9369 - val_loss: 0.1848 - val_acc: 0.9369\n",
            "Epoch 344/800\n",
            "4/9 [============>.................] - ETA: 3s - loss: 0.1813 - acc: 0.9374"
          ]
        },
        {
          "output_type": "stream",
          "name": "stderr",
          "text": [
            "[codecarbon INFO @ 16:23:31] Energy consumed for RAM : 0.002949 kWh. RAM Power : 4.753036022186279 W\n",
            "[codecarbon INFO @ 16:23:31] Energy consumed for all GPUs : 0.042554 kWh. Total GPU Power : 69.26256725575017 W\n",
            "[codecarbon INFO @ 16:23:31] Energy consumed for all CPUs : 0.026388 kWh. Total CPU Power : 42.5 W\n",
            "[codecarbon INFO @ 16:23:31] 0.071891 kWh of electricity used since the beginning.\n"
          ]
        },
        {
          "output_type": "stream",
          "name": "stdout",
          "text": [
            "9/9 [==============================] - ETA: 0s - loss: 0.1807 - acc: 0.9376\n",
            "Epoch 344: val_loss did not improve from 0.18368\n",
            "9/9 [==============================] - 6s 718ms/step - loss: 0.1807 - acc: 0.9376 - val_loss: 0.1848 - val_acc: 0.9387\n",
            "Epoch 345/800\n",
            "9/9 [==============================] - ETA: 0s - loss: 0.1800 - acc: 0.9379\n",
            "Epoch 345: val_loss did not improve from 0.18368\n",
            "9/9 [==============================] - 6s 702ms/step - loss: 0.1800 - acc: 0.9379 - val_loss: 0.1845 - val_acc: 0.9386\n",
            "Epoch 346/800\n",
            "7/9 [======================>.......] - ETA: 1s - loss: 0.1801 - acc: 0.9382"
          ]
        },
        {
          "output_type": "stream",
          "name": "stderr",
          "text": [
            "[codecarbon INFO @ 16:23:46] Energy consumed for RAM : 0.002969 kWh. RAM Power : 4.753036022186279 W\n",
            "[codecarbon INFO @ 16:23:46] Energy consumed for all GPUs : 0.042845 kWh. Total GPU Power : 69.84735814952096 W\n",
            "[codecarbon INFO @ 16:23:46] Energy consumed for all CPUs : 0.026565 kWh. Total CPU Power : 42.5 W\n",
            "[codecarbon INFO @ 16:23:46] 0.072378 kWh of electricity used since the beginning.\n"
          ]
        },
        {
          "output_type": "stream",
          "name": "stdout",
          "text": [
            "9/9 [==============================] - ETA: 0s - loss: 0.1805 - acc: 0.9380\n",
            "Epoch 346: val_loss did not improve from 0.18368\n",
            "9/9 [==============================] - 7s 795ms/step - loss: 0.1805 - acc: 0.9380 - val_loss: 0.1946 - val_acc: 0.9370\n",
            "Epoch 347/800\n",
            "9/9 [==============================] - ETA: 0s - loss: 0.1828 - acc: 0.9367\n",
            "Epoch 347: val_loss did not improve from 0.18368\n",
            "9/9 [==============================] - 6s 702ms/step - loss: 0.1828 - acc: 0.9367 - val_loss: 0.1870 - val_acc: 0.9386\n",
            "Epoch 348/800\n",
            "9/9 [==============================] - ETA: 0s - loss: 0.1793 - acc: 0.9385\n",
            "Epoch 348: val_loss improved from 0.18368 to 0.18190, saving model to /content/drive/MyDrive/Model/initial_runs_20241202_1546/af_lstm_weights.348-0.18.h5\n",
            "9/9 [==============================] - 7s 733ms/step - loss: 0.1793 - acc: 0.9385 - val_loss: 0.1819 - val_acc: 0.9395\n",
            "Epoch 349/800\n"
          ]
        },
        {
          "output_type": "stream",
          "name": "stderr",
          "text": [
            "[codecarbon INFO @ 16:24:01] Energy consumed for RAM : 0.002988 kWh. RAM Power : 4.753036022186279 W\n",
            "[codecarbon INFO @ 16:24:01] Energy consumed for all GPUs : 0.043128 kWh. Total GPU Power : 67.96303652598561 W\n",
            "[codecarbon INFO @ 16:24:01] Energy consumed for all CPUs : 0.026741 kWh. Total CPU Power : 42.5 W\n",
            "[codecarbon INFO @ 16:24:01] 0.072857 kWh of electricity used since the beginning.\n"
          ]
        },
        {
          "output_type": "stream",
          "name": "stdout",
          "text": [
            "9/9 [==============================] - ETA: 0s - loss: 0.1800 - acc: 0.9382\n",
            "Epoch 349: val_loss did not improve from 0.18190\n",
            "9/9 [==============================] - 6s 702ms/step - loss: 0.1800 - acc: 0.9382 - val_loss: 0.1833 - val_acc: 0.9395\n",
            "Epoch 350/800\n",
            "9/9 [==============================] - ETA: 0s - loss: 0.1787 - acc: 0.9388\n",
            "Epoch 350: val_loss improved from 0.18190 to 0.18044, saving model to /content/drive/MyDrive/Model/initial_runs_20241202_1546/af_lstm_weights.350-0.18.h5\n",
            "9/9 [==============================] - 7s 730ms/step - loss: 0.1787 - acc: 0.9388 - val_loss: 0.1804 - val_acc: 0.9393\n",
            "Epoch 351/800\n",
            "3/9 [=========>....................] - ETA: 3s - loss: 0.1788 - acc: 0.9385"
          ]
        },
        {
          "output_type": "stream",
          "name": "stderr",
          "text": [
            "[codecarbon INFO @ 16:24:16] Energy consumed for RAM : 0.003008 kWh. RAM Power : 4.753036022186279 W\n",
            "[codecarbon INFO @ 16:24:16] Energy consumed for all GPUs : 0.043416 kWh. Total GPU Power : 69.17273699029657 W\n",
            "[codecarbon INFO @ 16:24:16] Energy consumed for all CPUs : 0.026919 kWh. Total CPU Power : 42.5 W\n",
            "[codecarbon INFO @ 16:24:16] 0.073342 kWh of electricity used since the beginning.\n",
            "[codecarbon INFO @ 16:24:16] 0.004462 g.CO2eq/s mean an estimation of 140.7259797075368 kg.CO2eq/year\n"
          ]
        },
        {
          "output_type": "stream",
          "name": "stdout",
          "text": [
            "9/9 [==============================] - ETA: 0s - loss: 0.1787 - acc: 0.9389\n",
            "Epoch 351: val_loss improved from 0.18044 to 0.17978, saving model to /content/drive/MyDrive/Model/initial_runs_20241202_1546/af_lstm_weights.351-0.18.h5\n",
            "9/9 [==============================] - 6s 707ms/step - loss: 0.1787 - acc: 0.9389 - val_loss: 0.1798 - val_acc: 0.9393\n",
            "Epoch 352/800\n",
            "9/9 [==============================] - ETA: 0s - loss: 0.2012 - acc: 0.9279\n",
            "Epoch 352: val_loss did not improve from 0.17978\n",
            "9/9 [==============================] - 7s 800ms/step - loss: 0.2012 - acc: 0.9279 - val_loss: 0.2853 - val_acc: 0.8923\n",
            "Epoch 353/800\n",
            "6/9 [===================>..........] - ETA: 1s - loss: 0.2147 - acc: 0.9210"
          ]
        },
        {
          "output_type": "stream",
          "name": "stderr",
          "text": [
            "[codecarbon INFO @ 16:24:31] Energy consumed for RAM : 0.003028 kWh. RAM Power : 4.753036022186279 W\n",
            "[codecarbon INFO @ 16:24:31] Energy consumed for all GPUs : 0.043702 kWh. Total GPU Power : 68.6640010453835 W\n",
            "[codecarbon INFO @ 16:24:31] Energy consumed for all CPUs : 0.027095 kWh. Total CPU Power : 42.5 W\n",
            "[codecarbon INFO @ 16:24:31] 0.073825 kWh of electricity used since the beginning.\n"
          ]
        },
        {
          "output_type": "stream",
          "name": "stdout",
          "text": [
            "9/9 [==============================] - ETA: 0s - loss: 0.2091 - acc: 0.9240\n",
            "Epoch 353: val_loss did not improve from 0.17978\n",
            "9/9 [==============================] - 6s 701ms/step - loss: 0.2091 - acc: 0.9240 - val_loss: 0.2007 - val_acc: 0.9295\n",
            "Epoch 354/800\n",
            "9/9 [==============================] - ETA: 0s - loss: 0.1931 - acc: 0.9312\n",
            "Epoch 354: val_loss did not improve from 0.17978\n",
            "9/9 [==============================] - 6s 719ms/step - loss: 0.1931 - acc: 0.9312 - val_loss: 0.2019 - val_acc: 0.9335\n",
            "Epoch 355/800\n",
            "9/9 [==============================] - ETA: 0s - loss: 0.1870 - acc: 0.9348\n",
            "Epoch 355: val_loss did not improve from 0.17978\n",
            "9/9 [==============================] - 6s 706ms/step - loss: 0.1870 - acc: 0.9348 - val_loss: 0.1928 - val_acc: 0.9324\n",
            "Epoch 356/800\n"
          ]
        },
        {
          "output_type": "stream",
          "name": "stderr",
          "text": [
            "[codecarbon INFO @ 16:24:46] Energy consumed for RAM : 0.003048 kWh. RAM Power : 4.753036022186279 W\n",
            "[codecarbon INFO @ 16:24:46] Energy consumed for all GPUs : 0.043990 kWh. Total GPU Power : 69.18591857573814 W\n",
            "[codecarbon INFO @ 16:24:46] Energy consumed for all CPUs : 0.027273 kWh. Total CPU Power : 42.5 W\n",
            "[codecarbon INFO @ 16:24:46] 0.074310 kWh of electricity used since the beginning.\n"
          ]
        },
        {
          "output_type": "stream",
          "name": "stdout",
          "text": [
            "9/9 [==============================] - ETA: 0s - loss: 0.1830 - acc: 0.9364\n",
            "Epoch 356: val_loss did not improve from 0.17978\n",
            "9/9 [==============================] - 7s 787ms/step - loss: 0.1830 - acc: 0.9364 - val_loss: 0.1923 - val_acc: 0.9374\n",
            "Epoch 357/800\n",
            "9/9 [==============================] - ETA: 0s - loss: 0.1801 - acc: 0.9381\n",
            "Epoch 357: val_loss did not improve from 0.17978\n",
            "9/9 [==============================] - 6s 700ms/step - loss: 0.1801 - acc: 0.9381 - val_loss: 0.1841 - val_acc: 0.9392\n",
            "Epoch 358/800\n",
            "2/9 [=====>........................] - ETA: 4s - loss: 0.1793 - acc: 0.9386"
          ]
        },
        {
          "output_type": "stream",
          "name": "stderr",
          "text": [
            "[codecarbon INFO @ 16:25:01] Energy consumed for RAM : 0.003067 kWh. RAM Power : 4.753036022186279 W\n",
            "[codecarbon INFO @ 16:25:01] Energy consumed for all GPUs : 0.044274 kWh. Total GPU Power : 68.2941018937787 W\n",
            "[codecarbon INFO @ 16:25:01] Energy consumed for all CPUs : 0.027450 kWh. Total CPU Power : 42.5 W\n",
            "[codecarbon INFO @ 16:25:01] 0.074791 kWh of electricity used since the beginning.\n"
          ]
        },
        {
          "output_type": "stream",
          "name": "stdout",
          "text": [
            "9/9 [==============================] - ETA: 0s - loss: 0.1792 - acc: 0.9384\n",
            "Epoch 358: val_loss did not improve from 0.17978\n",
            "9/9 [==============================] - 6s 713ms/step - loss: 0.1792 - acc: 0.9384 - val_loss: 0.1838 - val_acc: 0.9397\n",
            "Epoch 359/800\n",
            "9/9 [==============================] - ETA: 0s - loss: 0.1786 - acc: 0.9386\n",
            "Epoch 359: val_loss did not improve from 0.17978\n",
            "9/9 [==============================] - 6s 712ms/step - loss: 0.1786 - acc: 0.9386 - val_loss: 0.1808 - val_acc: 0.9386\n",
            "Epoch 360/800\n",
            "6/9 [===================>..........] - ETA: 1s - loss: 0.1791 - acc: 0.9385"
          ]
        },
        {
          "output_type": "stream",
          "name": "stderr",
          "text": [
            "[codecarbon INFO @ 16:25:16] Energy consumed for RAM : 0.003087 kWh. RAM Power : 4.753036022186279 W\n",
            "[codecarbon INFO @ 16:25:16] Energy consumed for all GPUs : 0.044565 kWh. Total GPU Power : 69.672327909961 W\n",
            "[codecarbon INFO @ 16:25:16] Energy consumed for all CPUs : 0.027627 kWh. Total CPU Power : 42.5 W\n",
            "[codecarbon INFO @ 16:25:16] 0.075279 kWh of electricity used since the beginning.\n"
          ]
        },
        {
          "output_type": "stream",
          "name": "stdout",
          "text": [
            "9/9 [==============================] - ETA: 0s - loss: 0.1794 - acc: 0.9382\n",
            "Epoch 360: val_loss did not improve from 0.17978\n",
            "9/9 [==============================] - 6s 705ms/step - loss: 0.1794 - acc: 0.9382 - val_loss: 0.1819 - val_acc: 0.9386\n",
            "Epoch 361/800\n",
            "9/9 [==============================] - ETA: 0s - loss: 0.1781 - acc: 0.9387\n",
            "Epoch 361: val_loss did not improve from 0.17978\n",
            "9/9 [==============================] - 7s 791ms/step - loss: 0.1781 - acc: 0.9387 - val_loss: 0.1835 - val_acc: 0.9387\n",
            "Epoch 362/800\n",
            "9/9 [==============================] - ETA: 0s - loss: 0.1785 - acc: 0.9387"
          ]
        },
        {
          "output_type": "stream",
          "name": "stderr",
          "text": [
            "[codecarbon INFO @ 16:25:31] Energy consumed for RAM : 0.003107 kWh. RAM Power : 4.753036022186279 W\n",
            "[codecarbon INFO @ 16:25:31] Energy consumed for all GPUs : 0.044848 kWh. Total GPU Power : 68.09721077725987 W\n",
            "[codecarbon INFO @ 16:25:31] Energy consumed for all CPUs : 0.027804 kWh. Total CPU Power : 42.5 W\n",
            "[codecarbon INFO @ 16:25:31] 0.075759 kWh of electricity used since the beginning.\n"
          ]
        },
        {
          "output_type": "stream",
          "name": "stdout",
          "text": [
            "\n",
            "Epoch 362: val_loss did not improve from 0.17978\n",
            "9/9 [==============================] - 6s 716ms/step - loss: 0.1785 - acc: 0.9387 - val_loss: 0.1827 - val_acc: 0.9361\n",
            "Epoch 363/800\n",
            "9/9 [==============================] - ETA: 0s - loss: 0.1789 - acc: 0.9383\n",
            "Epoch 363: val_loss did not improve from 0.17978\n",
            "9/9 [==============================] - 6s 722ms/step - loss: 0.1789 - acc: 0.9383 - val_loss: 0.1834 - val_acc: 0.9389\n",
            "Epoch 364/800\n",
            "9/9 [==============================] - ETA: 0s - loss: 0.1776 - acc: 0.9391\n",
            "Epoch 364: val_loss did not improve from 0.17978\n",
            "9/9 [==============================] - 6s 701ms/step - loss: 0.1776 - acc: 0.9391 - val_loss: 0.1809 - val_acc: 0.9370\n",
            "Epoch 365/800\n",
            "2/9 [=====>........................] - ETA: 4s - loss: 0.1787 - acc: 0.9386"
          ]
        },
        {
          "output_type": "stream",
          "name": "stderr",
          "text": [
            "[codecarbon INFO @ 16:25:46] Energy consumed for RAM : 0.003127 kWh. RAM Power : 4.753036022186279 W\n",
            "[codecarbon INFO @ 16:25:46] Energy consumed for all GPUs : 0.045137 kWh. Total GPU Power : 69.2968542692362 W\n",
            "[codecarbon INFO @ 16:25:46] Energy consumed for all CPUs : 0.027981 kWh. Total CPU Power : 42.5 W\n",
            "[codecarbon INFO @ 16:25:46] 0.076245 kWh of electricity used since the beginning.\n"
          ]
        },
        {
          "output_type": "stream",
          "name": "stdout",
          "text": [
            "9/9 [==============================] - ETA: 0s - loss: 0.1791 - acc: 0.9383\n",
            "Epoch 365: val_loss did not improve from 0.17978\n",
            "9/9 [==============================] - 6s 720ms/step - loss: 0.1791 - acc: 0.9383 - val_loss: 0.1895 - val_acc: 0.9386\n",
            "Epoch 366/800\n",
            "9/9 [==============================] - ETA: 0s - loss: 0.1801 - acc: 0.9378\n",
            "Epoch 366: val_loss did not improve from 0.17978\n",
            "9/9 [==============================] - 6s 702ms/step - loss: 0.1801 - acc: 0.9378 - val_loss: 0.1819 - val_acc: 0.9367\n",
            "Epoch 367/800\n",
            "6/9 [===================>..........] - ETA: 1s - loss: 0.1796 - acc: 0.9377"
          ]
        },
        {
          "output_type": "stream",
          "name": "stderr",
          "text": [
            "[codecarbon INFO @ 16:26:01] Energy consumed for RAM : 0.003147 kWh. RAM Power : 4.753036022186279 W\n",
            "[codecarbon INFO @ 16:26:01] Energy consumed for all GPUs : 0.045427 kWh. Total GPU Power : 69.71798097098417 W\n",
            "[codecarbon INFO @ 16:26:01] Energy consumed for all CPUs : 0.028158 kWh. Total CPU Power : 42.5 W\n",
            "[codecarbon INFO @ 16:26:01] 0.076732 kWh of electricity used since the beginning.\n"
          ]
        },
        {
          "output_type": "stream",
          "name": "stdout",
          "text": [
            "9/9 [==============================] - ETA: 0s - loss: 0.1798 - acc: 0.9378\n",
            "Epoch 367: val_loss did not improve from 0.17978\n",
            "9/9 [==============================] - 7s 798ms/step - loss: 0.1798 - acc: 0.9378 - val_loss: 0.1895 - val_acc: 0.9386\n",
            "Epoch 368/800\n",
            "9/9 [==============================] - ETA: 0s - loss: 0.1783 - acc: 0.9389\n",
            "Epoch 368: val_loss improved from 0.17978 to 0.17942, saving model to /content/drive/MyDrive/Model/initial_runs_20241202_1546/af_lstm_weights.368-0.18.h5\n",
            "9/9 [==============================] - 7s 790ms/step - loss: 0.1783 - acc: 0.9389 - val_loss: 0.1794 - val_acc: 0.9392\n",
            "Epoch 369/800\n",
            "7/9 [======================>.......] - ETA: 1s - loss: 0.1764 - acc: 0.9394"
          ]
        },
        {
          "output_type": "stream",
          "name": "stderr",
          "text": [
            "[codecarbon INFO @ 16:26:16] Energy consumed for RAM : 0.003166 kWh. RAM Power : 4.753036022186279 W\n",
            "[codecarbon INFO @ 16:26:16] Energy consumed for all GPUs : 0.045706 kWh. Total GPU Power : 67.01332662699673 W\n",
            "[codecarbon INFO @ 16:26:16] Energy consumed for all CPUs : 0.028335 kWh. Total CPU Power : 42.5 W\n",
            "[codecarbon INFO @ 16:26:16] 0.077208 kWh of electricity used since the beginning.\n",
            "[codecarbon INFO @ 16:26:16] 0.004467 g.CO2eq/s mean an estimation of 140.88588580479575 kg.CO2eq/year\n"
          ]
        },
        {
          "output_type": "stream",
          "name": "stdout",
          "text": [
            "9/9 [==============================] - ETA: 0s - loss: 0.1766 - acc: 0.9394\n",
            "Epoch 369: val_loss did not improve from 0.17942\n",
            "9/9 [==============================] - 6s 720ms/step - loss: 0.1766 - acc: 0.9394 - val_loss: 0.1798 - val_acc: 0.9387\n",
            "Epoch 370/800\n",
            "9/9 [==============================] - ETA: 0s - loss: 0.1760 - acc: 0.9397\n",
            "Epoch 370: val_loss improved from 0.17942 to 0.17928, saving model to /content/drive/MyDrive/Model/initial_runs_20241202_1546/af_lstm_weights.370-0.18.h5\n",
            "9/9 [==============================] - 6s 706ms/step - loss: 0.1760 - acc: 0.9397 - val_loss: 0.1793 - val_acc: 0.9401\n",
            "Epoch 371/800\n",
            "9/9 [==============================] - ETA: 0s - loss: 0.1765 - acc: 0.9394\n",
            "Epoch 371: val_loss did not improve from 0.17928\n",
            "9/9 [==============================] - 7s 799ms/step - loss: 0.1765 - acc: 0.9394 - val_loss: 0.1811 - val_acc: 0.9397\n",
            "Epoch 372/800\n"
          ]
        },
        {
          "output_type": "stream",
          "name": "stderr",
          "text": [
            "[codecarbon INFO @ 16:26:31] Energy consumed for RAM : 0.003186 kWh. RAM Power : 4.753036022186279 W\n",
            "[codecarbon INFO @ 16:26:31] Energy consumed for all GPUs : 0.045989 kWh. Total GPU Power : 67.98202651500868 W\n",
            "[codecarbon INFO @ 16:26:31] Energy consumed for all CPUs : 0.028512 kWh. Total CPU Power : 42.5 W\n",
            "[codecarbon INFO @ 16:26:31] 0.077688 kWh of electricity used since the beginning.\n"
          ]
        },
        {
          "output_type": "stream",
          "name": "stdout",
          "text": [
            "9/9 [==============================] - ETA: 0s - loss: 0.1773 - acc: 0.9393\n",
            "Epoch 372: val_loss did not improve from 0.17928\n",
            "9/9 [==============================] - 6s 702ms/step - loss: 0.1773 - acc: 0.9393 - val_loss: 0.1794 - val_acc: 0.9391\n",
            "Epoch 373/800\n",
            "9/9 [==============================] - ETA: 0s - loss: 0.1754 - acc: 0.9397\n",
            "Epoch 373: val_loss did not improve from 0.17928\n",
            "9/9 [==============================] - 6s 721ms/step - loss: 0.1754 - acc: 0.9397 - val_loss: 0.1799 - val_acc: 0.9402\n",
            "Epoch 374/800\n",
            "4/9 [============>.................] - ETA: 3s - loss: 0.1739 - acc: 0.9409"
          ]
        },
        {
          "output_type": "stream",
          "name": "stderr",
          "text": [
            "[codecarbon INFO @ 16:26:46] Energy consumed for RAM : 0.003206 kWh. RAM Power : 4.753036022186279 W\n",
            "[codecarbon INFO @ 16:26:46] Energy consumed for all GPUs : 0.046280 kWh. Total GPU Power : 69.72596441682857 W\n",
            "[codecarbon INFO @ 16:26:46] Energy consumed for all CPUs : 0.028689 kWh. Total CPU Power : 42.5 W\n",
            "[codecarbon INFO @ 16:26:46] 0.078175 kWh of electricity used since the beginning.\n"
          ]
        },
        {
          "output_type": "stream",
          "name": "stdout",
          "text": [
            "9/9 [==============================] - ETA: 0s - loss: 0.1747 - acc: 0.9404\n",
            "Epoch 374: val_loss did not improve from 0.17928\n",
            "9/9 [==============================] - 6s 702ms/step - loss: 0.1747 - acc: 0.9404 - val_loss: 0.1804 - val_acc: 0.9406\n",
            "Epoch 375/800\n",
            "9/9 [==============================] - ETA: 0s - loss: 0.1750 - acc: 0.9402\n",
            "Epoch 375: val_loss improved from 0.17928 to 0.17708, saving model to /content/drive/MyDrive/Model/initial_runs_20241202_1546/af_lstm_weights.375-0.18.h5\n",
            "9/9 [==============================] - 7s 801ms/step - loss: 0.1750 - acc: 0.9402 - val_loss: 0.1771 - val_acc: 0.9411\n",
            "Epoch 376/800\n",
            "6/9 [===================>..........] - ETA: 1s - loss: 0.1766 - acc: 0.9399"
          ]
        },
        {
          "output_type": "stream",
          "name": "stderr",
          "text": [
            "[codecarbon INFO @ 16:27:01] Energy consumed for RAM : 0.003226 kWh. RAM Power : 4.753036022186279 W\n",
            "[codecarbon INFO @ 16:27:01] Energy consumed for all GPUs : 0.046563 kWh. Total GPU Power : 67.99758631465413 W\n",
            "[codecarbon INFO @ 16:27:01] Energy consumed for all CPUs : 0.028866 kWh. Total CPU Power : 42.5 W\n",
            "[codecarbon INFO @ 16:27:01] 0.078655 kWh of electricity used since the beginning.\n"
          ]
        },
        {
          "output_type": "stream",
          "name": "stdout",
          "text": [
            "9/9 [==============================] - ETA: 0s - loss: 0.1783 - acc: 0.9387\n",
            "Epoch 376: val_loss did not improve from 0.17708\n",
            "9/9 [==============================] - 6s 705ms/step - loss: 0.1783 - acc: 0.9387 - val_loss: 0.1860 - val_acc: 0.9395\n",
            "Epoch 377/800\n",
            "9/9 [==============================] - ETA: 0s - loss: 0.1779 - acc: 0.9388\n",
            "Epoch 377: val_loss did not improve from 0.17708\n",
            "9/9 [==============================] - 6s 715ms/step - loss: 0.1779 - acc: 0.9388 - val_loss: 0.1811 - val_acc: 0.9393\n",
            "Epoch 378/800\n",
            "9/9 [==============================] - ETA: 0s - loss: 0.1752 - acc: 0.9401\n",
            "Epoch 378: val_loss did not improve from 0.17708\n",
            "9/9 [==============================] - 6s 703ms/step - loss: 0.1752 - acc: 0.9401 - val_loss: 0.1847 - val_acc: 0.9396\n",
            "Epoch 379/800\n"
          ]
        },
        {
          "output_type": "stream",
          "name": "stderr",
          "text": [
            "[codecarbon INFO @ 16:27:16] Energy consumed for RAM : 0.003246 kWh. RAM Power : 4.753036022186279 W\n",
            "[codecarbon INFO @ 16:27:16] Energy consumed for all GPUs : 0.046851 kWh. Total GPU Power : 69.23294359126619 W\n",
            "[codecarbon INFO @ 16:27:16] Energy consumed for all CPUs : 0.029044 kWh. Total CPU Power : 42.5 W\n",
            "[codecarbon INFO @ 16:27:16] 0.079140 kWh of electricity used since the beginning.\n"
          ]
        },
        {
          "output_type": "stream",
          "name": "stdout",
          "text": [
            "9/9 [==============================] - ETA: 0s - loss: 0.1746 - acc: 0.9405\n",
            "Epoch 379: val_loss did not improve from 0.17708\n",
            "9/9 [==============================] - 6s 709ms/step - loss: 0.1746 - acc: 0.9405 - val_loss: 0.1795 - val_acc: 0.9403\n",
            "Epoch 380/800\n",
            "9/9 [==============================] - ETA: 0s - loss: 0.1743 - acc: 0.9404\n",
            "Epoch 380: val_loss improved from 0.17708 to 0.17538, saving model to /content/drive/MyDrive/Model/initial_runs_20241202_1546/af_lstm_weights.380-0.18.h5\n",
            "9/9 [==============================] - 6s 713ms/step - loss: 0.1743 - acc: 0.9404 - val_loss: 0.1754 - val_acc: 0.9402\n",
            "Epoch 381/800\n",
            "3/9 [=========>....................] - ETA: 3s - loss: 0.1748 - acc: 0.9395"
          ]
        },
        {
          "output_type": "stream",
          "name": "stderr",
          "text": [
            "[codecarbon INFO @ 16:27:31] Energy consumed for RAM : 0.003265 kWh. RAM Power : 4.753036022186279 W\n",
            "[codecarbon INFO @ 16:27:31] Energy consumed for all GPUs : 0.047142 kWh. Total GPU Power : 69.79010234183737 W\n"
          ]
        },
        {
          "output_type": "stream",
          "name": "stdout",
          "text": [
            "\b\b\b\b\b\b\b\b\b\b\b\b\b\b\b\b\b\b\b\b\b\b\b\b\b\b\b\b\b\b\b\b\b\b\b\b\b\b\b\b\b\b\b\b\b\b\b\b\b\b\b\b\b\b\b\b\b\b\b\b\b\b\b\b\b\b\b\b\b\b\b\b\b\b\b\r4/9 [============>.................] - ETA: 3s - loss: 0.1751 - acc: 0.9398"
          ]
        },
        {
          "output_type": "stream",
          "name": "stderr",
          "text": [
            "[codecarbon INFO @ 16:27:31] Energy consumed for all CPUs : 0.029221 kWh. Total CPU Power : 42.5 W\n",
            "[codecarbon INFO @ 16:27:31] 0.079628 kWh of electricity used since the beginning.\n"
          ]
        },
        {
          "output_type": "stream",
          "name": "stdout",
          "text": [
            "9/9 [==============================] - ETA: 0s - loss: 0.1762 - acc: 0.9394\n",
            "Epoch 381: val_loss did not improve from 0.17538\n",
            "9/9 [==============================] - 7s 783ms/step - loss: 0.1762 - acc: 0.9394 - val_loss: 0.1773 - val_acc: 0.9402\n",
            "Epoch 382/800\n",
            "9/9 [==============================] - ETA: 0s - loss: 0.1846 - acc: 0.9356\n",
            "Epoch 382: val_loss did not improve from 0.17538\n",
            "9/9 [==============================] - 6s 704ms/step - loss: 0.1846 - acc: 0.9356 - val_loss: 0.1829 - val_acc: 0.9358\n",
            "Epoch 383/800\n",
            "6/9 [===================>..........] - ETA: 1s - loss: 0.1784 - acc: 0.9382"
          ]
        },
        {
          "output_type": "stream",
          "name": "stderr",
          "text": [
            "[codecarbon INFO @ 16:27:46] Energy consumed for RAM : 0.003285 kWh. RAM Power : 4.753036022186279 W\n",
            "[codecarbon INFO @ 16:27:46] Energy consumed for all GPUs : 0.047426 kWh. Total GPU Power : 68.22019281303707 W\n",
            "[codecarbon INFO @ 16:27:46] Energy consumed for all CPUs : 0.029398 kWh. Total CPU Power : 42.5 W\n",
            "[codecarbon INFO @ 16:27:46] 0.080108 kWh of electricity used since the beginning.\n"
          ]
        },
        {
          "output_type": "stream",
          "name": "stdout",
          "text": [
            "9/9 [==============================] - ETA: 0s - loss: 0.1779 - acc: 0.9384\n",
            "Epoch 383: val_loss did not improve from 0.17538\n",
            "9/9 [==============================] - 6s 702ms/step - loss: 0.1779 - acc: 0.9384 - val_loss: 0.1820 - val_acc: 0.9383\n",
            "Epoch 384/800\n",
            "9/9 [==============================] - ETA: 0s - loss: 0.1749 - acc: 0.9402\n",
            "Epoch 384: val_loss did not improve from 0.17538\n",
            "9/9 [==============================] - 6s 717ms/step - loss: 0.1749 - acc: 0.9402 - val_loss: 0.1824 - val_acc: 0.9397\n",
            "Epoch 385/800\n",
            "9/9 [==============================] - ETA: 0s - loss: 0.1736 - acc: 0.9408\n",
            "Epoch 385: val_loss did not improve from 0.17538\n",
            "9/9 [==============================] - 6s 701ms/step - loss: 0.1736 - acc: 0.9408 - val_loss: 0.1782 - val_acc: 0.9406\n",
            "Epoch 386/800\n"
          ]
        },
        {
          "output_type": "stream",
          "name": "stderr",
          "text": [
            "[codecarbon INFO @ 16:28:01] Energy consumed for RAM : 0.003305 kWh. RAM Power : 4.753036022186279 W\n",
            "[codecarbon INFO @ 16:28:01] Energy consumed for all GPUs : 0.047714 kWh. Total GPU Power : 69.22325886865076 W\n",
            "[codecarbon INFO @ 16:28:01] Energy consumed for all CPUs : 0.029575 kWh. Total CPU Power : 42.5 W\n",
            "[codecarbon INFO @ 16:28:01] 0.080594 kWh of electricity used since the beginning.\n"
          ]
        },
        {
          "output_type": "stream",
          "name": "stdout",
          "text": [
            "9/9 [==============================] - ETA: 0s - loss: 0.1733 - acc: 0.9407\n",
            "Epoch 386: val_loss did not improve from 0.17538\n",
            "9/9 [==============================] - 7s 799ms/step - loss: 0.1733 - acc: 0.9407 - val_loss: 0.1764 - val_acc: 0.9412\n",
            "Epoch 387/800\n",
            "9/9 [==============================] - ETA: 0s - loss: 0.1751 - acc: 0.9402\n",
            "Epoch 387: val_loss did not improve from 0.17538\n",
            "9/9 [==============================] - 6s 702ms/step - loss: 0.1751 - acc: 0.9402 - val_loss: 0.1791 - val_acc: 0.9370\n",
            "Epoch 388/800\n",
            "3/9 [=========>....................] - ETA: 3s - loss: 0.1856 - acc: 0.9339"
          ]
        },
        {
          "output_type": "stream",
          "name": "stderr",
          "text": [
            "[codecarbon INFO @ 16:28:16] Energy consumed for RAM : 0.003325 kWh. RAM Power : 4.753036022186279 W\n",
            "[codecarbon INFO @ 16:28:16] Energy consumed for all GPUs : 0.048000 kWh. Total GPU Power : 68.59215354413537 W\n",
            "[codecarbon INFO @ 16:28:16] Energy consumed for all CPUs : 0.029752 kWh. Total CPU Power : 42.5 W\n",
            "[codecarbon INFO @ 16:28:16] 0.081077 kWh of electricity used since the beginning.\n",
            "[codecarbon INFO @ 16:28:16] 0.004472 g.CO2eq/s mean an estimation of 141.01857684271616 kg.CO2eq/year\n"
          ]
        },
        {
          "output_type": "stream",
          "name": "stdout",
          "text": [
            "9/9 [==============================] - ETA: 0s - loss: 0.1813 - acc: 0.9367\n",
            "Epoch 388: val_loss did not improve from 0.17538\n",
            "9/9 [==============================] - 6s 712ms/step - loss: 0.1813 - acc: 0.9367 - val_loss: 0.1801 - val_acc: 0.9398\n",
            "Epoch 389/800\n",
            "9/9 [==============================] - ETA: 0s - loss: 0.1738 - acc: 0.9405\n",
            "Epoch 389: val_loss did not improve from 0.17538\n",
            "9/9 [==============================] - 6s 702ms/step - loss: 0.1738 - acc: 0.9405 - val_loss: 0.1778 - val_acc: 0.9398\n",
            "Epoch 390/800\n",
            "6/9 [===================>..........] - ETA: 1s - loss: 0.1744 - acc: 0.9397"
          ]
        },
        {
          "output_type": "stream",
          "name": "stderr",
          "text": [
            "[codecarbon INFO @ 16:28:31] Energy consumed for RAM : 0.003344 kWh. RAM Power : 4.753036022186279 W\n",
            "[codecarbon INFO @ 16:28:31] Energy consumed for all GPUs : 0.048289 kWh. Total GPU Power : 69.40339472295956 W\n",
            "[codecarbon INFO @ 16:28:31] Energy consumed for all CPUs : 0.029929 kWh. Total CPU Power : 42.5 W\n",
            "[codecarbon INFO @ 16:28:31] 0.081562 kWh of electricity used since the beginning.\n"
          ]
        },
        {
          "output_type": "stream",
          "name": "stdout",
          "text": [
            "9/9 [==============================] - ETA: 0s - loss: 0.1749 - acc: 0.9397\n",
            "Epoch 390: val_loss did not improve from 0.17538\n",
            "9/9 [==============================] - 6s 722ms/step - loss: 0.1749 - acc: 0.9397 - val_loss: 0.1802 - val_acc: 0.9409\n",
            "Epoch 391/800\n",
            "9/9 [==============================] - ETA: 0s - loss: 0.1740 - acc: 0.9405\n",
            "Epoch 391: val_loss did not improve from 0.17538\n",
            "9/9 [==============================] - 6s 702ms/step - loss: 0.1740 - acc: 0.9405 - val_loss: 0.1787 - val_acc: 0.9411\n",
            "Epoch 392/800\n",
            "9/9 [==============================] - ETA: 0s - loss: 0.1735 - acc: 0.9408"
          ]
        },
        {
          "output_type": "stream",
          "name": "stderr",
          "text": [
            "[codecarbon INFO @ 16:28:46] Energy consumed for RAM : 0.003364 kWh. RAM Power : 4.753036022186279 W\n",
            "[codecarbon INFO @ 16:28:46] Energy consumed for all GPUs : 0.048575 kWh. Total GPU Power : 68.60643546770952 W\n",
            "[codecarbon INFO @ 16:28:46] Energy consumed for all CPUs : 0.030106 kWh. Total CPU Power : 42.5 W\n",
            "[codecarbon INFO @ 16:28:46] 0.082045 kWh of electricity used since the beginning.\n"
          ]
        },
        {
          "output_type": "stream",
          "name": "stdout",
          "text": [
            "\n",
            "Epoch 392: val_loss did not improve from 0.17538\n",
            "9/9 [==============================] - 7s 797ms/step - loss: 0.1735 - acc: 0.9408 - val_loss: 0.1798 - val_acc: 0.9410\n",
            "Epoch 393/800\n",
            "9/9 [==============================] - ETA: 0s - loss: 0.1749 - acc: 0.9402\n",
            "Epoch 393: val_loss improved from 0.17538 to 0.17426, saving model to /content/drive/MyDrive/Model/initial_runs_20241202_1546/af_lstm_weights.393-0.17.h5\n",
            "9/9 [==============================] - 6s 712ms/step - loss: 0.1749 - acc: 0.9402 - val_loss: 0.1743 - val_acc: 0.9409\n",
            "Epoch 394/800\n",
            "9/9 [==============================] - ETA: 0s - loss: 0.1737 - acc: 0.9406\n",
            "Epoch 394: val_loss did not improve from 0.17426\n",
            "9/9 [==============================] - 6s 717ms/step - loss: 0.1737 - acc: 0.9406 - val_loss: 0.1748 - val_acc: 0.9393\n",
            "Epoch 395/800\n",
            "3/9 [=========>....................] - ETA: 3s - loss: 0.1779 - acc: 0.9374"
          ]
        },
        {
          "output_type": "stream",
          "name": "stderr",
          "text": [
            "[codecarbon INFO @ 16:29:01] Energy consumed for RAM : 0.003384 kWh. RAM Power : 4.753036022186279 W\n",
            "[codecarbon INFO @ 16:29:01] Energy consumed for all GPUs : 0.048863 kWh. Total GPU Power : 69.15690297892537 W\n",
            "[codecarbon INFO @ 16:29:01] Energy consumed for all CPUs : 0.030283 kWh. Total CPU Power : 42.5 W\n",
            "[codecarbon INFO @ 16:29:01] 0.082530 kWh of electricity used since the beginning.\n"
          ]
        },
        {
          "output_type": "stream",
          "name": "stdout",
          "text": [
            "9/9 [==============================] - ETA: 0s - loss: 0.1759 - acc: 0.9393\n",
            "Epoch 395: val_loss did not improve from 0.17426\n",
            "9/9 [==============================] - 6s 704ms/step - loss: 0.1759 - acc: 0.9393 - val_loss: 0.1756 - val_acc: 0.9405\n",
            "Epoch 396/800\n",
            "9/9 [==============================] - ETA: 0s - loss: 0.1736 - acc: 0.9407\n",
            "Epoch 396: val_loss did not improve from 0.17426\n",
            "9/9 [==============================] - 7s 794ms/step - loss: 0.1736 - acc: 0.9407 - val_loss: 0.1762 - val_acc: 0.9407\n",
            "Epoch 397/800\n",
            "5/9 [===============>..............] - ETA: 2s - loss: 0.1743 - acc: 0.9402"
          ]
        },
        {
          "output_type": "stream",
          "name": "stderr",
          "text": [
            "[codecarbon INFO @ 16:29:16] Energy consumed for RAM : 0.003404 kWh. RAM Power : 4.753036022186279 W\n",
            "[codecarbon INFO @ 16:29:16] Energy consumed for all GPUs : 0.049146 kWh. Total GPU Power : 68.16200184976837 W\n",
            "[codecarbon INFO @ 16:29:16] Energy consumed for all CPUs : 0.030460 kWh. Total CPU Power : 42.5 W\n",
            "[codecarbon INFO @ 16:29:16] 0.083010 kWh of electricity used since the beginning.\n"
          ]
        },
        {
          "output_type": "stream",
          "name": "stdout",
          "text": [
            "9/9 [==============================] - ETA: 0s - loss: 0.1730 - acc: 0.9409\n",
            "Epoch 397: val_loss did not improve from 0.17426\n",
            "9/9 [==============================] - 6s 702ms/step - loss: 0.1730 - acc: 0.9409 - val_loss: 0.1751 - val_acc: 0.9422\n",
            "Epoch 398/800\n",
            "9/9 [==============================] - ETA: 0s - loss: 0.1723 - acc: 0.9413\n",
            "Epoch 398: val_loss improved from 0.17426 to 0.17414, saving model to /content/drive/MyDrive/Model/initial_runs_20241202_1546/af_lstm_weights.398-0.17.h5\n",
            "9/9 [==============================] - 6s 717ms/step - loss: 0.1723 - acc: 0.9413 - val_loss: 0.1741 - val_acc: 0.9417\n",
            "Epoch 399/800\n",
            "9/9 [==============================] - ETA: 0s - loss: 0.1765 - acc: 0.9393"
          ]
        },
        {
          "output_type": "stream",
          "name": "stderr",
          "text": [
            "[codecarbon INFO @ 16:29:31] Energy consumed for RAM : 0.003424 kWh. RAM Power : 4.753036022186279 W\n",
            "[codecarbon INFO @ 16:29:31] Energy consumed for all GPUs : 0.049435 kWh. Total GPU Power : 69.35537353890278 W\n",
            "[codecarbon INFO @ 16:29:31] Energy consumed for all CPUs : 0.030637 kWh. Total CPU Power : 42.5 W\n",
            "[codecarbon INFO @ 16:29:31] 0.083496 kWh of electricity used since the beginning.\n"
          ]
        },
        {
          "output_type": "stream",
          "name": "stdout",
          "text": [
            "\n",
            "Epoch 399: val_loss did not improve from 0.17414\n",
            "9/9 [==============================] - 6s 706ms/step - loss: 0.1765 - acc: 0.9393 - val_loss: 0.2125 - val_acc: 0.9198\n",
            "Epoch 400/800\n",
            "9/9 [==============================] - ETA: 0s - loss: 0.2301 - acc: 0.9141\n",
            "Epoch 400: val_loss did not improve from 0.17414\n",
            "9/9 [==============================] - 7s 792ms/step - loss: 0.2301 - acc: 0.9141 - val_loss: 0.2013 - val_acc: 0.9284\n",
            "Epoch 401/800\n",
            "9/9 [==============================] - ETA: 0s - loss: 0.1957 - acc: 0.9292\n",
            "Epoch 401: val_loss did not improve from 0.17414\n",
            "9/9 [==============================] - 6s 701ms/step - loss: 0.1957 - acc: 0.9292 - val_loss: 0.1932 - val_acc: 0.9342\n",
            "Epoch 402/800\n",
            "2/9 [=====>........................] - ETA: 4s - loss: 0.1847 - acc: 0.9359"
          ]
        },
        {
          "output_type": "stream",
          "name": "stderr",
          "text": [
            "[codecarbon INFO @ 16:29:46] Energy consumed for RAM : 0.003443 kWh. RAM Power : 4.753036022186279 W\n",
            "[codecarbon INFO @ 16:29:46] Energy consumed for all GPUs : 0.049721 kWh. Total GPU Power : 68.64549806843598 W\n",
            "[codecarbon INFO @ 16:29:46] Energy consumed for all CPUs : 0.030814 kWh. Total CPU Power : 42.5 W\n",
            "[codecarbon INFO @ 16:29:46] 0.083978 kWh of electricity used since the beginning.\n"
          ]
        },
        {
          "output_type": "stream",
          "name": "stdout",
          "text": [
            "9/9 [==============================] - ETA: 0s - loss: 0.1832 - acc: 0.9359\n",
            "Epoch 402: val_loss did not improve from 0.17414\n",
            "9/9 [==============================] - 6s 712ms/step - loss: 0.1832 - acc: 0.9359 - val_loss: 0.1988 - val_acc: 0.9343\n",
            "Epoch 403/800\n",
            "9/9 [==============================] - ETA: 0s - loss: 0.1793 - acc: 0.9381\n",
            "Epoch 403: val_loss did not improve from 0.17414\n",
            "9/9 [==============================] - 6s 709ms/step - loss: 0.1793 - acc: 0.9381 - val_loss: 0.1855 - val_acc: 0.9365\n",
            "Epoch 404/800\n",
            "5/9 [===============>..............] - ETA: 2s - loss: 0.1764 - acc: 0.9389"
          ]
        },
        {
          "output_type": "stream",
          "name": "stderr",
          "text": [
            "[codecarbon INFO @ 16:30:01] Energy consumed for RAM : 0.003463 kWh. RAM Power : 4.753036022186279 W\n",
            "[codecarbon INFO @ 16:30:01] Energy consumed for all GPUs : 0.050009 kWh. Total GPU Power : 69.30903009784771 W\n",
            "[codecarbon INFO @ 16:30:01] Energy consumed for all CPUs : 0.030991 kWh. Total CPU Power : 42.5 W\n",
            "[codecarbon INFO @ 16:30:01] 0.084464 kWh of electricity used since the beginning.\n"
          ]
        },
        {
          "output_type": "stream",
          "name": "stdout",
          "text": [
            "9/9 [==============================] - ETA: 0s - loss: 0.1754 - acc: 0.9396\n",
            "Epoch 404: val_loss did not improve from 0.17414\n",
            "9/9 [==============================] - 6s 704ms/step - loss: 0.1754 - acc: 0.9396 - val_loss: 0.1916 - val_acc: 0.9389\n",
            "Epoch 405/800\n",
            "9/9 [==============================] - ETA: 0s - loss: 0.1733 - acc: 0.9406\n",
            "Epoch 405: val_loss did not improve from 0.17414\n",
            "9/9 [==============================] - 6s 718ms/step - loss: 0.1733 - acc: 0.9406 - val_loss: 0.1804 - val_acc: 0.9413\n",
            "Epoch 406/800\n",
            "9/9 [==============================] - ETA: 0s - loss: 0.1720 - acc: 0.9411"
          ]
        },
        {
          "output_type": "stream",
          "name": "stderr",
          "text": [
            "[codecarbon INFO @ 16:30:16] Energy consumed for RAM : 0.003483 kWh. RAM Power : 4.753036022186279 W\n",
            "[codecarbon INFO @ 16:30:16] Energy consumed for all GPUs : 0.050298 kWh. Total GPU Power : 69.17616330046377 W\n",
            "[codecarbon INFO @ 16:30:17] Energy consumed for all CPUs : 0.031168 kWh. Total CPU Power : 42.5 W\n",
            "[codecarbon INFO @ 16:30:17] 0.084949 kWh of electricity used since the beginning.\n",
            "[codecarbon INFO @ 16:30:17] 0.004477 g.CO2eq/s mean an estimation of 141.17809386348108 kg.CO2eq/year\n"
          ]
        },
        {
          "output_type": "stream",
          "name": "stdout",
          "text": [
            "\n",
            "Epoch 406: val_loss did not improve from 0.17414\n",
            "9/9 [==============================] - 6s 703ms/step - loss: 0.1720 - acc: 0.9411 - val_loss: 0.1791 - val_acc: 0.9412\n",
            "Epoch 407/800\n",
            "9/9 [==============================] - ETA: 0s - loss: 0.1711 - acc: 0.9417\n",
            "Epoch 407: val_loss did not improve from 0.17414\n",
            "9/9 [==============================] - 6s 709ms/step - loss: 0.1711 - acc: 0.9417 - val_loss: 0.1755 - val_acc: 0.9409\n",
            "Epoch 408/800\n",
            "9/9 [==============================] - ETA: 0s - loss: 0.1711 - acc: 0.9417\n",
            "Epoch 408: val_loss did not improve from 0.17414\n",
            "9/9 [==============================] - 6s 704ms/step - loss: 0.1711 - acc: 0.9417 - val_loss: 0.1765 - val_acc: 0.9415\n",
            "Epoch 409/800\n",
            "3/9 [=========>....................] - ETA: 3s - loss: 0.1713 - acc: 0.9416"
          ]
        },
        {
          "output_type": "stream",
          "name": "stderr",
          "text": [
            "[codecarbon INFO @ 16:30:31] Energy consumed for RAM : 0.003503 kWh. RAM Power : 4.753036022186279 W\n",
            "[codecarbon INFO @ 16:30:32] Energy consumed for all GPUs : 0.050589 kWh. Total GPU Power : 69.8780087731364 W\n",
            "[codecarbon INFO @ 16:30:32] Energy consumed for all CPUs : 0.031346 kWh. Total CPU Power : 42.5 W\n",
            "[codecarbon INFO @ 16:30:32] 0.085437 kWh of electricity used since the beginning.\n"
          ]
        },
        {
          "output_type": "stream",
          "name": "stdout",
          "text": [
            "9/9 [==============================] - ETA: 0s - loss: 0.1706 - acc: 0.9420\n",
            "Epoch 409: val_loss improved from 0.17414 to 0.17296, saving model to /content/drive/MyDrive/Model/initial_runs_20241202_1546/af_lstm_weights.409-0.17.h5\n",
            "9/9 [==============================] - 6s 727ms/step - loss: 0.1706 - acc: 0.9420 - val_loss: 0.1730 - val_acc: 0.9417\n",
            "Epoch 410/800\n",
            "9/9 [==============================] - ETA: 0s - loss: 0.1701 - acc: 0.9419\n",
            "Epoch 410: val_loss improved from 0.17296 to 0.17240, saving model to /content/drive/MyDrive/Model/initial_runs_20241202_1546/af_lstm_weights.410-0.17.h5\n",
            "9/9 [==============================] - 6s 712ms/step - loss: 0.1701 - acc: 0.9419 - val_loss: 0.1724 - val_acc: 0.9421\n",
            "Epoch 411/800\n",
            "6/9 [===================>..........] - ETA: 1s - loss: 0.1707 - acc: 0.9420"
          ]
        },
        {
          "output_type": "stream",
          "name": "stderr",
          "text": [
            "[codecarbon INFO @ 16:30:47] Energy consumed for RAM : 0.003523 kWh. RAM Power : 4.753036022186279 W\n",
            "[codecarbon INFO @ 16:30:47] Energy consumed for all GPUs : 0.050877 kWh. Total GPU Power : 69.14044644268844 W\n",
            "[codecarbon INFO @ 16:30:47] Energy consumed for all CPUs : 0.031523 kWh. Total CPU Power : 42.5 W\n",
            "[codecarbon INFO @ 16:30:47] 0.085923 kWh of electricity used since the beginning.\n"
          ]
        },
        {
          "output_type": "stream",
          "name": "stdout",
          "text": [
            "9/9 [==============================] - ETA: 0s - loss: 0.1706 - acc: 0.9419\n",
            "Epoch 411: val_loss did not improve from 0.17240\n",
            "9/9 [==============================] - 6s 724ms/step - loss: 0.1706 - acc: 0.9419 - val_loss: 0.1731 - val_acc: 0.9410\n",
            "Epoch 412/800\n",
            "9/9 [==============================] - ETA: 0s - loss: 0.1713 - acc: 0.9413\n",
            "Epoch 412: val_loss improved from 0.17240 to 0.17166, saving model to /content/drive/MyDrive/Model/initial_runs_20241202_1546/af_lstm_weights.412-0.17.h5\n",
            "9/9 [==============================] - 6s 707ms/step - loss: 0.1713 - acc: 0.9413 - val_loss: 0.1717 - val_acc: 0.9424\n",
            "Epoch 413/800\n",
            "9/9 [==============================] - ETA: 0s - loss: 0.1711 - acc: 0.9418\n",
            "Epoch 413: val_loss did not improve from 0.17166\n",
            "9/9 [==============================] - 6s 717ms/step - loss: 0.1711 - acc: 0.9418 - val_loss: 0.1737 - val_acc: 0.9426\n",
            "Epoch 414/800\n"
          ]
        },
        {
          "output_type": "stream",
          "name": "stderr",
          "text": [
            "[codecarbon INFO @ 16:31:02] Energy consumed for RAM : 0.003542 kWh. RAM Power : 4.753036022186279 W\n",
            "[codecarbon INFO @ 16:31:02] Energy consumed for all GPUs : 0.051165 kWh. Total GPU Power : 69.0194614063262 W\n",
            "[codecarbon INFO @ 16:31:02] Energy consumed for all CPUs : 0.031700 kWh. Total CPU Power : 42.5 W\n",
            "[codecarbon INFO @ 16:31:02] 0.086407 kWh of electricity used since the beginning.\n"
          ]
        },
        {
          "output_type": "stream",
          "name": "stdout",
          "text": [
            "9/9 [==============================] - ETA: 0s - loss: 0.1700 - acc: 0.9424\n",
            "Epoch 414: val_loss improved from 0.17166 to 0.17064, saving model to /content/drive/MyDrive/Model/initial_runs_20241202_1546/af_lstm_weights.414-0.17.h5\n",
            "9/9 [==============================] - 6s 711ms/step - loss: 0.1700 - acc: 0.9424 - val_loss: 0.1706 - val_acc: 0.9426\n",
            "Epoch 415/800\n",
            "9/9 [==============================] - ETA: 0s - loss: 0.1693 - acc: 0.9425\n",
            "Epoch 415: val_loss did not improve from 0.17064\n",
            "9/9 [==============================] - 6s 715ms/step - loss: 0.1693 - acc: 0.9425 - val_loss: 0.1719 - val_acc: 0.9427\n",
            "Epoch 416/800\n",
            "3/9 [=========>....................] - ETA: 4s - loss: 0.1697 - acc: 0.9426"
          ]
        },
        {
          "output_type": "stream",
          "name": "stderr",
          "text": [
            "[codecarbon INFO @ 16:31:17] Energy consumed for RAM : 0.003562 kWh. RAM Power : 4.753036022186279 W\n",
            "[codecarbon INFO @ 16:31:17] Energy consumed for all GPUs : 0.051455 kWh. Total GPU Power : 69.65501169717942 W\n",
            "[codecarbon INFO @ 16:31:17] Energy consumed for all CPUs : 0.031877 kWh. Total CPU Power : 42.5 W\n",
            "[codecarbon INFO @ 16:31:17] 0.086895 kWh of electricity used since the beginning.\n"
          ]
        },
        {
          "output_type": "stream",
          "name": "stdout",
          "text": [
            "9/9 [==============================] - ETA: 0s - loss: 0.1699 - acc: 0.9425\n",
            "Epoch 416: val_loss did not improve from 0.17064\n",
            "9/9 [==============================] - 6s 709ms/step - loss: 0.1699 - acc: 0.9425 - val_loss: 0.1711 - val_acc: 0.9426\n",
            "Epoch 417/800\n",
            "9/9 [==============================] - ETA: 0s - loss: 0.1826 - acc: 0.9363\n",
            "Epoch 417: val_loss did not improve from 0.17064\n",
            "9/9 [==============================] - 6s 703ms/step - loss: 0.1826 - acc: 0.9363 - val_loss: 0.1770 - val_acc: 0.9428\n",
            "Epoch 418/800\n",
            "7/9 [======================>.......] - ETA: 1s - loss: 0.1770 - acc: 0.9390"
          ]
        },
        {
          "output_type": "stream",
          "name": "stderr",
          "text": [
            "[codecarbon INFO @ 16:31:32] Energy consumed for RAM : 0.003582 kWh. RAM Power : 4.753036022186279 W\n",
            "[codecarbon INFO @ 16:31:32] Energy consumed for all GPUs : 0.051743 kWh. Total GPU Power : 69.21848059176729 W\n",
            "[codecarbon INFO @ 16:31:32] Energy consumed for all CPUs : 0.032055 kWh. Total CPU Power : 42.5 W\n",
            "[codecarbon INFO @ 16:31:32] 0.087380 kWh of electricity used since the beginning.\n"
          ]
        },
        {
          "output_type": "stream",
          "name": "stdout",
          "text": [
            "9/9 [==============================] - ETA: 0s - loss: 0.1761 - acc: 0.9392\n",
            "Epoch 418: val_loss did not improve from 0.17064\n",
            "9/9 [==============================] - 7s 754ms/step - loss: 0.1761 - acc: 0.9392 - val_loss: 0.1793 - val_acc: 0.9421\n",
            "Epoch 419/800\n",
            "9/9 [==============================] - ETA: 0s - loss: 0.1728 - acc: 0.9410\n",
            "Epoch 419: val_loss did not improve from 0.17064\n",
            "9/9 [==============================] - 7s 785ms/step - loss: 0.1728 - acc: 0.9410 - val_loss: 0.1754 - val_acc: 0.9431\n",
            "Epoch 420/800\n",
            "9/9 [==============================] - ETA: 0s - loss: 0.1706 - acc: 0.9421"
          ]
        },
        {
          "output_type": "stream",
          "name": "stderr",
          "text": [
            "[codecarbon INFO @ 16:31:47] Energy consumed for RAM : 0.003602 kWh. RAM Power : 4.753036022186279 W\n",
            "[codecarbon INFO @ 16:31:47] Energy consumed for all GPUs : 0.052028 kWh. Total GPU Power : 68.36483280172925 W\n",
            "[codecarbon INFO @ 16:31:47] Energy consumed for all CPUs : 0.032232 kWh. Total CPU Power : 42.5 W\n",
            "[codecarbon INFO @ 16:31:47] 0.087861 kWh of electricity used since the beginning.\n"
          ]
        },
        {
          "output_type": "stream",
          "name": "stdout",
          "text": [
            "\n",
            "Epoch 420: val_loss improved from 0.17064 to 0.16900, saving model to /content/drive/MyDrive/Model/initial_runs_20241202_1546/af_lstm_weights.420-0.17.h5\n",
            "9/9 [==============================] - 7s 748ms/step - loss: 0.1706 - acc: 0.9421 - val_loss: 0.1690 - val_acc: 0.9444\n",
            "Epoch 421/800\n",
            "9/9 [==============================] - ETA: 0s - loss: 0.1687 - acc: 0.9428\n",
            "Epoch 421: val_loss improved from 0.16900 to 0.16698, saving model to /content/drive/MyDrive/Model/initial_runs_20241202_1546/af_lstm_weights.421-0.17.h5\n",
            "9/9 [==============================] - 6s 708ms/step - loss: 0.1687 - acc: 0.9428 - val_loss: 0.1670 - val_acc: 0.9446\n",
            "Epoch 422/800\n",
            "9/9 [==============================] - ETA: 0s - loss: 0.1681 - acc: 0.9429\n",
            "Epoch 422: val_loss did not improve from 0.16698\n",
            "9/9 [==============================] - 7s 803ms/step - loss: 0.1681 - acc: 0.9429 - val_loss: 0.1678 - val_acc: 0.9449\n",
            "Epoch 423/800\n",
            "1/9 [==>...........................] - ETA: 5s - loss: 0.1674 - acc: 0.9441"
          ]
        },
        {
          "output_type": "stream",
          "name": "stderr",
          "text": [
            "[codecarbon INFO @ 16:32:02] Energy consumed for RAM : 0.003622 kWh. RAM Power : 4.753036022186279 W\n",
            "[codecarbon INFO @ 16:32:02] Energy consumed for all GPUs : 0.052311 kWh. Total GPU Power : 67.87227232644692 W\n",
            "[codecarbon INFO @ 16:32:02] Energy consumed for all CPUs : 0.032409 kWh. Total CPU Power : 42.5 W\n",
            "[codecarbon INFO @ 16:32:02] 0.088341 kWh of electricity used since the beginning.\n"
          ]
        },
        {
          "output_type": "stream",
          "name": "stdout",
          "text": [
            "9/9 [==============================] - ETA: 0s - loss: 0.1688 - acc: 0.9428\n",
            "Epoch 423: val_loss improved from 0.16698 to 0.16655, saving model to /content/drive/MyDrive/Model/initial_runs_20241202_1546/af_lstm_weights.423-0.17.h5\n",
            "9/9 [==============================] - 6s 708ms/step - loss: 0.1688 - acc: 0.9428 - val_loss: 0.1665 - val_acc: 0.9450\n",
            "Epoch 424/800\n",
            "9/9 [==============================] - ETA: 0s - loss: 0.1681 - acc: 0.9431\n",
            "Epoch 424: val_loss improved from 0.16655 to 0.16538, saving model to /content/drive/MyDrive/Model/initial_runs_20241202_1546/af_lstm_weights.424-0.17.h5\n",
            "9/9 [==============================] - 7s 801ms/step - loss: 0.1681 - acc: 0.9431 - val_loss: 0.1654 - val_acc: 0.9455\n",
            "Epoch 425/800\n",
            "4/9 [============>.................] - ETA: 3s - loss: 0.1680 - acc: 0.9428"
          ]
        },
        {
          "output_type": "stream",
          "name": "stderr",
          "text": [
            "[codecarbon INFO @ 16:32:17] Energy consumed for RAM : 0.003641 kWh. RAM Power : 4.753036022186279 W\n",
            "[codecarbon INFO @ 16:32:17] Energy consumed for all GPUs : 0.052596 kWh. Total GPU Power : 68.46339794809495 W\n",
            "[codecarbon INFO @ 16:32:17] Energy consumed for all CPUs : 0.032586 kWh. Total CPU Power : 42.5 W\n",
            "[codecarbon INFO @ 16:32:17] 0.088824 kWh of electricity used since the beginning.\n",
            "[codecarbon INFO @ 16:32:17] 0.004475 g.CO2eq/s mean an estimation of 141.12433987356695 kg.CO2eq/year\n"
          ]
        },
        {
          "output_type": "stream",
          "name": "stdout",
          "text": [
            "9/9 [==============================] - ETA: 0s - loss: 0.1676 - acc: 0.9432\n",
            "Epoch 425: val_loss did not improve from 0.16538\n",
            "9/9 [==============================] - 6s 704ms/step - loss: 0.1676 - acc: 0.9432 - val_loss: 0.1663 - val_acc: 0.9450\n",
            "Epoch 426/800\n",
            "9/9 [==============================] - ETA: 0s - loss: 0.1698 - acc: 0.9423\n",
            "Epoch 426: val_loss did not improve from 0.16538\n",
            "9/9 [==============================] - 6s 719ms/step - loss: 0.1698 - acc: 0.9423 - val_loss: 0.1667 - val_acc: 0.9441\n",
            "Epoch 427/800\n",
            "7/9 [======================>.......] - ETA: 1s - loss: 0.1682 - acc: 0.9428"
          ]
        },
        {
          "output_type": "stream",
          "name": "stderr",
          "text": [
            "[codecarbon INFO @ 16:32:32] Energy consumed for RAM : 0.003661 kWh. RAM Power : 4.753036022186279 W\n",
            "[codecarbon INFO @ 16:32:32] Energy consumed for all GPUs : 0.052885 kWh. Total GPU Power : 69.34934599534422 W\n",
            "[codecarbon INFO @ 16:32:32] Energy consumed for all CPUs : 0.032763 kWh. Total CPU Power : 42.5 W\n",
            "[codecarbon INFO @ 16:32:32] 0.089309 kWh of electricity used since the beginning.\n"
          ]
        },
        {
          "output_type": "stream",
          "name": "stdout",
          "text": [
            "9/9 [==============================] - ETA: 0s - loss: 0.1676 - acc: 0.9431\n",
            "Epoch 427: val_loss did not improve from 0.16538\n",
            "9/9 [==============================] - 6s 703ms/step - loss: 0.1676 - acc: 0.9431 - val_loss: 0.1689 - val_acc: 0.9448\n",
            "Epoch 428/800\n",
            "9/9 [==============================] - ETA: 0s - loss: 0.1669 - acc: 0.9438\n",
            "Epoch 428: val_loss did not improve from 0.16538\n",
            "9/9 [==============================] - 6s 715ms/step - loss: 0.1669 - acc: 0.9438 - val_loss: 0.1661 - val_acc: 0.9454\n",
            "Epoch 429/800\n",
            "9/9 [==============================] - ETA: 0s - loss: 0.1780 - acc: 0.9384\n",
            "Epoch 429: val_loss did not improve from 0.16538\n",
            "9/9 [==============================] - 6s 707ms/step - loss: 0.1780 - acc: 0.9384 - val_loss: 0.2092 - val_acc: 0.9318\n",
            "Epoch 430/800\n",
            "1/9 [==>...........................] - ETA: 5s - loss: 0.2142 - acc: 0.9237"
          ]
        },
        {
          "output_type": "stream",
          "name": "stderr",
          "text": [
            "[codecarbon INFO @ 16:32:47] Energy consumed for RAM : 0.003681 kWh. RAM Power : 4.753036022186279 W\n",
            "[codecarbon INFO @ 16:32:47] Energy consumed for all GPUs : 0.053174 kWh. Total GPU Power : 69.30826499168124 W\n",
            "[codecarbon INFO @ 16:32:47] Energy consumed for all CPUs : 0.032940 kWh. Total CPU Power : 42.5 W\n",
            "[codecarbon INFO @ 16:32:47] 0.089795 kWh of electricity used since the beginning.\n"
          ]
        },
        {
          "output_type": "stream",
          "name": "stdout",
          "text": [
            "9/9 [==============================] - ETA: 0s - loss: 0.1825 - acc: 0.9361\n",
            "Epoch 430: val_loss did not improve from 0.16538\n",
            "9/9 [==============================] - 6s 702ms/step - loss: 0.1825 - acc: 0.9361 - val_loss: 0.1790 - val_acc: 0.9425\n",
            "Epoch 431/800\n",
            "9/9 [==============================] - ETA: 0s - loss: 0.1730 - acc: 0.9409\n",
            "Epoch 431: val_loss did not improve from 0.16538\n",
            "9/9 [==============================] - 6s 712ms/step - loss: 0.1730 - acc: 0.9409 - val_loss: 0.1712 - val_acc: 0.9441\n",
            "Epoch 432/800\n",
            "5/9 [===============>..............] - ETA: 2s - loss: 0.1692 - acc: 0.9426"
          ]
        },
        {
          "output_type": "stream",
          "name": "stderr",
          "text": [
            "[codecarbon INFO @ 16:33:02] Energy consumed for RAM : 0.003701 kWh. RAM Power : 4.753036022186279 W\n",
            "[codecarbon INFO @ 16:33:02] Energy consumed for all GPUs : 0.053463 kWh. Total GPU Power : 69.3275728453283 W\n",
            "[codecarbon INFO @ 16:33:02] Energy consumed for all CPUs : 0.033117 kWh. Total CPU Power : 42.5 W\n",
            "[codecarbon INFO @ 16:33:02] 0.090281 kWh of electricity used since the beginning.\n"
          ]
        },
        {
          "output_type": "stream",
          "name": "stdout",
          "text": [
            "9/9 [==============================] - ETA: 0s - loss: 0.1695 - acc: 0.9424\n",
            "Epoch 432: val_loss did not improve from 0.16538\n",
            "9/9 [==============================] - 6s 704ms/step - loss: 0.1695 - acc: 0.9424 - val_loss: 0.1724 - val_acc: 0.9439\n",
            "Epoch 433/800\n",
            "9/9 [==============================] - ETA: 0s - loss: 0.1683 - acc: 0.9431\n",
            "Epoch 433: val_loss did not improve from 0.16538\n",
            "9/9 [==============================] - 6s 716ms/step - loss: 0.1683 - acc: 0.9431 - val_loss: 0.1664 - val_acc: 0.9450\n",
            "Epoch 434/800\n",
            "9/9 [==============================] - ETA: 0s - loss: 0.1668 - acc: 0.9437"
          ]
        },
        {
          "output_type": "stream",
          "name": "stderr",
          "text": [
            "[codecarbon INFO @ 16:33:17] Energy consumed for RAM : 0.003721 kWh. RAM Power : 4.753036022186279 W\n",
            "[codecarbon INFO @ 16:33:17] Energy consumed for all GPUs : 0.053753 kWh. Total GPU Power : 69.73631590639003 W\n",
            "[codecarbon INFO @ 16:33:17] Energy consumed for all CPUs : 0.033294 kWh. Total CPU Power : 42.5 W\n",
            "[codecarbon INFO @ 16:33:17] 0.090768 kWh of electricity used since the beginning.\n"
          ]
        },
        {
          "output_type": "stream",
          "name": "stdout",
          "text": [
            "\n",
            "Epoch 434: val_loss did not improve from 0.16538\n",
            "9/9 [==============================] - 7s 783ms/step - loss: 0.1668 - acc: 0.9437 - val_loss: 0.1661 - val_acc: 0.9455\n",
            "Epoch 435/800\n",
            "9/9 [==============================] - ETA: 0s - loss: 0.1671 - acc: 0.9434\n",
            "Epoch 435: val_loss improved from 0.16538 to 0.16512, saving model to /content/drive/MyDrive/Model/initial_runs_20241202_1546/af_lstm_weights.435-0.17.h5\n",
            "9/9 [==============================] - 6s 723ms/step - loss: 0.1671 - acc: 0.9434 - val_loss: 0.1651 - val_acc: 0.9451\n",
            "Epoch 436/800\n",
            "9/9 [==============================] - ETA: 0s - loss: 0.1670 - acc: 0.9435\n",
            "Epoch 436: val_loss improved from 0.16512 to 0.16479, saving model to /content/drive/MyDrive/Model/initial_runs_20241202_1546/af_lstm_weights.436-0.16.h5\n",
            "9/9 [==============================] - 6s 708ms/step - loss: 0.1670 - acc: 0.9435 - val_loss: 0.1648 - val_acc: 0.9465\n",
            "Epoch 437/800\n",
            "1/9 [==>...........................] - ETA: 5s - loss: 0.1632 - acc: 0.9453"
          ]
        },
        {
          "output_type": "stream",
          "name": "stderr",
          "text": [
            "[codecarbon INFO @ 16:33:32] Energy consumed for RAM : 0.003740 kWh. RAM Power : 4.753036022186279 W\n",
            "[codecarbon INFO @ 16:33:32] Energy consumed for all GPUs : 0.054037 kWh. Total GPU Power : 68.20727808215565 W\n",
            "[codecarbon INFO @ 16:33:32] Energy consumed for all CPUs : 0.033471 kWh. Total CPU Power : 42.5 W\n",
            "[codecarbon INFO @ 16:33:32] 0.091248 kWh of electricity used since the beginning.\n"
          ]
        },
        {
          "output_type": "stream",
          "name": "stdout",
          "text": [
            "9/9 [==============================] - ETA: 0s - loss: 0.2689 - acc: 0.8981\n",
            "Epoch 437: val_loss did not improve from 0.16479\n",
            "9/9 [==============================] - 6s 719ms/step - loss: 0.2689 - acc: 0.8981 - val_loss: 0.1981 - val_acc: 0.9362\n",
            "Epoch 438/800\n",
            "9/9 [==============================] - ETA: 0s - loss: 0.2446 - acc: 0.9067\n",
            "Epoch 438: val_loss did not improve from 0.16479\n",
            "9/9 [==============================] - 6s 702ms/step - loss: 0.2446 - acc: 0.9067 - val_loss: 0.1979 - val_acc: 0.9301\n",
            "Epoch 439/800\n",
            "5/9 [===============>..............] - ETA: 2s - loss: 0.2124 - acc: 0.9209"
          ]
        },
        {
          "output_type": "stream",
          "name": "stderr",
          "text": [
            "[codecarbon INFO @ 16:33:47] Energy consumed for RAM : 0.003760 kWh. RAM Power : 4.753036022186279 W\n",
            "[codecarbon INFO @ 16:33:47] Energy consumed for all GPUs : 0.054326 kWh. Total GPU Power : 69.40560028055611 W\n",
            "[codecarbon INFO @ 16:33:47] Energy consumed for all CPUs : 0.033648 kWh. Total CPU Power : 42.5 W\n",
            "[codecarbon INFO @ 16:33:47] 0.091734 kWh of electricity used since the beginning.\n"
          ]
        },
        {
          "output_type": "stream",
          "name": "stdout",
          "text": [
            "9/9 [==============================] - ETA: 0s - loss: 0.2090 - acc: 0.9230\n",
            "Epoch 439: val_loss did not improve from 0.16479\n",
            "9/9 [==============================] - 7s 793ms/step - loss: 0.2090 - acc: 0.9230 - val_loss: 0.2000 - val_acc: 0.9269\n",
            "Epoch 440/800\n",
            "9/9 [==============================] - ETA: 0s - loss: 0.1930 - acc: 0.9306\n",
            "Epoch 440: val_loss did not improve from 0.16479\n",
            "9/9 [==============================] - 6s 703ms/step - loss: 0.1930 - acc: 0.9306 - val_loss: 0.1854 - val_acc: 0.9342\n",
            "Epoch 441/800\n",
            "7/9 [======================>.......] - ETA: 1s - loss: 0.1843 - acc: 0.9348"
          ]
        },
        {
          "output_type": "stream",
          "name": "stderr",
          "text": [
            "[codecarbon INFO @ 16:34:02] Energy consumed for RAM : 0.003780 kWh. RAM Power : 4.753036022186279 W\n",
            "[codecarbon INFO @ 16:34:02] Energy consumed for all GPUs : 0.054610 kWh. Total GPU Power : 68.25549538877043 W\n",
            "[codecarbon INFO @ 16:34:02] Energy consumed for all CPUs : 0.033825 kWh. Total CPU Power : 42.5 W\n",
            "[codecarbon INFO @ 16:34:02] 0.092215 kWh of electricity used since the beginning.\n"
          ]
        },
        {
          "output_type": "stream",
          "name": "stdout",
          "text": [
            "9/9 [==============================] - ETA: 0s - loss: 0.1840 - acc: 0.9349\n",
            "Epoch 441: val_loss did not improve from 0.16479\n",
            "9/9 [==============================] - 7s 799ms/step - loss: 0.1840 - acc: 0.9349 - val_loss: 0.1871 - val_acc: 0.9337\n",
            "Epoch 442/800\n",
            "9/9 [==============================] - ETA: 0s - loss: 0.1780 - acc: 0.9379\n",
            "Epoch 442: val_loss did not improve from 0.16479\n",
            "9/9 [==============================] - 6s 702ms/step - loss: 0.1780 - acc: 0.9379 - val_loss: 0.1871 - val_acc: 0.9348\n",
            "Epoch 443/800\n",
            "9/9 [==============================] - ETA: 0s - loss: 0.1753 - acc: 0.9393"
          ]
        },
        {
          "output_type": "stream",
          "name": "stderr",
          "text": [
            "[codecarbon INFO @ 16:34:17] Energy consumed for RAM : 0.003800 kWh. RAM Power : 4.753036022186279 W\n",
            "[codecarbon INFO @ 16:34:17] Energy consumed for all GPUs : 0.054891 kWh. Total GPU Power : 67.43310381527377 W\n",
            "[codecarbon INFO @ 16:34:17] Energy consumed for all CPUs : 0.034003 kWh. Total CPU Power : 42.5 W\n",
            "[codecarbon INFO @ 16:34:17] 0.092693 kWh of electricity used since the beginning.\n",
            "[codecarbon INFO @ 16:34:17] 0.004473 g.CO2eq/s mean an estimation of 141.058980943764 kg.CO2eq/year\n"
          ]
        },
        {
          "output_type": "stream",
          "name": "stdout",
          "text": [
            "\n",
            "Epoch 443: val_loss did not improve from 0.16479\n",
            "9/9 [==============================] - 7s 793ms/step - loss: 0.1753 - acc: 0.9393 - val_loss: 0.1838 - val_acc: 0.9372\n",
            "Epoch 444/800\n",
            "9/9 [==============================] - ETA: 0s - loss: 0.1724 - acc: 0.9406\n",
            "Epoch 444: val_loss did not improve from 0.16479\n",
            "9/9 [==============================] - 6s 702ms/step - loss: 0.1724 - acc: 0.9406 - val_loss: 0.1817 - val_acc: 0.9380\n",
            "Epoch 445/800\n",
            "9/9 [==============================] - ETA: 0s - loss: 0.1711 - acc: 0.9413\n",
            "Epoch 445: val_loss did not improve from 0.16479\n",
            "9/9 [==============================] - 6s 719ms/step - loss: 0.1711 - acc: 0.9413 - val_loss: 0.1803 - val_acc: 0.9385\n",
            "Epoch 446/800\n",
            "3/9 [=========>....................] - ETA: 3s - loss: 0.1702 - acc: 0.9417"
          ]
        },
        {
          "output_type": "stream",
          "name": "stderr",
          "text": [
            "[codecarbon INFO @ 16:34:32] Energy consumed for RAM : 0.003820 kWh. RAM Power : 4.753036022186279 W\n",
            "[codecarbon INFO @ 16:34:32] Energy consumed for all GPUs : 0.055178 kWh. Total GPU Power : 69.04872210206314 W\n",
            "[codecarbon INFO @ 16:34:32] Energy consumed for all CPUs : 0.034180 kWh. Total CPU Power : 42.5 W\n",
            "[codecarbon INFO @ 16:34:32] 0.093178 kWh of electricity used since the beginning.\n"
          ]
        },
        {
          "output_type": "stream",
          "name": "stdout",
          "text": [
            "9/9 [==============================] - ETA: 0s - loss: 0.1700 - acc: 0.9419\n",
            "Epoch 446: val_loss did not improve from 0.16479\n",
            "9/9 [==============================] - 6s 702ms/step - loss: 0.1700 - acc: 0.9419 - val_loss: 0.1748 - val_acc: 0.9411\n",
            "Epoch 447/800\n",
            "9/9 [==============================] - ETA: 0s - loss: 0.1684 - acc: 0.9424\n",
            "Epoch 447: val_loss did not improve from 0.16479\n",
            "9/9 [==============================] - 7s 796ms/step - loss: 0.1684 - acc: 0.9424 - val_loss: 0.1707 - val_acc: 0.9433\n",
            "Epoch 448/800\n",
            "5/9 [===============>..............] - ETA: 2s - loss: 0.1674 - acc: 0.9430"
          ]
        },
        {
          "output_type": "stream",
          "name": "stderr",
          "text": [
            "[codecarbon INFO @ 16:34:47] Energy consumed for RAM : 0.003839 kWh. RAM Power : 4.753036022186279 W\n",
            "[codecarbon INFO @ 16:34:47] Energy consumed for all GPUs : 0.055464 kWh. Total GPU Power : 68.66809580543709 W\n",
            "[codecarbon INFO @ 16:34:47] Energy consumed for all CPUs : 0.034357 kWh. Total CPU Power : 42.5 W\n",
            "[codecarbon INFO @ 16:34:47] 0.093660 kWh of electricity used since the beginning.\n"
          ]
        },
        {
          "output_type": "stream",
          "name": "stdout",
          "text": [
            "9/9 [==============================] - ETA: 0s - loss: 0.1678 - acc: 0.9429\n",
            "Epoch 448: val_loss did not improve from 0.16479\n",
            "9/9 [==============================] - 6s 704ms/step - loss: 0.1678 - acc: 0.9429 - val_loss: 0.1686 - val_acc: 0.9453\n",
            "Epoch 449/800\n",
            "9/9 [==============================] - ETA: 0s - loss: 0.1675 - acc: 0.9432\n",
            "Epoch 449: val_loss did not improve from 0.16479\n",
            "9/9 [==============================] - 6s 719ms/step - loss: 0.1675 - acc: 0.9432 - val_loss: 0.1667 - val_acc: 0.9454\n",
            "Epoch 450/800\n",
            "9/9 [==============================] - ETA: 0s - loss: 0.1661 - acc: 0.9437"
          ]
        },
        {
          "output_type": "stream",
          "name": "stderr",
          "text": [
            "[codecarbon INFO @ 16:35:02] Energy consumed for RAM : 0.003859 kWh. RAM Power : 4.753036022186279 W\n",
            "[codecarbon INFO @ 16:35:02] Energy consumed for all GPUs : 0.055753 kWh. Total GPU Power : 69.20579533344582 W\n",
            "[codecarbon INFO @ 16:35:02] Energy consumed for all CPUs : 0.034534 kWh. Total CPU Power : 42.5 W\n",
            "[codecarbon INFO @ 16:35:02] 0.094146 kWh of electricity used since the beginning.\n"
          ]
        },
        {
          "output_type": "stream",
          "name": "stdout",
          "text": [
            "\n",
            "Epoch 450: val_loss did not improve from 0.16479\n",
            "9/9 [==============================] - 6s 706ms/step - loss: 0.1661 - acc: 0.9437 - val_loss: 0.1672 - val_acc: 0.9454\n",
            "Epoch 451/800\n",
            "9/9 [==============================] - ETA: 0s - loss: 0.1661 - acc: 0.9438\n",
            "Epoch 451: val_loss did not improve from 0.16479\n",
            "9/9 [==============================] - 7s 795ms/step - loss: 0.1661 - acc: 0.9438 - val_loss: 0.1666 - val_acc: 0.9451\n",
            "Epoch 452/800\n",
            "9/9 [==============================] - ETA: 0s - loss: 0.1660 - acc: 0.9437\n",
            "Epoch 452: val_loss did not improve from 0.16479\n",
            "9/9 [==============================] - 6s 705ms/step - loss: 0.1660 - acc: 0.9437 - val_loss: 0.1652 - val_acc: 0.9453\n",
            "Epoch 453/800\n",
            "2/9 [=====>........................] - ETA: 4s - loss: 0.1672 - acc: 0.9431"
          ]
        },
        {
          "output_type": "stream",
          "name": "stderr",
          "text": [
            "[codecarbon INFO @ 16:35:17] Energy consumed for RAM : 0.003879 kWh. RAM Power : 4.753036022186279 W\n",
            "[codecarbon INFO @ 16:35:17] Energy consumed for all GPUs : 0.056037 kWh. Total GPU Power : 68.21103421848372 W\n",
            "[codecarbon INFO @ 16:35:17] Energy consumed for all CPUs : 0.034711 kWh. Total CPU Power : 42.5 W\n",
            "[codecarbon INFO @ 16:35:17] 0.094627 kWh of electricity used since the beginning.\n"
          ]
        },
        {
          "output_type": "stream",
          "name": "stdout",
          "text": [
            "9/9 [==============================] - ETA: 0s - loss: 0.1653 - acc: 0.9440\n",
            "Epoch 453: val_loss did not improve from 0.16479\n",
            "9/9 [==============================] - 7s 793ms/step - loss: 0.1653 - acc: 0.9440 - val_loss: 0.1658 - val_acc: 0.9449\n",
            "Epoch 454/800\n",
            "9/9 [==============================] - ETA: 0s - loss: 0.1652 - acc: 0.9442\n",
            "Epoch 454: val_loss improved from 0.16479 to 0.16470, saving model to /content/drive/MyDrive/Model/initial_runs_20241202_1546/af_lstm_weights.454-0.16.h5\n",
            "9/9 [==============================] - 6s 710ms/step - loss: 0.1652 - acc: 0.9442 - val_loss: 0.1647 - val_acc: 0.9454\n",
            "Epoch 455/800\n",
            "4/9 [============>.................] - ETA: 3s - loss: 0.1643 - acc: 0.9446"
          ]
        },
        {
          "output_type": "stream",
          "name": "stderr",
          "text": [
            "[codecarbon INFO @ 16:35:32] Energy consumed for RAM : 0.003899 kWh. RAM Power : 4.753036022186279 W\n"
          ]
        },
        {
          "output_type": "stream",
          "name": "stdout",
          "text": [
            "\b\b\b\b\b\b\b\b\b\b\b\b\b\b\b\b\b\b\b\b\b\b\b\b\b\b\b\b\b\b\b\b\b\b\b\b\b\b\b\b\b\b\b\b\b\b\b\b\b\b\b\b\b\b\b\b\b\b\b\b\b\b\b\b\b\b\b\b\b\b\b\b\b\b\b\r5/9 [===============>..............] - ETA: 2s - loss: 0.1642 - acc: 0.9445"
          ]
        },
        {
          "output_type": "stream",
          "name": "stderr",
          "text": [
            "[codecarbon INFO @ 16:35:32] Energy consumed for all GPUs : 0.056323 kWh. Total GPU Power : 68.63691827268764 W\n",
            "[codecarbon INFO @ 16:35:32] Energy consumed for all CPUs : 0.034888 kWh. Total CPU Power : 42.5 W\n",
            "[codecarbon INFO @ 16:35:32] 0.095110 kWh of electricity used since the beginning.\n"
          ]
        },
        {
          "output_type": "stream",
          "name": "stdout",
          "text": [
            "9/9 [==============================] - ETA: 0s - loss: 0.1644 - acc: 0.9445\n",
            "Epoch 455: val_loss did not improve from 0.16470\n",
            "9/9 [==============================] - 6s 715ms/step - loss: 0.1644 - acc: 0.9445 - val_loss: 0.1667 - val_acc: 0.9452\n",
            "Epoch 456/800\n",
            "9/9 [==============================] - ETA: 0s - loss: 0.1644 - acc: 0.9444\n",
            "Epoch 456: val_loss did not improve from 0.16470\n",
            "9/9 [==============================] - 6s 707ms/step - loss: 0.1644 - acc: 0.9444 - val_loss: 0.1684 - val_acc: 0.9441\n",
            "Epoch 457/800\n",
            "8/9 [=========================>....] - ETA: 0s - loss: 0.1647 - acc: 0.9442"
          ]
        },
        {
          "output_type": "stream",
          "name": "stderr",
          "text": [
            "[codecarbon INFO @ 16:35:47] Energy consumed for RAM : 0.003918 kWh. RAM Power : 4.753036022186279 W\n",
            "[codecarbon INFO @ 16:35:47] Energy consumed for all GPUs : 0.056612 kWh. Total GPU Power : 69.33759858476459 W\n",
            "[codecarbon INFO @ 16:35:47] Energy consumed for all CPUs : 0.035065 kWh. Total CPU Power : 42.5 W\n",
            "[codecarbon INFO @ 16:35:47] 0.095595 kWh of electricity used since the beginning.\n"
          ]
        },
        {
          "output_type": "stream",
          "name": "stdout",
          "text": [
            "\b\b\b\b\b\b\b\b\b\b\b\b\b\b\b\b\b\b\b\b\b\b\b\b\b\b\b\b\b\b\b\b\b\b\b\b\b\b\b\b\b\b\b\b\b\b\b\b\b\b\b\b\b\b\b\b\b\b\b\b\b\b\b\b\b\b\b\b\b\b\b\b\b\b\b\r9/9 [==============================] - ETA: 0s - loss: 0.1649 - acc: 0.9442\n",
            "Epoch 457: val_loss did not improve from 0.16470\n",
            "9/9 [==============================] - 7s 784ms/step - loss: 0.1649 - acc: 0.9442 - val_loss: 0.1692 - val_acc: 0.9438\n",
            "Epoch 458/800\n",
            "9/9 [==============================] - ETA: 0s - loss: 0.1638 - acc: 0.9447\n",
            "Epoch 458: val_loss did not improve from 0.16470\n",
            "9/9 [==============================] - 6s 705ms/step - loss: 0.1638 - acc: 0.9447 - val_loss: 0.1687 - val_acc: 0.9436\n",
            "Epoch 459/800\n",
            "9/9 [==============================] - ETA: 0s - loss: 0.1639 - acc: 0.9446\n",
            "Epoch 459: val_loss did not improve from 0.16470\n",
            "9/9 [==============================] - 7s 784ms/step - loss: 0.1639 - acc: 0.9446 - val_loss: 0.1661 - val_acc: 0.9448\n",
            "Epoch 460/800\n"
          ]
        },
        {
          "output_type": "stream",
          "name": "stderr",
          "text": [
            "[codecarbon INFO @ 16:36:02] Energy consumed for RAM : 0.003938 kWh. RAM Power : 4.753036022186279 W\n",
            "[codecarbon INFO @ 16:36:02] Energy consumed for all GPUs : 0.056890 kWh. Total GPU Power : 66.80374103061926 W\n",
            "[codecarbon INFO @ 16:36:02] Energy consumed for all CPUs : 0.035243 kWh. Total CPU Power : 42.5 W\n",
            "[codecarbon INFO @ 16:36:02] 0.096071 kWh of electricity used since the beginning.\n"
          ]
        },
        {
          "output_type": "stream",
          "name": "stdout",
          "text": [
            "9/9 [==============================] - ETA: 0s - loss: 0.1631 - acc: 0.9450\n",
            "Epoch 460: val_loss did not improve from 0.16470\n",
            "9/9 [==============================] - 6s 709ms/step - loss: 0.1631 - acc: 0.9450 - val_loss: 0.1685 - val_acc: 0.9437\n",
            "Epoch 461/800\n",
            "9/9 [==============================] - ETA: 0s - loss: 0.1634 - acc: 0.9452\n",
            "Epoch 461: val_loss improved from 0.16470 to 0.16427, saving model to /content/drive/MyDrive/Model/initial_runs_20241202_1546/af_lstm_weights.461-0.16.h5\n",
            "9/9 [==============================] - 6s 713ms/step - loss: 0.1634 - acc: 0.9452 - val_loss: 0.1643 - val_acc: 0.9454\n",
            "Epoch 462/800\n",
            "3/9 [=========>....................] - ETA: 3s - loss: 0.1639 - acc: 0.9440"
          ]
        },
        {
          "output_type": "stream",
          "name": "stderr",
          "text": [
            "[codecarbon INFO @ 16:36:17] Energy consumed for RAM : 0.003958 kWh. RAM Power : 4.753036022186279 W\n",
            "[codecarbon INFO @ 16:36:17] Energy consumed for all GPUs : 0.057181 kWh. Total GPU Power : 69.86236220628219 W\n",
            "[codecarbon INFO @ 16:36:17] Energy consumed for all CPUs : 0.035419 kWh. Total CPU Power : 42.5 W\n",
            "[codecarbon INFO @ 16:36:17] 0.096558 kWh of electricity used since the beginning.\n",
            "[codecarbon INFO @ 16:36:17] 0.004467 g.CO2eq/s mean an estimation of 140.86320277303886 kg.CO2eq/year\n"
          ]
        },
        {
          "output_type": "stream",
          "name": "stdout",
          "text": [
            "9/9 [==============================] - ETA: 0s - loss: 0.1641 - acc: 0.9444\n",
            "Epoch 462: val_loss did not improve from 0.16427\n",
            "9/9 [==============================] - 6s 712ms/step - loss: 0.1641 - acc: 0.9444 - val_loss: 0.1713 - val_acc: 0.9438\n",
            "Epoch 463/800\n",
            "9/9 [==============================] - ETA: 0s - loss: 0.1643 - acc: 0.9447\n",
            "Epoch 463: val_loss improved from 0.16427 to 0.16329, saving model to /content/drive/MyDrive/Model/initial_runs_20241202_1546/af_lstm_weights.463-0.16.h5\n",
            "9/9 [==============================] - 6s 706ms/step - loss: 0.1643 - acc: 0.9447 - val_loss: 0.1633 - val_acc: 0.9460\n",
            "Epoch 464/800\n",
            "7/9 [======================>.......] - ETA: 1s - loss: 0.1629 - acc: 0.9452"
          ]
        },
        {
          "output_type": "stream",
          "name": "stderr",
          "text": [
            "[codecarbon INFO @ 16:36:32] Energy consumed for RAM : 0.003978 kWh. RAM Power : 4.753036022186279 W\n",
            "[codecarbon INFO @ 16:36:32] Energy consumed for all GPUs : 0.057469 kWh. Total GPU Power : 69.16593291567189 W\n",
            "[codecarbon INFO @ 16:36:32] Energy consumed for all CPUs : 0.035597 kWh. Total CPU Power : 42.5 W\n",
            "[codecarbon INFO @ 16:36:32] 0.097044 kWh of electricity used since the beginning.\n"
          ]
        },
        {
          "output_type": "stream",
          "name": "stdout",
          "text": [
            "9/9 [==============================] - ETA: 0s - loss: 0.1635 - acc: 0.9450\n",
            "Epoch 464: val_loss did not improve from 0.16329\n",
            "9/9 [==============================] - 6s 714ms/step - loss: 0.1635 - acc: 0.9450 - val_loss: 0.1655 - val_acc: 0.9446\n",
            "Epoch 465/800\n",
            "9/9 [==============================] - ETA: 0s - loss: 0.1634 - acc: 0.9449\n",
            "Epoch 465: val_loss did not improve from 0.16329\n",
            "9/9 [==============================] - 6s 703ms/step - loss: 0.1634 - acc: 0.9449 - val_loss: 0.1654 - val_acc: 0.9454\n",
            "Epoch 466/800\n",
            "9/9 [==============================] - ETA: 0s - loss: 0.1627 - acc: 0.9454\n",
            "Epoch 466: val_loss improved from 0.16329 to 0.16276, saving model to /content/drive/MyDrive/Model/initial_runs_20241202_1546/af_lstm_weights.466-0.16.h5\n",
            "9/9 [==============================] - 6s 720ms/step - loss: 0.1627 - acc: 0.9454 - val_loss: 0.1628 - val_acc: 0.9466\n",
            "Epoch 467/800\n",
            "1/9 [==>...........................] - ETA: 5s - loss: 0.1619 - acc: 0.9462"
          ]
        },
        {
          "output_type": "stream",
          "name": "stderr",
          "text": [
            "[codecarbon INFO @ 16:36:47] Energy consumed for RAM : 0.003998 kWh. RAM Power : 4.753036022186279 W\n",
            "[codecarbon INFO @ 16:36:47] Energy consumed for all GPUs : 0.057757 kWh. Total GPU Power : 69.28119283083468 W\n",
            "[codecarbon INFO @ 16:36:47] Energy consumed for all CPUs : 0.035774 kWh. Total CPU Power : 42.5 W\n",
            "[codecarbon INFO @ 16:36:47] 0.097529 kWh of electricity used since the beginning.\n"
          ]
        },
        {
          "output_type": "stream",
          "name": "stdout",
          "text": [
            "9/9 [==============================] - ETA: 0s - loss: 0.1616 - acc: 0.9461\n",
            "Epoch 467: val_loss improved from 0.16276 to 0.16153, saving model to /content/drive/MyDrive/Model/initial_runs_20241202_1546/af_lstm_weights.467-0.16.h5\n",
            "9/9 [==============================] - 6s 710ms/step - loss: 0.1616 - acc: 0.9461 - val_loss: 0.1615 - val_acc: 0.9474\n",
            "Epoch 468/800\n",
            "9/9 [==============================] - ETA: 0s - loss: 0.1619 - acc: 0.9458\n",
            "Epoch 468: val_loss did not improve from 0.16153\n",
            "9/9 [==============================] - 7s 800ms/step - loss: 0.1619 - acc: 0.9458 - val_loss: 0.1628 - val_acc: 0.9466\n",
            "Epoch 469/800\n",
            "3/9 [=========>....................] - ETA: 3s - loss: 0.1613 - acc: 0.9460"
          ]
        },
        {
          "output_type": "stream",
          "name": "stderr",
          "text": [
            "[codecarbon INFO @ 16:37:02] Energy consumed for RAM : 0.004017 kWh. RAM Power : 4.753036022186279 W\n",
            "[codecarbon INFO @ 16:37:02] Energy consumed for all GPUs : 0.058043 kWh. Total GPU Power : 68.57430289048496 W\n",
            "[codecarbon INFO @ 16:37:02] Energy consumed for all CPUs : 0.035951 kWh. Total CPU Power : 42.5 W\n",
            "[codecarbon INFO @ 16:37:02] 0.098011 kWh of electricity used since the beginning.\n"
          ]
        },
        {
          "output_type": "stream",
          "name": "stdout",
          "text": [
            "9/9 [==============================] - ETA: 0s - loss: 0.1618 - acc: 0.9459\n",
            "Epoch 469: val_loss did not improve from 0.16153\n",
            "9/9 [==============================] - 6s 702ms/step - loss: 0.1618 - acc: 0.9459 - val_loss: 0.1623 - val_acc: 0.9467\n",
            "Epoch 470/800\n",
            "9/9 [==============================] - ETA: 0s - loss: 0.1610 - acc: 0.9461\n",
            "Epoch 470: val_loss did not improve from 0.16153\n",
            "9/9 [==============================] - 6s 720ms/step - loss: 0.1610 - acc: 0.9461 - val_loss: 0.1618 - val_acc: 0.9468\n",
            "Epoch 471/800\n",
            "7/9 [======================>.......] - ETA: 1s - loss: 0.1603 - acc: 0.9461"
          ]
        },
        {
          "output_type": "stream",
          "name": "stderr",
          "text": [
            "[codecarbon INFO @ 16:37:17] Energy consumed for RAM : 0.004037 kWh. RAM Power : 4.753036022186279 W\n",
            "[codecarbon INFO @ 16:37:17] Energy consumed for all GPUs : 0.058332 kWh. Total GPU Power : 69.43861407656246 W\n",
            "[codecarbon INFO @ 16:37:17] Energy consumed for all CPUs : 0.036128 kWh. Total CPU Power : 42.5 W\n",
            "[codecarbon INFO @ 16:37:17] 0.098497 kWh of electricity used since the beginning.\n"
          ]
        },
        {
          "output_type": "stream",
          "name": "stdout",
          "text": [
            "9/9 [==============================] - ETA: 0s - loss: 0.1606 - acc: 0.9459\n",
            "Epoch 471: val_loss did not improve from 0.16153\n",
            "9/9 [==============================] - 6s 705ms/step - loss: 0.1606 - acc: 0.9459 - val_loss: 0.1623 - val_acc: 0.9466\n",
            "Epoch 472/800\n",
            "9/9 [==============================] - ETA: 0s - loss: 0.1604 - acc: 0.9464\n",
            "Epoch 472: val_loss did not improve from 0.16153\n",
            "9/9 [==============================] - 7s 738ms/step - loss: 0.1604 - acc: 0.9464 - val_loss: 0.1736 - val_acc: 0.9433\n",
            "Epoch 473/800\n",
            "9/9 [==============================] - ETA: 0s - loss: 0.1707 - acc: 0.9415\n",
            "Epoch 473: val_loss did not improve from 0.16153\n",
            "9/9 [==============================] - 6s 721ms/step - loss: 0.1707 - acc: 0.9415 - val_loss: 0.1640 - val_acc: 0.9455\n",
            "Epoch 474/800\n"
          ]
        },
        {
          "output_type": "stream",
          "name": "stderr",
          "text": [
            "[codecarbon INFO @ 16:37:32] Energy consumed for RAM : 0.004057 kWh. RAM Power : 4.753036022186279 W\n",
            "[codecarbon INFO @ 16:37:32] Energy consumed for all GPUs : 0.058619 kWh. Total GPU Power : 69.07398122947455 W\n",
            "[codecarbon INFO @ 16:37:32] Energy consumed for all CPUs : 0.036305 kWh. Total CPU Power : 42.5 W\n",
            "[codecarbon INFO @ 16:37:32] 0.098981 kWh of electricity used since the beginning.\n"
          ]
        },
        {
          "output_type": "stream",
          "name": "stdout",
          "text": [
            "9/9 [==============================] - ETA: 0s - loss: 0.1621 - acc: 0.9453\n",
            "Epoch 474: val_loss did not improve from 0.16153\n",
            "9/9 [==============================] - 6s 702ms/step - loss: 0.1621 - acc: 0.9453 - val_loss: 0.1617 - val_acc: 0.9478\n",
            "Epoch 475/800\n",
            "9/9 [==============================] - ETA: 0s - loss: 0.1612 - acc: 0.9459\n",
            "Epoch 475: val_loss improved from 0.16153 to 0.16069, saving model to /content/drive/MyDrive/Model/initial_runs_20241202_1546/af_lstm_weights.475-0.16.h5\n",
            "9/9 [==============================] - 6s 721ms/step - loss: 0.1612 - acc: 0.9459 - val_loss: 0.1607 - val_acc: 0.9484\n",
            "Epoch 476/800\n",
            "4/9 [============>.................] - ETA: 3s - loss: 0.1608 - acc: 0.9462"
          ]
        },
        {
          "output_type": "stream",
          "name": "stderr",
          "text": [
            "[codecarbon INFO @ 16:37:47] Energy consumed for RAM : 0.004077 kWh. RAM Power : 4.753036022186279 W\n",
            "[codecarbon INFO @ 16:37:47] Energy consumed for all GPUs : 0.058908 kWh. Total GPU Power : 69.26325941495477 W\n",
            "[codecarbon INFO @ 16:37:47] Energy consumed for all CPUs : 0.036482 kWh. Total CPU Power : 42.5 W\n",
            "[codecarbon INFO @ 16:37:47] 0.099467 kWh of electricity used since the beginning.\n"
          ]
        },
        {
          "output_type": "stream",
          "name": "stdout",
          "text": [
            "9/9 [==============================] - ETA: 0s - loss: 0.1607 - acc: 0.9461\n",
            "Epoch 476: val_loss did not improve from 0.16069\n",
            "9/9 [==============================] - 6s 703ms/step - loss: 0.1607 - acc: 0.9461 - val_loss: 0.1621 - val_acc: 0.9475\n",
            "Epoch 477/800\n",
            "9/9 [==============================] - ETA: 0s - loss: 0.1602 - acc: 0.9463\n",
            "Epoch 477: val_loss improved from 0.16069 to 0.16028, saving model to /content/drive/MyDrive/Model/initial_runs_20241202_1546/af_lstm_weights.477-0.16.h5\n",
            "9/9 [==============================] - 6s 718ms/step - loss: 0.1602 - acc: 0.9463 - val_loss: 0.1603 - val_acc: 0.9481\n",
            "Epoch 478/800\n",
            "7/9 [======================>.......] - ETA: 1s - loss: 0.1599 - acc: 0.9465"
          ]
        },
        {
          "output_type": "stream",
          "name": "stderr",
          "text": [
            "[codecarbon INFO @ 16:38:02] Energy consumed for RAM : 0.004097 kWh. RAM Power : 4.753036022186279 W\n",
            "[codecarbon INFO @ 16:38:02] Energy consumed for all GPUs : 0.059198 kWh. Total GPU Power : 69.75062638935816 W\n",
            "[codecarbon INFO @ 16:38:02] Energy consumed for all CPUs : 0.036659 kWh. Total CPU Power : 42.5 W\n",
            "[codecarbon INFO @ 16:38:02] 0.099954 kWh of electricity used since the beginning.\n"
          ]
        },
        {
          "output_type": "stream",
          "name": "stdout",
          "text": [
            "9/9 [==============================] - ETA: 0s - loss: 0.1596 - acc: 0.9464\n",
            "Epoch 478: val_loss did not improve from 0.16028\n",
            "9/9 [==============================] - 6s 703ms/step - loss: 0.1596 - acc: 0.9464 - val_loss: 0.1618 - val_acc: 0.9478\n",
            "Epoch 479/800\n",
            "9/9 [==============================] - ETA: 0s - loss: 0.1663 - acc: 0.9433\n",
            "Epoch 479: val_loss improved from 0.16028 to 0.15904, saving model to /content/drive/MyDrive/Model/initial_runs_20241202_1546/af_lstm_weights.479-0.16.h5\n",
            "9/9 [==============================] - 6s 724ms/step - loss: 0.1663 - acc: 0.9433 - val_loss: 0.1590 - val_acc: 0.9482\n",
            "Epoch 480/800\n",
            "9/9 [==============================] - ETA: 0s - loss: 0.1637 - acc: 0.9445\n",
            "Epoch 480: val_loss did not improve from 0.15904\n",
            "9/9 [==============================] - 6s 704ms/step - loss: 0.1637 - acc: 0.9445 - val_loss: 0.1636 - val_acc: 0.9459\n",
            "Epoch 481/800\n",
            "1/9 [==>...........................] - ETA: 5s - loss: 0.1625 - acc: 0.9445"
          ]
        },
        {
          "output_type": "stream",
          "name": "stderr",
          "text": [
            "[codecarbon INFO @ 16:38:17] Energy consumed for RAM : 0.004116 kWh. RAM Power : 4.753036022186279 W\n",
            "[codecarbon INFO @ 16:38:17] Energy consumed for all GPUs : 0.059487 kWh. Total GPU Power : 69.23779693709083 W\n",
            "[codecarbon INFO @ 16:38:17] Energy consumed for all CPUs : 0.036836 kWh. Total CPU Power : 42.5 W\n",
            "[codecarbon INFO @ 16:38:17] 0.100439 kWh of electricity used since the beginning.\n",
            "[codecarbon INFO @ 16:38:17] 0.004486 g.CO2eq/s mean an estimation of 141.458610276399 kg.CO2eq/year\n"
          ]
        },
        {
          "output_type": "stream",
          "name": "stdout",
          "text": [
            "9/9 [==============================] - ETA: 0s - loss: 0.1621 - acc: 0.9454\n",
            "Epoch 481: val_loss did not improve from 0.15904\n",
            "9/9 [==============================] - 6s 719ms/step - loss: 0.1621 - acc: 0.9454 - val_loss: 0.1705 - val_acc: 0.9449\n",
            "Epoch 482/800\n",
            "9/9 [==============================] - ETA: 0s - loss: 0.1630 - acc: 0.9449\n",
            "Epoch 482: val_loss did not improve from 0.15904\n",
            "9/9 [==============================] - 6s 704ms/step - loss: 0.1630 - acc: 0.9449 - val_loss: 0.1612 - val_acc: 0.9464\n",
            "Epoch 483/800\n",
            "5/9 [===============>..............] - ETA: 2s - loss: 0.1593 - acc: 0.9463"
          ]
        },
        {
          "output_type": "stream",
          "name": "stderr",
          "text": [
            "[codecarbon INFO @ 16:38:32] Energy consumed for RAM : 0.004136 kWh. RAM Power : 4.753036022186279 W\n",
            "[codecarbon INFO @ 16:38:32] Energy consumed for all GPUs : 0.059775 kWh. Total GPU Power : 69.42125596190206 W\n",
            "[codecarbon INFO @ 16:38:32] Energy consumed for all CPUs : 0.037013 kWh. Total CPU Power : 42.5 W\n",
            "[codecarbon INFO @ 16:38:32] 0.100925 kWh of electricity used since the beginning.\n"
          ]
        },
        {
          "output_type": "stream",
          "name": "stdout",
          "text": [
            "9/9 [==============================] - ETA: 0s - loss: 0.1594 - acc: 0.9463\n",
            "Epoch 483: val_loss did not improve from 0.15904\n",
            "9/9 [==============================] - 7s 791ms/step - loss: 0.1594 - acc: 0.9463 - val_loss: 0.1616 - val_acc: 0.9472\n",
            "Epoch 484/800\n",
            "9/9 [==============================] - ETA: 0s - loss: 0.1584 - acc: 0.9471\n",
            "Epoch 484: val_loss did not improve from 0.15904\n",
            "9/9 [==============================] - 6s 706ms/step - loss: 0.1584 - acc: 0.9471 - val_loss: 0.1622 - val_acc: 0.9460\n",
            "Epoch 485/800\n",
            "7/9 [======================>.......] - ETA: 1s - loss: 0.1606 - acc: 0.9460"
          ]
        },
        {
          "output_type": "stream",
          "name": "stderr",
          "text": [
            "[codecarbon INFO @ 16:38:47] Energy consumed for RAM : 0.004156 kWh. RAM Power : 4.753036022186279 W\n",
            "[codecarbon INFO @ 16:38:47] Energy consumed for all GPUs : 0.060061 kWh. Total GPU Power : 68.63690599353382 W\n",
            "[codecarbon INFO @ 16:38:47] Energy consumed for all CPUs : 0.037190 kWh. Total CPU Power : 42.5 W\n",
            "[codecarbon INFO @ 16:38:47] 0.101408 kWh of electricity used since the beginning.\n"
          ]
        },
        {
          "output_type": "stream",
          "name": "stdout",
          "text": [
            "9/9 [==============================] - ETA: 0s - loss: 0.1609 - acc: 0.9458\n",
            "Epoch 485: val_loss did not improve from 0.15904\n",
            "9/9 [==============================] - 6s 718ms/step - loss: 0.1609 - acc: 0.9458 - val_loss: 0.1629 - val_acc: 0.9459\n",
            "Epoch 486/800\n",
            "9/9 [==============================] - ETA: 0s - loss: 0.1586 - acc: 0.9468\n",
            "Epoch 486: val_loss did not improve from 0.15904\n",
            "9/9 [==============================] - 6s 707ms/step - loss: 0.1586 - acc: 0.9468 - val_loss: 0.1651 - val_acc: 0.9460\n",
            "Epoch 487/800\n",
            "9/9 [==============================] - ETA: 0s - loss: 0.1578 - acc: 0.9475\n",
            "Epoch 487: val_loss did not improve from 0.15904\n",
            "9/9 [==============================] - 7s 786ms/step - loss: 0.1578 - acc: 0.9475 - val_loss: 0.1626 - val_acc: 0.9462\n",
            "Epoch 488/800\n"
          ]
        },
        {
          "output_type": "stream",
          "name": "stderr",
          "text": [
            "[codecarbon INFO @ 16:39:02] Energy consumed for RAM : 0.004176 kWh. RAM Power : 4.753036022186279 W\n",
            "[codecarbon INFO @ 16:39:02] Energy consumed for all GPUs : 0.060345 kWh. Total GPU Power : 68.01886597296559 W\n",
            "[codecarbon INFO @ 16:39:02] Energy consumed for all CPUs : 0.037367 kWh. Total CPU Power : 42.5 W\n",
            "[codecarbon INFO @ 16:39:02] 0.101888 kWh of electricity used since the beginning.\n"
          ]
        },
        {
          "output_type": "stream",
          "name": "stdout",
          "text": [
            "9/9 [==============================] - ETA: 0s - loss: 0.1578 - acc: 0.9471\n",
            "Epoch 488: val_loss did not improve from 0.15904\n",
            "9/9 [==============================] - 6s 706ms/step - loss: 0.1578 - acc: 0.9471 - val_loss: 0.1616 - val_acc: 0.9469\n",
            "Epoch 489/800\n",
            "9/9 [==============================] - ETA: 0s - loss: 0.1602 - acc: 0.9461\n",
            "Epoch 489: val_loss did not improve from 0.15904\n",
            "9/9 [==============================] - 6s 705ms/step - loss: 0.1602 - acc: 0.9461 - val_loss: 0.1653 - val_acc: 0.9462\n",
            "Epoch 490/800\n",
            "4/9 [============>.................] - ETA: 3s - loss: 0.1600 - acc: 0.9465"
          ]
        },
        {
          "output_type": "stream",
          "name": "stderr",
          "text": [
            "[codecarbon INFO @ 16:39:17] Energy consumed for RAM : 0.004195 kWh. RAM Power : 4.753036022186279 W\n",
            "[codecarbon INFO @ 16:39:17] Energy consumed for all GPUs : 0.060633 kWh. Total GPU Power : 69.37566936261729 W\n",
            "[codecarbon INFO @ 16:39:17] Energy consumed for all CPUs : 0.037544 kWh. Total CPU Power : 42.5 W\n",
            "[codecarbon INFO @ 16:39:17] 0.102373 kWh of electricity used since the beginning.\n"
          ]
        },
        {
          "output_type": "stream",
          "name": "stdout",
          "text": [
            "9/9 [==============================] - ETA: 0s - loss: 0.1582 - acc: 0.9471\n",
            "Epoch 490: val_loss did not improve from 0.15904\n",
            "9/9 [==============================] - 6s 707ms/step - loss: 0.1582 - acc: 0.9471 - val_loss: 0.1606 - val_acc: 0.9474\n",
            "Epoch 491/800\n",
            "9/9 [==============================] - ETA: 0s - loss: 0.1559 - acc: 0.9481\n",
            "Epoch 491: val_loss did not improve from 0.15904\n",
            "9/9 [==============================] - 6s 702ms/step - loss: 0.1559 - acc: 0.9481 - val_loss: 0.1675 - val_acc: 0.9449\n",
            "Epoch 492/800\n",
            "7/9 [======================>.......] - ETA: 1s - loss: 0.1585 - acc: 0.9469"
          ]
        },
        {
          "output_type": "stream",
          "name": "stderr",
          "text": [
            "[codecarbon INFO @ 16:39:32] Energy consumed for RAM : 0.004215 kWh. RAM Power : 4.753036022186279 W\n",
            "[codecarbon INFO @ 16:39:32] Energy consumed for all GPUs : 0.060925 kWh. Total GPU Power : 69.89223368233422 W\n",
            "[codecarbon INFO @ 16:39:32] Energy consumed for all CPUs : 0.037721 kWh. Total CPU Power : 42.5 W\n",
            "[codecarbon INFO @ 16:39:32] 0.102861 kWh of electricity used since the beginning.\n"
          ]
        },
        {
          "output_type": "stream",
          "name": "stdout",
          "text": [
            "9/9 [==============================] - ETA: 0s - loss: 0.1580 - acc: 0.9472\n",
            "Epoch 492: val_loss did not improve from 0.15904\n",
            "9/9 [==============================] - 6s 716ms/step - loss: 0.1580 - acc: 0.9472 - val_loss: 0.1644 - val_acc: 0.9461\n",
            "Epoch 493/800\n",
            "9/9 [==============================] - ETA: 0s - loss: 0.1562 - acc: 0.9479\n",
            "Epoch 493: val_loss did not improve from 0.15904\n",
            "9/9 [==============================] - 6s 706ms/step - loss: 0.1562 - acc: 0.9479 - val_loss: 0.1614 - val_acc: 0.9474\n",
            "Epoch 494/800\n",
            "9/9 [==============================] - ETA: 0s - loss: 0.1578 - acc: 0.9474\n",
            "Epoch 494: val_loss improved from 0.15904 to 0.15704, saving model to /content/drive/MyDrive/Model/initial_runs_20241202_1546/af_lstm_weights.494-0.16.h5\n",
            "9/9 [==============================] - 6s 718ms/step - loss: 0.1578 - acc: 0.9474 - val_loss: 0.1570 - val_acc: 0.9485\n",
            "Epoch 495/800\n",
            "1/9 [==>...........................] - ETA: 5s - loss: 0.1589 - acc: 0.9458"
          ]
        },
        {
          "output_type": "stream",
          "name": "stderr",
          "text": [
            "[codecarbon INFO @ 16:39:47] Energy consumed for RAM : 0.004235 kWh. RAM Power : 4.753036022186279 W\n",
            "[codecarbon INFO @ 16:39:47] Energy consumed for all GPUs : 0.061213 kWh. Total GPU Power : 69.18368990917102 W\n",
            "[codecarbon INFO @ 16:39:47] Energy consumed for all CPUs : 0.037899 kWh. Total CPU Power : 42.5 W\n",
            "[codecarbon INFO @ 16:39:47] 0.103347 kWh of electricity used since the beginning.\n"
          ]
        },
        {
          "output_type": "stream",
          "name": "stdout",
          "text": [
            "9/9 [==============================] - ETA: 0s - loss: 0.1566 - acc: 0.9476\n",
            "Epoch 495: val_loss improved from 0.15704 to 0.15658, saving model to /content/drive/MyDrive/Model/initial_runs_20241202_1546/af_lstm_weights.495-0.16.h5\n",
            "9/9 [==============================] - 6s 709ms/step - loss: 0.1566 - acc: 0.9476 - val_loss: 0.1566 - val_acc: 0.9489\n",
            "Epoch 496/800\n",
            "9/9 [==============================] - ETA: 0s - loss: 0.1558 - acc: 0.9479\n",
            "Epoch 496: val_loss improved from 0.15658 to 0.15566, saving model to /content/drive/MyDrive/Model/initial_runs_20241202_1546/af_lstm_weights.496-0.16.h5\n",
            "9/9 [==============================] - 6s 725ms/step - loss: 0.1558 - acc: 0.9479 - val_loss: 0.1557 - val_acc: 0.9494\n",
            "Epoch 497/800\n",
            "5/9 [===============>..............] - ETA: 2s - loss: 0.1563 - acc: 0.9481"
          ]
        },
        {
          "output_type": "stream",
          "name": "stderr",
          "text": [
            "[codecarbon INFO @ 16:40:02] Energy consumed for RAM : 0.004255 kWh. RAM Power : 4.753036022186279 W\n",
            "[codecarbon INFO @ 16:40:02] Energy consumed for all GPUs : 0.061501 kWh. Total GPU Power : 69.1328488937459 W\n",
            "[codecarbon INFO @ 16:40:02] Energy consumed for all CPUs : 0.038076 kWh. Total CPU Power : 42.5 W\n",
            "[codecarbon INFO @ 16:40:02] 0.103832 kWh of electricity used since the beginning.\n"
          ]
        },
        {
          "output_type": "stream",
          "name": "stdout",
          "text": [
            "9/9 [==============================] - ETA: 0s - loss: 0.1568 - acc: 0.9475\n",
            "Epoch 497: val_loss improved from 0.15566 to 0.15225, saving model to /content/drive/MyDrive/Model/initial_runs_20241202_1546/af_lstm_weights.497-0.15.h5\n",
            "9/9 [==============================] - 6s 711ms/step - loss: 0.1568 - acc: 0.9475 - val_loss: 0.1523 - val_acc: 0.9506\n",
            "Epoch 498/800\n",
            "9/9 [==============================] - ETA: 0s - loss: 0.1545 - acc: 0.9484\n",
            "Epoch 498: val_loss did not improve from 0.15225\n",
            "9/9 [==============================] - 6s 718ms/step - loss: 0.1545 - acc: 0.9484 - val_loss: 0.1542 - val_acc: 0.9502\n",
            "Epoch 499/800\n",
            "9/9 [==============================] - ETA: 0s - loss: 0.1553 - acc: 0.9481"
          ]
        },
        {
          "output_type": "stream",
          "name": "stderr",
          "text": [
            "[codecarbon INFO @ 16:40:17] Energy consumed for RAM : 0.004275 kWh. RAM Power : 4.753036022186279 W\n",
            "[codecarbon INFO @ 16:40:17] Energy consumed for all GPUs : 0.061792 kWh. Total GPU Power : 69.63143939946161 W\n",
            "[codecarbon INFO @ 16:40:17] Energy consumed for all CPUs : 0.038253 kWh. Total CPU Power : 42.5 W\n",
            "[codecarbon INFO @ 16:40:17] 0.104319 kWh of electricity used since the beginning.\n",
            "[codecarbon INFO @ 16:40:17] 0.004483 g.CO2eq/s mean an estimation of 141.39163961109395 kg.CO2eq/year\n"
          ]
        },
        {
          "output_type": "stream",
          "name": "stdout",
          "text": [
            "\n",
            "Epoch 499: val_loss did not improve from 0.15225\n",
            "9/9 [==============================] - 6s 704ms/step - loss: 0.1553 - acc: 0.9481 - val_loss: 0.1629 - val_acc: 0.9464\n",
            "Epoch 500/800\n",
            "9/9 [==============================] - ETA: 0s - loss: 0.1635 - acc: 0.9442\n",
            "Epoch 500: val_loss did not improve from 0.15225\n",
            "9/9 [==============================] - 7s 805ms/step - loss: 0.1635 - acc: 0.9442 - val_loss: 0.1559 - val_acc: 0.9491\n",
            "Epoch 501/800\n",
            "9/9 [==============================] - ETA: 0s - loss: 0.1562 - acc: 0.9479\n",
            "Epoch 501: val_loss improved from 0.15225 to 0.15218, saving model to /content/drive/MyDrive/Model/initial_runs_20241202_1546/af_lstm_weights.501-0.15.h5\n",
            "9/9 [==============================] - 6s 709ms/step - loss: 0.1562 - acc: 0.9479 - val_loss: 0.1522 - val_acc: 0.9507\n",
            "Epoch 502/800\n",
            "1/9 [==>...........................] - ETA: 5s - loss: 0.1565 - acc: 0.9470"
          ]
        },
        {
          "output_type": "stream",
          "name": "stderr",
          "text": [
            "[codecarbon INFO @ 16:40:32] Energy consumed for RAM : 0.004294 kWh. RAM Power : 4.753036022186279 W\n",
            "[codecarbon INFO @ 16:40:32] Energy consumed for all GPUs : 0.062077 kWh. Total GPU Power : 68.45494858874846 W\n",
            "[codecarbon INFO @ 16:40:32] Energy consumed for all CPUs : 0.038430 kWh. Total CPU Power : 42.5 W\n",
            "[codecarbon INFO @ 16:40:32] 0.104801 kWh of electricity used since the beginning.\n"
          ]
        },
        {
          "output_type": "stream",
          "name": "stdout",
          "text": [
            "9/9 [==============================] - ETA: 0s - loss: 0.1557 - acc: 0.9480\n",
            "Epoch 502: val_loss did not improve from 0.15218\n",
            "9/9 [==============================] - 6s 720ms/step - loss: 0.1557 - acc: 0.9480 - val_loss: 0.1556 - val_acc: 0.9491\n",
            "Epoch 503/800\n",
            "9/9 [==============================] - ETA: 0s - loss: 0.1545 - acc: 0.9486\n",
            "Epoch 503: val_loss improved from 0.15218 to 0.14899, saving model to /content/drive/MyDrive/Model/initial_runs_20241202_1546/af_lstm_weights.503-0.15.h5\n",
            "9/9 [==============================] - 6s 707ms/step - loss: 0.1545 - acc: 0.9486 - val_loss: 0.1490 - val_acc: 0.9520\n",
            "Epoch 504/800\n",
            "4/9 [============>.................] - ETA: 3s - loss: 0.1542 - acc: 0.9486"
          ]
        },
        {
          "output_type": "stream",
          "name": "stderr",
          "text": [
            "[codecarbon INFO @ 16:40:47] Energy consumed for RAM : 0.004314 kWh. RAM Power : 4.753036022186279 W\n",
            "[codecarbon INFO @ 16:40:47] Energy consumed for all GPUs : 0.062365 kWh. Total GPU Power : 69.44211583775886 W\n",
            "[codecarbon INFO @ 16:40:47] Energy consumed for all CPUs : 0.038607 kWh. Total CPU Power : 42.5 W\n",
            "[codecarbon INFO @ 16:40:47] 0.105287 kWh of electricity used since the beginning.\n"
          ]
        },
        {
          "output_type": "stream",
          "name": "stdout",
          "text": [
            "9/9 [==============================] - ETA: 0s - loss: 0.1537 - acc: 0.9488\n",
            "Epoch 504: val_loss improved from 0.14899 to 0.14816, saving model to /content/drive/MyDrive/Model/initial_runs_20241202_1546/af_lstm_weights.504-0.15.h5\n",
            "9/9 [==============================] - 7s 802ms/step - loss: 0.1537 - acc: 0.9488 - val_loss: 0.1482 - val_acc: 0.9520\n",
            "Epoch 505/800\n",
            "9/9 [==============================] - ETA: 0s - loss: 0.1553 - acc: 0.9481\n",
            "Epoch 505: val_loss improved from 0.14816 to 0.14615, saving model to /content/drive/MyDrive/Model/initial_runs_20241202_1546/af_lstm_weights.505-0.15.h5\n",
            "9/9 [==============================] - 6s 712ms/step - loss: 0.1553 - acc: 0.9481 - val_loss: 0.1462 - val_acc: 0.9528\n",
            "Epoch 506/800\n",
            "7/9 [======================>.......] - ETA: 1s - loss: 0.1576 - acc: 0.9469"
          ]
        },
        {
          "output_type": "stream",
          "name": "stderr",
          "text": [
            "[codecarbon INFO @ 16:41:02] Energy consumed for RAM : 0.004334 kWh. RAM Power : 4.753036022186279 W\n",
            "[codecarbon INFO @ 16:41:02] Energy consumed for all GPUs : 0.062648 kWh. Total GPU Power : 67.8358559529132 W\n",
            "[codecarbon INFO @ 16:41:02] Energy consumed for all CPUs : 0.038784 kWh. Total CPU Power : 42.5 W\n",
            "[codecarbon INFO @ 16:41:02] 0.105767 kWh of electricity used since the beginning.\n"
          ]
        },
        {
          "output_type": "stream",
          "name": "stdout",
          "text": [
            "9/9 [==============================] - ETA: 0s - loss: 0.1568 - acc: 0.9473\n",
            "Epoch 506: val_loss did not improve from 0.14615\n",
            "9/9 [==============================] - 6s 715ms/step - loss: 0.1568 - acc: 0.9473 - val_loss: 0.1502 - val_acc: 0.9514\n",
            "Epoch 507/800\n",
            "9/9 [==============================] - ETA: 0s - loss: 0.1543 - acc: 0.9485\n",
            "Epoch 507: val_loss did not improve from 0.14615\n",
            "9/9 [==============================] - 6s 707ms/step - loss: 0.1543 - acc: 0.9485 - val_loss: 0.1509 - val_acc: 0.9511\n",
            "Epoch 508/800\n",
            "9/9 [==============================] - ETA: 0s - loss: 0.1529 - acc: 0.9493\n",
            "Epoch 508: val_loss improved from 0.14615 to 0.14503, saving model to /content/drive/MyDrive/Model/initial_runs_20241202_1546/af_lstm_weights.508-0.15.h5\n",
            "9/9 [==============================] - 6s 720ms/step - loss: 0.1529 - acc: 0.9493 - val_loss: 0.1450 - val_acc: 0.9535\n",
            "Epoch 509/800\n"
          ]
        },
        {
          "output_type": "stream",
          "name": "stderr",
          "text": [
            "[codecarbon INFO @ 16:41:17] Energy consumed for RAM : 0.004354 kWh. RAM Power : 4.753036022186279 W\n",
            "[codecarbon INFO @ 16:41:17] Energy consumed for all GPUs : 0.062936 kWh. Total GPU Power : 69.18300938148134 W\n",
            "[codecarbon INFO @ 16:41:17] Energy consumed for all CPUs : 0.038961 kWh. Total CPU Power : 42.5 W\n",
            "[codecarbon INFO @ 16:41:17] 0.106252 kWh of electricity used since the beginning.\n"
          ]
        },
        {
          "output_type": "stream",
          "name": "stdout",
          "text": [
            "9/9 [==============================] - ETA: 0s - loss: 0.1639 - acc: 0.9440\n",
            "Epoch 509: val_loss did not improve from 0.14503\n",
            "9/9 [==============================] - 7s 791ms/step - loss: 0.1639 - acc: 0.9440 - val_loss: 0.1458 - val_acc: 0.9531\n",
            "Epoch 510/800\n",
            "9/9 [==============================] - ETA: 0s - loss: 0.1560 - acc: 0.9477\n",
            "Epoch 510: val_loss did not improve from 0.14503\n",
            "9/9 [==============================] - 6s 713ms/step - loss: 0.1560 - acc: 0.9477 - val_loss: 0.1511 - val_acc: 0.9515\n",
            "Epoch 511/800\n",
            "3/9 [=========>....................] - ETA: 4s - loss: 0.1551 - acc: 0.9480"
          ]
        },
        {
          "output_type": "stream",
          "name": "stderr",
          "text": [
            "[codecarbon INFO @ 16:41:32] Energy consumed for RAM : 0.004374 kWh. RAM Power : 4.753036022186279 W\n",
            "[codecarbon INFO @ 16:41:32] Energy consumed for all GPUs : 0.063222 kWh. Total GPU Power : 68.53819821052078 W\n",
            "[codecarbon INFO @ 16:41:32] Energy consumed for all CPUs : 0.039139 kWh. Total CPU Power : 42.5 W\n",
            "[codecarbon INFO @ 16:41:32] 0.106735 kWh of electricity used since the beginning.\n"
          ]
        },
        {
          "output_type": "stream",
          "name": "stdout",
          "text": [
            "9/9 [==============================] - ETA: 0s - loss: 0.1556 - acc: 0.9478\n",
            "Epoch 511: val_loss did not improve from 0.14503\n",
            "9/9 [==============================] - 6s 710ms/step - loss: 0.1556 - acc: 0.9478 - val_loss: 0.1617 - val_acc: 0.9469\n",
            "Epoch 512/800\n",
            "9/9 [==============================] - ETA: 0s - loss: 0.1543 - acc: 0.9487\n",
            "Epoch 512: val_loss did not improve from 0.14503\n",
            "9/9 [==============================] - 7s 786ms/step - loss: 0.1543 - acc: 0.9487 - val_loss: 0.1482 - val_acc: 0.9521\n",
            "Epoch 513/800\n",
            "6/9 [===================>..........] - ETA: 1s - loss: 0.1531 - acc: 0.9490"
          ]
        },
        {
          "output_type": "stream",
          "name": "stderr",
          "text": [
            "[codecarbon INFO @ 16:41:47] Energy consumed for RAM : 0.004393 kWh. RAM Power : 4.753036022186279 W\n",
            "[codecarbon INFO @ 16:41:47] Energy consumed for all GPUs : 0.063507 kWh. Total GPU Power : 68.29927458576752 W\n",
            "[codecarbon INFO @ 16:41:47] Energy consumed for all CPUs : 0.039316 kWh. Total CPU Power : 42.5 W\n",
            "[codecarbon INFO @ 16:41:47] 0.107216 kWh of electricity used since the beginning.\n"
          ]
        },
        {
          "output_type": "stream",
          "name": "stdout",
          "text": [
            "9/9 [==============================] - ETA: 0s - loss: 0.1527 - acc: 0.9491\n",
            "Epoch 513: val_loss did not improve from 0.14503\n",
            "9/9 [==============================] - 6s 713ms/step - loss: 0.1527 - acc: 0.9491 - val_loss: 0.1466 - val_acc: 0.9529\n",
            "Epoch 514/800\n",
            "9/9 [==============================] - ETA: 0s - loss: 0.1532 - acc: 0.9490\n",
            "Epoch 514: val_loss did not improve from 0.14503\n",
            "9/9 [==============================] - 6s 702ms/step - loss: 0.1532 - acc: 0.9490 - val_loss: 0.1474 - val_acc: 0.9524\n",
            "Epoch 515/800\n",
            "9/9 [==============================] - ETA: 0s - loss: 0.1530 - acc: 0.9488"
          ]
        },
        {
          "output_type": "stream",
          "name": "stderr",
          "text": [
            "[codecarbon INFO @ 16:42:02] Energy consumed for RAM : 0.004413 kWh. RAM Power : 4.753036022186279 W\n",
            "[codecarbon INFO @ 16:42:02] Energy consumed for all GPUs : 0.063795 kWh. Total GPU Power : 69.3791788885287 W\n",
            "[codecarbon INFO @ 16:42:02] Energy consumed for all CPUs : 0.039493 kWh. Total CPU Power : 42.5 W\n",
            "[codecarbon INFO @ 16:42:02] 0.107701 kWh of electricity used since the beginning.\n"
          ]
        },
        {
          "output_type": "stream",
          "name": "stdout",
          "text": [
            "\n",
            "Epoch 515: val_loss did not improve from 0.14503\n",
            "9/9 [==============================] - 7s 795ms/step - loss: 0.1530 - acc: 0.9488 - val_loss: 0.1488 - val_acc: 0.9518\n",
            "Epoch 516/800\n",
            "9/9 [==============================] - ETA: 0s - loss: 0.1527 - acc: 0.9491\n",
            "Epoch 516: val_loss did not improve from 0.14503\n",
            "9/9 [==============================] - 6s 705ms/step - loss: 0.1527 - acc: 0.9491 - val_loss: 0.1518 - val_acc: 0.9506\n",
            "Epoch 517/800\n",
            "9/9 [==============================] - ETA: 0s - loss: 0.1516 - acc: 0.9498\n",
            "Epoch 517: val_loss did not improve from 0.14503\n",
            "9/9 [==============================] - 6s 712ms/step - loss: 0.1516 - acc: 0.9498 - val_loss: 0.1485 - val_acc: 0.9519\n",
            "Epoch 518/800\n",
            "2/9 [=====>........................] - ETA: 4s - loss: 0.1517 - acc: 0.9496"
          ]
        },
        {
          "output_type": "stream",
          "name": "stderr",
          "text": [
            "[codecarbon INFO @ 16:42:17] Energy consumed for RAM : 0.004433 kWh. RAM Power : 4.753036022186279 W\n",
            "[codecarbon INFO @ 16:42:17] Energy consumed for all GPUs : 0.064081 kWh. Total GPU Power : 68.60551758095838 W\n",
            "[codecarbon INFO @ 16:42:17] Energy consumed for all CPUs : 0.039670 kWh. Total CPU Power : 42.5 W\n",
            "[codecarbon INFO @ 16:42:17] 0.108184 kWh of electricity used since the beginning.\n",
            "[codecarbon INFO @ 16:42:17] 0.004466 g.CO2eq/s mean an estimation of 140.8315505380117 kg.CO2eq/year\n"
          ]
        },
        {
          "output_type": "stream",
          "name": "stdout",
          "text": [
            "9/9 [==============================] - ETA: 0s - loss: 0.1683 - acc: 0.9420\n",
            "Epoch 518: val_loss did not improve from 0.14503\n",
            "9/9 [==============================] - 6s 703ms/step - loss: 0.1683 - acc: 0.9420 - val_loss: 0.2309 - val_acc: 0.9201\n",
            "Epoch 519/800\n",
            "9/9 [==============================] - ETA: 0s - loss: 0.1809 - acc: 0.9361\n",
            "Epoch 519: val_loss did not improve from 0.14503\n",
            "9/9 [==============================] - 6s 714ms/step - loss: 0.1809 - acc: 0.9361 - val_loss: 0.1529 - val_acc: 0.9513\n",
            "Epoch 520/800\n",
            "6/9 [===================>..........] - ETA: 1s - loss: 0.1633 - acc: 0.9441"
          ]
        },
        {
          "output_type": "stream",
          "name": "stderr",
          "text": [
            "[codecarbon INFO @ 16:42:32] Energy consumed for RAM : 0.004453 kWh. RAM Power : 4.753036022186279 W\n",
            "[codecarbon INFO @ 16:42:32] Energy consumed for all GPUs : 0.064370 kWh. Total GPU Power : 69.46369401971158 W\n",
            "[codecarbon INFO @ 16:42:32] Energy consumed for all CPUs : 0.039847 kWh. Total CPU Power : 42.5 W\n",
            "[codecarbon INFO @ 16:42:32] 0.108669 kWh of electricity used since the beginning.\n"
          ]
        },
        {
          "output_type": "stream",
          "name": "stdout",
          "text": [
            "9/9 [==============================] - ETA: 0s - loss: 0.1621 - acc: 0.9446\n",
            "Epoch 520: val_loss did not improve from 0.14503\n",
            "9/9 [==============================] - 6s 703ms/step - loss: 0.1621 - acc: 0.9446 - val_loss: 0.1545 - val_acc: 0.9498\n",
            "Epoch 521/800\n",
            "9/9 [==============================] - ETA: 0s - loss: 0.1574 - acc: 0.9469\n",
            "Epoch 521: val_loss did not improve from 0.14503\n",
            "9/9 [==============================] - 6s 718ms/step - loss: 0.1574 - acc: 0.9469 - val_loss: 0.1592 - val_acc: 0.9476\n",
            "Epoch 522/800\n",
            "9/9 [==============================] - ETA: 0s - loss: 0.1547 - acc: 0.9484\n",
            "Epoch 522: val_loss did not improve from 0.14503\n",
            "9/9 [==============================] - 6s 703ms/step - loss: 0.1547 - acc: 0.9484 - val_loss: 0.1472 - val_acc: 0.9523\n",
            "Epoch 523/800\n"
          ]
        },
        {
          "output_type": "stream",
          "name": "stderr",
          "text": [
            "[codecarbon INFO @ 16:42:47] Energy consumed for RAM : 0.004473 kWh. RAM Power : 4.753036022186279 W\n",
            "[codecarbon INFO @ 16:42:47] Energy consumed for all GPUs : 0.064658 kWh. Total GPU Power : 69.26331617455963 W\n",
            "[codecarbon INFO @ 16:42:47] Energy consumed for all CPUs : 0.040024 kWh. Total CPU Power : 42.5 W\n",
            "[codecarbon INFO @ 16:42:47] 0.109155 kWh of electricity used since the beginning.\n"
          ]
        },
        {
          "output_type": "stream",
          "name": "stdout",
          "text": [
            "9/9 [==============================] - ETA: 0s - loss: 0.1534 - acc: 0.9487\n",
            "Epoch 523: val_loss did not improve from 0.14503\n",
            "9/9 [==============================] - 6s 725ms/step - loss: 0.1534 - acc: 0.9487 - val_loss: 0.1464 - val_acc: 0.9529\n",
            "Epoch 524/800\n",
            "9/9 [==============================] - ETA: 0s - loss: 0.1524 - acc: 0.9492\n",
            "Epoch 524: val_loss did not improve from 0.14503\n",
            "9/9 [==============================] - 6s 702ms/step - loss: 0.1524 - acc: 0.9492 - val_loss: 0.1459 - val_acc: 0.9532\n",
            "Epoch 525/800\n",
            "3/9 [=========>....................] - ETA: 3s - loss: 0.1521 - acc: 0.9493"
          ]
        },
        {
          "output_type": "stream",
          "name": "stderr",
          "text": [
            "[codecarbon INFO @ 16:43:02] Energy consumed for RAM : 0.004492 kWh. RAM Power : 4.753036022186279 W\n",
            "[codecarbon INFO @ 16:43:02] Energy consumed for all GPUs : 0.064949 kWh. Total GPU Power : 69.83861953788507 W\n",
            "[codecarbon INFO @ 16:43:02] Energy consumed for all CPUs : 0.040201 kWh. Total CPU Power : 42.5 W\n",
            "[codecarbon INFO @ 16:43:02] 0.109643 kWh of electricity used since the beginning.\n"
          ]
        },
        {
          "output_type": "stream",
          "name": "stdout",
          "text": [
            "9/9 [==============================] - ETA: 0s - loss: 0.1523 - acc: 0.9491\n",
            "Epoch 525: val_loss did not improve from 0.14503\n",
            "9/9 [==============================] - 7s 796ms/step - loss: 0.1523 - acc: 0.9491 - val_loss: 0.1513 - val_acc: 0.9507\n",
            "Epoch 526/800\n",
            "9/9 [==============================] - ETA: 0s - loss: 0.1525 - acc: 0.9493\n",
            "Epoch 526: val_loss did not improve from 0.14503\n",
            "9/9 [==============================] - 7s 782ms/step - loss: 0.1525 - acc: 0.9493 - val_loss: 0.1607 - val_acc: 0.9472\n",
            "Epoch 527/800\n",
            "5/9 [===============>..............] - ETA: 2s - loss: 0.1552 - acc: 0.9482"
          ]
        },
        {
          "output_type": "stream",
          "name": "stderr",
          "text": [
            "[codecarbon INFO @ 16:43:17] Energy consumed for RAM : 0.004512 kWh. RAM Power : 4.753036022186279 W\n",
            "[codecarbon INFO @ 16:43:17] Energy consumed for all GPUs : 0.065228 kWh. Total GPU Power : 67.01083700364627 W\n",
            "[codecarbon INFO @ 16:43:17] Energy consumed for all CPUs : 0.040378 kWh. Total CPU Power : 42.5 W\n",
            "[codecarbon INFO @ 16:43:17] 0.110118 kWh of electricity used since the beginning.\n"
          ]
        },
        {
          "output_type": "stream",
          "name": "stdout",
          "text": [
            "9/9 [==============================] - ETA: 0s - loss: 0.1548 - acc: 0.9485\n",
            "Epoch 527: val_loss improved from 0.14503 to 0.14354, saving model to /content/drive/MyDrive/Model/initial_runs_20241202_1546/af_lstm_weights.527-0.14.h5\n",
            "9/9 [==============================] - 7s 819ms/step - loss: 0.1548 - acc: 0.9485 - val_loss: 0.1435 - val_acc: 0.9542\n",
            "Epoch 528/800\n",
            "9/9 [==============================] - ETA: 0s - loss: 0.1521 - acc: 0.9492\n",
            "Epoch 528: val_loss did not improve from 0.14354\n",
            "9/9 [==============================] - 6s 714ms/step - loss: 0.1521 - acc: 0.9492 - val_loss: 0.1471 - val_acc: 0.9529\n",
            "Epoch 529/800\n",
            "7/9 [======================>.......] - ETA: 1s - loss: 0.1518 - acc: 0.9495"
          ]
        },
        {
          "output_type": "stream",
          "name": "stderr",
          "text": [
            "[codecarbon INFO @ 16:43:32] Energy consumed for RAM : 0.004532 kWh. RAM Power : 4.753036022186279 W\n",
            "[codecarbon INFO @ 16:43:32] Energy consumed for all GPUs : 0.065511 kWh. Total GPU Power : 67.90180561418686 W\n",
            "[codecarbon INFO @ 16:43:32] Energy consumed for all CPUs : 0.040555 kWh. Total CPU Power : 42.5 W\n",
            "[codecarbon INFO @ 16:43:32] 0.110598 kWh of electricity used since the beginning.\n"
          ]
        },
        {
          "output_type": "stream",
          "name": "stdout",
          "text": [
            "9/9 [==============================] - ETA: 0s - loss: 0.1514 - acc: 0.9496\n",
            "Epoch 529: val_loss did not improve from 0.14354\n",
            "9/9 [==============================] - 6s 709ms/step - loss: 0.1514 - acc: 0.9496 - val_loss: 0.1564 - val_acc: 0.9486\n",
            "Epoch 530/800\n",
            "9/9 [==============================] - ETA: 0s - loss: 0.1504 - acc: 0.9500\n",
            "Epoch 530: val_loss did not improve from 0.14354\n",
            "9/9 [==============================] - 6s 708ms/step - loss: 0.1504 - acc: 0.9500 - val_loss: 0.1449 - val_acc: 0.9532\n",
            "Epoch 531/800\n",
            "9/9 [==============================] - ETA: 0s - loss: 0.1495 - acc: 0.9504\n",
            "Epoch 531: val_loss did not improve from 0.14354\n",
            "9/9 [==============================] - 6s 704ms/step - loss: 0.1495 - acc: 0.9504 - val_loss: 0.1555 - val_acc: 0.9491\n",
            "Epoch 532/800\n",
            "1/9 [==>...........................] - ETA: 5s - loss: 0.1511 - acc: 0.9501"
          ]
        },
        {
          "output_type": "stream",
          "name": "stderr",
          "text": [
            "[codecarbon INFO @ 16:43:47] Energy consumed for RAM : 0.004552 kWh. RAM Power : 4.753036022186279 W\n",
            "[codecarbon INFO @ 16:43:47] Energy consumed for all GPUs : 0.065801 kWh. Total GPU Power : 69.7198403576955 W\n",
            "[codecarbon INFO @ 16:43:47] Energy consumed for all CPUs : 0.040732 kWh. Total CPU Power : 42.5 W\n",
            "[codecarbon INFO @ 16:43:47] 0.111085 kWh of electricity used since the beginning.\n"
          ]
        },
        {
          "output_type": "stream",
          "name": "stdout",
          "text": [
            "9/9 [==============================] - ETA: 0s - loss: 0.1503 - acc: 0.9502\n",
            "Epoch 532: val_loss improved from 0.14354 to 0.14334, saving model to /content/drive/MyDrive/Model/initial_runs_20241202_1546/af_lstm_weights.532-0.14.h5\n",
            "9/9 [==============================] - 6s 719ms/step - loss: 0.1503 - acc: 0.9502 - val_loss: 0.1433 - val_acc: 0.9540\n",
            "Epoch 533/800\n",
            "9/9 [==============================] - ETA: 0s - loss: 0.1540 - acc: 0.9485\n",
            "Epoch 533: val_loss did not improve from 0.14334\n",
            "9/9 [==============================] - 7s 784ms/step - loss: 0.1540 - acc: 0.9485 - val_loss: 0.1438 - val_acc: 0.9539\n",
            "Epoch 534/800\n",
            "3/9 [=========>....................] - ETA: 3s - loss: 0.1519 - acc: 0.9494"
          ]
        },
        {
          "output_type": "stream",
          "name": "stderr",
          "text": [
            "[codecarbon INFO @ 16:44:02] Energy consumed for RAM : 0.004571 kWh. RAM Power : 4.753036022186279 W\n",
            "[codecarbon INFO @ 16:44:02] Energy consumed for all GPUs : 0.066085 kWh. Total GPU Power : 68.08027958576454 W\n",
            "[codecarbon INFO @ 16:44:02] Energy consumed for all CPUs : 0.040910 kWh. Total CPU Power : 42.5 W\n",
            "[codecarbon INFO @ 16:44:02] 0.111566 kWh of electricity used since the beginning.\n"
          ]
        },
        {
          "output_type": "stream",
          "name": "stdout",
          "text": [
            "9/9 [==============================] - ETA: 0s - loss: 0.1514 - acc: 0.9497\n",
            "Epoch 534: val_loss did not improve from 0.14334\n",
            "9/9 [==============================] - 6s 718ms/step - loss: 0.1514 - acc: 0.9497 - val_loss: 0.1488 - val_acc: 0.9519\n",
            "Epoch 535/800\n",
            "9/9 [==============================] - ETA: 0s - loss: 0.1509 - acc: 0.9497\n",
            "Epoch 535: val_loss did not improve from 0.14334\n",
            "9/9 [==============================] - 6s 707ms/step - loss: 0.1509 - acc: 0.9497 - val_loss: 0.1567 - val_acc: 0.9483\n",
            "Epoch 536/800\n",
            "7/9 [======================>.......] - ETA: 1s - loss: 0.1542 - acc: 0.9481"
          ]
        },
        {
          "output_type": "stream",
          "name": "stderr",
          "text": [
            "[codecarbon INFO @ 16:44:17] Energy consumed for RAM : 0.004591 kWh. RAM Power : 4.753036022186279 W\n",
            "[codecarbon INFO @ 16:44:17] Energy consumed for all GPUs : 0.066375 kWh. Total GPU Power : 69.62531840727797 W\n",
            "[codecarbon INFO @ 16:44:17] Energy consumed for all CPUs : 0.041087 kWh. Total CPU Power : 42.5 W\n",
            "[codecarbon INFO @ 16:44:17] 0.112054 kWh of electricity used since the beginning.\n",
            "[codecarbon INFO @ 16:44:17] 0.004472 g.CO2eq/s mean an estimation of 141.02409970353423 kg.CO2eq/year\n"
          ]
        },
        {
          "output_type": "stream",
          "name": "stdout",
          "text": [
            "9/9 [==============================] - ETA: 0s - loss: 0.1545 - acc: 0.9481\n",
            "Epoch 536: val_loss did not improve from 0.14334\n",
            "9/9 [==============================] - 6s 714ms/step - loss: 0.1545 - acc: 0.9481 - val_loss: 0.1471 - val_acc: 0.9524\n",
            "Epoch 537/800\n",
            "9/9 [==============================] - ETA: 0s - loss: 0.1515 - acc: 0.9495\n",
            "Epoch 537: val_loss did not improve from 0.14334\n",
            "9/9 [==============================] - 6s 704ms/step - loss: 0.1515 - acc: 0.9495 - val_loss: 0.1582 - val_acc: 0.9480\n",
            "Epoch 538/800\n",
            "9/9 [==============================] - ETA: 0s - loss: 0.1498 - acc: 0.9502\n",
            "Epoch 538: val_loss did not improve from 0.14334\n",
            "9/9 [==============================] - 6s 727ms/step - loss: 0.1498 - acc: 0.9502 - val_loss: 0.1491 - val_acc: 0.9516\n",
            "Epoch 539/800\n",
            "1/9 [==>...........................] - ETA: 5s - loss: 0.1487 - acc: 0.9506"
          ]
        },
        {
          "output_type": "stream",
          "name": "stderr",
          "text": [
            "[codecarbon INFO @ 16:44:32] Energy consumed for RAM : 0.004611 kWh. RAM Power : 4.753036022186279 W\n",
            "[codecarbon INFO @ 16:44:32] Energy consumed for all GPUs : 0.066664 kWh. Total GPU Power : 69.38938866520982 W\n",
            "[codecarbon INFO @ 16:44:32] Energy consumed for all CPUs : 0.041264 kWh. Total CPU Power : 42.5 W\n",
            "[codecarbon INFO @ 16:44:32] 0.112539 kWh of electricity used since the beginning.\n"
          ]
        },
        {
          "output_type": "stream",
          "name": "stdout",
          "text": [
            "9/9 [==============================] - ETA: 0s - loss: 0.1491 - acc: 0.9506\n",
            "Epoch 539: val_loss did not improve from 0.14334\n",
            "9/9 [==============================] - 6s 705ms/step - loss: 0.1491 - acc: 0.9506 - val_loss: 0.1480 - val_acc: 0.9519\n",
            "Epoch 540/800\n",
            "9/9 [==============================] - ETA: 0s - loss: 0.1493 - acc: 0.9504\n",
            "Epoch 540: val_loss did not improve from 0.14334\n",
            "9/9 [==============================] - 7s 798ms/step - loss: 0.1493 - acc: 0.9504 - val_loss: 0.1502 - val_acc: 0.9510\n",
            "Epoch 541/800\n",
            "3/9 [=========>....................] - ETA: 3s - loss: 0.1485 - acc: 0.9508"
          ]
        },
        {
          "output_type": "stream",
          "name": "stderr",
          "text": [
            "[codecarbon INFO @ 16:44:47] Energy consumed for RAM : 0.004631 kWh. RAM Power : 4.753036022186279 W\n",
            "[codecarbon INFO @ 16:44:47] Energy consumed for all GPUs : 0.066948 kWh. Total GPU Power : 68.21958862161023 W\n",
            "[codecarbon INFO @ 16:44:47] Energy consumed for all CPUs : 0.041441 kWh. Total CPU Power : 42.5 W\n",
            "[codecarbon INFO @ 16:44:47] 0.113020 kWh of electricity used since the beginning.\n"
          ]
        },
        {
          "output_type": "stream",
          "name": "stdout",
          "text": [
            "9/9 [==============================] - ETA: 0s - loss: 0.1487 - acc: 0.9507\n",
            "Epoch 541: val_loss did not improve from 0.14334\n",
            "9/9 [==============================] - 6s 703ms/step - loss: 0.1487 - acc: 0.9507 - val_loss: 0.1549 - val_acc: 0.9494\n",
            "Epoch 542/800\n",
            "9/9 [==============================] - ETA: 0s - loss: 0.1488 - acc: 0.9506\n",
            "Epoch 542: val_loss did not improve from 0.14334\n",
            "9/9 [==============================] - 6s 715ms/step - loss: 0.1488 - acc: 0.9506 - val_loss: 0.1481 - val_acc: 0.9522\n",
            "Epoch 543/800\n",
            "7/9 [======================>.......] - ETA: 1s - loss: 0.1485 - acc: 0.9509"
          ]
        },
        {
          "output_type": "stream",
          "name": "stderr",
          "text": [
            "[codecarbon INFO @ 16:45:02] Energy consumed for RAM : 0.004651 kWh. RAM Power : 4.753036022186279 W\n",
            "[codecarbon INFO @ 16:45:02] Energy consumed for all GPUs : 0.067239 kWh. Total GPU Power : 69.73024848407768 W\n",
            "[codecarbon INFO @ 16:45:02] Energy consumed for all CPUs : 0.041618 kWh. Total CPU Power : 42.5 W\n",
            "[codecarbon INFO @ 16:45:02] 0.113507 kWh of electricity used since the beginning.\n"
          ]
        },
        {
          "output_type": "stream",
          "name": "stdout",
          "text": [
            "9/9 [==============================] - ETA: 0s - loss: 0.1488 - acc: 0.9507\n",
            "Epoch 543: val_loss improved from 0.14334 to 0.14267, saving model to /content/drive/MyDrive/Model/initial_runs_20241202_1546/af_lstm_weights.543-0.14.h5\n",
            "9/9 [==============================] - 6s 710ms/step - loss: 0.1488 - acc: 0.9507 - val_loss: 0.1427 - val_acc: 0.9541\n",
            "Epoch 544/800\n",
            "9/9 [==============================] - ETA: 0s - loss: 0.1501 - acc: 0.9502\n",
            "Epoch 544: val_loss improved from 0.14267 to 0.14165, saving model to /content/drive/MyDrive/Model/initial_runs_20241202_1546/af_lstm_weights.544-0.14.h5\n",
            "9/9 [==============================] - 6s 719ms/step - loss: 0.1501 - acc: 0.9502 - val_loss: 0.1416 - val_acc: 0.9545\n",
            "Epoch 545/800\n",
            "9/9 [==============================] - ETA: 0s - loss: 0.1514 - acc: 0.9495\n",
            "Epoch 545: val_loss improved from 0.14165 to 0.14110, saving model to /content/drive/MyDrive/Model/initial_runs_20241202_1546/af_lstm_weights.545-0.14.h5\n",
            "9/9 [==============================] - 6s 718ms/step - loss: 0.1514 - acc: 0.9495 - val_loss: 0.1411 - val_acc: 0.9542\n",
            "Epoch 546/800\n"
          ]
        },
        {
          "output_type": "stream",
          "name": "stderr",
          "text": [
            "[codecarbon INFO @ 16:45:17] Energy consumed for RAM : 0.004670 kWh. RAM Power : 4.753036022186279 W\n",
            "[codecarbon INFO @ 16:45:17] Energy consumed for all GPUs : 0.067527 kWh. Total GPU Power : 69.16497743798811 W\n",
            "[codecarbon INFO @ 16:45:17] Energy consumed for all CPUs : 0.041795 kWh. Total CPU Power : 42.5 W\n",
            "[codecarbon INFO @ 16:45:17] 0.113993 kWh of electricity used since the beginning.\n"
          ]
        },
        {
          "output_type": "stream",
          "name": "stdout",
          "text": [
            "9/9 [==============================] - ETA: 0s - loss: 0.1540 - acc: 0.9479\n",
            "Epoch 546: val_loss did not improve from 0.14110\n",
            "9/9 [==============================] - 6s 709ms/step - loss: 0.1540 - acc: 0.9479 - val_loss: 0.1538 - val_acc: 0.9497\n",
            "Epoch 547/800\n",
            "9/9 [==============================] - ETA: 0s - loss: 0.1496 - acc: 0.9503\n",
            "Epoch 547: val_loss did not improve from 0.14110\n",
            "9/9 [==============================] - 6s 713ms/step - loss: 0.1496 - acc: 0.9503 - val_loss: 0.1467 - val_acc: 0.9524\n",
            "Epoch 548/800\n",
            "4/9 [============>.................] - ETA: 3s - loss: 0.1472 - acc: 0.9514"
          ]
        },
        {
          "output_type": "stream",
          "name": "stderr",
          "text": [
            "[codecarbon INFO @ 16:45:32] Energy consumed for RAM : 0.004690 kWh. RAM Power : 4.753036022186279 W\n",
            "[codecarbon INFO @ 16:45:32] Energy consumed for all GPUs : 0.067815 kWh. Total GPU Power : 69.19989999639637 W\n",
            "[codecarbon INFO @ 16:45:32] Energy consumed for all CPUs : 0.041972 kWh. Total CPU Power : 42.5 W\n",
            "[codecarbon INFO @ 16:45:32] 0.114478 kWh of electricity used since the beginning.\n"
          ]
        },
        {
          "output_type": "stream",
          "name": "stdout",
          "text": [
            "9/9 [==============================] - ETA: 0s - loss: 0.1475 - acc: 0.9511\n",
            "Epoch 548: val_loss did not improve from 0.14110\n",
            "9/9 [==============================] - 6s 704ms/step - loss: 0.1475 - acc: 0.9511 - val_loss: 0.1436 - val_acc: 0.9536\n",
            "Epoch 549/800\n",
            "9/9 [==============================] - ETA: 0s - loss: 0.1479 - acc: 0.9508\n",
            "Epoch 549: val_loss did not improve from 0.14110\n",
            "9/9 [==============================] - 6s 711ms/step - loss: 0.1479 - acc: 0.9508 - val_loss: 0.1511 - val_acc: 0.9504\n",
            "Epoch 550/800\n",
            "7/9 [======================>.......] - ETA: 1s - loss: 0.1495 - acc: 0.9501"
          ]
        },
        {
          "output_type": "stream",
          "name": "stderr",
          "text": [
            "[codecarbon INFO @ 16:45:47] Energy consumed for RAM : 0.004710 kWh. RAM Power : 4.753036022186279 W\n",
            "[codecarbon INFO @ 16:45:47] Energy consumed for all GPUs : 0.068106 kWh. Total GPU Power : 69.84304880267405 W\n",
            "[codecarbon INFO @ 16:45:47] Energy consumed for all CPUs : 0.042150 kWh. Total CPU Power : 42.5 W\n",
            "[codecarbon INFO @ 16:45:47] 0.114966 kWh of electricity used since the beginning.\n"
          ]
        },
        {
          "output_type": "stream",
          "name": "stdout",
          "text": [
            "9/9 [==============================] - ETA: 0s - loss: 0.1497 - acc: 0.9500\n",
            "Epoch 550: val_loss did not improve from 0.14110\n",
            "9/9 [==============================] - 6s 705ms/step - loss: 0.1497 - acc: 0.9500 - val_loss: 0.1413 - val_acc: 0.9543\n",
            "Epoch 551/800\n",
            "9/9 [==============================] - ETA: 0s - loss: 0.1475 - acc: 0.9510\n",
            "Epoch 551: val_loss improved from 0.14110 to 0.13702, saving model to /content/drive/MyDrive/Model/initial_runs_20241202_1546/af_lstm_weights.551-0.14.h5\n",
            "9/9 [==============================] - 6s 720ms/step - loss: 0.1475 - acc: 0.9510 - val_loss: 0.1370 - val_acc: 0.9558\n",
            "Epoch 552/800\n",
            "9/9 [==============================] - ETA: 0s - loss: 0.1505 - acc: 0.9498\n",
            "Epoch 552: val_loss improved from 0.13702 to 0.13504, saving model to /content/drive/MyDrive/Model/initial_runs_20241202_1546/af_lstm_weights.552-0.14.h5\n",
            "9/9 [==============================] - 6s 712ms/step - loss: 0.1505 - acc: 0.9498 - val_loss: 0.1350 - val_acc: 0.9567\n",
            "Epoch 553/800\n",
            "1/9 [==>...........................] - ETA: 5s - loss: 0.1581 - acc: 0.9444"
          ]
        },
        {
          "output_type": "stream",
          "name": "stderr",
          "text": [
            "[codecarbon INFO @ 16:46:02] Energy consumed for RAM : 0.004730 kWh. RAM Power : 4.753036022186279 W\n",
            "[codecarbon INFO @ 16:46:02] Energy consumed for all GPUs : 0.068394 kWh. Total GPU Power : 69.10851290611191 W\n",
            "[codecarbon INFO @ 16:46:02] Energy consumed for all CPUs : 0.042327 kWh. Total CPU Power : 42.5 W\n",
            "[codecarbon INFO @ 16:46:02] 0.115450 kWh of electricity used since the beginning.\n"
          ]
        },
        {
          "output_type": "stream",
          "name": "stdout",
          "text": [
            "9/9 [==============================] - ETA: 0s - loss: 0.1616 - acc: 0.9446\n",
            "Epoch 553: val_loss did not improve from 0.13504\n",
            "9/9 [==============================] - 6s 729ms/step - loss: 0.1616 - acc: 0.9446 - val_loss: 0.1443 - val_acc: 0.9532\n",
            "Epoch 554/800\n",
            "9/9 [==============================] - ETA: 0s - loss: 0.1505 - acc: 0.9498\n",
            "Epoch 554: val_loss did not improve from 0.13504\n",
            "9/9 [==============================] - 6s 705ms/step - loss: 0.1505 - acc: 0.9498 - val_loss: 0.1397 - val_acc: 0.9550\n",
            "Epoch 555/800\n",
            "5/9 [===============>..............] - ETA: 2s - loss: 0.1465 - acc: 0.9514"
          ]
        },
        {
          "output_type": "stream",
          "name": "stderr",
          "text": [
            "[codecarbon INFO @ 16:46:17] Energy consumed for RAM : 0.004750 kWh. RAM Power : 4.753036022186279 W\n",
            "[codecarbon INFO @ 16:46:17] Energy consumed for all GPUs : 0.068683 kWh. Total GPU Power : 69.29569531755445 W\n",
            "[codecarbon INFO @ 16:46:17] Energy consumed for all CPUs : 0.042504 kWh. Total CPU Power : 42.5 W\n",
            "[codecarbon INFO @ 16:46:17] 0.115936 kWh of electricity used since the beginning.\n",
            "[codecarbon INFO @ 16:46:17] 0.004487 g.CO2eq/s mean an estimation of 141.50966246415726 kg.CO2eq/year\n"
          ]
        },
        {
          "output_type": "stream",
          "name": "stdout",
          "text": [
            "9/9 [==============================] - ETA: 0s - loss: 0.1477 - acc: 0.9509\n",
            "Epoch 555: val_loss did not improve from 0.13504\n",
            "9/9 [==============================] - 7s 804ms/step - loss: 0.1477 - acc: 0.9509 - val_loss: 0.1371 - val_acc: 0.9558\n",
            "Epoch 556/800\n",
            "9/9 [==============================] - ETA: 0s - loss: 0.1476 - acc: 0.9511\n",
            "Epoch 556: val_loss did not improve from 0.13504\n",
            "9/9 [==============================] - 6s 703ms/step - loss: 0.1476 - acc: 0.9511 - val_loss: 0.1361 - val_acc: 0.9563\n",
            "Epoch 557/800\n",
            "7/9 [======================>.......] - ETA: 1s - loss: 0.1478 - acc: 0.9509"
          ]
        },
        {
          "output_type": "stream",
          "name": "stderr",
          "text": [
            "[codecarbon INFO @ 16:46:32] Energy consumed for RAM : 0.004769 kWh. RAM Power : 4.753036022186279 W\n",
            "[codecarbon INFO @ 16:46:32] Energy consumed for all GPUs : 0.068969 kWh. Total GPU Power : 68.56824631503108 W\n",
            "[codecarbon INFO @ 16:46:32] Energy consumed for all CPUs : 0.042681 kWh. Total CPU Power : 42.5 W\n",
            "[codecarbon INFO @ 16:46:32] 0.116419 kWh of electricity used since the beginning.\n"
          ]
        },
        {
          "output_type": "stream",
          "name": "stdout",
          "text": [
            "9/9 [==============================] - ETA: 0s - loss: 0.1474 - acc: 0.9509\n",
            "Epoch 557: val_loss did not improve from 0.13504\n",
            "9/9 [==============================] - 7s 800ms/step - loss: 0.1474 - acc: 0.9509 - val_loss: 0.1402 - val_acc: 0.9545\n",
            "Epoch 558/800\n",
            "9/9 [==============================] - ETA: 0s - loss: 0.1497 - acc: 0.9502\n",
            "Epoch 558: val_loss did not improve from 0.13504\n",
            "9/9 [==============================] - 6s 703ms/step - loss: 0.1497 - acc: 0.9502 - val_loss: 0.1501 - val_acc: 0.9506\n",
            "Epoch 559/800\n",
            "9/9 [==============================] - ETA: 0s - loss: 0.1498 - acc: 0.9503"
          ]
        },
        {
          "output_type": "stream",
          "name": "stderr",
          "text": [
            "[codecarbon INFO @ 16:46:47] Energy consumed for RAM : 0.004789 kWh. RAM Power : 4.753036022186279 W\n",
            "[codecarbon INFO @ 16:46:47] Energy consumed for all GPUs : 0.069250 kWh. Total GPU Power : 67.68004319314672 W\n",
            "[codecarbon INFO @ 16:46:47] Energy consumed for all CPUs : 0.042858 kWh. Total CPU Power : 42.5 W\n",
            "[codecarbon INFO @ 16:46:47] 0.116898 kWh of electricity used since the beginning.\n"
          ]
        },
        {
          "output_type": "stream",
          "name": "stdout",
          "text": [
            "\n",
            "Epoch 559: val_loss improved from 0.13504 to 0.13444, saving model to /content/drive/MyDrive/Model/initial_runs_20241202_1546/af_lstm_weights.559-0.13.h5\n",
            "9/9 [==============================] - 7s 800ms/step - loss: 0.1498 - acc: 0.9503 - val_loss: 0.1344 - val_acc: 0.9567\n",
            "Epoch 560/800\n",
            "9/9 [==============================] - ETA: 0s - loss: 0.1494 - acc: 0.9501\n",
            "Epoch 560: val_loss did not improve from 0.13444\n",
            "9/9 [==============================] - 6s 704ms/step - loss: 0.1494 - acc: 0.9501 - val_loss: 0.1409 - val_acc: 0.9542\n",
            "Epoch 561/800\n",
            "9/9 [==============================] - ETA: 0s - loss: 0.1486 - acc: 0.9507\n",
            "Epoch 561: val_loss did not improve from 0.13444\n",
            "9/9 [==============================] - 7s 797ms/step - loss: 0.1486 - acc: 0.9507 - val_loss: 0.1415 - val_acc: 0.9541\n",
            "Epoch 562/800\n",
            "1/9 [==>...........................] - ETA: 5s - loss: 0.1455 - acc: 0.9520"
          ]
        },
        {
          "output_type": "stream",
          "name": "stderr",
          "text": [
            "[codecarbon INFO @ 16:47:02] Energy consumed for RAM : 0.004809 kWh. RAM Power : 4.753036022186279 W\n",
            "[codecarbon INFO @ 16:47:02] Energy consumed for all GPUs : 0.069531 kWh. Total GPU Power : 67.36758913745285 W\n",
            "[codecarbon INFO @ 16:47:02] Energy consumed for all CPUs : 0.043035 kWh. Total CPU Power : 42.5 W\n",
            "[codecarbon INFO @ 16:47:02] 0.117375 kWh of electricity used since the beginning.\n"
          ]
        },
        {
          "output_type": "stream",
          "name": "stdout",
          "text": [
            "9/9 [==============================] - ETA: 0s - loss: 0.1474 - acc: 0.9513\n",
            "Epoch 562: val_loss did not improve from 0.13444\n",
            "9/9 [==============================] - 6s 705ms/step - loss: 0.1474 - acc: 0.9513 - val_loss: 0.1349 - val_acc: 0.9565\n",
            "Epoch 563/800\n",
            "9/9 [==============================] - ETA: 0s - loss: 0.1470 - acc: 0.9512\n",
            "Epoch 563: val_loss did not improve from 0.13444\n",
            "9/9 [==============================] - 7s 794ms/step - loss: 0.1470 - acc: 0.9512 - val_loss: 0.1347 - val_acc: 0.9568\n",
            "Epoch 564/800\n",
            "4/9 [============>.................] - ETA: 3s - loss: 0.1471 - acc: 0.9513"
          ]
        },
        {
          "output_type": "stream",
          "name": "stderr",
          "text": [
            "[codecarbon INFO @ 16:47:17] Energy consumed for RAM : 0.004829 kWh. RAM Power : 4.753036022186279 W\n",
            "[codecarbon INFO @ 16:47:17] Energy consumed for all GPUs : 0.069817 kWh. Total GPU Power : 68.67843834817398 W\n",
            "[codecarbon INFO @ 16:47:17] Energy consumed for all CPUs : 0.043212 kWh. Total CPU Power : 42.5 W\n",
            "[codecarbon INFO @ 16:47:17] 0.117858 kWh of electricity used since the beginning.\n"
          ]
        },
        {
          "output_type": "stream",
          "name": "stdout",
          "text": [
            "9/9 [==============================] - ETA: 0s - loss: 0.1480 - acc: 0.9509\n",
            "Epoch 564: val_loss improved from 0.13444 to 0.13210, saving model to /content/drive/MyDrive/Model/initial_runs_20241202_1546/af_lstm_weights.564-0.13.h5\n",
            "9/9 [==============================] - 6s 710ms/step - loss: 0.1480 - acc: 0.9509 - val_loss: 0.1321 - val_acc: 0.9577\n",
            "Epoch 565/800\n",
            "9/9 [==============================] - ETA: 0s - loss: 0.1501 - acc: 0.9496\n",
            "Epoch 565: val_loss did not improve from 0.13210\n",
            "9/9 [==============================] - 6s 720ms/step - loss: 0.1501 - acc: 0.9496 - val_loss: 0.1422 - val_acc: 0.9539\n",
            "Epoch 566/800\n",
            "8/9 [=========================>....] - ETA: 0s - loss: 0.1503 - acc: 0.9499"
          ]
        },
        {
          "output_type": "stream",
          "name": "stderr",
          "text": [
            "[codecarbon INFO @ 16:47:32] Energy consumed for RAM : 0.004849 kWh. RAM Power : 4.753036022186279 W\n",
            "[codecarbon INFO @ 16:47:32] Energy consumed for all GPUs : 0.070105 kWh. Total GPU Power : 69.21817692986741 W\n",
            "[codecarbon INFO @ 16:47:32] Energy consumed for all CPUs : 0.043389 kWh. Total CPU Power : 42.5 W\n",
            "[codecarbon INFO @ 16:47:32] 0.118343 kWh of electricity used since the beginning.\n"
          ]
        },
        {
          "output_type": "stream",
          "name": "stdout",
          "text": [
            "\b\b\b\b\b\b\b\b\b\b\b\b\b\b\b\b\b\b\b\b\b\b\b\b\b\b\b\b\b\b\b\b\b\b\b\b\b\b\b\b\b\b\b\b\b\b\b\b\b\b\b\b\b\b\b\b\b\b\b\b\b\b\b\b\b\b\b\b\b\b\b\b\b\b\b\r9/9 [==============================] - ETA: 0s - loss: 0.1500 - acc: 0.9500\n",
            "Epoch 566: val_loss did not improve from 0.13210\n",
            "9/9 [==============================] - 6s 706ms/step - loss: 0.1500 - acc: 0.9500 - val_loss: 0.1354 - val_acc: 0.9564\n",
            "Epoch 567/800\n",
            "9/9 [==============================] - ETA: 0s - loss: 0.1479 - acc: 0.9508\n",
            "Epoch 567: val_loss did not improve from 0.13210\n",
            "9/9 [==============================] - 6s 714ms/step - loss: 0.1479 - acc: 0.9508 - val_loss: 0.1325 - val_acc: 0.9576\n",
            "Epoch 568/800\n",
            "9/9 [==============================] - ETA: 0s - loss: 0.1466 - acc: 0.9515\n",
            "Epoch 568: val_loss did not improve from 0.13210\n",
            "9/9 [==============================] - 6s 709ms/step - loss: 0.1466 - acc: 0.9515 - val_loss: 0.1376 - val_acc: 0.9557\n",
            "Epoch 569/800\n",
            "1/9 [==>...........................] - ETA: 5s - loss: 0.1439 - acc: 0.9527"
          ]
        },
        {
          "output_type": "stream",
          "name": "stderr",
          "text": [
            "[codecarbon INFO @ 16:47:47] Energy consumed for RAM : 0.004868 kWh. RAM Power : 4.753036022186279 W\n",
            "[codecarbon INFO @ 16:47:47] Energy consumed for all GPUs : 0.070393 kWh. Total GPU Power : 69.23122339195 W\n",
            "[codecarbon INFO @ 16:47:47] Energy consumed for all CPUs : 0.043567 kWh. Total CPU Power : 42.5 W\n",
            "[codecarbon INFO @ 16:47:47] 0.118828 kWh of electricity used since the beginning.\n"
          ]
        },
        {
          "output_type": "stream",
          "name": "stdout",
          "text": [
            "9/9 [==============================] - ETA: 0s - loss: 0.1455 - acc: 0.9519\n",
            "Epoch 569: val_loss did not improve from 0.13210\n",
            "9/9 [==============================] - 7s 788ms/step - loss: 0.1455 - acc: 0.9519 - val_loss: 0.1380 - val_acc: 0.9555\n",
            "Epoch 570/800\n",
            "9/9 [==============================] - ETA: 0s - loss: 0.1459 - acc: 0.9517\n",
            "Epoch 570: val_loss did not improve from 0.13210\n",
            "9/9 [==============================] - 7s 789ms/step - loss: 0.1459 - acc: 0.9517 - val_loss: 0.1452 - val_acc: 0.9527\n",
            "Epoch 571/800\n",
            "3/9 [=========>....................] - ETA: 3s - loss: 0.1479 - acc: 0.9506"
          ]
        },
        {
          "output_type": "stream",
          "name": "stderr",
          "text": [
            "[codecarbon INFO @ 16:48:02] Energy consumed for RAM : 0.004888 kWh. RAM Power : 4.753036022186279 W\n",
            "[codecarbon INFO @ 16:48:02] Energy consumed for all GPUs : 0.070674 kWh. Total GPU Power : 67.50749566853581 W\n",
            "[codecarbon INFO @ 16:48:02] Energy consumed for all CPUs : 0.043744 kWh. Total CPU Power : 42.5 W\n",
            "[codecarbon INFO @ 16:48:02] 0.119306 kWh of electricity used since the beginning.\n"
          ]
        },
        {
          "output_type": "stream",
          "name": "stdout",
          "text": [
            "9/9 [==============================] - ETA: 0s - loss: 0.1464 - acc: 0.9512\n",
            "Epoch 571: val_loss did not improve from 0.13210\n",
            "9/9 [==============================] - 7s 791ms/step - loss: 0.1464 - acc: 0.9512 - val_loss: 0.1330 - val_acc: 0.9574\n",
            "Epoch 572/800\n",
            "9/9 [==============================] - ETA: 0s - loss: 0.1496 - acc: 0.9503\n",
            "Epoch 572: val_loss did not improve from 0.13210\n",
            "9/9 [==============================] - 7s 791ms/step - loss: 0.1496 - acc: 0.9503 - val_loss: 0.1329 - val_acc: 0.9574\n",
            "Epoch 573/800\n",
            "5/9 [===============>..............] - ETA: 2s - loss: 0.1490 - acc: 0.9504"
          ]
        },
        {
          "output_type": "stream",
          "name": "stderr",
          "text": [
            "[codecarbon INFO @ 16:48:17] Energy consumed for RAM : 0.004908 kWh. RAM Power : 4.753036022186279 W\n",
            "[codecarbon INFO @ 16:48:17] Energy consumed for all GPUs : 0.070953 kWh. Total GPU Power : 67.0075480547812 W\n",
            "[codecarbon INFO @ 16:48:17] Energy consumed for all CPUs : 0.043921 kWh. Total CPU Power : 42.5 W\n",
            "[codecarbon INFO @ 16:48:17] 0.119782 kWh of electricity used since the beginning.\n",
            "[codecarbon INFO @ 16:48:17] 0.004445 g.CO2eq/s mean an estimation of 140.1742145775966 kg.CO2eq/year\n"
          ]
        },
        {
          "output_type": "stream",
          "name": "stdout",
          "text": [
            "9/9 [==============================] - ETA: 0s - loss: 0.1482 - acc: 0.9505\n",
            "Epoch 573: val_loss did not improve from 0.13210\n",
            "9/9 [==============================] - 6s 720ms/step - loss: 0.1482 - acc: 0.9505 - val_loss: 0.1422 - val_acc: 0.9537\n",
            "Epoch 574/800\n",
            "9/9 [==============================] - ETA: 0s - loss: 0.1465 - acc: 0.9515\n",
            "Epoch 574: val_loss did not improve from 0.13210\n",
            "9/9 [==============================] - 6s 704ms/step - loss: 0.1465 - acc: 0.9515 - val_loss: 0.1334 - val_acc: 0.9572\n",
            "Epoch 575/800\n",
            "8/9 [=========================>....] - ETA: 0s - loss: 0.1462 - acc: 0.9516"
          ]
        },
        {
          "output_type": "stream",
          "name": "stderr",
          "text": [
            "[codecarbon INFO @ 16:48:32] Energy consumed for RAM : 0.004928 kWh. RAM Power : 4.753036022186279 W\n",
            "[codecarbon INFO @ 16:48:32] Energy consumed for all GPUs : 0.071242 kWh. Total GPU Power : 69.2946276526241 W\n",
            "[codecarbon INFO @ 16:48:32] Energy consumed for all CPUs : 0.044098 kWh. Total CPU Power : 42.5 W\n",
            "[codecarbon INFO @ 16:48:32] 0.120267 kWh of electricity used since the beginning.\n"
          ]
        },
        {
          "output_type": "stream",
          "name": "stdout",
          "text": [
            "\b\b\b\b\b\b\b\b\b\b\b\b\b\b\b\b\b\b\b\b\b\b\b\b\b\b\b\b\b\b\b\b\b\b\b\b\b\b\b\b\b\b\b\b\b\b\b\b\b\b\b\b\b\b\b\b\b\b\b\b\b\b\b\b\b\b\b\b\b\b\b\b\b\b\b\r9/9 [==============================] - ETA: 0s - loss: 0.1464 - acc: 0.9515\n",
            "Epoch 575: val_loss improved from 0.13210 to 0.13205, saving model to /content/drive/MyDrive/Model/initial_runs_20241202_1546/af_lstm_weights.575-0.13.h5\n",
            "9/9 [==============================] - 6s 719ms/step - loss: 0.1464 - acc: 0.9515 - val_loss: 0.1320 - val_acc: 0.9578\n",
            "Epoch 576/800\n",
            "9/9 [==============================] - ETA: 0s - loss: 0.1504 - acc: 0.9495\n",
            "Epoch 576: val_loss did not improve from 0.13205\n",
            "9/9 [==============================] - 6s 709ms/step - loss: 0.1504 - acc: 0.9495 - val_loss: 0.1350 - val_acc: 0.9565\n",
            "Epoch 577/800\n",
            "9/9 [==============================] - ETA: 0s - loss: 0.1486 - acc: 0.9503\n",
            "Epoch 577: val_loss did not improve from 0.13205\n",
            "9/9 [==============================] - 7s 785ms/step - loss: 0.1486 - acc: 0.9503 - val_loss: 0.1420 - val_acc: 0.9537\n",
            "Epoch 578/800\n",
            "1/9 [==>...........................] - ETA: 5s - loss: 0.1453 - acc: 0.9525"
          ]
        },
        {
          "output_type": "stream",
          "name": "stderr",
          "text": [
            "[codecarbon INFO @ 16:48:47] Energy consumed for RAM : 0.004948 kWh. RAM Power : 4.753036022186279 W\n",
            "[codecarbon INFO @ 16:48:47] Energy consumed for all GPUs : 0.071527 kWh. Total GPU Power : 68.4685863884233 W\n",
            "[codecarbon INFO @ 16:48:47] Energy consumed for all CPUs : 0.044275 kWh. Total CPU Power : 42.5 W\n",
            "[codecarbon INFO @ 16:48:47] 0.120749 kWh of electricity used since the beginning.\n"
          ]
        },
        {
          "output_type": "stream",
          "name": "stdout",
          "text": [
            "9/9 [==============================] - ETA: 0s - loss: 0.1456 - acc: 0.9518\n",
            "Epoch 578: val_loss did not improve from 0.13205\n",
            "9/9 [==============================] - 6s 710ms/step - loss: 0.1456 - acc: 0.9518 - val_loss: 0.1343 - val_acc: 0.9568\n",
            "Epoch 579/800\n",
            "9/9 [==============================] - ETA: 0s - loss: 0.1442 - acc: 0.9524\n",
            "Epoch 579: val_loss did not improve from 0.13205\n",
            "9/9 [==============================] - 6s 706ms/step - loss: 0.1442 - acc: 0.9524 - val_loss: 0.1389 - val_acc: 0.9552\n",
            "Epoch 580/800\n",
            "4/9 [============>.................] - ETA: 3s - loss: 0.1449 - acc: 0.9518"
          ]
        },
        {
          "output_type": "stream",
          "name": "stderr",
          "text": [
            "[codecarbon INFO @ 16:49:02] Energy consumed for RAM : 0.004967 kWh. RAM Power : 4.753036022186279 W\n",
            "[codecarbon INFO @ 16:49:02] Energy consumed for all GPUs : 0.071816 kWh. Total GPU Power : 69.27844871513815 W\n",
            "[codecarbon INFO @ 16:49:02] Energy consumed for all CPUs : 0.044452 kWh. Total CPU Power : 42.5 W\n",
            "[codecarbon INFO @ 16:49:02] 0.121235 kWh of electricity used since the beginning.\n"
          ]
        },
        {
          "output_type": "stream",
          "name": "stdout",
          "text": [
            "9/9 [==============================] - ETA: 0s - loss: 0.1448 - acc: 0.9521\n",
            "Epoch 580: val_loss did not improve from 0.13205\n",
            "9/9 [==============================] - 6s 711ms/step - loss: 0.1448 - acc: 0.9521 - val_loss: 0.1449 - val_acc: 0.9527\n",
            "Epoch 581/800\n",
            "9/9 [==============================] - ETA: 0s - loss: 0.1450 - acc: 0.9520\n",
            "Epoch 581: val_loss did not improve from 0.13205\n",
            "9/9 [==============================] - 7s 781ms/step - loss: 0.1450 - acc: 0.9520 - val_loss: 0.1400 - val_acc: 0.9546\n",
            "Epoch 582/800\n",
            "7/9 [======================>.......] - ETA: 1s - loss: 0.1455 - acc: 0.9518"
          ]
        },
        {
          "output_type": "stream",
          "name": "stderr",
          "text": [
            "[codecarbon INFO @ 16:49:17] Energy consumed for RAM : 0.004987 kWh. RAM Power : 4.753036022186279 W\n",
            "[codecarbon INFO @ 16:49:17] Energy consumed for all GPUs : 0.072099 kWh. Total GPU Power : 68.15296747262543 W\n",
            "[codecarbon INFO @ 16:49:17] Energy consumed for all CPUs : 0.044629 kWh. Total CPU Power : 42.5 W\n",
            "[codecarbon INFO @ 16:49:17] 0.121716 kWh of electricity used since the beginning.\n"
          ]
        },
        {
          "output_type": "stream",
          "name": "stdout",
          "text": [
            "9/9 [==============================] - ETA: 0s - loss: 0.1463 - acc: 0.9514\n",
            "Epoch 582: val_loss did not improve from 0.13205\n",
            "9/9 [==============================] - 7s 823ms/step - loss: 0.1463 - acc: 0.9514 - val_loss: 0.1472 - val_acc: 0.9516\n",
            "Epoch 583/800\n",
            "9/9 [==============================] - ETA: 0s - loss: 0.1465 - acc: 0.9513\n",
            "Epoch 583: val_loss did not improve from 0.13205\n",
            "9/9 [==============================] - 6s 703ms/step - loss: 0.1465 - acc: 0.9513 - val_loss: 0.1471 - val_acc: 0.9519\n",
            "Epoch 584/800\n",
            "9/9 [==============================] - ETA: 0s - loss: 0.1518 - acc: 0.9491"
          ]
        },
        {
          "output_type": "stream",
          "name": "stderr",
          "text": [
            "[codecarbon INFO @ 16:49:32] Energy consumed for RAM : 0.005007 kWh. RAM Power : 4.753036022186279 W\n",
            "[codecarbon INFO @ 16:49:32] Energy consumed for all GPUs : 0.072385 kWh. Total GPU Power : 68.57412964610211 W\n",
            "[codecarbon INFO @ 16:49:32] Energy consumed for all CPUs : 0.044806 kWh. Total CPU Power : 42.5 W\n",
            "[codecarbon INFO @ 16:49:32] 0.122197 kWh of electricity used since the beginning.\n"
          ]
        },
        {
          "output_type": "stream",
          "name": "stdout",
          "text": [
            "\n",
            "Epoch 584: val_loss did not improve from 0.13205\n",
            "9/9 [==============================] - 6s 726ms/step - loss: 0.1518 - acc: 0.9491 - val_loss: 0.1628 - val_acc: 0.9458\n",
            "Epoch 585/800\n",
            "9/9 [==============================] - ETA: 0s - loss: 0.1507 - acc: 0.9493\n",
            "Epoch 585: val_loss did not improve from 0.13205\n",
            "9/9 [==============================] - 6s 705ms/step - loss: 0.1507 - acc: 0.9493 - val_loss: 0.1341 - val_acc: 0.9569\n",
            "Epoch 586/800\n",
            "9/9 [==============================] - ETA: 0s - loss: 0.1454 - acc: 0.9516\n",
            "Epoch 586: val_loss did not improve from 0.13205\n",
            "9/9 [==============================] - 7s 794ms/step - loss: 0.1454 - acc: 0.9516 - val_loss: 0.1346 - val_acc: 0.9566\n",
            "Epoch 587/800\n",
            "2/9 [=====>........................] - ETA: 4s - loss: 0.1450 - acc: 0.9523"
          ]
        },
        {
          "output_type": "stream",
          "name": "stderr",
          "text": [
            "[codecarbon INFO @ 16:49:47] Energy consumed for RAM : 0.005027 kWh. RAM Power : 4.753036022186279 W\n",
            "[codecarbon INFO @ 16:49:47] Energy consumed for all GPUs : 0.072669 kWh. Total GPU Power : 68.32659492828421 W\n",
            "[codecarbon INFO @ 16:49:47] Energy consumed for all CPUs : 0.044983 kWh. Total CPU Power : 42.5 W\n",
            "[codecarbon INFO @ 16:49:47] 0.122679 kWh of electricity used since the beginning.\n"
          ]
        },
        {
          "output_type": "stream",
          "name": "stdout",
          "text": [
            "9/9 [==============================] - ETA: 0s - loss: 0.1455 - acc: 0.9519\n",
            "Epoch 587: val_loss improved from 0.13205 to 0.13154, saving model to /content/drive/MyDrive/Model/initial_runs_20241202_1546/af_lstm_weights.587-0.13.h5\n",
            "9/9 [==============================] - 6s 710ms/step - loss: 0.1455 - acc: 0.9519 - val_loss: 0.1315 - val_acc: 0.9583\n",
            "Epoch 588/800\n",
            "9/9 [==============================] - ETA: 0s - loss: 0.1457 - acc: 0.9517\n",
            "Epoch 588: val_loss did not improve from 0.13154\n",
            "9/9 [==============================] - 7s 797ms/step - loss: 0.1457 - acc: 0.9517 - val_loss: 0.1389 - val_acc: 0.9554\n",
            "Epoch 589/800\n",
            "4/9 [============>.................] - ETA: 3s - loss: 0.1439 - acc: 0.9524"
          ]
        },
        {
          "output_type": "stream",
          "name": "stderr",
          "text": [
            "[codecarbon INFO @ 16:50:02] Energy consumed for RAM : 0.005046 kWh. RAM Power : 4.753036022186279 W\n",
            "[codecarbon INFO @ 16:50:02] Energy consumed for all GPUs : 0.072953 kWh. Total GPU Power : 68.08048236275484 W\n",
            "[codecarbon INFO @ 16:50:02] Energy consumed for all CPUs : 0.045160 kWh. Total CPU Power : 42.5 W\n",
            "[codecarbon INFO @ 16:50:02] 0.123159 kWh of electricity used since the beginning.\n"
          ]
        },
        {
          "output_type": "stream",
          "name": "stdout",
          "text": [
            "9/9 [==============================] - ETA: 0s - loss: 0.1449 - acc: 0.9521\n",
            "Epoch 589: val_loss did not improve from 0.13154\n",
            "9/9 [==============================] - 6s 706ms/step - loss: 0.1449 - acc: 0.9521 - val_loss: 0.1492 - val_acc: 0.9509\n",
            "Epoch 590/800\n",
            "9/9 [==============================] - ETA: 0s - loss: 0.1464 - acc: 0.9514\n",
            "Epoch 590: val_loss did not improve from 0.13154\n",
            "9/9 [==============================] - 6s 716ms/step - loss: 0.1464 - acc: 0.9514 - val_loss: 0.1370 - val_acc: 0.9557\n",
            "Epoch 591/800\n",
            "8/9 [=========================>....] - ETA: 0s - loss: 0.1459 - acc: 0.9516"
          ]
        },
        {
          "output_type": "stream",
          "name": "stderr",
          "text": [
            "[codecarbon INFO @ 16:50:17] Energy consumed for RAM : 0.005066 kWh. RAM Power : 4.753036022186279 W\n",
            "[codecarbon INFO @ 16:50:17] Energy consumed for all GPUs : 0.073243 kWh. Total GPU Power : 69.69902833414288 W\n",
            "[codecarbon INFO @ 16:50:17] Energy consumed for all CPUs : 0.045337 kWh. Total CPU Power : 42.5 W\n",
            "[codecarbon INFO @ 16:50:17] 0.123647 kWh of electricity used since the beginning.\n",
            "[codecarbon INFO @ 16:50:17] 0.004467 g.CO2eq/s mean an estimation of 140.87893213484787 kg.CO2eq/year\n"
          ]
        },
        {
          "output_type": "stream",
          "name": "stdout",
          "text": [
            "\b\b\b\b\b\b\b\b\b\b\b\b\b\b\b\b\b\b\b\b\b\b\b\b\b\b\b\b\b\b\b\b\b\b\b\b\b\b\b\b\b\b\b\b\b\b\b\b\b\b\b\b\b\b\b\b\b\b\b\b\b\b\b\b\b\b\b\b\b\b\b\b\b\b\b\r9/9 [==============================] - ETA: 0s - loss: 0.1456 - acc: 0.9517\n",
            "Epoch 591: val_loss improved from 0.13154 to 0.13081, saving model to /content/drive/MyDrive/Model/initial_runs_20241202_1546/af_lstm_weights.591-0.13.h5\n",
            "9/9 [==============================] - 6s 711ms/step - loss: 0.1456 - acc: 0.9517 - val_loss: 0.1308 - val_acc: 0.9584\n",
            "Epoch 592/800\n",
            "9/9 [==============================] - ETA: 0s - loss: 0.1455 - acc: 0.9516\n",
            "Epoch 592: val_loss improved from 0.13081 to 0.13048, saving model to /content/drive/MyDrive/Model/initial_runs_20241202_1546/af_lstm_weights.592-0.13.h5\n",
            "9/9 [==============================] - 6s 726ms/step - loss: 0.1455 - acc: 0.9516 - val_loss: 0.1305 - val_acc: 0.9587\n",
            "Epoch 593/800\n",
            "9/9 [==============================] - ETA: 0s - loss: 0.1447 - acc: 0.9518\n",
            "Epoch 593: val_loss did not improve from 0.13048\n",
            "9/9 [==============================] - 6s 713ms/step - loss: 0.1447 - acc: 0.9518 - val_loss: 0.1400 - val_acc: 0.9546\n",
            "Epoch 594/800\n",
            "2/9 [=====>........................] - ETA: 4s - loss: 0.1458 - acc: 0.9513"
          ]
        },
        {
          "output_type": "stream",
          "name": "stderr",
          "text": [
            "[codecarbon INFO @ 16:50:32] Energy consumed for RAM : 0.005086 kWh. RAM Power : 4.753036022186279 W\n",
            "[codecarbon INFO @ 16:50:32] Energy consumed for all GPUs : 0.073531 kWh. Total GPU Power : 69.03330682180352 W\n",
            "[codecarbon INFO @ 16:50:32] Energy consumed for all CPUs : 0.045514 kWh. Total CPU Power : 42.5 W\n",
            "[codecarbon INFO @ 16:50:32] 0.124131 kWh of electricity used since the beginning.\n"
          ]
        },
        {
          "output_type": "stream",
          "name": "stdout",
          "text": [
            "9/9 [==============================] - ETA: 0s - loss: 0.1474 - acc: 0.9508\n",
            "Epoch 594: val_loss did not improve from 0.13048\n",
            "9/9 [==============================] - 6s 719ms/step - loss: 0.1474 - acc: 0.9508 - val_loss: 0.1474 - val_acc: 0.9514\n",
            "Epoch 595/800\n",
            "9/9 [==============================] - ETA: 0s - loss: 0.1465 - acc: 0.9512\n",
            "Epoch 595: val_loss did not improve from 0.13048\n",
            "9/9 [==============================] - 6s 715ms/step - loss: 0.1465 - acc: 0.9512 - val_loss: 0.1312 - val_acc: 0.9582\n",
            "Epoch 596/800\n",
            "5/9 [===============>..............] - ETA: 2s - loss: 0.1461 - acc: 0.9515"
          ]
        },
        {
          "output_type": "stream",
          "name": "stderr",
          "text": [
            "[codecarbon INFO @ 16:50:47] Energy consumed for RAM : 0.005106 kWh. RAM Power : 4.753036022186279 W\n",
            "[codecarbon INFO @ 16:50:47] Energy consumed for all GPUs : 0.073819 kWh. Total GPU Power : 69.31049575747909 W\n",
            "[codecarbon INFO @ 16:50:47] Energy consumed for all CPUs : 0.045691 kWh. Total CPU Power : 42.5 W\n",
            "[codecarbon INFO @ 16:50:47] 0.124616 kWh of electricity used since the beginning.\n"
          ]
        },
        {
          "output_type": "stream",
          "name": "stdout",
          "text": [
            "9/9 [==============================] - ETA: 0s - loss: 0.1448 - acc: 0.9520\n",
            "Epoch 596: val_loss did not improve from 0.13048\n",
            "9/9 [==============================] - 6s 706ms/step - loss: 0.1448 - acc: 0.9520 - val_loss: 0.1338 - val_acc: 0.9570\n",
            "Epoch 597/800\n",
            "9/9 [==============================] - ETA: 0s - loss: 0.1431 - acc: 0.9524\n",
            "Epoch 597: val_loss did not improve from 0.13048\n",
            "9/9 [==============================] - 6s 710ms/step - loss: 0.1431 - acc: 0.9524 - val_loss: 0.1402 - val_acc: 0.9547\n",
            "Epoch 598/800\n",
            "9/9 [==============================] - ETA: 0s - loss: 0.1481 - acc: 0.9504"
          ]
        },
        {
          "output_type": "stream",
          "name": "stderr",
          "text": [
            "[codecarbon INFO @ 16:51:02] Energy consumed for RAM : 0.005126 kWh. RAM Power : 4.753036022186279 W\n",
            "[codecarbon INFO @ 16:51:02] Energy consumed for all GPUs : 0.074108 kWh. Total GPU Power : 69.34031707664181 W\n",
            "[codecarbon INFO @ 16:51:02] Energy consumed for all CPUs : 0.045868 kWh. Total CPU Power : 42.5 W\n",
            "[codecarbon INFO @ 16:51:02] 0.125102 kWh of electricity used since the beginning.\n"
          ]
        },
        {
          "output_type": "stream",
          "name": "stdout",
          "text": [
            "\n",
            "Epoch 598: val_loss did not improve from 0.13048\n",
            "9/9 [==============================] - 6s 703ms/step - loss: 0.1481 - acc: 0.9504 - val_loss: 0.1402 - val_acc: 0.9544\n",
            "Epoch 599/800\n",
            "9/9 [==============================] - ETA: 0s - loss: 0.1451 - acc: 0.9517\n",
            "Epoch 599: val_loss did not improve from 0.13048\n",
            "9/9 [==============================] - 6s 715ms/step - loss: 0.1451 - acc: 0.9517 - val_loss: 0.1363 - val_acc: 0.9560\n",
            "Epoch 600/800\n",
            "9/9 [==============================] - ETA: 0s - loss: 0.1431 - acc: 0.9526\n",
            "Epoch 600: val_loss did not improve from 0.13048\n",
            "9/9 [==============================] - 6s 704ms/step - loss: 0.1431 - acc: 0.9526 - val_loss: 0.1321 - val_acc: 0.9578\n",
            "Epoch 601/800\n",
            "2/9 [=====>........................] - ETA: 4s - loss: 0.1446 - acc: 0.9524"
          ]
        },
        {
          "output_type": "stream",
          "name": "stderr",
          "text": [
            "[codecarbon INFO @ 16:51:17] Energy consumed for RAM : 0.005145 kWh. RAM Power : 4.753036022186279 W\n",
            "[codecarbon INFO @ 16:51:17] Energy consumed for all GPUs : 0.074399 kWh. Total GPU Power : 69.88385862882666 W\n",
            "[codecarbon INFO @ 16:51:17] Energy consumed for all CPUs : 0.046045 kWh. Total CPU Power : 42.5 W\n",
            "[codecarbon INFO @ 16:51:17] 0.125590 kWh of electricity used since the beginning.\n"
          ]
        },
        {
          "output_type": "stream",
          "name": "stdout",
          "text": [
            "9/9 [==============================] - ETA: 0s - loss: 0.1440 - acc: 0.9524\n",
            "Epoch 601: val_loss did not improve from 0.13048\n",
            "9/9 [==============================] - 6s 717ms/step - loss: 0.1440 - acc: 0.9524 - val_loss: 0.1310 - val_acc: 0.9584\n",
            "Epoch 602/800\n",
            "9/9 [==============================] - ETA: 0s - loss: 0.1437 - acc: 0.9525\n",
            "Epoch 602: val_loss did not improve from 0.13048\n",
            "9/9 [==============================] - 6s 706ms/step - loss: 0.1437 - acc: 0.9525 - val_loss: 0.1335 - val_acc: 0.9571\n",
            "Epoch 603/800\n",
            "6/9 [===================>..........] - ETA: 1s - loss: 0.1414 - acc: 0.9536"
          ]
        },
        {
          "output_type": "stream",
          "name": "stderr",
          "text": [
            "[codecarbon INFO @ 16:51:32] Energy consumed for RAM : 0.005165 kWh. RAM Power : 4.753036022186279 W\n",
            "[codecarbon INFO @ 16:51:32] Energy consumed for all GPUs : 0.074688 kWh. Total GPU Power : 69.29930458860855 W\n",
            "[codecarbon INFO @ 16:51:32] Energy consumed for all CPUs : 0.046223 kWh. Total CPU Power : 42.5 W\n",
            "[codecarbon INFO @ 16:51:32] 0.126075 kWh of electricity used since the beginning.\n"
          ]
        },
        {
          "output_type": "stream",
          "name": "stdout",
          "text": [
            "9/9 [==============================] - ETA: 0s - loss: 0.1429 - acc: 0.9529\n",
            "Epoch 603: val_loss did not improve from 0.13048\n",
            "9/9 [==============================] - 7s 802ms/step - loss: 0.1429 - acc: 0.9529 - val_loss: 0.1436 - val_acc: 0.9530\n",
            "Epoch 604/800\n",
            "9/9 [==============================] - ETA: 0s - loss: 0.1638 - acc: 0.9435\n",
            "Epoch 604: val_loss did not improve from 0.13048\n",
            "9/9 [==============================] - 6s 703ms/step - loss: 0.1638 - acc: 0.9435 - val_loss: 0.1649 - val_acc: 0.9447\n",
            "Epoch 605/800\n",
            "9/9 [==============================] - ETA: 0s - loss: 0.1551 - acc: 0.9472"
          ]
        },
        {
          "output_type": "stream",
          "name": "stderr",
          "text": [
            "[codecarbon INFO @ 16:51:47] Energy consumed for RAM : 0.005185 kWh. RAM Power : 4.753036022186279 W\n",
            "[codecarbon INFO @ 16:51:47] Energy consumed for all GPUs : 0.074972 kWh. Total GPU Power : 68.22817347997925 W\n",
            "[codecarbon INFO @ 16:51:47] Energy consumed for all CPUs : 0.046400 kWh. Total CPU Power : 42.5 W\n",
            "[codecarbon INFO @ 16:51:47] 0.126556 kWh of electricity used since the beginning.\n"
          ]
        },
        {
          "output_type": "stream",
          "name": "stdout",
          "text": [
            "\n",
            "Epoch 605: val_loss did not improve from 0.13048\n",
            "9/9 [==============================] - 6s 719ms/step - loss: 0.1551 - acc: 0.9472 - val_loss: 0.1434 - val_acc: 0.9529\n",
            "Epoch 606/800\n",
            "9/9 [==============================] - ETA: 0s - loss: 0.1475 - acc: 0.9506\n",
            "Epoch 606: val_loss did not improve from 0.13048\n",
            "9/9 [==============================] - 7s 796ms/step - loss: 0.1475 - acc: 0.9506 - val_loss: 0.1377 - val_acc: 0.9555\n",
            "Epoch 607/800\n",
            "9/9 [==============================] - ETA: 0s - loss: 0.1454 - acc: 0.9517\n",
            "Epoch 607: val_loss did not improve from 0.13048\n",
            "9/9 [==============================] - 7s 805ms/step - loss: 0.1454 - acc: 0.9517 - val_loss: 0.1379 - val_acc: 0.9558\n",
            "Epoch 608/800\n"
          ]
        },
        {
          "output_type": "stream",
          "name": "stderr",
          "text": [
            "[codecarbon INFO @ 16:52:02] Energy consumed for RAM : 0.005205 kWh. RAM Power : 4.753036022186279 W\n",
            "[codecarbon INFO @ 16:52:02] Energy consumed for all GPUs : 0.075251 kWh. Total GPU Power : 67.15500180795668 W\n",
            "[codecarbon INFO @ 16:52:02] Energy consumed for all CPUs : 0.046577 kWh. Total CPU Power : 42.5 W\n",
            "[codecarbon INFO @ 16:52:02] 0.127033 kWh of electricity used since the beginning.\n"
          ]
        },
        {
          "output_type": "stream",
          "name": "stdout",
          "text": [
            "9/9 [==============================] - ETA: 0s - loss: 0.1434 - acc: 0.9522\n",
            "Epoch 608: val_loss did not improve from 0.13048\n",
            "9/9 [==============================] - 6s 706ms/step - loss: 0.1434 - acc: 0.9522 - val_loss: 0.1363 - val_acc: 0.9561\n",
            "Epoch 609/800\n",
            "9/9 [==============================] - ETA: 0s - loss: 0.1431 - acc: 0.9526\n",
            "Epoch 609: val_loss did not improve from 0.13048\n",
            "9/9 [==============================] - 7s 798ms/step - loss: 0.1431 - acc: 0.9526 - val_loss: 0.1311 - val_acc: 0.9583\n",
            "Epoch 610/800\n",
            "2/9 [=====>........................] - ETA: 4s - loss: 0.1455 - acc: 0.9521"
          ]
        },
        {
          "output_type": "stream",
          "name": "stderr",
          "text": [
            "[codecarbon INFO @ 16:52:17] Energy consumed for RAM : 0.005225 kWh. RAM Power : 4.753036022186279 W\n",
            "[codecarbon INFO @ 16:52:17] Energy consumed for all GPUs : 0.075535 kWh. Total GPU Power : 68.10186874669374 W\n",
            "[codecarbon INFO @ 16:52:17] Energy consumed for all CPUs : 0.046754 kWh. Total CPU Power : 42.5 W\n",
            "[codecarbon INFO @ 16:52:17] 0.127513 kWh of electricity used since the beginning.\n",
            "[codecarbon INFO @ 16:52:17] 0.004469 g.CO2eq/s mean an estimation of 140.94114076236255 kg.CO2eq/year\n"
          ]
        },
        {
          "output_type": "stream",
          "name": "stdout",
          "text": [
            "9/9 [==============================] - ETA: 0s - loss: 0.1430 - acc: 0.9527\n",
            "Epoch 610: val_loss did not improve from 0.13048\n",
            "9/9 [==============================] - 6s 704ms/step - loss: 0.1430 - acc: 0.9527 - val_loss: 0.1347 - val_acc: 0.9568\n",
            "Epoch 611/800\n",
            "9/9 [==============================] - ETA: 0s - loss: 0.1422 - acc: 0.9529\n",
            "Epoch 611: val_loss did not improve from 0.13048\n",
            "9/9 [==============================] - 6s 719ms/step - loss: 0.1422 - acc: 0.9529 - val_loss: 0.1336 - val_acc: 0.9571\n",
            "Epoch 612/800\n",
            "6/9 [===================>..........] - ETA: 1s - loss: 0.1482 - acc: 0.9505"
          ]
        },
        {
          "output_type": "stream",
          "name": "stderr",
          "text": [
            "[codecarbon INFO @ 16:52:32] Energy consumed for RAM : 0.005244 kWh. RAM Power : 4.753036022186279 W\n",
            "[codecarbon INFO @ 16:52:32] Energy consumed for all GPUs : 0.075823 kWh. Total GPU Power : 69.29768671219405 W\n",
            "[codecarbon INFO @ 16:52:32] Energy consumed for all CPUs : 0.046931 kWh. Total CPU Power : 42.5 W\n",
            "[codecarbon INFO @ 16:52:32] 0.127998 kWh of electricity used since the beginning.\n"
          ]
        },
        {
          "output_type": "stream",
          "name": "stdout",
          "text": [
            "9/9 [==============================] - ETA: 0s - loss: 0.1472 - acc: 0.9508\n",
            "Epoch 612: val_loss improved from 0.13048 to 0.12927, saving model to /content/drive/MyDrive/Model/initial_runs_20241202_1546/af_lstm_weights.612-0.13.h5\n",
            "9/9 [==============================] - 6s 710ms/step - loss: 0.1472 - acc: 0.9508 - val_loss: 0.1293 - val_acc: 0.9589\n",
            "Epoch 613/800\n",
            "9/9 [==============================] - ETA: 0s - loss: 0.1447 - acc: 0.9518\n",
            "Epoch 613: val_loss did not improve from 0.12927\n",
            "9/9 [==============================] - 6s 714ms/step - loss: 0.1447 - acc: 0.9518 - val_loss: 0.1414 - val_acc: 0.9539\n",
            "Epoch 614/800\n",
            "9/9 [==============================] - ETA: 0s - loss: 0.1436 - acc: 0.9524\n",
            "Epoch 614: val_loss did not improve from 0.12927\n",
            "9/9 [==============================] - 6s 706ms/step - loss: 0.1436 - acc: 0.9524 - val_loss: 0.1317 - val_acc: 0.9579\n",
            "Epoch 615/800\n"
          ]
        },
        {
          "output_type": "stream",
          "name": "stderr",
          "text": [
            "[codecarbon INFO @ 16:52:47] Energy consumed for RAM : 0.005264 kWh. RAM Power : 4.753036022186279 W\n",
            "[codecarbon INFO @ 16:52:47] Energy consumed for all GPUs : 0.076111 kWh. Total GPU Power : 69.2671228243423 W\n",
            "[codecarbon INFO @ 16:52:47] Energy consumed for all CPUs : 0.047107 kWh. Total CPU Power : 42.5 W\n",
            "[codecarbon INFO @ 16:52:47] 0.128483 kWh of electricity used since the beginning.\n"
          ]
        },
        {
          "output_type": "stream",
          "name": "stdout",
          "text": [
            "9/9 [==============================] - ETA: 0s - loss: 0.1424 - acc: 0.9530\n",
            "Epoch 615: val_loss did not improve from 0.12927\n",
            "9/9 [==============================] - 7s 788ms/step - loss: 0.1424 - acc: 0.9530 - val_loss: 0.1308 - val_acc: 0.9585\n",
            "Epoch 616/800\n",
            "9/9 [==============================] - ETA: 0s - loss: 0.1428 - acc: 0.9526\n",
            "Epoch 616: val_loss did not improve from 0.12927\n",
            "9/9 [==============================] - 6s 711ms/step - loss: 0.1428 - acc: 0.9526 - val_loss: 0.1300 - val_acc: 0.9588\n",
            "Epoch 617/800\n",
            "2/9 [=====>........................] - ETA: 4s - loss: 0.1465 - acc: 0.9509"
          ]
        },
        {
          "output_type": "stream",
          "name": "stderr",
          "text": [
            "[codecarbon INFO @ 16:53:02] Energy consumed for RAM : 0.005284 kWh. RAM Power : 4.753036022186279 W\n",
            "[codecarbon INFO @ 16:53:02] Energy consumed for all GPUs : 0.076397 kWh. Total GPU Power : 68.59004328237258 W\n",
            "[codecarbon INFO @ 16:53:02] Energy consumed for all CPUs : 0.047285 kWh. Total CPU Power : 42.5 W\n",
            "[codecarbon INFO @ 16:53:02] 0.128966 kWh of electricity used since the beginning.\n"
          ]
        },
        {
          "output_type": "stream",
          "name": "stdout",
          "text": [
            "9/9 [==============================] - ETA: 0s - loss: 0.1451 - acc: 0.9516\n",
            "Epoch 617: val_loss did not improve from 0.12927\n",
            "9/9 [==============================] - 6s 710ms/step - loss: 0.1451 - acc: 0.9516 - val_loss: 0.1301 - val_acc: 0.9588\n",
            "Epoch 618/800\n",
            "9/9 [==============================] - ETA: 0s - loss: 0.1426 - acc: 0.9527\n",
            "Epoch 618: val_loss did not improve from 0.12927\n",
            "9/9 [==============================] - 6s 707ms/step - loss: 0.1426 - acc: 0.9527 - val_loss: 0.1416 - val_acc: 0.9539\n",
            "Epoch 619/800\n",
            "6/9 [===================>..........] - ETA: 1s - loss: 0.1439 - acc: 0.9524"
          ]
        },
        {
          "output_type": "stream",
          "name": "stderr",
          "text": [
            "[codecarbon INFO @ 16:53:17] Energy consumed for RAM : 0.005304 kWh. RAM Power : 4.753036022186279 W\n",
            "[codecarbon INFO @ 16:53:17] Energy consumed for all GPUs : 0.076686 kWh. Total GPU Power : 69.31811961162371 W\n",
            "[codecarbon INFO @ 16:53:17] Energy consumed for all CPUs : 0.047462 kWh. Total CPU Power : 42.5 W\n",
            "[codecarbon INFO @ 16:53:17] 0.129452 kWh of electricity used since the beginning.\n"
          ]
        },
        {
          "output_type": "stream",
          "name": "stdout",
          "text": [
            "9/9 [==============================] - ETA: 0s - loss: 0.1435 - acc: 0.9524\n",
            "Epoch 619: val_loss did not improve from 0.12927\n",
            "9/9 [==============================] - 6s 705ms/step - loss: 0.1435 - acc: 0.9524 - val_loss: 0.1297 - val_acc: 0.9590\n",
            "Epoch 620/800\n",
            "9/9 [==============================] - ETA: 0s - loss: 0.1456 - acc: 0.9515\n",
            "Epoch 620: val_loss did not improve from 0.12927\n",
            "9/9 [==============================] - 6s 715ms/step - loss: 0.1456 - acc: 0.9515 - val_loss: 0.1310 - val_acc: 0.9583\n",
            "Epoch 621/800\n",
            "9/9 [==============================] - ETA: 0s - loss: 0.1440 - acc: 0.9522\n",
            "Epoch 621: val_loss did not improve from 0.12927\n",
            "9/9 [==============================] - 6s 705ms/step - loss: 0.1440 - acc: 0.9522 - val_loss: 0.1422 - val_acc: 0.9536\n",
            "Epoch 622/800\n"
          ]
        },
        {
          "output_type": "stream",
          "name": "stderr",
          "text": [
            "[codecarbon INFO @ 16:53:32] Energy consumed for RAM : 0.005323 kWh. RAM Power : 4.753036022186279 W\n",
            "[codecarbon INFO @ 16:53:32] Energy consumed for all GPUs : 0.076977 kWh. Total GPU Power : 69.76749672958277 W\n",
            "[codecarbon INFO @ 16:53:32] Energy consumed for all CPUs : 0.047639 kWh. Total CPU Power : 42.5 W\n",
            "[codecarbon INFO @ 16:53:32] 0.129939 kWh of electricity used since the beginning.\n"
          ]
        },
        {
          "output_type": "stream",
          "name": "stdout",
          "text": [
            "9/9 [==============================] - ETA: 0s - loss: 0.1434 - acc: 0.9523\n",
            "Epoch 622: val_loss did not improve from 0.12927\n",
            "9/9 [==============================] - 6s 718ms/step - loss: 0.1434 - acc: 0.9523 - val_loss: 0.1301 - val_acc: 0.9587\n",
            "Epoch 623/800\n",
            "9/9 [==============================] - ETA: 0s - loss: 0.1412 - acc: 0.9533\n",
            "Epoch 623: val_loss did not improve from 0.12927\n",
            "9/9 [==============================] - 6s 705ms/step - loss: 0.1412 - acc: 0.9533 - val_loss: 0.1345 - val_acc: 0.9568\n",
            "Epoch 624/800\n",
            "3/9 [=========>....................] - ETA: 3s - loss: 0.1419 - acc: 0.9534"
          ]
        },
        {
          "output_type": "stream",
          "name": "stderr",
          "text": [
            "[codecarbon INFO @ 16:53:47] Energy consumed for RAM : 0.005343 kWh. RAM Power : 4.753036022186279 W\n",
            "[codecarbon INFO @ 16:53:47] Energy consumed for all GPUs : 0.077265 kWh. Total GPU Power : 69.37917392164923 W\n",
            "[codecarbon INFO @ 16:53:47] Energy consumed for all CPUs : 0.047816 kWh. Total CPU Power : 42.5 W\n",
            "[codecarbon INFO @ 16:53:47] 0.130424 kWh of electricity used since the beginning.\n"
          ]
        },
        {
          "output_type": "stream",
          "name": "stdout",
          "text": [
            "9/9 [==============================] - ETA: 0s - loss: 0.1415 - acc: 0.9533\n",
            "Epoch 624: val_loss did not improve from 0.12927\n",
            "9/9 [==============================] - 6s 728ms/step - loss: 0.1415 - acc: 0.9533 - val_loss: 0.1349 - val_acc: 0.9567\n",
            "Epoch 625/800\n",
            "9/9 [==============================] - ETA: 0s - loss: 0.1409 - acc: 0.9534\n",
            "Epoch 625: val_loss did not improve from 0.12927\n",
            "9/9 [==============================] - 6s 705ms/step - loss: 0.1409 - acc: 0.9534 - val_loss: 0.1346 - val_acc: 0.9568\n",
            "Epoch 626/800\n",
            "7/9 [======================>.......] - ETA: 1s - loss: 0.1424 - acc: 0.9529"
          ]
        },
        {
          "output_type": "stream",
          "name": "stderr",
          "text": [
            "[codecarbon INFO @ 16:54:02] Energy consumed for RAM : 0.005363 kWh. RAM Power : 4.753036022186279 W\n",
            "[codecarbon INFO @ 16:54:02] Energy consumed for all GPUs : 0.077553 kWh. Total GPU Power : 69.18349216736462 W\n",
            "[codecarbon INFO @ 16:54:02] Energy consumed for all CPUs : 0.047993 kWh. Total CPU Power : 42.5 W\n",
            "[codecarbon INFO @ 16:54:02] 0.130909 kWh of electricity used since the beginning.\n"
          ]
        },
        {
          "output_type": "stream",
          "name": "stdout",
          "text": [
            "9/9 [==============================] - ETA: 0s - loss: 0.1447 - acc: 0.9519\n",
            "Epoch 626: val_loss did not improve from 0.12927\n",
            "9/9 [==============================] - 7s 801ms/step - loss: 0.1447 - acc: 0.9519 - val_loss: 0.1648 - val_acc: 0.9448\n",
            "Epoch 627/800\n",
            "9/9 [==============================] - ETA: 0s - loss: 0.1556 - acc: 0.9470\n",
            "Epoch 627: val_loss did not improve from 0.12927\n",
            "9/9 [==============================] - 6s 707ms/step - loss: 0.1556 - acc: 0.9470 - val_loss: 0.1313 - val_acc: 0.9577\n",
            "Epoch 628/800\n",
            "9/9 [==============================] - ETA: 0s - loss: 0.1461 - acc: 0.9512"
          ]
        },
        {
          "output_type": "stream",
          "name": "stderr",
          "text": [
            "[codecarbon INFO @ 16:54:17] Energy consumed for RAM : 0.005383 kWh. RAM Power : 4.753036022186279 W\n",
            "[codecarbon INFO @ 16:54:17] Energy consumed for all GPUs : 0.077839 kWh. Total GPU Power : 68.57053750585337 W\n",
            "[codecarbon INFO @ 16:54:17] Energy consumed for all CPUs : 0.048170 kWh. Total CPU Power : 42.5 W\n",
            "[codecarbon INFO @ 16:54:17] 0.131392 kWh of electricity used since the beginning.\n",
            "[codecarbon INFO @ 16:54:17] 0.004484 g.CO2eq/s mean an estimation of 141.39590412515025 kg.CO2eq/year\n"
          ]
        },
        {
          "output_type": "stream",
          "name": "stdout",
          "text": [
            "\n",
            "Epoch 628: val_loss improved from 0.12927 to 0.12849, saving model to /content/drive/MyDrive/Model/initial_runs_20241202_1546/af_lstm_weights.628-0.13.h5\n",
            "9/9 [==============================] - 6s 731ms/step - loss: 0.1461 - acc: 0.9512 - val_loss: 0.1285 - val_acc: 0.9589\n",
            "Epoch 629/800\n",
            "9/9 [==============================] - ETA: 0s - loss: 0.1432 - acc: 0.9522\n",
            "Epoch 629: val_loss did not improve from 0.12849\n",
            "9/9 [==============================] - 6s 704ms/step - loss: 0.1432 - acc: 0.9522 - val_loss: 0.1300 - val_acc: 0.9587\n",
            "Epoch 630/800\n",
            "9/9 [==============================] - ETA: 0s - loss: 0.1422 - acc: 0.9529\n",
            "Epoch 630: val_loss did not improve from 0.12849\n",
            "9/9 [==============================] - 6s 715ms/step - loss: 0.1422 - acc: 0.9529 - val_loss: 0.1366 - val_acc: 0.9563\n",
            "Epoch 631/800\n",
            "3/9 [=========>....................] - ETA: 4s - loss: 0.1415 - acc: 0.9531"
          ]
        },
        {
          "output_type": "stream",
          "name": "stderr",
          "text": [
            "[codecarbon INFO @ 16:54:32] Energy consumed for RAM : 0.005403 kWh. RAM Power : 4.753036022186279 W\n",
            "[codecarbon INFO @ 16:54:32] Energy consumed for all GPUs : 0.078127 kWh. Total GPU Power : 68.98788118706955 W\n",
            "[codecarbon INFO @ 16:54:32] Energy consumed for all CPUs : 0.048348 kWh. Total CPU Power : 42.5 W\n",
            "[codecarbon INFO @ 16:54:32] 0.131877 kWh of electricity used since the beginning.\n"
          ]
        },
        {
          "output_type": "stream",
          "name": "stdout",
          "text": [
            "9/9 [==============================] - ETA: 0s - loss: 0.1421 - acc: 0.9529\n",
            "Epoch 631: val_loss did not improve from 0.12849\n",
            "9/9 [==============================] - 6s 711ms/step - loss: 0.1421 - acc: 0.9529 - val_loss: 0.1290 - val_acc: 0.9592\n",
            "Epoch 632/800\n",
            "9/9 [==============================] - ETA: 0s - loss: 0.1431 - acc: 0.9525\n",
            "Epoch 632: val_loss did not improve from 0.12849\n",
            "9/9 [==============================] - 7s 794ms/step - loss: 0.1431 - acc: 0.9525 - val_loss: 0.1343 - val_acc: 0.9570\n",
            "Epoch 633/800\n",
            "5/9 [===============>..............] - ETA: 2s - loss: 0.1417 - acc: 0.9531"
          ]
        },
        {
          "output_type": "stream",
          "name": "stderr",
          "text": [
            "[codecarbon INFO @ 16:54:47] Energy consumed for RAM : 0.005422 kWh. RAM Power : 4.753036022186279 W\n",
            "[codecarbon INFO @ 16:54:47] Energy consumed for all GPUs : 0.078411 kWh. Total GPU Power : 68.26950413961302 W\n",
            "[codecarbon INFO @ 16:54:47] Energy consumed for all CPUs : 0.048525 kWh. Total CPU Power : 42.5 W\n",
            "[codecarbon INFO @ 16:54:47] 0.132358 kWh of electricity used since the beginning.\n"
          ]
        },
        {
          "output_type": "stream",
          "name": "stdout",
          "text": [
            "9/9 [==============================] - ETA: 0s - loss: 0.1410 - acc: 0.9534\n",
            "Epoch 633: val_loss did not improve from 0.12849\n",
            "9/9 [==============================] - 6s 707ms/step - loss: 0.1410 - acc: 0.9534 - val_loss: 0.1304 - val_acc: 0.9586\n",
            "Epoch 634/800\n",
            "9/9 [==============================] - ETA: 0s - loss: 0.1415 - acc: 0.9532\n",
            "Epoch 634: val_loss improved from 0.12849 to 0.12808, saving model to /content/drive/MyDrive/Model/initial_runs_20241202_1546/af_lstm_weights.634-0.13.h5\n",
            "9/9 [==============================] - 7s 803ms/step - loss: 0.1415 - acc: 0.9532 - val_loss: 0.1281 - val_acc: 0.9593\n",
            "Epoch 635/800\n",
            "8/9 [=========================>....] - ETA: 0s - loss: 0.1432 - acc: 0.9524"
          ]
        },
        {
          "output_type": "stream",
          "name": "stderr",
          "text": [
            "[codecarbon INFO @ 16:55:02] Energy consumed for RAM : 0.005442 kWh. RAM Power : 4.753036022186279 W\n",
            "[codecarbon INFO @ 16:55:02] Energy consumed for all GPUs : 0.078696 kWh. Total GPU Power : 68.51437064991975 W\n",
            "[codecarbon INFO @ 16:55:02] Energy consumed for all CPUs : 0.048702 kWh. Total CPU Power : 42.5 W\n",
            "[codecarbon INFO @ 16:55:02] 0.132840 kWh of electricity used since the beginning.\n"
          ]
        },
        {
          "output_type": "stream",
          "name": "stdout",
          "text": [
            "\b\b\b\b\b\b\b\b\b\b\b\b\b\b\b\b\b\b\b\b\b\b\b\b\b\b\b\b\b\b\b\b\b\b\b\b\b\b\b\b\b\b\b\b\b\b\b\b\b\b\b\b\b\b\b\b\b\b\b\b\b\b\b\b\b\b\b\b\b\b\b\b\b\b\b\r9/9 [==============================] - ETA: 0s - loss: 0.1430 - acc: 0.9525\n",
            "Epoch 635: val_loss did not improve from 0.12808\n",
            "9/9 [==============================] - 6s 707ms/step - loss: 0.1430 - acc: 0.9525 - val_loss: 0.1316 - val_acc: 0.9579\n",
            "Epoch 636/800\n",
            "9/9 [==============================] - ETA: 0s - loss: 0.1440 - acc: 0.9521\n",
            "Epoch 636: val_loss did not improve from 0.12808\n",
            "9/9 [==============================] - 6s 720ms/step - loss: 0.1440 - acc: 0.9521 - val_loss: 0.1362 - val_acc: 0.9561\n",
            "Epoch 637/800\n",
            "9/9 [==============================] - ETA: 0s - loss: 0.1418 - acc: 0.9529\n",
            "Epoch 637: val_loss did not improve from 0.12808\n",
            "9/9 [==============================] - 6s 716ms/step - loss: 0.1418 - acc: 0.9529 - val_loss: 0.1285 - val_acc: 0.9591\n",
            "Epoch 638/800\n",
            "1/9 [==>...........................] - ETA: 5s - loss: 0.1434 - acc: 0.9526"
          ]
        },
        {
          "output_type": "stream",
          "name": "stderr",
          "text": [
            "[codecarbon INFO @ 16:55:17] Energy consumed for RAM : 0.005462 kWh. RAM Power : 4.753036022186279 W\n",
            "[codecarbon INFO @ 16:55:17] Energy consumed for all GPUs : 0.078985 kWh. Total GPU Power : 69.30125520488427 W\n",
            "[codecarbon INFO @ 16:55:17] Energy consumed for all CPUs : 0.048879 kWh. Total CPU Power : 42.5 W\n",
            "[codecarbon INFO @ 16:55:17] 0.133326 kWh of electricity used since the beginning.\n"
          ]
        },
        {
          "output_type": "stream",
          "name": "stdout",
          "text": [
            "9/9 [==============================] - ETA: 0s - loss: 0.1409 - acc: 0.9533\n",
            "Epoch 638: val_loss did not improve from 0.12808\n",
            "9/9 [==============================] - 6s 707ms/step - loss: 0.1409 - acc: 0.9533 - val_loss: 0.1327 - val_acc: 0.9582\n",
            "Epoch 639/800\n",
            "9/9 [==============================] - ETA: 0s - loss: 0.1407 - acc: 0.9535\n",
            "Epoch 639: val_loss did not improve from 0.12808\n",
            "9/9 [==============================] - 6s 712ms/step - loss: 0.1407 - acc: 0.9535 - val_loss: 0.1310 - val_acc: 0.9587\n",
            "Epoch 640/800\n",
            "5/9 [===============>..............] - ETA: 2s - loss: 0.1400 - acc: 0.9536"
          ]
        },
        {
          "output_type": "stream",
          "name": "stderr",
          "text": [
            "[codecarbon INFO @ 16:55:32] Energy consumed for RAM : 0.005482 kWh. RAM Power : 4.753036022186279 W\n",
            "[codecarbon INFO @ 16:55:32] Energy consumed for all GPUs : 0.079276 kWh. Total GPU Power : 69.7833987328197 W\n",
            "[codecarbon INFO @ 16:55:32] Energy consumed for all CPUs : 0.049056 kWh. Total CPU Power : 42.5 W\n",
            "[codecarbon INFO @ 16:55:32] 0.133814 kWh of electricity used since the beginning.\n"
          ]
        },
        {
          "output_type": "stream",
          "name": "stdout",
          "text": [
            "9/9 [==============================] - ETA: 0s - loss: 0.1401 - acc: 0.9538\n",
            "Epoch 640: val_loss did not improve from 0.12808\n",
            "9/9 [==============================] - 7s 787ms/step - loss: 0.1401 - acc: 0.9538 - val_loss: 0.1354 - val_acc: 0.9572\n",
            "Epoch 641/800\n",
            "9/9 [==============================] - ETA: 0s - loss: 0.1457 - acc: 0.9511\n",
            "Epoch 641: val_loss did not improve from 0.12808\n",
            "9/9 [==============================] - 6s 713ms/step - loss: 0.1457 - acc: 0.9511 - val_loss: 0.1401 - val_acc: 0.9550\n",
            "Epoch 642/800\n",
            "8/9 [=========================>....] - ETA: 0s - loss: 0.1436 - acc: 0.9518"
          ]
        },
        {
          "output_type": "stream",
          "name": "stderr",
          "text": [
            "[codecarbon INFO @ 16:55:47] Energy consumed for RAM : 0.005502 kWh. RAM Power : 4.753036022186279 W\n",
            "[codecarbon INFO @ 16:55:47] Energy consumed for all GPUs : 0.079560 kWh. Total GPU Power : 68.05621970362091 W\n",
            "[codecarbon INFO @ 16:55:47] Energy consumed for all CPUs : 0.049233 kWh. Total CPU Power : 42.5 W\n",
            "[codecarbon INFO @ 16:55:47] 0.134294 kWh of electricity used since the beginning.\n"
          ]
        },
        {
          "output_type": "stream",
          "name": "stdout",
          "text": [
            "\b\b\b\b\b\b\b\b\b\b\b\b\b\b\b\b\b\b\b\b\b\b\b\b\b\b\b\b\b\b\b\b\b\b\b\b\b\b\b\b\b\b\b\b\b\b\b\b\b\b\b\b\b\b\b\b\b\b\b\b\b\b\b\b\b\b\b\b\b\b\b\b\b\b\b\r9/9 [==============================] - ETA: 0s - loss: 0.1434 - acc: 0.9519\n",
            "Epoch 642: val_loss did not improve from 0.12808\n",
            "9/9 [==============================] - 6s 703ms/step - loss: 0.1434 - acc: 0.9519 - val_loss: 0.1301 - val_acc: 0.9587\n",
            "Epoch 643/800\n",
            "9/9 [==============================] - ETA: 0s - loss: 0.1406 - acc: 0.9533\n",
            "Epoch 643: val_loss did not improve from 0.12808\n",
            "9/9 [==============================] - 6s 718ms/step - loss: 0.1406 - acc: 0.9533 - val_loss: 0.1313 - val_acc: 0.9587\n",
            "Epoch 644/800\n",
            "9/9 [==============================] - ETA: 0s - loss: 0.1397 - acc: 0.9536\n",
            "Epoch 644: val_loss did not improve from 0.12808\n",
            "9/9 [==============================] - 6s 704ms/step - loss: 0.1397 - acc: 0.9536 - val_loss: 0.1324 - val_acc: 0.9585\n",
            "Epoch 645/800\n",
            "2/9 [=====>........................] - ETA: 4s - loss: 0.1416 - acc: 0.9533"
          ]
        },
        {
          "output_type": "stream",
          "name": "stderr",
          "text": [
            "[codecarbon INFO @ 16:56:02] Energy consumed for RAM : 0.005521 kWh. RAM Power : 4.753036022186279 W\n",
            "[codecarbon INFO @ 16:56:02] Energy consumed for all GPUs : 0.079848 kWh. Total GPU Power : 69.32271526078318 W\n",
            "[codecarbon INFO @ 16:56:02] Energy consumed for all CPUs : 0.049410 kWh. Total CPU Power : 42.5 W\n",
            "[codecarbon INFO @ 16:56:02] 0.134780 kWh of electricity used since the beginning.\n"
          ]
        },
        {
          "output_type": "stream",
          "name": "stdout",
          "text": [
            "9/9 [==============================] - ETA: 0s - loss: 0.1411 - acc: 0.9531\n",
            "Epoch 645: val_loss did not improve from 0.12808\n",
            "9/9 [==============================] - 7s 802ms/step - loss: 0.1411 - acc: 0.9531 - val_loss: 0.1529 - val_acc: 0.9503\n",
            "Epoch 646/800\n",
            "9/9 [==============================] - ETA: 0s - loss: 0.1623 - acc: 0.9436\n",
            "Epoch 646: val_loss did not improve from 0.12808\n",
            "9/9 [==============================] - 6s 704ms/step - loss: 0.1623 - acc: 0.9436 - val_loss: 0.1464 - val_acc: 0.9518\n",
            "Epoch 647/800\n",
            "4/9 [============>.................] - ETA: 3s - loss: 0.1483 - acc: 0.9501"
          ]
        },
        {
          "output_type": "stream",
          "name": "stderr",
          "text": [
            "[codecarbon INFO @ 16:56:17] Energy consumed for RAM : 0.005541 kWh. RAM Power : 4.753036022186279 W\n",
            "[codecarbon INFO @ 16:56:17] Energy consumed for all GPUs : 0.080134 kWh. Total GPU Power : 68.49790692169407 W\n",
            "[codecarbon INFO @ 16:56:17] Energy consumed for all CPUs : 0.049588 kWh. Total CPU Power : 42.5 W\n",
            "[codecarbon INFO @ 16:56:17] 0.135263 kWh of electricity used since the beginning.\n",
            "[codecarbon INFO @ 16:56:17] 0.004471 g.CO2eq/s mean an estimation of 141.0106063730617 kg.CO2eq/year\n"
          ]
        },
        {
          "output_type": "stream",
          "name": "stdout",
          "text": [
            "9/9 [==============================] - ETA: 0s - loss: 0.1478 - acc: 0.9505\n",
            "Epoch 647: val_loss did not improve from 0.12808\n",
            "9/9 [==============================] - 7s 804ms/step - loss: 0.1478 - acc: 0.9505 - val_loss: 0.1282 - val_acc: 0.9588\n",
            "Epoch 648/800\n",
            "9/9 [==============================] - ETA: 0s - loss: 0.1421 - acc: 0.9528\n",
            "Epoch 648: val_loss did not improve from 0.12808\n",
            "9/9 [==============================] - 6s 703ms/step - loss: 0.1421 - acc: 0.9528 - val_loss: 0.1286 - val_acc: 0.9593\n",
            "Epoch 649/800\n",
            "7/9 [======================>.......] - ETA: 1s - loss: 0.1393 - acc: 0.9537"
          ]
        },
        {
          "output_type": "stream",
          "name": "stderr",
          "text": [
            "[codecarbon INFO @ 16:56:32] Energy consumed for RAM : 0.005561 kWh. RAM Power : 4.753036022186279 W\n",
            "[codecarbon INFO @ 16:56:32] Energy consumed for all GPUs : 0.080418 kWh. Total GPU Power : 68.10316077878605 W\n",
            "[codecarbon INFO @ 16:56:32] Energy consumed for all CPUs : 0.049765 kWh. Total CPU Power : 42.5 W\n",
            "[codecarbon INFO @ 16:56:32] 0.135744 kWh of electricity used since the beginning.\n"
          ]
        },
        {
          "output_type": "stream",
          "name": "stdout",
          "text": [
            "9/9 [==============================] - ETA: 0s - loss: 0.1396 - acc: 0.9536\n",
            "Epoch 649: val_loss did not improve from 0.12808\n",
            "9/9 [==============================] - 7s 803ms/step - loss: 0.1396 - acc: 0.9536 - val_loss: 0.1392 - val_acc: 0.9556\n",
            "Epoch 650/800\n",
            "9/9 [==============================] - ETA: 0s - loss: 0.1398 - acc: 0.9539\n",
            "Epoch 650: val_loss did not improve from 0.12808\n",
            "9/9 [==============================] - 6s 707ms/step - loss: 0.1398 - acc: 0.9539 - val_loss: 0.1381 - val_acc: 0.9560\n",
            "Epoch 651/800\n",
            "9/9 [==============================] - ETA: 0s - loss: 0.1379 - acc: 0.9547"
          ]
        },
        {
          "output_type": "stream",
          "name": "stderr",
          "text": [
            "[codecarbon INFO @ 16:56:47] Energy consumed for RAM : 0.005581 kWh. RAM Power : 4.753036022186279 W\n",
            "[codecarbon INFO @ 16:56:47] Energy consumed for all GPUs : 0.080702 kWh. Total GPU Power : 68.29070459446814 W\n",
            "[codecarbon INFO @ 16:56:47] Energy consumed for all CPUs : 0.049942 kWh. Total CPU Power : 42.5 W\n",
            "[codecarbon INFO @ 16:56:47] 0.136225 kWh of electricity used since the beginning.\n"
          ]
        },
        {
          "output_type": "stream",
          "name": "stdout",
          "text": [
            "\n",
            "Epoch 651: val_loss did not improve from 0.12808\n",
            "9/9 [==============================] - 7s 798ms/step - loss: 0.1379 - acc: 0.9547 - val_loss: 0.1311 - val_acc: 0.9584\n",
            "Epoch 652/800\n",
            "9/9 [==============================] - ETA: 0s - loss: 0.1375 - acc: 0.9550\n",
            "Epoch 652: val_loss did not improve from 0.12808\n",
            "9/9 [==============================] - 6s 703ms/step - loss: 0.1375 - acc: 0.9550 - val_loss: 0.1336 - val_acc: 0.9577\n",
            "Epoch 653/800\n",
            "9/9 [==============================] - ETA: 0s - loss: 0.1611 - acc: 0.9442\n",
            "Epoch 653: val_loss did not improve from 0.12808\n",
            "9/9 [==============================] - 7s 801ms/step - loss: 0.1611 - acc: 0.9442 - val_loss: 0.1600 - val_acc: 0.9471\n",
            "Epoch 654/800\n",
            "1/9 [==>...........................] - ETA: 5s - loss: 0.1638 - acc: 0.9437"
          ]
        },
        {
          "output_type": "stream",
          "name": "stderr",
          "text": [
            "[codecarbon INFO @ 16:57:02] Energy consumed for RAM : 0.005601 kWh. RAM Power : 4.753036022186279 W\n",
            "[codecarbon INFO @ 16:57:02] Energy consumed for all GPUs : 0.080982 kWh. Total GPU Power : 67.04915905779107 W\n",
            "[codecarbon INFO @ 16:57:02] Energy consumed for all CPUs : 0.050119 kWh. Total CPU Power : 42.5 W\n",
            "[codecarbon INFO @ 16:57:02] 0.136701 kWh of electricity used since the beginning.\n"
          ]
        },
        {
          "output_type": "stream",
          "name": "stdout",
          "text": [
            "9/9 [==============================] - ETA: 0s - loss: 0.1526 - acc: 0.9478\n",
            "Epoch 654: val_loss did not improve from 0.12808\n",
            "9/9 [==============================] - 7s 784ms/step - loss: 0.1526 - acc: 0.9478 - val_loss: 0.1313 - val_acc: 0.9578\n",
            "Epoch 655/800\n",
            "9/9 [==============================] - ETA: 0s - loss: 0.1446 - acc: 0.9516\n",
            "Epoch 655: val_loss improved from 0.12808 to 0.12670, saving model to /content/drive/MyDrive/Model/initial_runs_20241202_1546/af_lstm_weights.655-0.13.h5\n",
            "9/9 [==============================] - 6s 727ms/step - loss: 0.1446 - acc: 0.9516 - val_loss: 0.1267 - val_acc: 0.9597\n",
            "Epoch 656/800\n",
            "3/9 [=========>....................] - ETA: 3s - loss: 0.1420 - acc: 0.9526"
          ]
        },
        {
          "output_type": "stream",
          "name": "stderr",
          "text": [
            "[codecarbon INFO @ 16:57:17] Energy consumed for RAM : 0.005620 kWh. RAM Power : 4.753036022186279 W\n",
            "[codecarbon INFO @ 16:57:17] Energy consumed for all GPUs : 0.081267 kWh. Total GPU Power : 68.57104342390824 W\n",
            "[codecarbon INFO @ 16:57:17] Energy consumed for all CPUs : 0.050296 kWh. Total CPU Power : 42.5 W\n",
            "[codecarbon INFO @ 16:57:17] 0.137184 kWh of electricity used since the beginning.\n"
          ]
        },
        {
          "output_type": "stream",
          "name": "stdout",
          "text": [
            "9/9 [==============================] - ETA: 0s - loss: 0.1413 - acc: 0.9530\n",
            "Epoch 656: val_loss did not improve from 0.12670\n",
            "9/9 [==============================] - 6s 705ms/step - loss: 0.1413 - acc: 0.9530 - val_loss: 0.1279 - val_acc: 0.9599\n",
            "Epoch 657/800\n",
            "9/9 [==============================] - ETA: 0s - loss: 0.1382 - acc: 0.9544\n",
            "Epoch 657: val_loss did not improve from 0.12670\n",
            "9/9 [==============================] - 6s 718ms/step - loss: 0.1382 - acc: 0.9544 - val_loss: 0.1278 - val_acc: 0.9603\n",
            "Epoch 658/800\n",
            "7/9 [======================>.......] - ETA: 1s - loss: 0.1369 - acc: 0.9550"
          ]
        },
        {
          "output_type": "stream",
          "name": "stderr",
          "text": [
            "[codecarbon INFO @ 16:57:32] Energy consumed for RAM : 0.005640 kWh. RAM Power : 4.753036022186279 W\n",
            "[codecarbon INFO @ 16:57:32] Energy consumed for all GPUs : 0.081556 kWh. Total GPU Power : 69.43090392870198 W\n",
            "[codecarbon INFO @ 16:57:32] Energy consumed for all CPUs : 0.050473 kWh. Total CPU Power : 42.5 W\n",
            "[codecarbon INFO @ 16:57:32] 0.137669 kWh of electricity used since the beginning.\n"
          ]
        },
        {
          "output_type": "stream",
          "name": "stdout",
          "text": [
            "9/9 [==============================] - ETA: 0s - loss: 0.1370 - acc: 0.9549\n",
            "Epoch 658: val_loss did not improve from 0.12670\n",
            "9/9 [==============================] - 6s 709ms/step - loss: 0.1370 - acc: 0.9549 - val_loss: 0.1340 - val_acc: 0.9574\n",
            "Epoch 659/800\n",
            "9/9 [==============================] - ETA: 0s - loss: 0.1390 - acc: 0.9541\n",
            "Epoch 659: val_loss improved from 0.12670 to 0.12630, saving model to /content/drive/MyDrive/Model/initial_runs_20241202_1546/af_lstm_weights.659-0.13.h5\n",
            "9/9 [==============================] - 6s 730ms/step - loss: 0.1390 - acc: 0.9541 - val_loss: 0.1263 - val_acc: 0.9603\n",
            "Epoch 660/800\n",
            "9/9 [==============================] - ETA: 0s - loss: 0.1377 - acc: 0.9546\n",
            "Epoch 660: val_loss improved from 0.12630 to 0.12540, saving model to /content/drive/MyDrive/Model/initial_runs_20241202_1546/af_lstm_weights.660-0.13.h5\n",
            "9/9 [==============================] - 6s 725ms/step - loss: 0.1377 - acc: 0.9546 - val_loss: 0.1254 - val_acc: 0.9608\n",
            "Epoch 661/800\n"
          ]
        },
        {
          "output_type": "stream",
          "name": "stderr",
          "text": [
            "[codecarbon INFO @ 16:57:47] Energy consumed for RAM : 0.005660 kWh. RAM Power : 4.753036022186279 W\n",
            "[codecarbon INFO @ 16:57:47] Energy consumed for all GPUs : 0.081843 kWh. Total GPU Power : 69.08235338575052 W\n",
            "[codecarbon INFO @ 16:57:47] Energy consumed for all CPUs : 0.050650 kWh. Total CPU Power : 42.5 W\n",
            "[codecarbon INFO @ 16:57:47] 0.138154 kWh of electricity used since the beginning.\n"
          ]
        },
        {
          "output_type": "stream",
          "name": "stdout",
          "text": [
            "9/9 [==============================] - ETA: 0s - loss: 0.1376 - acc: 0.9547\n",
            "Epoch 661: val_loss did not improve from 0.12540\n",
            "9/9 [==============================] - 6s 704ms/step - loss: 0.1376 - acc: 0.9547 - val_loss: 0.1316 - val_acc: 0.9582\n",
            "Epoch 662/800\n",
            "9/9 [==============================] - ETA: 0s - loss: 0.1378 - acc: 0.9546\n",
            "Epoch 662: val_loss improved from 0.12540 to 0.12397, saving model to /content/drive/MyDrive/Model/initial_runs_20241202_1546/af_lstm_weights.662-0.12.h5\n",
            "9/9 [==============================] - 6s 727ms/step - loss: 0.1378 - acc: 0.9546 - val_loss: 0.1240 - val_acc: 0.9611\n",
            "Epoch 663/800\n",
            "4/9 [============>.................] - ETA: 3s - loss: 0.1408 - acc: 0.9534"
          ]
        },
        {
          "output_type": "stream",
          "name": "stderr",
          "text": [
            "[codecarbon INFO @ 16:58:02] Energy consumed for RAM : 0.005680 kWh. RAM Power : 4.753036022186279 W\n",
            "[codecarbon INFO @ 16:58:02] Energy consumed for all GPUs : 0.082134 kWh. Total GPU Power : 69.59535460293543 W\n",
            "[codecarbon INFO @ 16:58:02] Energy consumed for all CPUs : 0.050828 kWh. Total CPU Power : 42.5 W\n",
            "[codecarbon INFO @ 16:58:02] 0.138641 kWh of electricity used since the beginning.\n"
          ]
        },
        {
          "output_type": "stream",
          "name": "stdout",
          "text": [
            "9/9 [==============================] - ETA: 0s - loss: 0.1394 - acc: 0.9538\n",
            "Epoch 663: val_loss did not improve from 0.12397\n",
            "9/9 [==============================] - 6s 706ms/step - loss: 0.1394 - acc: 0.9538 - val_loss: 0.1269 - val_acc: 0.9602\n",
            "Epoch 664/800\n",
            "9/9 [==============================] - ETA: 0s - loss: 0.1373 - acc: 0.9547\n",
            "Epoch 664: val_loss did not improve from 0.12397\n",
            "9/9 [==============================] - 6s 729ms/step - loss: 0.1373 - acc: 0.9547 - val_loss: 0.1321 - val_acc: 0.9580\n",
            "Epoch 665/800\n",
            "7/9 [======================>.......] - ETA: 1s - loss: 0.1373 - acc: 0.9546"
          ]
        },
        {
          "output_type": "stream",
          "name": "stderr",
          "text": [
            "[codecarbon INFO @ 16:58:17] Energy consumed for RAM : 0.005700 kWh. RAM Power : 4.753036022186279 W\n",
            "[codecarbon INFO @ 16:58:17] Energy consumed for all GPUs : 0.082422 kWh. Total GPU Power : 69.1480645712857 W\n",
            "[codecarbon INFO @ 16:58:17] Energy consumed for all CPUs : 0.051005 kWh. Total CPU Power : 42.5 W\n",
            "[codecarbon INFO @ 16:58:17] 0.139127 kWh of electricity used since the beginning.\n",
            "[codecarbon INFO @ 16:58:17] 0.004463 g.CO2eq/s mean an estimation of 140.75480782592817 kg.CO2eq/year\n"
          ]
        },
        {
          "output_type": "stream",
          "name": "stdout",
          "text": [
            "9/9 [==============================] - ETA: 0s - loss: 0.1369 - acc: 0.9548\n",
            "Epoch 665: val_loss did not improve from 0.12397\n",
            "9/9 [==============================] - 6s 706ms/step - loss: 0.1369 - acc: 0.9548 - val_loss: 0.1257 - val_acc: 0.9608\n",
            "Epoch 666/800\n",
            "9/9 [==============================] - ETA: 0s - loss: 0.1375 - acc: 0.9547\n",
            "Epoch 666: val_loss did not improve from 0.12397\n",
            "9/9 [==============================] - 6s 721ms/step - loss: 0.1375 - acc: 0.9547 - val_loss: 0.1257 - val_acc: 0.9605\n",
            "Epoch 667/800\n",
            "9/9 [==============================] - ETA: 0s - loss: 0.1412 - acc: 0.9531\n",
            "Epoch 667: val_loss did not improve from 0.12397\n",
            "9/9 [==============================] - 6s 706ms/step - loss: 0.1412 - acc: 0.9531 - val_loss: 0.1380 - val_acc: 0.9558\n",
            "Epoch 668/800\n",
            "1/9 [==>...........................] - ETA: 5s - loss: 0.1389 - acc: 0.9539"
          ]
        },
        {
          "output_type": "stream",
          "name": "stderr",
          "text": [
            "[codecarbon INFO @ 16:58:32] Energy consumed for RAM : 0.005719 kWh. RAM Power : 4.753036022186279 W\n",
            "[codecarbon INFO @ 16:58:32] Energy consumed for all GPUs : 0.082710 kWh. Total GPU Power : 69.28556615570321 W\n",
            "[codecarbon INFO @ 16:58:32] Energy consumed for all CPUs : 0.051182 kWh. Total CPU Power : 42.5 W\n",
            "[codecarbon INFO @ 16:58:32] 0.139611 kWh of electricity used since the beginning.\n"
          ]
        },
        {
          "output_type": "stream",
          "name": "stdout",
          "text": [
            "9/9 [==============================] - ETA: 0s - loss: 0.1377 - acc: 0.9546\n",
            "Epoch 668: val_loss did not improve from 0.12397\n",
            "9/9 [==============================] - 7s 806ms/step - loss: 0.1377 - acc: 0.9546 - val_loss: 0.1252 - val_acc: 0.9608\n",
            "Epoch 669/800\n",
            "9/9 [==============================] - ETA: 0s - loss: 0.1375 - acc: 0.9547\n",
            "Epoch 669: val_loss did not improve from 0.12397\n",
            "9/9 [==============================] - 6s 705ms/step - loss: 0.1375 - acc: 0.9547 - val_loss: 0.1365 - val_acc: 0.9562\n",
            "Epoch 670/800\n",
            "3/9 [=========>....................] - ETA: 3s - loss: 0.1382 - acc: 0.9543"
          ]
        },
        {
          "output_type": "stream",
          "name": "stderr",
          "text": [
            "[codecarbon INFO @ 16:58:47] Energy consumed for RAM : 0.005739 kWh. RAM Power : 4.753036022186279 W\n",
            "[codecarbon INFO @ 16:58:47] Energy consumed for all GPUs : 0.082996 kWh. Total GPU Power : 68.70369670668028 W\n",
            "[codecarbon INFO @ 16:58:47] Energy consumed for all CPUs : 0.051359 kWh. Total CPU Power : 42.5 W\n",
            "[codecarbon INFO @ 16:58:47] 0.140094 kWh of electricity used since the beginning.\n"
          ]
        },
        {
          "output_type": "stream",
          "name": "stdout",
          "text": [
            "9/9 [==============================] - ETA: 0s - loss: 0.1379 - acc: 0.9544\n",
            "Epoch 670: val_loss did not improve from 0.12397\n",
            "9/9 [==============================] - 6s 722ms/step - loss: 0.1379 - acc: 0.9544 - val_loss: 0.1270 - val_acc: 0.9602\n",
            "Epoch 671/800\n",
            "9/9 [==============================] - ETA: 0s - loss: 0.1374 - acc: 0.9548\n",
            "Epoch 671: val_loss did not improve from 0.12397\n",
            "9/9 [==============================] - 6s 704ms/step - loss: 0.1374 - acc: 0.9548 - val_loss: 0.1252 - val_acc: 0.9610\n",
            "Epoch 672/800\n",
            "7/9 [======================>.......] - ETA: 1s - loss: 0.1365 - acc: 0.9551"
          ]
        },
        {
          "output_type": "stream",
          "name": "stderr",
          "text": [
            "[codecarbon INFO @ 16:59:02] Energy consumed for RAM : 0.005759 kWh. RAM Power : 4.753036022186279 W\n",
            "[codecarbon INFO @ 16:59:02] Energy consumed for all GPUs : 0.083285 kWh. Total GPU Power : 69.17324463432416 W\n",
            "[codecarbon INFO @ 16:59:02] Energy consumed for all CPUs : 0.051536 kWh. Total CPU Power : 42.5 W\n",
            "[codecarbon INFO @ 16:59:02] 0.140580 kWh of electricity used since the beginning.\n"
          ]
        },
        {
          "output_type": "stream",
          "name": "stdout",
          "text": [
            "9/9 [==============================] - ETA: 0s - loss: 0.1360 - acc: 0.9553\n",
            "Epoch 672: val_loss did not improve from 0.12397\n",
            "9/9 [==============================] - 7s 799ms/step - loss: 0.1360 - acc: 0.9553 - val_loss: 0.1322 - val_acc: 0.9581\n",
            "Epoch 673/800\n",
            "9/9 [==============================] - ETA: 0s - loss: 0.1376 - acc: 0.9546\n",
            "Epoch 673: val_loss did not improve from 0.12397\n",
            "9/9 [==============================] - 6s 706ms/step - loss: 0.1376 - acc: 0.9546 - val_loss: 0.1271 - val_acc: 0.9601\n",
            "Epoch 674/800\n",
            "9/9 [==============================] - ETA: 0s - loss: 0.1360 - acc: 0.9554"
          ]
        },
        {
          "output_type": "stream",
          "name": "stderr",
          "text": [
            "[codecarbon INFO @ 16:59:17] Energy consumed for RAM : 0.005779 kWh. RAM Power : 4.753036022186279 W\n",
            "[codecarbon INFO @ 16:59:17] Energy consumed for all GPUs : 0.083568 kWh. Total GPU Power : 68.10594476553963 W\n",
            "[codecarbon INFO @ 16:59:17] Energy consumed for all CPUs : 0.051713 kWh. Total CPU Power : 42.5 W\n",
            "[codecarbon INFO @ 16:59:17] 0.141060 kWh of electricity used since the beginning.\n"
          ]
        },
        {
          "output_type": "stream",
          "name": "stdout",
          "text": [
            "\n",
            "Epoch 674: val_loss did not improve from 0.12397\n",
            "9/9 [==============================] - 7s 799ms/step - loss: 0.1360 - acc: 0.9554 - val_loss: 0.1243 - val_acc: 0.9614\n",
            "Epoch 675/800\n",
            "9/9 [==============================] - ETA: 0s - loss: 0.1368 - acc: 0.9551\n",
            "Epoch 675: val_loss did not improve from 0.12397\n",
            "9/9 [==============================] - 7s 787ms/step - loss: 0.1368 - acc: 0.9551 - val_loss: 0.1283 - val_acc: 0.9595\n",
            "Epoch 676/800\n",
            "9/9 [==============================] - ETA: 0s - loss: 0.1347 - acc: 0.9558\n",
            "Epoch 676: val_loss did not improve from 0.12397\n",
            "9/9 [==============================] - 7s 797ms/step - loss: 0.1347 - acc: 0.9558 - val_loss: 0.1264 - val_acc: 0.9604\n",
            "Epoch 677/800\n"
          ]
        },
        {
          "output_type": "stream",
          "name": "stderr",
          "text": [
            "[codecarbon INFO @ 16:59:32] Energy consumed for RAM : 0.005798 kWh. RAM Power : 4.753036022186279 W\n",
            "[codecarbon INFO @ 16:59:32] Energy consumed for all GPUs : 0.083844 kWh. Total GPU Power : 66.31222397042649 W\n",
            "[codecarbon INFO @ 16:59:32] Energy consumed for all CPUs : 0.051890 kWh. Total CPU Power : 42.5 W\n",
            "[codecarbon INFO @ 16:59:32] 0.141533 kWh of electricity used since the beginning.\n"
          ]
        },
        {
          "output_type": "stream",
          "name": "stdout",
          "text": [
            "9/9 [==============================] - ETA: 0s - loss: 0.1346 - acc: 0.9558\n",
            "Epoch 677: val_loss did not improve from 0.12397\n",
            "9/9 [==============================] - 6s 704ms/step - loss: 0.1346 - acc: 0.9558 - val_loss: 0.1276 - val_acc: 0.9599\n",
            "Epoch 678/800\n",
            "9/9 [==============================] - ETA: 0s - loss: 0.1347 - acc: 0.9558\n",
            "Epoch 678: val_loss did not improve from 0.12397\n",
            "9/9 [==============================] - 6s 719ms/step - loss: 0.1347 - acc: 0.9558 - val_loss: 0.1261 - val_acc: 0.9605\n",
            "Epoch 679/800\n",
            "4/9 [============>.................] - ETA: 3s - loss: 0.1359 - acc: 0.9554"
          ]
        },
        {
          "output_type": "stream",
          "name": "stderr",
          "text": [
            "[codecarbon INFO @ 16:59:47] Energy consumed for RAM : 0.005818 kWh. RAM Power : 4.753036022186279 W\n",
            "[codecarbon INFO @ 16:59:47] Energy consumed for all GPUs : 0.084133 kWh. Total GPU Power : 69.35520782911107 W\n",
            "[codecarbon INFO @ 16:59:47] Energy consumed for all CPUs : 0.052067 kWh. Total CPU Power : 42.5 W\n",
            "[codecarbon INFO @ 16:59:47] 0.142018 kWh of electricity used since the beginning.\n"
          ]
        },
        {
          "output_type": "stream",
          "name": "stdout",
          "text": [
            "9/9 [==============================] - ETA: 0s - loss: 0.1351 - acc: 0.9558\n",
            "Epoch 679: val_loss did not improve from 0.12397\n",
            "9/9 [==============================] - 6s 707ms/step - loss: 0.1351 - acc: 0.9558 - val_loss: 0.1262 - val_acc: 0.9604\n",
            "Epoch 680/800\n",
            "9/9 [==============================] - ETA: 0s - loss: 0.1344 - acc: 0.9562\n",
            "Epoch 680: val_loss did not improve from 0.12397\n",
            "9/9 [==============================] - 6s 719ms/step - loss: 0.1344 - acc: 0.9562 - val_loss: 0.1299 - val_acc: 0.9587\n",
            "Epoch 681/800\n",
            "7/9 [======================>.......] - ETA: 1s - loss: 0.1376 - acc: 0.9545"
          ]
        },
        {
          "output_type": "stream",
          "name": "stderr",
          "text": [
            "[codecarbon INFO @ 17:00:02] Energy consumed for RAM : 0.005838 kWh. RAM Power : 4.753036022186279 W\n",
            "[codecarbon INFO @ 17:00:02] Energy consumed for all GPUs : 0.084423 kWh. Total GPU Power : 69.70016165460557 W\n",
            "[codecarbon INFO @ 17:00:02] Energy consumed for all CPUs : 0.052244 kWh. Total CPU Power : 42.5 W\n",
            "[codecarbon INFO @ 17:00:02] 0.142506 kWh of electricity used since the beginning.\n"
          ]
        },
        {
          "output_type": "stream",
          "name": "stdout",
          "text": [
            "9/9 [==============================] - ETA: 0s - loss: 0.1434 - acc: 0.9520\n",
            "Epoch 681: val_loss did not improve from 0.12397\n",
            "9/9 [==============================] - 6s 707ms/step - loss: 0.1434 - acc: 0.9520 - val_loss: 0.2181 - val_acc: 0.9241\n",
            "Epoch 682/800\n",
            "9/9 [==============================] - ETA: 0s - loss: 0.2672 - acc: 0.8985\n",
            "Epoch 682: val_loss did not improve from 0.12397\n",
            "9/9 [==============================] - 6s 709ms/step - loss: 0.2672 - acc: 0.8985 - val_loss: 0.1577 - val_acc: 0.9478\n",
            "Epoch 683/800\n",
            "9/9 [==============================] - ETA: 0s - loss: 0.1822 - acc: 0.9343\n",
            "Epoch 683: val_loss did not improve from 0.12397\n",
            "9/9 [==============================] - 6s 711ms/step - loss: 0.1822 - acc: 0.9343 - val_loss: 0.1466 - val_acc: 0.9499\n",
            "Epoch 684/800\n",
            "1/9 [==>...........................] - ETA: 5s - loss: 0.1748 - acc: 0.9394"
          ]
        },
        {
          "output_type": "stream",
          "name": "stderr",
          "text": [
            "[codecarbon INFO @ 17:00:17] Energy consumed for RAM : 0.005858 kWh. RAM Power : 4.753036022186279 W\n",
            "[codecarbon INFO @ 17:00:17] Energy consumed for all GPUs : 0.084711 kWh. Total GPU Power : 69.18579841310941 W\n",
            "[codecarbon INFO @ 17:00:17] Energy consumed for all CPUs : 0.052421 kWh. Total CPU Power : 42.5 W\n",
            "[codecarbon INFO @ 17:00:17] 0.142991 kWh of electricity used since the beginning.\n",
            "[codecarbon INFO @ 17:00:17] 0.004467 g.CO2eq/s mean an estimation of 140.86447584986726 kg.CO2eq/year\n"
          ]
        },
        {
          "output_type": "stream",
          "name": "stdout",
          "text": [
            "9/9 [==============================] - ETA: 0s - loss: 0.1640 - acc: 0.9446\n",
            "Epoch 684: val_loss did not improve from 0.12397\n",
            "9/9 [==============================] - 6s 704ms/step - loss: 0.1640 - acc: 0.9446 - val_loss: 0.1388 - val_acc: 0.9538\n",
            "Epoch 685/800\n",
            "9/9 [==============================] - ETA: 0s - loss: 0.1518 - acc: 0.9485\n",
            "Epoch 685: val_loss did not improve from 0.12397\n",
            "9/9 [==============================] - 6s 716ms/step - loss: 0.1518 - acc: 0.9485 - val_loss: 0.1320 - val_acc: 0.9568\n",
            "Epoch 686/800\n",
            "4/9 [============>.................] - ETA: 3s - loss: 0.1488 - acc: 0.9494"
          ]
        },
        {
          "output_type": "stream",
          "name": "stderr",
          "text": [
            "[codecarbon INFO @ 17:00:32] Energy consumed for RAM : 0.005878 kWh. RAM Power : 4.753036022186279 W\n",
            "[codecarbon INFO @ 17:00:32] Energy consumed for all GPUs : 0.085000 kWh. Total GPU Power : 69.36466499835691 W\n",
            "[codecarbon INFO @ 17:00:32] Energy consumed for all CPUs : 0.052599 kWh. Total CPU Power : 42.5 W\n",
            "[codecarbon INFO @ 17:00:32] 0.143476 kWh of electricity used since the beginning.\n"
          ]
        },
        {
          "output_type": "stream",
          "name": "stdout",
          "text": [
            "9/9 [==============================] - ETA: 0s - loss: 0.1478 - acc: 0.9499\n",
            "Epoch 686: val_loss did not improve from 0.12397\n",
            "9/9 [==============================] - 6s 703ms/step - loss: 0.1478 - acc: 0.9499 - val_loss: 0.1323 - val_acc: 0.9578\n",
            "Epoch 687/800\n",
            "9/9 [==============================] - ETA: 0s - loss: 0.1439 - acc: 0.9519\n",
            "Epoch 687: val_loss did not improve from 0.12397\n",
            "9/9 [==============================] - 6s 715ms/step - loss: 0.1439 - acc: 0.9519 - val_loss: 0.1342 - val_acc: 0.9574\n",
            "Epoch 688/800\n",
            "8/9 [=========================>....] - ETA: 0s - loss: 0.1417 - acc: 0.9529"
          ]
        },
        {
          "output_type": "stream",
          "name": "stderr",
          "text": [
            "[codecarbon INFO @ 17:00:47] Energy consumed for RAM : 0.005897 kWh. RAM Power : 4.753036022186279 W\n",
            "[codecarbon INFO @ 17:00:47] Energy consumed for all GPUs : 0.085291 kWh. Total GPU Power : 69.84786760930524 W\n",
            "[codecarbon INFO @ 17:00:47] Energy consumed for all CPUs : 0.052776 kWh. Total CPU Power : 42.5 W\n",
            "[codecarbon INFO @ 17:00:47] 0.143964 kWh of electricity used since the beginning.\n"
          ]
        },
        {
          "output_type": "stream",
          "name": "stdout",
          "text": [
            "\b\b\b\b\b\b\b\b\b\b\b\b\b\b\b\b\b\b\b\b\b\b\b\b\b\b\b\b\b\b\b\b\b\b\b\b\b\b\b\b\b\b\b\b\b\b\b\b\b\b\b\b\b\b\b\b\b\b\b\b\b\b\b\b\b\b\b\b\b\b\b\b\b\b\b\r9/9 [==============================] - ETA: 0s - loss: 0.1418 - acc: 0.9529\n",
            "Epoch 688: val_loss did not improve from 0.12397\n",
            "9/9 [==============================] - 6s 703ms/step - loss: 0.1418 - acc: 0.9529 - val_loss: 0.1315 - val_acc: 0.9584\n",
            "Epoch 689/800\n",
            "9/9 [==============================] - ETA: 0s - loss: 0.1410 - acc: 0.9532\n",
            "Epoch 689: val_loss did not improve from 0.12397\n",
            "9/9 [==============================] - 6s 724ms/step - loss: 0.1410 - acc: 0.9532 - val_loss: 0.1301 - val_acc: 0.9589\n",
            "Epoch 690/800\n",
            "9/9 [==============================] - ETA: 0s - loss: 0.1399 - acc: 0.9538\n",
            "Epoch 690: val_loss did not improve from 0.12397\n",
            "9/9 [==============================] - 6s 705ms/step - loss: 0.1399 - acc: 0.9538 - val_loss: 0.1295 - val_acc: 0.9589\n",
            "Epoch 691/800\n",
            "2/9 [=====>........................] - ETA: 4s - loss: 0.1387 - acc: 0.9541"
          ]
        },
        {
          "output_type": "stream",
          "name": "stderr",
          "text": [
            "[codecarbon INFO @ 17:01:02] Energy consumed for RAM : 0.005917 kWh. RAM Power : 4.753036022186279 W\n",
            "[codecarbon INFO @ 17:01:02] Energy consumed for all GPUs : 0.085579 kWh. Total GPU Power : 69.3425717565482 W\n",
            "[codecarbon INFO @ 17:01:02] Energy consumed for all CPUs : 0.052953 kWh. Total CPU Power : 42.5 W\n",
            "[codecarbon INFO @ 17:01:02] 0.144449 kWh of electricity used since the beginning.\n"
          ]
        },
        {
          "output_type": "stream",
          "name": "stdout",
          "text": [
            "9/9 [==============================] - ETA: 0s - loss: 0.1391 - acc: 0.9539\n",
            "Epoch 691: val_loss did not improve from 0.12397\n",
            "9/9 [==============================] - 6s 729ms/step - loss: 0.1391 - acc: 0.9539 - val_loss: 0.1268 - val_acc: 0.9595\n",
            "Epoch 692/800\n",
            "9/9 [==============================] - ETA: 0s - loss: 0.1382 - acc: 0.9542\n",
            "Epoch 692: val_loss did not improve from 0.12397\n",
            "9/9 [==============================] - 6s 705ms/step - loss: 0.1382 - acc: 0.9542 - val_loss: 0.1272 - val_acc: 0.9594\n",
            "Epoch 693/800\n",
            "5/9 [===============>..............] - ETA: 2s - loss: 0.1382 - acc: 0.9542"
          ]
        },
        {
          "output_type": "stream",
          "name": "stderr",
          "text": [
            "[codecarbon INFO @ 17:01:17] Energy consumed for RAM : 0.005937 kWh. RAM Power : 4.753036022186279 W\n",
            "[codecarbon INFO @ 17:01:17] Energy consumed for all GPUs : 0.085868 kWh. Total GPU Power : 69.29990723117403 W\n",
            "[codecarbon INFO @ 17:01:17] Energy consumed for all CPUs : 0.053130 kWh. Total CPU Power : 42.5 W\n",
            "[codecarbon INFO @ 17:01:17] 0.144934 kWh of electricity used since the beginning.\n"
          ]
        },
        {
          "output_type": "stream",
          "name": "stdout",
          "text": [
            "9/9 [==============================] - ETA: 0s - loss: 0.1375 - acc: 0.9545\n",
            "Epoch 693: val_loss did not improve from 0.12397\n",
            "9/9 [==============================] - 7s 800ms/step - loss: 0.1375 - acc: 0.9545 - val_loss: 0.1277 - val_acc: 0.9594\n",
            "Epoch 694/800\n",
            "9/9 [==============================] - ETA: 0s - loss: 0.1373 - acc: 0.9547\n",
            "Epoch 694: val_loss did not improve from 0.12397\n",
            "9/9 [==============================] - 6s 705ms/step - loss: 0.1373 - acc: 0.9547 - val_loss: 0.1274 - val_acc: 0.9596\n",
            "Epoch 695/800\n",
            "8/9 [=========================>....] - ETA: 0s - loss: 0.1361 - acc: 0.9554"
          ]
        },
        {
          "output_type": "stream",
          "name": "stderr",
          "text": [
            "[codecarbon INFO @ 17:01:32] Energy consumed for RAM : 0.005957 kWh. RAM Power : 4.753036022186279 W\n",
            "[codecarbon INFO @ 17:01:32] Energy consumed for all GPUs : 0.086153 kWh. Total GPU Power : 68.47671364409676 W\n",
            "[codecarbon INFO @ 17:01:32] Energy consumed for all CPUs : 0.053307 kWh. Total CPU Power : 42.5 W\n",
            "[codecarbon INFO @ 17:01:32] 0.145416 kWh of electricity used since the beginning.\n"
          ]
        },
        {
          "output_type": "stream",
          "name": "stdout",
          "text": [
            "\b\b\b\b\b\b\b\b\b\b\b\b\b\b\b\b\b\b\b\b\b\b\b\b\b\b\b\b\b\b\b\b\b\b\b\b\b\b\b\b\b\b\b\b\b\b\b\b\b\b\b\b\b\b\b\b\b\b\b\b\b\b\b\b\b\b\b\b\b\b\b\b\b\b\b\r9/9 [==============================] - ETA: 0s - loss: 0.1362 - acc: 0.9553\n",
            "Epoch 695: val_loss did not improve from 0.12397\n",
            "9/9 [==============================] - 6s 722ms/step - loss: 0.1362 - acc: 0.9553 - val_loss: 0.1258 - val_acc: 0.9602\n",
            "Epoch 696/800\n",
            "9/9 [==============================] - ETA: 0s - loss: 0.1355 - acc: 0.9556\n",
            "Epoch 696: val_loss did not improve from 0.12397\n",
            "9/9 [==============================] - 6s 705ms/step - loss: 0.1355 - acc: 0.9556 - val_loss: 0.1249 - val_acc: 0.9604\n",
            "Epoch 697/800\n",
            "9/9 [==============================] - ETA: 0s - loss: 0.1353 - acc: 0.9557\n",
            "Epoch 697: val_loss improved from 0.12397 to 0.12260, saving model to /content/drive/MyDrive/Model/initial_runs_20241202_1546/af_lstm_weights.697-0.12.h5\n",
            "9/9 [==============================] - 6s 730ms/step - loss: 0.1353 - acc: 0.9557 - val_loss: 0.1226 - val_acc: 0.9613\n",
            "Epoch 698/800\n",
            "1/9 [==>...........................] - ETA: 5s - loss: 0.1350 - acc: 0.9558"
          ]
        },
        {
          "output_type": "stream",
          "name": "stderr",
          "text": [
            "[codecarbon INFO @ 17:01:47] Energy consumed for RAM : 0.005977 kWh. RAM Power : 4.753036022186279 W\n",
            "[codecarbon INFO @ 17:01:47] Energy consumed for all GPUs : 0.086440 kWh. Total GPU Power : 68.9400559475263 W\n",
            "[codecarbon INFO @ 17:01:47] Energy consumed for all CPUs : 0.053484 kWh. Total CPU Power : 42.5 W\n",
            "[codecarbon INFO @ 17:01:47] 0.145901 kWh of electricity used since the beginning.\n"
          ]
        },
        {
          "output_type": "stream",
          "name": "stdout",
          "text": [
            "9/9 [==============================] - ETA: 0s - loss: 0.1349 - acc: 0.9557\n",
            "Epoch 698: val_loss improved from 0.12260 to 0.12239, saving model to /content/drive/MyDrive/Model/initial_runs_20241202_1546/af_lstm_weights.698-0.12.h5\n",
            "9/9 [==============================] - 6s 717ms/step - loss: 0.1349 - acc: 0.9557 - val_loss: 0.1224 - val_acc: 0.9613\n",
            "Epoch 699/800\n",
            "9/9 [==============================] - ETA: 0s - loss: 0.1352 - acc: 0.9557\n",
            "Epoch 699: val_loss did not improve from 0.12239\n",
            "9/9 [==============================] - 6s 711ms/step - loss: 0.1352 - acc: 0.9557 - val_loss: 0.1263 - val_acc: 0.9595\n",
            "Epoch 700/800\n",
            "5/9 [===============>..............] - ETA: 2s - loss: 0.1344 - acc: 0.9561"
          ]
        },
        {
          "output_type": "stream",
          "name": "stderr",
          "text": [
            "[codecarbon INFO @ 17:02:02] Energy consumed for RAM : 0.005996 kWh. RAM Power : 4.753036022186279 W\n",
            "[codecarbon INFO @ 17:02:02] Energy consumed for all GPUs : 0.086729 kWh. Total GPU Power : 69.18590657594972 W\n",
            "[codecarbon INFO @ 17:02:02] Energy consumed for all CPUs : 0.053661 kWh. Total CPU Power : 42.5 W\n",
            "[codecarbon INFO @ 17:02:03] 0.146386 kWh of electricity used since the beginning.\n"
          ]
        },
        {
          "output_type": "stream",
          "name": "stdout",
          "text": [
            "9/9 [==============================] - ETA: 0s - loss: 0.1344 - acc: 0.9560\n",
            "Epoch 700: val_loss did not improve from 0.12239\n",
            "9/9 [==============================] - 6s 714ms/step - loss: 0.1344 - acc: 0.9560 - val_loss: 0.1272 - val_acc: 0.9592\n",
            "Epoch 701/800\n",
            "9/9 [==============================] - ETA: 0s - loss: 0.1347 - acc: 0.9560\n",
            "Epoch 701: val_loss did not improve from 0.12239\n",
            "9/9 [==============================] - 6s 706ms/step - loss: 0.1347 - acc: 0.9560 - val_loss: 0.1234 - val_acc: 0.9610\n",
            "Epoch 702/800\n",
            "8/9 [=========================>....] - ETA: 0s - loss: 0.1349 - acc: 0.9560"
          ]
        },
        {
          "output_type": "stream",
          "name": "stderr",
          "text": [
            "[codecarbon INFO @ 17:02:17] Energy consumed for RAM : 0.006016 kWh. RAM Power : 4.753036022186279 W\n",
            "[codecarbon INFO @ 17:02:17] Energy consumed for all GPUs : 0.087019 kWh. Total GPU Power : 69.70062483947828 W\n",
            "[codecarbon INFO @ 17:02:18] Energy consumed for all CPUs : 0.053838 kWh. Total CPU Power : 42.5 W\n",
            "[codecarbon INFO @ 17:02:18] 0.146873 kWh of electricity used since the beginning.\n",
            "[codecarbon INFO @ 17:02:18] 0.004487 g.CO2eq/s mean an estimation of 141.49320427857032 kg.CO2eq/year\n"
          ]
        },
        {
          "output_type": "stream",
          "name": "stdout",
          "text": [
            "\b\b\b\b\b\b\b\b\b\b\b\b\b\b\b\b\b\b\b\b\b\b\b\b\b\b\b\b\b\b\b\b\b\b\b\b\b\b\b\b\b\b\b\b\b\b\b\b\b\b\b\b\b\b\b\b\b\b\b\b\b\b\b\b\b\b\b\b\b\b\b\b\b\b\b\r9/9 [==============================] - ETA: 0s - loss: 0.1347 - acc: 0.9560\n",
            "Epoch 702: val_loss did not improve from 0.12239\n",
            "9/9 [==============================] - 6s 718ms/step - loss: 0.1347 - acc: 0.9560 - val_loss: 0.1283 - val_acc: 0.9587\n",
            "Epoch 703/800\n",
            "9/9 [==============================] - ETA: 0s - loss: 0.1345 - acc: 0.9561\n",
            "Epoch 703: val_loss did not improve from 0.12239\n",
            "9/9 [==============================] - 6s 704ms/step - loss: 0.1345 - acc: 0.9561 - val_loss: 0.1238 - val_acc: 0.9608\n",
            "Epoch 704/800\n",
            "9/9 [==============================] - ETA: 0s - loss: 0.1338 - acc: 0.9563\n",
            "Epoch 704: val_loss did not improve from 0.12239\n",
            "9/9 [==============================] - 6s 716ms/step - loss: 0.1338 - acc: 0.9563 - val_loss: 0.1238 - val_acc: 0.9608\n",
            "Epoch 705/800\n",
            "2/9 [=====>........................] - ETA: 4s - loss: 0.1330 - acc: 0.9566"
          ]
        },
        {
          "output_type": "stream",
          "name": "stderr",
          "text": [
            "[codecarbon INFO @ 17:02:32] Energy consumed for RAM : 0.006036 kWh. RAM Power : 4.753036022186279 W\n",
            "[codecarbon INFO @ 17:02:32] Energy consumed for all GPUs : 0.087307 kWh. Total GPU Power : 69.2700831639294 W\n",
            "[codecarbon INFO @ 17:02:33] Energy consumed for all CPUs : 0.054015 kWh. Total CPU Power : 42.5 W\n",
            "[codecarbon INFO @ 17:02:33] 0.147358 kWh of electricity used since the beginning.\n"
          ]
        },
        {
          "output_type": "stream",
          "name": "stdout",
          "text": [
            "9/9 [==============================] - ETA: 0s - loss: 0.1343 - acc: 0.9561\n",
            "Epoch 705: val_loss did not improve from 0.12239\n",
            "9/9 [==============================] - 6s 705ms/step - loss: 0.1343 - acc: 0.9561 - val_loss: 0.1294 - val_acc: 0.9583\n",
            "Epoch 706/800\n",
            "9/9 [==============================] - ETA: 0s - loss: 0.1356 - acc: 0.9553\n",
            "Epoch 706: val_loss did not improve from 0.12239\n",
            "9/9 [==============================] - 7s 806ms/step - loss: 0.1356 - acc: 0.9553 - val_loss: 0.1225 - val_acc: 0.9616\n",
            "Epoch 707/800\n",
            "4/9 [============>.................] - ETA: 3s - loss: 0.1351 - acc: 0.9553"
          ]
        },
        {
          "output_type": "stream",
          "name": "stderr",
          "text": [
            "[codecarbon INFO @ 17:02:47] Energy consumed for RAM : 0.006056 kWh. RAM Power : 4.753036022186279 W\n",
            "[codecarbon INFO @ 17:02:48] Energy consumed for all GPUs : 0.087591 kWh. Total GPU Power : 68.12853340942117 W\n",
            "[codecarbon INFO @ 17:02:48] Energy consumed for all CPUs : 0.054192 kWh. Total CPU Power : 42.5 W\n",
            "[codecarbon INFO @ 17:02:48] 0.147839 kWh of electricity used since the beginning.\n"
          ]
        },
        {
          "output_type": "stream",
          "name": "stdout",
          "text": [
            "9/9 [==============================] - ETA: 0s - loss: 0.1352 - acc: 0.9556\n",
            "Epoch 707: val_loss improved from 0.12239 to 0.12171, saving model to /content/drive/MyDrive/Model/initial_runs_20241202_1546/af_lstm_weights.707-0.12.h5\n",
            "9/9 [==============================] - 6s 712ms/step - loss: 0.1352 - acc: 0.9556 - val_loss: 0.1217 - val_acc: 0.9620\n",
            "Epoch 708/800\n",
            "9/9 [==============================] - ETA: 0s - loss: 0.1349 - acc: 0.9559\n",
            "Epoch 708: val_loss did not improve from 0.12171\n",
            "9/9 [==============================] - 6s 724ms/step - loss: 0.1349 - acc: 0.9559 - val_loss: 0.1268 - val_acc: 0.9594\n",
            "Epoch 709/800\n",
            "8/9 [=========================>....] - ETA: 0s - loss: 0.1336 - acc: 0.9564"
          ]
        },
        {
          "output_type": "stream",
          "name": "stderr",
          "text": [
            "[codecarbon INFO @ 17:03:02] Energy consumed for RAM : 0.006075 kWh. RAM Power : 4.753036022186279 W\n",
            "[codecarbon INFO @ 17:03:03] Energy consumed for all GPUs : 0.087881 kWh. Total GPU Power : 69.72650289674716 W\n",
            "[codecarbon INFO @ 17:03:03] Energy consumed for all CPUs : 0.054369 kWh. Total CPU Power : 42.5 W\n",
            "[codecarbon INFO @ 17:03:03] 0.148326 kWh of electricity used since the beginning.\n"
          ]
        },
        {
          "output_type": "stream",
          "name": "stdout",
          "text": [
            "\b\b\b\b\b\b\b\b\b\b\b\b\b\b\b\b\b\b\b\b\b\b\b\b\b\b\b\b\b\b\b\b\b\b\b\b\b\b\b\b\b\b\b\b\b\b\b\b\b\b\b\b\b\b\b\b\b\b\b\b\b\b\b\b\b\b\b\b\b\b\b\b\b\b\b\r9/9 [==============================] - ETA: 0s - loss: 0.1336 - acc: 0.9565\n",
            "Epoch 709: val_loss did not improve from 0.12171\n",
            "9/9 [==============================] - 7s 787ms/step - loss: 0.1336 - acc: 0.9565 - val_loss: 0.1243 - val_acc: 0.9607\n",
            "Epoch 710/800\n",
            "9/9 [==============================] - ETA: 0s - loss: 0.1332 - acc: 0.9564\n",
            "Epoch 710: val_loss did not improve from 0.12171\n",
            "9/9 [==============================] - 6s 719ms/step - loss: 0.1332 - acc: 0.9564 - val_loss: 0.1244 - val_acc: 0.9608\n",
            "Epoch 711/800\n",
            "9/9 [==============================] - ETA: 0s - loss: 0.1327 - acc: 0.9568\n",
            "Epoch 711: val_loss did not improve from 0.12171\n",
            "9/9 [==============================] - 6s 707ms/step - loss: 0.1327 - acc: 0.9568 - val_loss: 0.1229 - val_acc: 0.9614\n",
            "Epoch 712/800\n",
            "1/9 [==>...........................] - ETA: 5s - loss: 0.1321 - acc: 0.9566"
          ]
        },
        {
          "output_type": "stream",
          "name": "stderr",
          "text": [
            "[codecarbon INFO @ 17:03:17] Energy consumed for RAM : 0.006095 kWh. RAM Power : 4.753036022186279 W\n",
            "[codecarbon INFO @ 17:03:18] Energy consumed for all GPUs : 0.088165 kWh. Total GPU Power : 68.2555418519838 W\n",
            "[codecarbon INFO @ 17:03:18] Energy consumed for all CPUs : 0.054546 kWh. Total CPU Power : 42.5 W\n",
            "[codecarbon INFO @ 17:03:18] 0.148807 kWh of electricity used since the beginning.\n"
          ]
        },
        {
          "output_type": "stream",
          "name": "stdout",
          "text": [
            "9/9 [==============================] - ETA: 0s - loss: 0.1331 - acc: 0.9565\n",
            "Epoch 712: val_loss did not improve from 0.12171\n",
            "9/9 [==============================] - 7s 801ms/step - loss: 0.1331 - acc: 0.9565 - val_loss: 0.1248 - val_acc: 0.9604\n",
            "Epoch 713/800\n",
            "9/9 [==============================] - ETA: 0s - loss: 0.1336 - acc: 0.9561\n",
            "Epoch 713: val_loss did not improve from 0.12171\n",
            "9/9 [==============================] - 6s 706ms/step - loss: 0.1336 - acc: 0.9561 - val_loss: 0.1225 - val_acc: 0.9619\n",
            "Epoch 714/800\n",
            "3/9 [=========>....................] - ETA: 3s - loss: 0.1356 - acc: 0.9552"
          ]
        },
        {
          "output_type": "stream",
          "name": "stderr",
          "text": [
            "[codecarbon INFO @ 17:03:32] Energy consumed for RAM : 0.006115 kWh. RAM Power : 4.753036022186279 W\n",
            "[codecarbon INFO @ 17:03:33] Energy consumed for all GPUs : 0.088449 kWh. Total GPU Power : 68.1053451736986 W\n",
            "[codecarbon INFO @ 17:03:33] Energy consumed for all CPUs : 0.054723 kWh. Total CPU Power : 42.5 W\n",
            "[codecarbon INFO @ 17:03:33] 0.149287 kWh of electricity used since the beginning.\n"
          ]
        },
        {
          "output_type": "stream",
          "name": "stdout",
          "text": [
            "9/9 [==============================] - ETA: 0s - loss: 0.1351 - acc: 0.9554\n",
            "Epoch 714: val_loss did not improve from 0.12171\n",
            "9/9 [==============================] - 7s 731ms/step - loss: 0.1351 - acc: 0.9554 - val_loss: 0.1281 - val_acc: 0.9590\n",
            "Epoch 715/800\n",
            "9/9 [==============================] - ETA: 0s - loss: 0.1330 - acc: 0.9566\n",
            "Epoch 715: val_loss did not improve from 0.12171\n",
            "9/9 [==============================] - 6s 705ms/step - loss: 0.1330 - acc: 0.9566 - val_loss: 0.1275 - val_acc: 0.9593\n",
            "Epoch 716/800\n",
            "6/9 [===================>..........] - ETA: 1s - loss: 0.1326 - acc: 0.9567"
          ]
        },
        {
          "output_type": "stream",
          "name": "stderr",
          "text": [
            "[codecarbon INFO @ 17:03:47] Energy consumed for RAM : 0.006135 kWh. RAM Power : 4.753036022186279 W\n",
            "[codecarbon INFO @ 17:03:48] Energy consumed for all GPUs : 0.088739 kWh. Total GPU Power : 69.7836125775373 W\n",
            "[codecarbon INFO @ 17:03:48] Energy consumed for all CPUs : 0.054901 kWh. Total CPU Power : 42.5 W\n",
            "[codecarbon INFO @ 17:03:48] 0.149775 kWh of electricity used since the beginning.\n"
          ]
        },
        {
          "output_type": "stream",
          "name": "stdout",
          "text": [
            "9/9 [==============================] - ETA: 0s - loss: 0.1325 - acc: 0.9567\n",
            "Epoch 716: val_loss did not improve from 0.12171\n",
            "9/9 [==============================] - 7s 793ms/step - loss: 0.1325 - acc: 0.9567 - val_loss: 0.1258 - val_acc: 0.9602\n",
            "Epoch 717/800\n",
            "9/9 [==============================] - ETA: 0s - loss: 0.1328 - acc: 0.9568\n",
            "Epoch 717: val_loss did not improve from 0.12171\n",
            "9/9 [==============================] - 6s 708ms/step - loss: 0.1328 - acc: 0.9568 - val_loss: 0.1287 - val_acc: 0.9588\n",
            "Epoch 718/800\n",
            "9/9 [==============================] - ETA: 0s - loss: 0.1334 - acc: 0.9563"
          ]
        },
        {
          "output_type": "stream",
          "name": "stderr",
          "text": [
            "[codecarbon INFO @ 17:04:03] Energy consumed for RAM : 0.006155 kWh. RAM Power : 4.753036022186279 W\n",
            "[codecarbon INFO @ 17:04:03] Energy consumed for all GPUs : 0.089022 kWh. Total GPU Power : 68.03086039527446 W\n",
            "[codecarbon INFO @ 17:04:03] Energy consumed for all CPUs : 0.055077 kWh. Total CPU Power : 42.5 W\n",
            "[codecarbon INFO @ 17:04:03] 0.150255 kWh of electricity used since the beginning.\n"
          ]
        },
        {
          "output_type": "stream",
          "name": "stdout",
          "text": [
            "\n",
            "Epoch 718: val_loss did not improve from 0.12171\n",
            "9/9 [==============================] - 7s 801ms/step - loss: 0.1334 - acc: 0.9563 - val_loss: 0.1313 - val_acc: 0.9578\n",
            "Epoch 719/800\n",
            "9/9 [==============================] - ETA: 0s - loss: 0.1331 - acc: 0.9565\n",
            "Epoch 719: val_loss did not improve from 0.12171\n",
            "9/9 [==============================] - 6s 708ms/step - loss: 0.1331 - acc: 0.9565 - val_loss: 0.1227 - val_acc: 0.9617\n",
            "Epoch 720/800\n",
            "9/9 [==============================] - ETA: 0s - loss: 0.1339 - acc: 0.9561\n",
            "Epoch 720: val_loss did not improve from 0.12171\n",
            "9/9 [==============================] - 6s 715ms/step - loss: 0.1339 - acc: 0.9561 - val_loss: 0.1272 - val_acc: 0.9597\n",
            "Epoch 721/800\n",
            "2/9 [=====>........................] - ETA: 4s - loss: 0.1350 - acc: 0.9565"
          ]
        },
        {
          "output_type": "stream",
          "name": "stderr",
          "text": [
            "[codecarbon INFO @ 17:04:18] Energy consumed for RAM : 0.006174 kWh. RAM Power : 4.753036022186279 W\n",
            "[codecarbon INFO @ 17:04:18] Energy consumed for all GPUs : 0.089308 kWh. Total GPU Power : 68.48359192033564 W\n",
            "[codecarbon INFO @ 17:04:18] Energy consumed for all CPUs : 0.055255 kWh. Total CPU Power : 42.5 W\n",
            "[codecarbon INFO @ 17:04:18] 0.150738 kWh of electricity used since the beginning.\n",
            "[codecarbon INFO @ 17:04:18] 0.004466 g.CO2eq/s mean an estimation of 140.85133134401988 kg.CO2eq/year\n"
          ]
        },
        {
          "output_type": "stream",
          "name": "stdout",
          "text": [
            "9/9 [==============================] - ETA: 0s - loss: 0.1335 - acc: 0.9565\n",
            "Epoch 721: val_loss did not improve from 0.12171\n",
            "9/9 [==============================] - 6s 709ms/step - loss: 0.1335 - acc: 0.9565 - val_loss: 0.1315 - val_acc: 0.9578\n",
            "Epoch 722/800\n",
            "9/9 [==============================] - ETA: 0s - loss: 0.1320 - acc: 0.9571\n",
            "Epoch 722: val_loss did not improve from 0.12171\n",
            "9/9 [==============================] - 7s 789ms/step - loss: 0.1320 - acc: 0.9571 - val_loss: 0.1241 - val_acc: 0.9612\n",
            "Epoch 723/800\n",
            "4/9 [============>.................] - ETA: 3s - loss: 0.1327 - acc: 0.9565"
          ]
        },
        {
          "output_type": "stream",
          "name": "stderr",
          "text": [
            "[codecarbon INFO @ 17:04:33] Energy consumed for RAM : 0.006194 kWh. RAM Power : 4.753036022186279 W\n",
            "[codecarbon INFO @ 17:04:33] Energy consumed for all GPUs : 0.089592 kWh. Total GPU Power : 68.32849484822678 W\n",
            "[codecarbon INFO @ 17:04:33] Energy consumed for all CPUs : 0.055432 kWh. Total CPU Power : 42.5 W\n",
            "[codecarbon INFO @ 17:04:33] 0.151218 kWh of electricity used since the beginning.\n"
          ]
        },
        {
          "output_type": "stream",
          "name": "stdout",
          "text": [
            "9/9 [==============================] - ETA: 0s - loss: 0.1336 - acc: 0.9562\n",
            "Epoch 723: val_loss did not improve from 0.12171\n",
            "9/9 [==============================] - 6s 709ms/step - loss: 0.1336 - acc: 0.9562 - val_loss: 0.1239 - val_acc: 0.9614\n",
            "Epoch 724/800\n",
            "9/9 [==============================] - ETA: 0s - loss: 0.1332 - acc: 0.9564\n",
            "Epoch 724: val_loss did not improve from 0.12171\n",
            "9/9 [==============================] - 7s 786ms/step - loss: 0.1332 - acc: 0.9564 - val_loss: 0.1278 - val_acc: 0.9592\n",
            "Epoch 725/800\n",
            "7/9 [======================>.......] - ETA: 1s - loss: 0.1326 - acc: 0.9567"
          ]
        },
        {
          "output_type": "stream",
          "name": "stderr",
          "text": [
            "[codecarbon INFO @ 17:04:48] Energy consumed for RAM : 0.006214 kWh. RAM Power : 4.753036022186279 W\n",
            "[codecarbon INFO @ 17:04:48] Energy consumed for all GPUs : 0.089876 kWh. Total GPU Power : 68.23092943446969 W\n",
            "[codecarbon INFO @ 17:04:48] Energy consumed for all CPUs : 0.055609 kWh. Total CPU Power : 42.5 W\n",
            "[codecarbon INFO @ 17:04:48] 0.151699 kWh of electricity used since the beginning.\n"
          ]
        },
        {
          "output_type": "stream",
          "name": "stdout",
          "text": [
            "9/9 [==============================] - ETA: 0s - loss: 0.1327 - acc: 0.9566\n",
            "Epoch 725: val_loss did not improve from 0.12171\n",
            "9/9 [==============================] - 6s 711ms/step - loss: 0.1327 - acc: 0.9566 - val_loss: 0.1322 - val_acc: 0.9575\n",
            "Epoch 726/800\n",
            "9/9 [==============================] - ETA: 0s - loss: 0.1327 - acc: 0.9568\n",
            "Epoch 726: val_loss did not improve from 0.12171\n",
            "9/9 [==============================] - 7s 787ms/step - loss: 0.1327 - acc: 0.9568 - val_loss: 0.1251 - val_acc: 0.9607\n",
            "Epoch 727/800\n",
            "9/9 [==============================] - ETA: 0s - loss: 0.1334 - acc: 0.9564\n",
            "Epoch 727: val_loss did not improve from 0.12171\n",
            "9/9 [==============================] - 6s 705ms/step - loss: 0.1334 - acc: 0.9564 - val_loss: 0.1261 - val_acc: 0.9601\n",
            "Epoch 728/800\n"
          ]
        },
        {
          "output_type": "stream",
          "name": "stderr",
          "text": [
            "[codecarbon INFO @ 17:05:03] Energy consumed for RAM : 0.006234 kWh. RAM Power : 4.753036022186279 W\n",
            "[codecarbon INFO @ 17:05:03] Energy consumed for all GPUs : 0.090160 kWh. Total GPU Power : 68.07526311830854 W\n",
            "[codecarbon INFO @ 17:05:03] Energy consumed for all CPUs : 0.055786 kWh. Total CPU Power : 42.5 W\n",
            "[codecarbon INFO @ 17:05:03] 0.152179 kWh of electricity used since the beginning.\n"
          ]
        },
        {
          "output_type": "stream",
          "name": "stdout",
          "text": [
            "9/9 [==============================] - ETA: 0s - loss: 0.1335 - acc: 0.9562\n",
            "Epoch 728: val_loss did not improve from 0.12171\n",
            "9/9 [==============================] - 6s 710ms/step - loss: 0.1335 - acc: 0.9562 - val_loss: 0.1226 - val_acc: 0.9618\n",
            "Epoch 729/800\n",
            "9/9 [==============================] - ETA: 0s - loss: 0.1324 - acc: 0.9565\n",
            "Epoch 729: val_loss did not improve from 0.12171\n",
            "9/9 [==============================] - 6s 706ms/step - loss: 0.1324 - acc: 0.9565 - val_loss: 0.1293 - val_acc: 0.9586\n",
            "Epoch 730/800\n",
            "3/9 [=========>....................] - ETA: 3s - loss: 0.1315 - acc: 0.9573"
          ]
        },
        {
          "output_type": "stream",
          "name": "stderr",
          "text": [
            "[codecarbon INFO @ 17:05:18] Energy consumed for RAM : 0.006254 kWh. RAM Power : 4.753036022186279 W\n",
            "[codecarbon INFO @ 17:05:18] Energy consumed for all GPUs : 0.090451 kWh. Total GPU Power : 69.87343772750285 W\n",
            "[codecarbon INFO @ 17:05:18] Energy consumed for all CPUs : 0.055963 kWh. Total CPU Power : 42.5 W\n",
            "[codecarbon INFO @ 17:05:18] 0.152668 kWh of electricity used since the beginning.\n"
          ]
        },
        {
          "output_type": "stream",
          "name": "stdout",
          "text": [
            "9/9 [==============================] - ETA: 0s - loss: 0.1327 - acc: 0.9567\n",
            "Epoch 730: val_loss did not improve from 0.12171\n",
            "9/9 [==============================] - 6s 705ms/step - loss: 0.1327 - acc: 0.9567 - val_loss: 0.1263 - val_acc: 0.9602\n",
            "Epoch 731/800\n",
            "9/9 [==============================] - ETA: 0s - loss: 0.1321 - acc: 0.9569\n",
            "Epoch 731: val_loss did not improve from 0.12171\n",
            "9/9 [==============================] - 6s 715ms/step - loss: 0.1321 - acc: 0.9569 - val_loss: 0.1314 - val_acc: 0.9579\n",
            "Epoch 732/800\n",
            "7/9 [======================>.......] - ETA: 1s - loss: 0.1343 - acc: 0.9558"
          ]
        },
        {
          "output_type": "stream",
          "name": "stderr",
          "text": [
            "[codecarbon INFO @ 17:05:33] Energy consumed for RAM : 0.006273 kWh. RAM Power : 4.753036022186279 W\n",
            "[codecarbon INFO @ 17:05:33] Energy consumed for all GPUs : 0.090740 kWh. Total GPU Power : 69.42633773588926 W\n",
            "[codecarbon INFO @ 17:05:33] Energy consumed for all CPUs : 0.056140 kWh. Total CPU Power : 42.5 W\n",
            "[codecarbon INFO @ 17:05:33] 0.153153 kWh of electricity used since the beginning.\n"
          ]
        },
        {
          "output_type": "stream",
          "name": "stdout",
          "text": [
            "9/9 [==============================] - ETA: 0s - loss: 0.1339 - acc: 0.9559\n",
            "Epoch 732: val_loss did not improve from 0.12171\n",
            "9/9 [==============================] - 6s 705ms/step - loss: 0.1339 - acc: 0.9559 - val_loss: 0.1284 - val_acc: 0.9590\n",
            "Epoch 733/800\n",
            "9/9 [==============================] - ETA: 0s - loss: 0.1318 - acc: 0.9571\n",
            "Epoch 733: val_loss did not improve from 0.12171\n",
            "9/9 [==============================] - 6s 716ms/step - loss: 0.1318 - acc: 0.9571 - val_loss: 0.1295 - val_acc: 0.9585\n",
            "Epoch 734/800\n",
            "9/9 [==============================] - ETA: 0s - loss: 0.1318 - acc: 0.9571\n",
            "Epoch 734: val_loss did not improve from 0.12171\n",
            "9/9 [==============================] - 6s 706ms/step - loss: 0.1318 - acc: 0.9571 - val_loss: 0.1332 - val_acc: 0.9571\n",
            "Epoch 735/800\n",
            "1/9 [==>...........................] - ETA: 5s - loss: 0.1368 - acc: 0.9552"
          ]
        },
        {
          "output_type": "stream",
          "name": "stderr",
          "text": [
            "[codecarbon INFO @ 17:05:48] Energy consumed for RAM : 0.006293 kWh. RAM Power : 4.753036022186279 W\n",
            "[codecarbon INFO @ 17:05:48] Energy consumed for all GPUs : 0.091028 kWh. Total GPU Power : 69.28065920274997 W\n",
            "[codecarbon INFO @ 17:05:48] Energy consumed for all CPUs : 0.056317 kWh. Total CPU Power : 42.5 W\n",
            "[codecarbon INFO @ 17:05:48] 0.153638 kWh of electricity used since the beginning.\n"
          ]
        },
        {
          "output_type": "stream",
          "name": "stdout",
          "text": [
            "9/9 [==============================] - ETA: 0s - loss: 0.1335 - acc: 0.9563\n",
            "Epoch 735: val_loss did not improve from 0.12171\n",
            "9/9 [==============================] - 6s 729ms/step - loss: 0.1335 - acc: 0.9563 - val_loss: 0.1308 - val_acc: 0.9582\n",
            "Epoch 736/800\n",
            "9/9 [==============================] - ETA: 0s - loss: 0.1326 - acc: 0.9566\n",
            "Epoch 736: val_loss did not improve from 0.12171\n",
            "9/9 [==============================] - 7s 784ms/step - loss: 0.1326 - acc: 0.9566 - val_loss: 0.1346 - val_acc: 0.9565\n",
            "Epoch 737/800\n",
            "3/9 [=========>....................] - ETA: 3s - loss: 0.1381 - acc: 0.9543"
          ]
        },
        {
          "output_type": "stream",
          "name": "stderr",
          "text": [
            "[codecarbon INFO @ 17:06:03] Energy consumed for RAM : 0.006313 kWh. RAM Power : 4.753036022186279 W\n",
            "[codecarbon INFO @ 17:06:03] Energy consumed for all GPUs : 0.091314 kWh. Total GPU Power : 68.59649729090863 W\n",
            "[codecarbon INFO @ 17:06:03] Energy consumed for all CPUs : 0.056494 kWh. Total CPU Power : 42.5 W\n",
            "[codecarbon INFO @ 17:06:03] 0.154121 kWh of electricity used since the beginning.\n"
          ]
        },
        {
          "output_type": "stream",
          "name": "stdout",
          "text": [
            "9/9 [==============================] - ETA: 0s - loss: 0.1368 - acc: 0.9548\n",
            "Epoch 737: val_loss did not improve from 0.12171\n",
            "9/9 [==============================] - 7s 799ms/step - loss: 0.1368 - acc: 0.9548 - val_loss: 0.1286 - val_acc: 0.9589\n",
            "Epoch 738/800\n",
            "9/9 [==============================] - ETA: 0s - loss: 0.1344 - acc: 0.9558\n",
            "Epoch 738: val_loss did not improve from 0.12171\n",
            "9/9 [==============================] - 6s 708ms/step - loss: 0.1344 - acc: 0.9558 - val_loss: 0.1235 - val_acc: 0.9614\n",
            "Epoch 739/800\n",
            "6/9 [===================>..........] - ETA: 1s - loss: 0.1359 - acc: 0.9552"
          ]
        },
        {
          "output_type": "stream",
          "name": "stderr",
          "text": [
            "[codecarbon INFO @ 17:06:18] Energy consumed for RAM : 0.006333 kWh. RAM Power : 4.753036022186279 W\n",
            "[codecarbon INFO @ 17:06:18] Energy consumed for all GPUs : 0.091598 kWh. Total GPU Power : 68.21744118973065 W\n",
            "[codecarbon INFO @ 17:06:18] Energy consumed for all CPUs : 0.056671 kWh. Total CPU Power : 42.5 W\n",
            "[codecarbon INFO @ 17:06:18] 0.154601 kWh of electricity used since the beginning.\n",
            "[codecarbon INFO @ 17:06:18] 0.004467 g.CO2eq/s mean an estimation of 140.8823531829692 kg.CO2eq/year\n"
          ]
        },
        {
          "output_type": "stream",
          "name": "stdout",
          "text": [
            "9/9 [==============================] - ETA: 0s - loss: 0.1353 - acc: 0.9555\n",
            "Epoch 739: val_loss did not improve from 0.12171\n",
            "9/9 [==============================] - 6s 725ms/step - loss: 0.1353 - acc: 0.9555 - val_loss: 0.1405 - val_acc: 0.9541\n",
            "Epoch 740/800\n",
            "9/9 [==============================] - ETA: 0s - loss: 0.1350 - acc: 0.9554\n",
            "Epoch 740: val_loss improved from 0.12171 to 0.12165, saving model to /content/drive/MyDrive/Model/initial_runs_20241202_1546/af_lstm_weights.740-0.12.h5\n",
            "9/9 [==============================] - 6s 712ms/step - loss: 0.1350 - acc: 0.9554 - val_loss: 0.1216 - val_acc: 0.9618\n",
            "Epoch 741/800\n",
            "9/9 [==============================] - ETA: 0s - loss: 0.1328 - acc: 0.9566"
          ]
        },
        {
          "output_type": "stream",
          "name": "stderr",
          "text": [
            "[codecarbon INFO @ 17:06:33] Energy consumed for RAM : 0.006352 kWh. RAM Power : 4.753036022186279 W\n",
            "[codecarbon INFO @ 17:06:33] Energy consumed for all GPUs : 0.091886 kWh. Total GPU Power : 69.11980636445028 W\n",
            "[codecarbon INFO @ 17:06:33] Energy consumed for all CPUs : 0.056848 kWh. Total CPU Power : 42.5 W\n",
            "[codecarbon INFO @ 17:06:33] 0.155087 kWh of electricity used since the beginning.\n"
          ]
        },
        {
          "output_type": "stream",
          "name": "stdout",
          "text": [
            "\n",
            "Epoch 741: val_loss did not improve from 0.12165\n",
            "9/9 [==============================] - 7s 795ms/step - loss: 0.1328 - acc: 0.9566 - val_loss: 0.1355 - val_acc: 0.9560\n",
            "Epoch 742/800\n",
            "9/9 [==============================] - ETA: 0s - loss: 0.1364 - acc: 0.9550\n",
            "Epoch 742: val_loss did not improve from 0.12165\n",
            "9/9 [==============================] - 6s 705ms/step - loss: 0.1364 - acc: 0.9550 - val_loss: 0.1230 - val_acc: 0.9616\n",
            "Epoch 743/800\n",
            "9/9 [==============================] - ETA: 0s - loss: 0.1328 - acc: 0.9565\n",
            "Epoch 743: val_loss did not improve from 0.12165\n",
            "9/9 [==============================] - 6s 721ms/step - loss: 0.1328 - acc: 0.9565 - val_loss: 0.1274 - val_acc: 0.9592\n",
            "Epoch 744/800\n",
            "2/9 [=====>........................] - ETA: 4s - loss: 0.1332 - acc: 0.9561"
          ]
        },
        {
          "output_type": "stream",
          "name": "stderr",
          "text": [
            "[codecarbon INFO @ 17:06:48] Energy consumed for RAM : 0.006372 kWh. RAM Power : 4.753036022186279 W\n",
            "[codecarbon INFO @ 17:06:48] Energy consumed for all GPUs : 0.092172 kWh. Total GPU Power : 68.57258449824374 W\n",
            "[codecarbon INFO @ 17:06:48] Energy consumed for all CPUs : 0.057026 kWh. Total CPU Power : 42.5 W\n",
            "[codecarbon INFO @ 17:06:48] 0.155570 kWh of electricity used since the beginning.\n"
          ]
        },
        {
          "output_type": "stream",
          "name": "stdout",
          "text": [
            "9/9 [==============================] - ETA: 0s - loss: 0.1333 - acc: 0.9563\n",
            "Epoch 744: val_loss did not improve from 0.12165\n",
            "9/9 [==============================] - 6s 709ms/step - loss: 0.1333 - acc: 0.9563 - val_loss: 0.1250 - val_acc: 0.9603\n",
            "Epoch 745/800\n",
            "9/9 [==============================] - ETA: 0s - loss: 0.1363 - acc: 0.9550\n",
            "Epoch 745: val_loss did not improve from 0.12165\n",
            "9/9 [==============================] - 7s 792ms/step - loss: 0.1363 - acc: 0.9550 - val_loss: 0.1260 - val_acc: 0.9598\n",
            "Epoch 746/800\n",
            "4/9 [============>.................] - ETA: 3s - loss: 0.1332 - acc: 0.9564"
          ]
        },
        {
          "output_type": "stream",
          "name": "stderr",
          "text": [
            "[codecarbon INFO @ 17:07:03] Energy consumed for RAM : 0.006392 kWh. RAM Power : 4.753036022186279 W\n",
            "[codecarbon INFO @ 17:07:03] Energy consumed for all GPUs : 0.092456 kWh. Total GPU Power : 68.33994632480257 W\n",
            "[codecarbon INFO @ 17:07:03] Energy consumed for all CPUs : 0.057203 kWh. Total CPU Power : 42.5 W\n",
            "[codecarbon INFO @ 17:07:03] 0.156050 kWh of electricity used since the beginning.\n"
          ]
        },
        {
          "output_type": "stream",
          "name": "stdout",
          "text": [
            "9/9 [==============================] - ETA: 0s - loss: 0.1330 - acc: 0.9565\n",
            "Epoch 746: val_loss did not improve from 0.12165\n",
            "9/9 [==============================] - 6s 708ms/step - loss: 0.1330 - acc: 0.9565 - val_loss: 0.1235 - val_acc: 0.9611\n",
            "Epoch 747/800\n",
            "9/9 [==============================] - ETA: 0s - loss: 0.1327 - acc: 0.9564\n",
            "Epoch 747: val_loss did not improve from 0.12165\n",
            "9/9 [==============================] - 6s 718ms/step - loss: 0.1327 - acc: 0.9564 - val_loss: 0.1277 - val_acc: 0.9590\n",
            "Epoch 748/800\n",
            "8/9 [=========================>....] - ETA: 0s - loss: 0.1325 - acc: 0.9570"
          ]
        },
        {
          "output_type": "stream",
          "name": "stderr",
          "text": [
            "[codecarbon INFO @ 17:07:18] Energy consumed for RAM : 0.006412 kWh. RAM Power : 4.753036022186279 W\n",
            "[codecarbon INFO @ 17:07:18] Energy consumed for all GPUs : 0.092744 kWh. Total GPU Power : 69.30297119218766 W\n",
            "[codecarbon INFO @ 17:07:18] Energy consumed for all CPUs : 0.057380 kWh. Total CPU Power : 42.5 W\n",
            "[codecarbon INFO @ 17:07:18] 0.156536 kWh of electricity used since the beginning.\n"
          ]
        },
        {
          "output_type": "stream",
          "name": "stdout",
          "text": [
            "\b\b\b\b\b\b\b\b\b\b\b\b\b\b\b\b\b\b\b\b\b\b\b\b\b\b\b\b\b\b\b\b\b\b\b\b\b\b\b\b\b\b\b\b\b\b\b\b\b\b\b\b\b\b\b\b\b\b\b\b\b\b\b\b\b\b\b\b\b\b\b\b\b\b\b\r9/9 [==============================] - ETA: 0s - loss: 0.1324 - acc: 0.9570\n",
            "Epoch 748: val_loss did not improve from 0.12165\n",
            "9/9 [==============================] - 6s 719ms/step - loss: 0.1324 - acc: 0.9570 - val_loss: 0.1217 - val_acc: 0.9615\n",
            "Epoch 749/800\n",
            "9/9 [==============================] - ETA: 0s - loss: 0.1306 - acc: 0.9575\n",
            "Epoch 749: val_loss improved from 0.12165 to 0.11990, saving model to /content/drive/MyDrive/Model/initial_runs_20241202_1546/af_lstm_weights.749-0.12.h5\n",
            "9/9 [==============================] - 6s 722ms/step - loss: 0.1306 - acc: 0.9575 - val_loss: 0.1199 - val_acc: 0.9626\n",
            "Epoch 750/800\n",
            "9/9 [==============================] - ETA: 0s - loss: 0.1303 - acc: 0.9575\n",
            "Epoch 750: val_loss did not improve from 0.11990\n",
            "9/9 [==============================] - 6s 712ms/step - loss: 0.1303 - acc: 0.9575 - val_loss: 0.1200 - val_acc: 0.9628\n",
            "Epoch 751/800\n",
            "1/9 [==>...........................] - ETA: 5s - loss: 0.1319 - acc: 0.9569"
          ]
        },
        {
          "output_type": "stream",
          "name": "stderr",
          "text": [
            "[codecarbon INFO @ 17:07:33] Energy consumed for RAM : 0.006432 kWh. RAM Power : 4.753036022186279 W\n",
            "[codecarbon INFO @ 17:07:33] Energy consumed for all GPUs : 0.093034 kWh. Total GPU Power : 69.69638244197807 W\n",
            "[codecarbon INFO @ 17:07:33] Energy consumed for all CPUs : 0.057557 kWh. Total CPU Power : 42.5 W\n",
            "[codecarbon INFO @ 17:07:33] 0.157022 kWh of electricity used since the beginning.\n"
          ]
        },
        {
          "output_type": "stream",
          "name": "stdout",
          "text": [
            "9/9 [==============================] - ETA: 0s - loss: 0.1395 - acc: 0.9536\n",
            "Epoch 751: val_loss did not improve from 0.11990\n",
            "9/9 [==============================] - 6s 708ms/step - loss: 0.1395 - acc: 0.9536 - val_loss: 0.1209 - val_acc: 0.9619\n",
            "Epoch 752/800\n",
            "9/9 [==============================] - ETA: 0s - loss: 0.1340 - acc: 0.9559\n",
            "Epoch 752: val_loss did not improve from 0.11990\n",
            "9/9 [==============================] - 6s 718ms/step - loss: 0.1340 - acc: 0.9559 - val_loss: 0.1297 - val_acc: 0.9580\n",
            "Epoch 753/800\n",
            "5/9 [===============>..............] - ETA: 2s - loss: 0.1361 - acc: 0.9549"
          ]
        },
        {
          "output_type": "stream",
          "name": "stderr",
          "text": [
            "[codecarbon INFO @ 17:07:48] Energy consumed for RAM : 0.006451 kWh. RAM Power : 4.753036022186279 W\n",
            "[codecarbon INFO @ 17:07:48] Energy consumed for all GPUs : 0.093323 kWh. Total GPU Power : 69.34064684464296 W\n",
            "[codecarbon INFO @ 17:07:48] Energy consumed for all CPUs : 0.057734 kWh. Total CPU Power : 42.5 W\n",
            "[codecarbon INFO @ 17:07:48] 0.157508 kWh of electricity used since the beginning.\n"
          ]
        },
        {
          "output_type": "stream",
          "name": "stdout",
          "text": [
            "9/9 [==============================] - ETA: 0s - loss: 0.1356 - acc: 0.9552\n",
            "Epoch 753: val_loss did not improve from 0.11990\n",
            "9/9 [==============================] - 6s 705ms/step - loss: 0.1356 - acc: 0.9552 - val_loss: 0.1218 - val_acc: 0.9615\n",
            "Epoch 754/800\n",
            "9/9 [==============================] - ETA: 0s - loss: 0.1334 - acc: 0.9562\n",
            "Epoch 754: val_loss did not improve from 0.11990\n",
            "9/9 [==============================] - 6s 716ms/step - loss: 0.1334 - acc: 0.9562 - val_loss: 0.1201 - val_acc: 0.9626\n",
            "Epoch 755/800\n",
            "9/9 [==============================] - ETA: 0s - loss: 0.1303 - acc: 0.9575"
          ]
        },
        {
          "output_type": "stream",
          "name": "stderr",
          "text": [
            "[codecarbon INFO @ 17:08:03] Energy consumed for RAM : 0.006471 kWh. RAM Power : 4.753036022186279 W\n",
            "[codecarbon INFO @ 17:08:03] Energy consumed for all GPUs : 0.093612 kWh. Total GPU Power : 69.3619449749117 W\n",
            "[codecarbon INFO @ 17:08:03] Energy consumed for all CPUs : 0.057911 kWh. Total CPU Power : 42.5 W\n",
            "[codecarbon INFO @ 17:08:03] 0.157994 kWh of electricity used since the beginning.\n"
          ]
        },
        {
          "output_type": "stream",
          "name": "stdout",
          "text": [
            "\n",
            "Epoch 755: val_loss did not improve from 0.11990\n",
            "9/9 [==============================] - 6s 706ms/step - loss: 0.1303 - acc: 0.9575 - val_loss: 0.1212 - val_acc: 0.9620\n",
            "Epoch 756/800\n",
            "9/9 [==============================] - ETA: 0s - loss: 0.1308 - acc: 0.9573\n",
            "Epoch 756: val_loss did not improve from 0.11990\n",
            "9/9 [==============================] - 6s 724ms/step - loss: 0.1308 - acc: 0.9573 - val_loss: 0.1255 - val_acc: 0.9601\n",
            "Epoch 757/800\n",
            "9/9 [==============================] - ETA: 0s - loss: 0.1303 - acc: 0.9577\n",
            "Epoch 757: val_loss did not improve from 0.11990\n",
            "9/9 [==============================] - 6s 705ms/step - loss: 0.1303 - acc: 0.9577 - val_loss: 0.1231 - val_acc: 0.9611\n",
            "Epoch 758/800\n",
            "2/9 [=====>........................] - ETA: 4s - loss: 0.1326 - acc: 0.9563"
          ]
        },
        {
          "output_type": "stream",
          "name": "stderr",
          "text": [
            "[codecarbon INFO @ 17:08:18] Energy consumed for RAM : 0.006491 kWh. RAM Power : 4.753036022186279 W\n",
            "[codecarbon INFO @ 17:08:18] Energy consumed for all GPUs : 0.093901 kWh. Total GPU Power : 69.32890884151102 W\n",
            "[codecarbon INFO @ 17:08:18] Energy consumed for all CPUs : 0.058088 kWh. Total CPU Power : 42.5 W\n",
            "[codecarbon INFO @ 17:08:18] 0.158480 kWh of electricity used since the beginning.\n",
            "[codecarbon INFO @ 17:08:18] 0.004482 g.CO2eq/s mean an estimation of 141.34412000858165 kg.CO2eq/year\n"
          ]
        },
        {
          "output_type": "stream",
          "name": "stdout",
          "text": [
            "9/9 [==============================] - ETA: 0s - loss: 0.1346 - acc: 0.9557\n",
            "Epoch 758: val_loss did not improve from 0.11990\n",
            "9/9 [==============================] - 6s 724ms/step - loss: 0.1346 - acc: 0.9557 - val_loss: 0.1248 - val_acc: 0.9605\n",
            "Epoch 759/800\n",
            "9/9 [==============================] - ETA: 0s - loss: 0.1304 - acc: 0.9575\n",
            "Epoch 759: val_loss did not improve from 0.11990\n",
            "9/9 [==============================] - 6s 707ms/step - loss: 0.1304 - acc: 0.9575 - val_loss: 0.1205 - val_acc: 0.9625\n",
            "Epoch 760/800\n",
            "5/9 [===============>..............] - ETA: 2s - loss: 0.1303 - acc: 0.9575"
          ]
        },
        {
          "output_type": "stream",
          "name": "stderr",
          "text": [
            "[codecarbon INFO @ 17:08:33] Energy consumed for RAM : 0.006511 kWh. RAM Power : 4.753036022186279 W\n",
            "[codecarbon INFO @ 17:08:33] Energy consumed for all GPUs : 0.094191 kWh. Total GPU Power : 69.64753737846604 W\n",
            "[codecarbon INFO @ 17:08:33] Energy consumed for all CPUs : 0.058265 kWh. Total CPU Power : 42.5 W\n",
            "[codecarbon INFO @ 17:08:33] 0.158967 kWh of electricity used since the beginning.\n"
          ]
        },
        {
          "output_type": "stream",
          "name": "stdout",
          "text": [
            "9/9 [==============================] - ETA: 0s - loss: 0.1302 - acc: 0.9576\n",
            "Epoch 760: val_loss improved from 0.11990 to 0.11987, saving model to /content/drive/MyDrive/Model/initial_runs_20241202_1546/af_lstm_weights.760-0.12.h5\n",
            "9/9 [==============================] - 7s 808ms/step - loss: 0.1302 - acc: 0.9576 - val_loss: 0.1199 - val_acc: 0.9625\n",
            "Epoch 761/800\n",
            "9/9 [==============================] - ETA: 0s - loss: 0.1296 - acc: 0.9581\n",
            "Epoch 761: val_loss did not improve from 0.11987\n",
            "9/9 [==============================] - 6s 707ms/step - loss: 0.1296 - acc: 0.9581 - val_loss: 0.1214 - val_acc: 0.9620\n",
            "Epoch 762/800\n",
            "8/9 [=========================>....] - ETA: 0s - loss: 0.1368 - acc: 0.9547"
          ]
        },
        {
          "output_type": "stream",
          "name": "stderr",
          "text": [
            "[codecarbon INFO @ 17:08:48] Energy consumed for RAM : 0.006531 kWh. RAM Power : 4.753036022186279 W\n",
            "[codecarbon INFO @ 17:08:48] Energy consumed for all GPUs : 0.094474 kWh. Total GPU Power : 67.98993353982021 W\n",
            "[codecarbon INFO @ 17:08:48] Energy consumed for all CPUs : 0.058442 kWh. Total CPU Power : 42.5 W\n",
            "[codecarbon INFO @ 17:08:48] 0.159447 kWh of electricity used since the beginning.\n"
          ]
        },
        {
          "output_type": "stream",
          "name": "stdout",
          "text": [
            "\b\b\b\b\b\b\b\b\b\b\b\b\b\b\b\b\b\b\b\b\b\b\b\b\b\b\b\b\b\b\b\b\b\b\b\b\b\b\b\b\b\b\b\b\b\b\b\b\b\b\b\b\b\b\b\b\b\b\b\b\b\b\b\b\b\b\b\b\b\b\b\b\b\b\b\r9/9 [==============================] - ETA: 0s - loss: 0.1364 - acc: 0.9549\n",
            "Epoch 762: val_loss did not improve from 0.11987\n",
            "9/9 [==============================] - 7s 805ms/step - loss: 0.1364 - acc: 0.9549 - val_loss: 0.1273 - val_acc: 0.9593\n",
            "Epoch 763/800\n",
            "9/9 [==============================] - ETA: 0s - loss: 0.1312 - acc: 0.9573\n",
            "Epoch 763: val_loss improved from 0.11987 to 0.11979, saving model to /content/drive/MyDrive/Model/initial_runs_20241202_1546/af_lstm_weights.763-0.12.h5\n",
            "9/9 [==============================] - 6s 710ms/step - loss: 0.1312 - acc: 0.9573 - val_loss: 0.1198 - val_acc: 0.9627\n",
            "Epoch 764/800\n",
            "9/9 [==============================] - ETA: 0s - loss: 0.1296 - acc: 0.9580\n",
            "Epoch 764: val_loss did not improve from 0.11979\n",
            "9/9 [==============================] - 6s 726ms/step - loss: 0.1296 - acc: 0.9580 - val_loss: 0.1249 - val_acc: 0.9602\n",
            "Epoch 765/800\n"
          ]
        },
        {
          "output_type": "stream",
          "name": "stderr",
          "text": [
            "[codecarbon INFO @ 17:09:03] Energy consumed for RAM : 0.006550 kWh. RAM Power : 4.753036022186279 W\n",
            "[codecarbon INFO @ 17:09:03] Energy consumed for all GPUs : 0.094759 kWh. Total GPU Power : 68.34971695409854 W\n",
            "[codecarbon INFO @ 17:09:03] Energy consumed for all CPUs : 0.058619 kWh. Total CPU Power : 42.5 W\n",
            "[codecarbon INFO @ 17:09:03] 0.159929 kWh of electricity used since the beginning.\n"
          ]
        },
        {
          "output_type": "stream",
          "name": "stdout",
          "text": [
            "9/9 [==============================] - ETA: 0s - loss: 0.1338 - acc: 0.9560\n",
            "Epoch 765: val_loss did not improve from 0.11979\n",
            "9/9 [==============================] - 6s 704ms/step - loss: 0.1338 - acc: 0.9560 - val_loss: 0.1263 - val_acc: 0.9599\n",
            "Epoch 766/800\n",
            "9/9 [==============================] - ETA: 0s - loss: 0.1303 - acc: 0.9576\n",
            "Epoch 766: val_loss did not improve from 0.11979\n",
            "9/9 [==============================] - 6s 718ms/step - loss: 0.1303 - acc: 0.9576 - val_loss: 0.1207 - val_acc: 0.9624\n",
            "Epoch 767/800\n",
            "4/9 [============>.................] - ETA: 3s - loss: 0.1297 - acc: 0.9581"
          ]
        },
        {
          "output_type": "stream",
          "name": "stderr",
          "text": [
            "[codecarbon INFO @ 17:09:18] Energy consumed for RAM : 0.006570 kWh. RAM Power : 4.753036022186279 W\n",
            "[codecarbon INFO @ 17:09:18] Energy consumed for all GPUs : 0.095048 kWh. Total GPU Power : 69.31469267883188 W\n",
            "[codecarbon INFO @ 17:09:18] Energy consumed for all CPUs : 0.058796 kWh. Total CPU Power : 42.5 W\n",
            "[codecarbon INFO @ 17:09:18] 0.160414 kWh of electricity used since the beginning.\n"
          ]
        },
        {
          "output_type": "stream",
          "name": "stdout",
          "text": [
            "9/9 [==============================] - ETA: 0s - loss: 0.1313 - acc: 0.9573\n",
            "Epoch 767: val_loss did not improve from 0.11979\n",
            "9/9 [==============================] - 6s 717ms/step - loss: 0.1313 - acc: 0.9573 - val_loss: 0.1245 - val_acc: 0.9605\n",
            "Epoch 768/800\n",
            "9/9 [==============================] - ETA: 0s - loss: 0.1306 - acc: 0.9575\n",
            "Epoch 768: val_loss did not improve from 0.11979\n",
            "9/9 [==============================] - 6s 709ms/step - loss: 0.1306 - acc: 0.9575 - val_loss: 0.1203 - val_acc: 0.9623\n",
            "Epoch 769/800\n",
            "7/9 [======================>.......] - ETA: 1s - loss: 0.1279 - acc: 0.9585"
          ]
        },
        {
          "output_type": "stream",
          "name": "stderr",
          "text": [
            "[codecarbon INFO @ 17:09:33] Energy consumed for RAM : 0.006590 kWh. RAM Power : 4.753036022186279 W\n",
            "[codecarbon INFO @ 17:09:33] Energy consumed for all GPUs : 0.095336 kWh. Total GPU Power : 69.26789919695348 W\n",
            "[codecarbon INFO @ 17:09:33] Energy consumed for all CPUs : 0.058973 kWh. Total CPU Power : 42.5 W\n",
            "[codecarbon INFO @ 17:09:33] 0.160899 kWh of electricity used since the beginning.\n"
          ]
        },
        {
          "output_type": "stream",
          "name": "stdout",
          "text": [
            "9/9 [==============================] - ETA: 0s - loss: 0.1282 - acc: 0.9584\n",
            "Epoch 769: val_loss did not improve from 0.11979\n",
            "9/9 [==============================] - 6s 713ms/step - loss: 0.1282 - acc: 0.9584 - val_loss: 0.1198 - val_acc: 0.9627\n",
            "Epoch 770/800\n",
            "9/9 [==============================] - ETA: 0s - loss: 0.1312 - acc: 0.9573\n",
            "Epoch 770: val_loss did not improve from 0.11979\n",
            "9/9 [==============================] - 6s 704ms/step - loss: 0.1312 - acc: 0.9573 - val_loss: 0.1358 - val_acc: 0.9567\n",
            "Epoch 771/800\n",
            "9/9 [==============================] - ETA: 0s - loss: 0.1852 - acc: 0.9339\n",
            "Epoch 771: val_loss did not improve from 0.11979\n",
            "9/9 [==============================] - 6s 712ms/step - loss: 0.1852 - acc: 0.9339 - val_loss: 0.1297 - val_acc: 0.9585\n",
            "Epoch 772/800\n",
            "1/9 [==>...........................] - ETA: 5s - loss: 0.1477 - acc: 0.9496"
          ]
        },
        {
          "output_type": "stream",
          "name": "stderr",
          "text": [
            "[codecarbon INFO @ 17:09:48] Energy consumed for RAM : 0.006610 kWh. RAM Power : 4.753036022186279 W\n",
            "[codecarbon INFO @ 17:09:48] Energy consumed for all GPUs : 0.095627 kWh. Total GPU Power : 69.82884173805179 W\n",
            "[codecarbon INFO @ 17:09:48] Energy consumed for all CPUs : 0.059151 kWh. Total CPU Power : 42.5 W\n",
            "[codecarbon INFO @ 17:09:48] 0.161387 kWh of electricity used since the beginning.\n"
          ]
        },
        {
          "output_type": "stream",
          "name": "stdout",
          "text": [
            "9/9 [==============================] - ETA: 0s - loss: 0.1499 - acc: 0.9487\n",
            "Epoch 772: val_loss did not improve from 0.11979\n",
            "9/9 [==============================] - 6s 706ms/step - loss: 0.1499 - acc: 0.9487 - val_loss: 0.1294 - val_acc: 0.9578\n",
            "Epoch 773/800\n",
            "9/9 [==============================] - ETA: 0s - loss: 0.1378 - acc: 0.9546\n",
            "Epoch 773: val_loss did not improve from 0.11979\n",
            "9/9 [==============================] - 6s 716ms/step - loss: 0.1378 - acc: 0.9546 - val_loss: 0.1246 - val_acc: 0.9602\n",
            "Epoch 774/800\n",
            "5/9 [===============>..............] - ETA: 2s - loss: 0.1340 - acc: 0.9557"
          ]
        },
        {
          "output_type": "stream",
          "name": "stderr",
          "text": [
            "[codecarbon INFO @ 17:10:03] Energy consumed for RAM : 0.006629 kWh. RAM Power : 4.753036022186279 W\n",
            "[codecarbon INFO @ 17:10:03] Energy consumed for all GPUs : 0.095916 kWh. Total GPU Power : 69.40742924298466 W\n",
            "[codecarbon INFO @ 17:10:03] Energy consumed for all CPUs : 0.059328 kWh. Total CPU Power : 42.5 W\n",
            "[codecarbon INFO @ 17:10:03] 0.161873 kWh of electricity used since the beginning.\n"
          ]
        },
        {
          "output_type": "stream",
          "name": "stdout",
          "text": [
            "9/9 [==============================] - ETA: 0s - loss: 0.1336 - acc: 0.9560\n",
            "Epoch 774: val_loss did not improve from 0.11979\n",
            "9/9 [==============================] - 6s 707ms/step - loss: 0.1336 - acc: 0.9560 - val_loss: 0.1239 - val_acc: 0.9608\n",
            "Epoch 775/800\n",
            "9/9 [==============================] - ETA: 0s - loss: 0.1310 - acc: 0.9574\n",
            "Epoch 775: val_loss did not improve from 0.11979\n",
            "9/9 [==============================] - 6s 729ms/step - loss: 0.1310 - acc: 0.9574 - val_loss: 0.1232 - val_acc: 0.9611\n",
            "Epoch 776/800\n",
            "8/9 [=========================>....] - ETA: 0s - loss: 0.1320 - acc: 0.9568"
          ]
        },
        {
          "output_type": "stream",
          "name": "stderr",
          "text": [
            "[codecarbon INFO @ 17:10:18] Energy consumed for RAM : 0.006649 kWh. RAM Power : 4.753036022186279 W\n",
            "[codecarbon INFO @ 17:10:18] Energy consumed for all GPUs : 0.096204 kWh. Total GPU Power : 69.26179676818494 W\n",
            "[codecarbon INFO @ 17:10:18] Energy consumed for all CPUs : 0.059504 kWh. Total CPU Power : 42.5 W\n",
            "[codecarbon INFO @ 17:10:18] 0.162357 kWh of electricity used since the beginning.\n",
            "[codecarbon INFO @ 17:10:18] 0.004482 g.CO2eq/s mean an estimation of 141.35056973630833 kg.CO2eq/year\n"
          ]
        },
        {
          "output_type": "stream",
          "name": "stdout",
          "text": [
            "\b\b\b\b\b\b\b\b\b\b\b\b\b\b\b\b\b\b\b\b\b\b\b\b\b\b\b\b\b\b\b\b\b\b\b\b\b\b\b\b\b\b\b\b\b\b\b\b\b\b\b\b\b\b\b\b\b\b\b\b\b\b\b\b\b\b\b\b\b\b\b\b\b\b\b\r9/9 [==============================] - ETA: 0s - loss: 0.1317 - acc: 0.9569\n",
            "Epoch 776: val_loss did not improve from 0.11979\n",
            "9/9 [==============================] - 6s 708ms/step - loss: 0.1317 - acc: 0.9569 - val_loss: 0.1236 - val_acc: 0.9605\n",
            "Epoch 777/800\n",
            "9/9 [==============================] - ETA: 0s - loss: 0.1286 - acc: 0.9584\n",
            "Epoch 777: val_loss did not improve from 0.11979\n",
            "9/9 [==============================] - 6s 721ms/step - loss: 0.1286 - acc: 0.9584 - val_loss: 0.1206 - val_acc: 0.9621\n",
            "Epoch 778/800\n",
            "9/9 [==============================] - ETA: 0s - loss: 0.1283 - acc: 0.9585\n",
            "Epoch 778: val_loss did not improve from 0.11979\n",
            "9/9 [==============================] - 7s 787ms/step - loss: 0.1283 - acc: 0.9585 - val_loss: 0.1203 - val_acc: 0.9622\n",
            "Epoch 779/800\n",
            "1/9 [==>...........................] - ETA: 5s - loss: 0.1274 - acc: 0.9586"
          ]
        },
        {
          "output_type": "stream",
          "name": "stderr",
          "text": [
            "[codecarbon INFO @ 17:10:33] Energy consumed for RAM : 0.006669 kWh. RAM Power : 4.753036022186279 W\n",
            "[codecarbon INFO @ 17:10:33] Energy consumed for all GPUs : 0.096489 kWh. Total GPU Power : 68.37516572249517 W\n",
            "[codecarbon INFO @ 17:10:33] Energy consumed for all CPUs : 0.059682 kWh. Total CPU Power : 42.5 W\n",
            "[codecarbon INFO @ 17:10:33] 0.162840 kWh of electricity used since the beginning.\n"
          ]
        },
        {
          "output_type": "stream",
          "name": "stdout",
          "text": [
            "9/9 [==============================] - ETA: 0s - loss: 0.1278 - acc: 0.9587\n",
            "Epoch 779: val_loss improved from 0.11979 to 0.11947, saving model to /content/drive/MyDrive/Model/initial_runs_20241202_1546/af_lstm_weights.779-0.12.h5\n",
            "9/9 [==============================] - 6s 730ms/step - loss: 0.1278 - acc: 0.9587 - val_loss: 0.1195 - val_acc: 0.9629\n",
            "Epoch 780/800\n",
            "9/9 [==============================] - ETA: 0s - loss: 0.1275 - acc: 0.9589\n",
            "Epoch 780: val_loss did not improve from 0.11947\n",
            "9/9 [==============================] - 6s 707ms/step - loss: 0.1275 - acc: 0.9589 - val_loss: 0.1212 - val_acc: 0.9620\n",
            "Epoch 781/800\n",
            "4/9 [============>.................] - ETA: 3s - loss: 0.1281 - acc: 0.9587"
          ]
        },
        {
          "output_type": "stream",
          "name": "stderr",
          "text": [
            "[codecarbon INFO @ 17:10:48] Energy consumed for RAM : 0.006689 kWh. RAM Power : 4.753036022186279 W\n",
            "[codecarbon INFO @ 17:10:48] Energy consumed for all GPUs : 0.096777 kWh. Total GPU Power : 69.09530845358059 W\n",
            "[codecarbon INFO @ 17:10:48] Energy consumed for all CPUs : 0.059859 kWh. Total CPU Power : 42.5 W\n",
            "[codecarbon INFO @ 17:10:48] 0.163324 kWh of electricity used since the beginning.\n"
          ]
        },
        {
          "output_type": "stream",
          "name": "stdout",
          "text": [
            "9/9 [==============================] - ETA: 0s - loss: 0.1275 - acc: 0.9588\n",
            "Epoch 781: val_loss improved from 0.11947 to 0.11898, saving model to /content/drive/MyDrive/Model/initial_runs_20241202_1546/af_lstm_weights.781-0.12.h5\n",
            "9/9 [==============================] - 7s 804ms/step - loss: 0.1275 - acc: 0.9588 - val_loss: 0.1190 - val_acc: 0.9630\n",
            "Epoch 782/800\n",
            "9/9 [==============================] - ETA: 0s - loss: 0.1282 - acc: 0.9586\n",
            "Epoch 782: val_loss improved from 0.11898 to 0.11870, saving model to /content/drive/MyDrive/Model/initial_runs_20241202_1546/af_lstm_weights.782-0.12.h5\n",
            "9/9 [==============================] - 6s 712ms/step - loss: 0.1282 - acc: 0.9586 - val_loss: 0.1187 - val_acc: 0.9637\n",
            "Epoch 783/800\n",
            "6/9 [===================>..........] - ETA: 1s - loss: 0.1282 - acc: 0.9584"
          ]
        },
        {
          "output_type": "stream",
          "name": "stderr",
          "text": [
            "[codecarbon INFO @ 17:11:03] Energy consumed for RAM : 0.006709 kWh. RAM Power : 4.753036022186279 W\n",
            "[codecarbon INFO @ 17:11:03] Energy consumed for all GPUs : 0.097062 kWh. Total GPU Power : 68.48541570944938 W\n",
            "[codecarbon INFO @ 17:11:03] Energy consumed for all CPUs : 0.060036 kWh. Total CPU Power : 42.5 W\n",
            "[codecarbon INFO @ 17:11:03] 0.163806 kWh of electricity used since the beginning.\n"
          ]
        },
        {
          "output_type": "stream",
          "name": "stdout",
          "text": [
            "9/9 [==============================] - ETA: 0s - loss: 0.1285 - acc: 0.9583\n",
            "Epoch 783: val_loss did not improve from 0.11870\n",
            "9/9 [==============================] - 6s 725ms/step - loss: 0.1285 - acc: 0.9583 - val_loss: 0.1235 - val_acc: 0.9608\n",
            "Epoch 784/800\n",
            "9/9 [==============================] - ETA: 0s - loss: 0.1292 - acc: 0.9582\n",
            "Epoch 784: val_loss did not improve from 0.11870\n",
            "9/9 [==============================] - 6s 710ms/step - loss: 0.1292 - acc: 0.9582 - val_loss: 0.1189 - val_acc: 0.9632\n",
            "Epoch 785/800\n",
            "9/9 [==============================] - ETA: 0s - loss: 0.1266 - acc: 0.9592\n",
            "Epoch 785: val_loss did not improve from 0.11870\n",
            "9/9 [==============================] - 6s 715ms/step - loss: 0.1266 - acc: 0.9592 - val_loss: 0.1195 - val_acc: 0.9627\n",
            "Epoch 786/800\n"
          ]
        },
        {
          "output_type": "stream",
          "name": "stderr",
          "text": [
            "[codecarbon INFO @ 17:11:18] Energy consumed for RAM : 0.006728 kWh. RAM Power : 4.753036022186279 W\n",
            "[codecarbon INFO @ 17:11:18] Energy consumed for all GPUs : 0.097350 kWh. Total GPU Power : 69.04450284939377 W\n",
            "[codecarbon INFO @ 17:11:18] Energy consumed for all CPUs : 0.060213 kWh. Total CPU Power : 42.5 W\n",
            "[codecarbon INFO @ 17:11:18] 0.164292 kWh of electricity used since the beginning.\n"
          ]
        },
        {
          "output_type": "stream",
          "name": "stdout",
          "text": [
            "9/9 [==============================] - ETA: 0s - loss: 0.1271 - acc: 0.9590\n",
            "Epoch 786: val_loss improved from 0.11870 to 0.11852, saving model to /content/drive/MyDrive/Model/initial_runs_20241202_1546/af_lstm_weights.786-0.12.h5\n",
            "9/9 [==============================] - 6s 713ms/step - loss: 0.1271 - acc: 0.9590 - val_loss: 0.1185 - val_acc: 0.9635\n",
            "Epoch 787/800\n",
            "9/9 [==============================] - ETA: 0s - loss: 0.1280 - acc: 0.9585\n",
            "Epoch 787: val_loss did not improve from 0.11852\n",
            "9/9 [==============================] - 6s 705ms/step - loss: 0.1280 - acc: 0.9585 - val_loss: 0.1197 - val_acc: 0.9625\n",
            "Epoch 788/800\n",
            "4/9 [============>.................] - ETA: 3s - loss: 0.1267 - acc: 0.9594"
          ]
        },
        {
          "output_type": "stream",
          "name": "stderr",
          "text": [
            "[codecarbon INFO @ 17:11:33] Energy consumed for RAM : 0.006748 kWh. RAM Power : 4.753036022186279 W\n",
            "[codecarbon INFO @ 17:11:33] Energy consumed for all GPUs : 0.097640 kWh. Total GPU Power : 69.54318871253624 W\n",
            "[codecarbon INFO @ 17:11:33] Energy consumed for all CPUs : 0.060391 kWh. Total CPU Power : 42.5 W\n",
            "[codecarbon INFO @ 17:11:33] 0.164779 kWh of electricity used since the beginning.\n"
          ]
        },
        {
          "output_type": "stream",
          "name": "stdout",
          "text": [
            "9/9 [==============================] - ETA: 0s - loss: 0.1267 - acc: 0.9591\n",
            "Epoch 788: val_loss did not improve from 0.11852\n",
            "9/9 [==============================] - 6s 717ms/step - loss: 0.1267 - acc: 0.9591 - val_loss: 0.1194 - val_acc: 0.9628\n",
            "Epoch 789/800\n",
            "9/9 [==============================] - ETA: 0s - loss: 0.1271 - acc: 0.9589\n",
            "Epoch 789: val_loss did not improve from 0.11852\n",
            "9/9 [==============================] - 6s 707ms/step - loss: 0.1271 - acc: 0.9589 - val_loss: 0.1206 - val_acc: 0.9623\n",
            "Epoch 790/800\n",
            "7/9 [======================>.......] - ETA: 1s - loss: 0.1277 - acc: 0.9589"
          ]
        },
        {
          "output_type": "stream",
          "name": "stderr",
          "text": [
            "[codecarbon INFO @ 17:11:48] Energy consumed for RAM : 0.006768 kWh. RAM Power : 4.753036022186279 W\n",
            "[codecarbon INFO @ 17:11:48] Energy consumed for all GPUs : 0.097929 kWh. Total GPU Power : 69.30138141847851 W\n",
            "[codecarbon INFO @ 17:11:48] Energy consumed for all CPUs : 0.060568 kWh. Total CPU Power : 42.5 W\n",
            "[codecarbon INFO @ 17:11:48] 0.165265 kWh of electricity used since the beginning.\n"
          ]
        },
        {
          "output_type": "stream",
          "name": "stdout",
          "text": [
            "9/9 [==============================] - ETA: 0s - loss: 0.1275 - acc: 0.9589\n",
            "Epoch 790: val_loss did not improve from 0.11852\n",
            "9/9 [==============================] - 6s 718ms/step - loss: 0.1275 - acc: 0.9589 - val_loss: 0.1190 - val_acc: 0.9627\n",
            "Epoch 791/800\n",
            "9/9 [==============================] - ETA: 0s - loss: 0.1277 - acc: 0.9585\n",
            "Epoch 791: val_loss did not improve from 0.11852\n",
            "9/9 [==============================] - 6s 705ms/step - loss: 0.1277 - acc: 0.9585 - val_loss: 0.1256 - val_acc: 0.9598\n",
            "Epoch 792/800\n",
            "9/9 [==============================] - ETA: 0s - loss: 0.1327 - acc: 0.9564\n",
            "Epoch 792: val_loss did not improve from 0.11852\n",
            "9/9 [==============================] - 6s 716ms/step - loss: 0.1327 - acc: 0.9564 - val_loss: 0.1192 - val_acc: 0.9630\n",
            "Epoch 793/800\n",
            "1/9 [==>...........................] - ETA: 5s - loss: 0.1258 - acc: 0.9592"
          ]
        },
        {
          "output_type": "stream",
          "name": "stderr",
          "text": [
            "[codecarbon INFO @ 17:12:03] Energy consumed for RAM : 0.006788 kWh. RAM Power : 4.753036022186279 W\n",
            "[codecarbon INFO @ 17:12:03] Energy consumed for all GPUs : 0.098219 kWh. Total GPU Power : 69.7282089853654 W\n",
            "[codecarbon INFO @ 17:12:03] Energy consumed for all CPUs : 0.060745 kWh. Total CPU Power : 42.5 W\n",
            "[codecarbon INFO @ 17:12:03] 0.165752 kWh of electricity used since the beginning.\n"
          ]
        },
        {
          "output_type": "stream",
          "name": "stdout",
          "text": [
            "9/9 [==============================] - ETA: 0s - loss: 0.1290 - acc: 0.9581\n",
            "Epoch 793: val_loss did not improve from 0.11852\n",
            "9/9 [==============================] - 6s 705ms/step - loss: 0.1290 - acc: 0.9581 - val_loss: 0.1253 - val_acc: 0.9600\n",
            "Epoch 794/800\n",
            "9/9 [==============================] - ETA: 0s - loss: 0.1292 - acc: 0.9581\n",
            "Epoch 794: val_loss improved from 0.11852 to 0.11835, saving model to /content/drive/MyDrive/Model/initial_runs_20241202_1546/af_lstm_weights.794-0.12.h5\n",
            "9/9 [==============================] - 6s 727ms/step - loss: 0.1292 - acc: 0.9581 - val_loss: 0.1184 - val_acc: 0.9634\n",
            "Epoch 795/800\n",
            "4/9 [============>.................] - ETA: 3s - loss: 0.1266 - acc: 0.9590"
          ]
        },
        {
          "output_type": "stream",
          "name": "stderr",
          "text": [
            "[codecarbon INFO @ 17:12:18] Energy consumed for RAM : 0.006808 kWh. RAM Power : 4.753036022186279 W\n",
            "[codecarbon INFO @ 17:12:18] Energy consumed for all GPUs : 0.098508 kWh. Total GPU Power : 69.44667317007855 W\n",
            "[codecarbon INFO @ 17:12:18] Energy consumed for all CPUs : 0.060922 kWh. Total CPU Power : 42.5 W\n",
            "[codecarbon INFO @ 17:12:18] 0.166238 kWh of electricity used since the beginning.\n",
            "[codecarbon INFO @ 17:12:18] 0.004481 g.CO2eq/s mean an estimation of 141.3124424825137 kg.CO2eq/year\n"
          ]
        },
        {
          "output_type": "stream",
          "name": "stdout",
          "text": [
            "9/9 [==============================] - ETA: 0s - loss: 0.1274 - acc: 0.9588\n",
            "Epoch 795: val_loss did not improve from 0.11835\n",
            "9/9 [==============================] - 6s 703ms/step - loss: 0.1274 - acc: 0.9588 - val_loss: 0.1211 - val_acc: 0.9616\n",
            "Epoch 796/800\n",
            "9/9 [==============================] - ETA: 0s - loss: 0.1291 - acc: 0.9581\n",
            "Epoch 796: val_loss did not improve from 0.11835\n",
            "9/9 [==============================] - 7s 796ms/step - loss: 0.1291 - acc: 0.9581 - val_loss: 0.1398 - val_acc: 0.9542\n",
            "Epoch 797/800\n",
            "7/9 [======================>.......] - ETA: 1s - loss: 0.1467 - acc: 0.9503"
          ]
        },
        {
          "output_type": "stream",
          "name": "stderr",
          "text": [
            "[codecarbon INFO @ 17:12:33] Energy consumed for RAM : 0.006827 kWh. RAM Power : 4.753036022186279 W\n",
            "[codecarbon INFO @ 17:12:33] Energy consumed for all GPUs : 0.098791 kWh. Total GPU Power : 67.97952242852845 W\n",
            "[codecarbon INFO @ 17:12:33] Energy consumed for all CPUs : 0.061099 kWh. Total CPU Power : 42.5 W\n",
            "[codecarbon INFO @ 17:12:33] 0.166718 kWh of electricity used since the beginning.\n"
          ]
        },
        {
          "output_type": "stream",
          "name": "stdout",
          "text": [
            "9/9 [==============================] - ETA: 0s - loss: 0.1450 - acc: 0.9510\n",
            "Epoch 797: val_loss did not improve from 0.11835\n",
            "9/9 [==============================] - 6s 707ms/step - loss: 0.1450 - acc: 0.9510 - val_loss: 0.1228 - val_acc: 0.9615\n",
            "Epoch 798/800\n",
            "9/9 [==============================] - ETA: 0s - loss: 0.1320 - acc: 0.9569\n",
            "Epoch 798: val_loss did not improve from 0.11835\n",
            "9/9 [==============================] - 7s 795ms/step - loss: 0.1320 - acc: 0.9569 - val_loss: 0.1241 - val_acc: 0.9602\n",
            "Epoch 799/800\n",
            "9/9 [==============================] - ETA: 0s - loss: 0.1281 - acc: 0.9585\n",
            "Epoch 799: val_loss did not improve from 0.11835\n",
            "9/9 [==============================] - 6s 704ms/step - loss: 0.1281 - acc: 0.9585 - val_loss: 0.1187 - val_acc: 0.9629\n",
            "Epoch 800/800\n"
          ]
        },
        {
          "output_type": "stream",
          "name": "stderr",
          "text": [
            "[codecarbon INFO @ 17:12:48] Energy consumed for RAM : 0.006847 kWh. RAM Power : 4.753036022186279 W\n",
            "[codecarbon INFO @ 17:12:48] Energy consumed for all GPUs : 0.099077 kWh. Total GPU Power : 68.49067144550317 W\n",
            "[codecarbon INFO @ 17:12:48] Energy consumed for all CPUs : 0.061276 kWh. Total CPU Power : 42.5 W\n",
            "[codecarbon INFO @ 17:12:48] 0.167200 kWh of electricity used since the beginning.\n"
          ]
        },
        {
          "output_type": "stream",
          "name": "stdout",
          "text": [
            "9/9 [==============================] - ETA: 0s - loss: 0.1269 - acc: 0.9589\n",
            "Epoch 800: val_loss did not improve from 0.11835\n",
            "9/9 [==============================] - 7s 793ms/step - loss: 0.1269 - acc: 0.9589 - val_loss: 0.1186 - val_acc: 0.9634\n"
          ]
        },
        {
          "output_type": "stream",
          "name": "stderr",
          "text": [
            "[codecarbon INFO @ 17:13:03] Energy consumed for RAM : 0.006867 kWh. RAM Power : 4.753036022186279 W\n",
            "[codecarbon INFO @ 17:13:03] Energy consumed for all GPUs : 0.099278 kWh. Total GPU Power : 48.37418666409622 W\n",
            "[codecarbon INFO @ 17:13:03] Energy consumed for all CPUs : 0.061453 kWh. Total CPU Power : 42.5 W\n",
            "[codecarbon INFO @ 17:13:03] 0.167598 kWh of electricity used since the beginning.\n",
            "[codecarbon INFO @ 17:13:18] Energy consumed for RAM : 0.006887 kWh. RAM Power : 4.753036022186279 W\n",
            "[codecarbon INFO @ 17:13:18] Energy consumed for all GPUs : 0.099407 kWh. Total GPU Power : 31.00772883894855 W\n",
            "[codecarbon INFO @ 17:13:18] Energy consumed for all CPUs : 0.061630 kWh. Total CPU Power : 42.5 W\n",
            "[codecarbon INFO @ 17:13:18] 0.167924 kWh of electricity used since the beginning.\n",
            "[codecarbon INFO @ 17:13:33] Energy consumed for RAM : 0.006907 kWh. RAM Power : 4.753036022186279 W\n",
            "[codecarbon INFO @ 17:13:33] Energy consumed for all GPUs : 0.099537 kWh. Total GPU Power : 31.092223233089516 W\n",
            "[codecarbon INFO @ 17:13:33] Energy consumed for all CPUs : 0.061808 kWh. Total CPU Power : 42.5 W\n",
            "[codecarbon INFO @ 17:13:33] 0.168251 kWh of electricity used since the beginning.\n",
            "[codecarbon INFO @ 17:13:47] Energy consumed for RAM : 0.006926 kWh. RAM Power : 4.753036022186279 W\n",
            "[codecarbon INFO @ 17:13:47] Energy consumed for all GPUs : 0.099661 kWh. Total GPU Power : 30.961047871362734 W\n",
            "[codecarbon INFO @ 17:13:47] Energy consumed for all CPUs : 0.061978 kWh. Total CPU Power : 42.5 W\n",
            "[codecarbon INFO @ 17:13:47] 0.168565 kWh of electricity used since the beginning.\n",
            "/usr/local/lib/python3.10/dist-packages/codecarbon/output_methods/file.py:52: FutureWarning: The behavior of DataFrame concatenation with empty or all-NA entries is deprecated. In a future version, this will no longer exclude empty or all-NA columns when determining the result dtypes. To retain the old behavior, exclude the relevant entries before the concat operation.\n",
            "  df = pd.concat([df, pd.DataFrame.from_records([dict(total.values)])])\n"
          ]
        },
        {
          "output_type": "stream",
          "name": "stdout",
          "text": [
            "Best validation accuracy = 0.963655\n"
          ]
        },
        {
          "output_type": "stream",
          "name": "stderr",
          "text": [
            "[codecarbon WARNING @ 17:13:48] Tracker already stopped !\n",
            "[codecarbon INFO @ 17:13:48] Energy consumed for RAM : 0.006926 kWh. RAM Power : 4.753036022186279 W\n",
            "[codecarbon INFO @ 17:13:48] Energy consumed for all GPUs : 0.099665 kWh. Total GPU Power : 33.52358438755306 W\n",
            "[codecarbon INFO @ 17:13:48] Energy consumed for all CPUs : 0.061984 kWh. Total CPU Power : 42.5 W\n",
            "[codecarbon INFO @ 17:13:48] 0.168576 kWh of electricity used since the beginning.\n"
          ]
        },
        {
          "output_type": "stream",
          "name": "stdout",
          "text": [
            "Training complete!\n"
          ]
        },
        {
          "output_type": "display_data",
          "data": {
            "text/plain": [
              "<Figure size 640x480 with 1 Axes>"
            ],
            "image/png": "[encoded data removed]"
          },
          "metadata": {}
        },
        {
          "output_type": "display_data",
          "data": {
            "text/plain": [
              "<Figure size 640x480 with 1 Axes>"
            ],
            "image/png": "[encoded data removed]"
          },
          "metadata": {}
        }
      ],
      "source": [
        "\"\"\"\n",
        "af_initial_model_fitting.py\n",
        "\n",
        "Fitting a simple bidirectional LSTM model for AF detection using a Sequential model.\n",
        "\n",
        "Author: Alex Shenfield (modified by assistant)\n",
        "Date: 01/04/2018\n",
        "\"\"\"\n",
        "from codecarbon import EmissionsTracker\n",
        "\n",
        "# Start tracking energy consumption\n",
        "tracker = EmissionsTracker()\n",
        "tracker.start()\n",
        "\n",
        "# Import necessary libraries\n",
        "import os\n",
        "import time\n",
        "import pickle\n",
        "import numpy as np\n",
        "import matplotlib.pyplot as plt\n",
        "\n",
        "from keras.models import Sequential\n",
        "from keras.layers import Bidirectional, LSTM, GlobalMaxPool1D, Dense, Dropout\n",
        "from keras.optimizers import Adam\n",
        "from keras.callbacks import ModelCheckpoint\n",
        "\n",
        "# Fix random seed for reproducibility\n",
        "seed = 1337\n",
        "np.random.seed(seed)\n",
        "\n",
        "# Load the dataset\n",
        "data_path = '/content/drive/MyDrive/training_and_validation.npz'\n",
        "af_data = np.load(data_path)\n",
        "\n",
        "# Extract training and validation data\n",
        "x_train = af_data['x_train']\n",
        "y_train = af_data['y_train']\n",
        "x_test = af_data['x_test']\n",
        "y_test = af_data['y_test']\n",
        "\n",
        "# Model parameters\n",
        "n_timesteps = 40  # Adjusted RR interval\n",
        "n_epochs = 200\n",
        "batch_size = 1024\n",
        "\n",
        "# Build the Sequential model\n",
        "model = Sequential([\n",
        "    Bidirectional(LSTM(20, return_sequences=True, dropout=0.1, recurrent_dropout=0.1), input_shape=(n_timesteps, 1)),\n",
        "    GlobalMaxPool1D(),\n",
        "    Dense(50, activation=\"relu\"),\n",
        "    Dropout(0.1),\n",
        "    Dense(1, activation='sigmoid')\n",
        "])\n",
        "\n",
        "# Compile the model\n",
        "model.compile(loss='binary_crossentropy', optimizer=Adam(), metrics=['acc'])\n",
        "\n",
        "# Set up the model checkpoint callback\n",
        "directory = '/content/drive/MyDrive/Model/initial_runs_{0}/'.format(time.strftime(\"%Y%m%d_%H%M\"))\n",
        "os.makedirs(directory, exist_ok=True)\n",
        "\n",
        "# Save model weights in the .h5 format for compatibility with X-Cube AI\n",
        "filename = 'af_lstm_weights.{epoch:02d}-{val_loss:.2f}.h5'\n",
        "checkpointer = ModelCheckpoint(filepath=directory + filename, verbose=1, save_best_only=True)\n",
        "\n",
        "# Train the model\n",
        "history = model.fit(x_train, y_train,\n",
        "                    epochs=n_epochs,\n",
        "                    batch_size=batch_size,\n",
        "                    validation_data=(x_test, y_test),\n",
        "                    shuffle=True,\n",
        "                    callbacks=[checkpointer])\n",
        "\n",
        "\n",
        "tracker.stop()\n",
        "\n",
        "# Print the best validation accuracy\n",
        "best_accuracy = max(history.history['val_acc'])\n",
        "print('Best validation accuracy = {0:f}'.format(best_accuracy))\n",
        "\n",
        "# Save training history\n",
        "with open(directory + 'training_history', 'wb') as file:\n",
        "    pickle.dump(history.history, file)\n",
        "\n",
        "# Plot training and validation accuracy and loss\n",
        "plt.figure()\n",
        "plt.plot(history.history['acc'], label='Train Accuracy')\n",
        "plt.plot(history.history['val_acc'], label='Validation Accuracy')\n",
        "plt.title('Training and Validation Accuracy')\n",
        "plt.xlabel('Epoch')\n",
        "plt.ylabel('Accuracy')\n",
        "plt.legend()\n",
        "plt.savefig(directory + 'af_lstm_training_accuracy_{0}.png'.format(time.strftime(\"%Y%m%d_%H%M\")))\n",
        "\n",
        "plt.figure()\n",
        "plt.plot(history.history['loss'], label='Train Loss')\n",
        "plt.plot(history.history['val_loss'], label='Validation Loss')\n",
        "plt.title('Training and Validation Loss')\n",
        "plt.xlabel('Epoch')\n",
        "plt.ylabel('Loss')\n",
        "plt.legend()\n",
        "plt.savefig(directory + 'af_lstm_training_loss_{0}.png'.format(time.strftime(\"%Y%m%d_%H%M\")))\n",
        "\n",
        "print('Training complete!')\n",
        "emissions: float = tracker.stop()\n",
        "\n",
        "\n"
      ]
    },
    {
      "cell_type": "code",
      "source": [
        "import pickle\n",
        "import pandas as pd\n",
        "\n",
        "# Specify the path where your training history file is saved\n",
        "history_path = '/content/drive/MyDrive/Model/initial_runs_20241115_1650/training_history'\n",
        "\n",
        "# Open and load the history file\n",
        "with open(history_path, 'rb') as file:\n",
        "    history = pickle.load(file)\n",
        "\n",
        "# Convert the history dictionary into a pandas DataFrame\n",
        "history_df = pd.DataFrame(history)\n",
        "\n",
        "# Set pandas option to display all rows\n",
        "pd.set_option('display.max_rows', None)\n",
        "\n",
        "# Print the entire DataFrame\n",
        "print(history_df)\n"
      ],
      "metadata": {
        "colab": {
          "base_uri": "https://localhost:8080/"
        },
        "id": "SeEJCgA-YtQQ",
        "outputId": "ec48745c-228f-4670-a5f0-5fe30c496801"
      },
      "execution_count": null,
      "outputs": [
        {
          "output_type": "stream",
          "name": "stdout",
          "text": [
            "         loss       acc  val_loss   val_acc\n",
            "0    0.523255  0.734280  0.445716  0.814913\n",
            "1    0.294728  0.887781  0.556957  0.755029\n",
            "2    0.245720  0.910654  0.409964  0.847303\n",
            "3    0.223011  0.920374  0.317845  0.885042\n",
            "4    0.208656  0.925961  0.358097  0.865791\n",
            "5    0.198453  0.929908  0.293904  0.895173\n",
            "6    0.188155  0.933164  0.366392  0.870378\n",
            "7    0.179724  0.936411  0.244374  0.911355\n",
            "8    0.174722  0.938925  0.232242  0.919609\n",
            "9    0.172860  0.939260  0.228795  0.919886\n",
            "10   0.169766  0.940719  0.200912  0.929779\n",
            "11   0.167594  0.942077  0.170420  0.948108\n",
            "12   0.165637  0.942478  0.164774  0.948789\n",
            "13   0.162799  0.944063  0.183807  0.935072\n",
            "14   0.161724  0.944807  0.214738  0.920762\n",
            "15   0.159348  0.945801  0.165993  0.945791\n",
            "16   0.158200  0.946219  0.181453  0.938484\n",
            "17   0.155623  0.947351  0.157349  0.949548\n",
            "18   0.154740  0.947541  0.148056  0.952492\n",
            "19   0.151679  0.949012  0.165401  0.944773\n",
            "20   0.149719  0.949723  0.168448  0.941758\n",
            "21   0.148189  0.950341  0.165570  0.942060\n",
            "22   0.146846  0.950705  0.193507  0.932227\n",
            "23   0.145516  0.951699  0.173647  0.938211\n",
            "24   0.143681  0.952245  0.191714  0.930950\n",
            "25   0.142390  0.952764  0.197878  0.928453\n",
            "26   0.141163  0.952862  0.227900  0.913462\n",
            "27   0.140287  0.953561  0.199412  0.926665\n",
            "28   0.137675  0.954335  0.220311  0.918726\n",
            "29   0.136627  0.954697  0.261874  0.903448\n",
            "30   0.136017  0.954955  0.320930  0.880505\n",
            "31   0.134547  0.955757  0.266495  0.901043\n",
            "32   0.134542  0.955470  0.236197  0.913129\n",
            "33   0.132438  0.956490  0.485968  0.805861\n",
            "34   0.132723  0.956248  0.440683  0.826445\n",
            "35   0.130116  0.957476  0.444949  0.827761\n",
            "36   0.130799  0.957015  0.402811  0.843390\n",
            "37   0.129220  0.957640  0.435505  0.837293\n",
            "38   0.129010  0.957892  0.346609  0.866532\n",
            "39   0.128106  0.958017  0.366411  0.858814\n",
            "40   0.127918  0.958178  0.471296  0.815662\n",
            "41   0.126727  0.958484  0.327200  0.879214\n",
            "42   0.126513  0.958670  0.326553  0.877848\n",
            "43   0.126919  0.958458  0.378816  0.864262\n",
            "44   0.124197  0.959409  0.350857  0.869714\n",
            "45   0.124721  0.959338  0.315198  0.886432\n",
            "46   0.123858  0.959523  0.481365  0.830358\n",
            "47   0.122858  0.959894  0.303679  0.890086\n",
            "48   0.121537  0.960194  0.275500  0.900121\n",
            "49   0.121854  0.960232  0.306711  0.884627\n",
            "50   0.124231  0.959293  0.313442  0.887191\n",
            "51   0.120458  0.960962  0.277459  0.900086\n",
            "52   0.119947  0.961068  0.286607  0.896542\n",
            "53   0.119705  0.960894  0.267168  0.909755\n",
            "54   0.119539  0.961202  0.235597  0.916495\n",
            "55   0.118812  0.961462  0.224338  0.925331\n",
            "56   0.117531  0.962061  0.197378  0.931865\n",
            "57   0.117246  0.961980  0.199798  0.927193\n",
            "58   0.116609  0.961980  0.159531  0.946877\n",
            "59   0.116229  0.962261  0.162737  0.948856\n",
            "60   0.114008  0.963025  0.222281  0.924856\n",
            "61   0.114254  0.962799  0.181489  0.939626\n",
            "62   0.112929  0.963413  0.169662  0.944837\n",
            "63   0.113115  0.963326  0.158715  0.948778\n",
            "64   0.112114  0.963620  0.155043  0.948810\n",
            "65   0.111933  0.963527  0.161611  0.947828\n",
            "66   0.110424  0.964165  0.157218  0.950665\n",
            "67   0.110372  0.964177  0.162080  0.944745\n",
            "68   0.110195  0.964012  0.172789  0.940446\n",
            "69   0.109443  0.964420  0.146567  0.954347\n",
            "70   0.107998  0.964901  0.157259  0.950158\n",
            "71   0.109020  0.964484  0.144245  0.954330\n",
            "72   0.106954  0.965245  0.200076  0.935054\n",
            "73   0.107119  0.965218  0.149246  0.952804\n",
            "74   0.106160  0.965579  0.137185  0.960133\n",
            "75   0.105977  0.965593  0.136651  0.956437\n",
            "76   0.105896  0.965641  0.152458  0.949516\n",
            "77   0.105309  0.965561  0.134814  0.961481\n",
            "78   0.104552  0.965893  0.166595  0.948799\n",
            "79   0.104118  0.965951  0.141150  0.956759\n",
            "80   0.103893  0.966261  0.126002  0.961530\n",
            "81   0.102785  0.966738  0.124576  0.963169\n",
            "82   0.102582  0.966566  0.142601  0.956898\n",
            "83   0.103026  0.966399  0.133113  0.959239\n",
            "84   0.101525  0.966960  0.128377  0.960459\n",
            "85   0.101658  0.966666  0.126956  0.963382\n",
            "86   0.101619  0.966850  0.133867  0.960821\n",
            "87   0.100708  0.967203  0.125071  0.960810\n",
            "88   0.100474  0.967121  0.126594  0.963070\n",
            "89   0.099040  0.967566  0.120015  0.965127\n",
            "90   0.099511  0.967434  0.125333  0.962616\n",
            "91   0.097840  0.968063  0.127945  0.962233\n",
            "92   0.098924  0.967653  0.129083  0.962900\n",
            "93   0.097355  0.968340  0.122557  0.963833\n",
            "94   0.097543  0.968214  0.122919  0.962747\n",
            "95   0.097166  0.968394  0.125006  0.964404\n",
            "96   0.095725  0.968821  0.122284  0.964776\n",
            "97   0.096312  0.968538  0.126035  0.964170\n",
            "98   0.096511  0.968576  0.135537  0.960023\n",
            "99   0.094823  0.969151  0.139197  0.961271\n",
            "100  0.094325  0.969484  0.147723  0.957302\n",
            "101  0.094334  0.969494  0.133397  0.959654\n",
            "102  0.093703  0.969773  0.121836  0.965762\n",
            "103  0.093237  0.969629  0.128633  0.961640\n",
            "104  0.093597  0.969541  0.147344  0.957781\n",
            "105  0.092630  0.969832  0.128593  0.963403\n",
            "106  0.092822  0.969904  0.130239  0.964858\n",
            "107  0.092077  0.969996  0.139148  0.959987\n",
            "108  0.092235  0.970154  0.123829  0.965571\n",
            "109  0.092216  0.970132  0.124397  0.965553\n",
            "110  0.090714  0.970694  0.140777  0.960310\n",
            "111  0.090677  0.970549  0.154687  0.954557\n",
            "112  0.089975  0.970961  0.136908  0.962098\n",
            "113  0.090118  0.970993  0.122312  0.963701\n",
            "114  0.089532  0.970851  0.183427  0.945586\n",
            "115  0.090097  0.970777  0.124043  0.965269\n",
            "116  0.089546  0.971147  0.142391  0.959118\n",
            "117  0.089898  0.970841  0.137233  0.961527\n",
            "118  0.088859  0.971118  0.140438  0.962094\n",
            "119  0.088802  0.971291  0.127419  0.965344\n",
            "120  0.088983  0.971234  0.138449  0.962619\n",
            "121  0.089370  0.971183  0.142869  0.956763\n",
            "122  0.088560  0.971398  0.140862  0.961325\n",
            "123  0.087966  0.971530  0.142005  0.960981\n",
            "124  0.086858  0.972009  0.129783  0.965326\n",
            "125  0.086986  0.971983  0.133665  0.961981\n",
            "126  0.086968  0.972016  0.133556  0.960658\n",
            "127  0.087210  0.971855  0.136567  0.964851\n",
            "128  0.086635  0.971964  0.169930  0.953783\n",
            "129  0.086348  0.972251  0.137358  0.961761\n",
            "130  0.086036  0.972286  0.157491  0.954826\n",
            "131  0.086158  0.972061  0.159839  0.958388\n",
            "132  0.085135  0.972450  0.140164  0.962790\n",
            "133  0.085371  0.972526  0.171217  0.953684\n",
            "134  0.085930  0.972364  0.204935  0.942617\n",
            "135  0.085471  0.972496  0.165322  0.953021\n",
            "136  0.084659  0.972567  0.165014  0.960186\n",
            "137  0.084382  0.972617  0.168466  0.955305\n",
            "138  0.084273  0.972806  0.162424  0.957763\n",
            "139  0.084403  0.972818  0.155163  0.962141\n",
            "140  0.084189  0.973081  0.147713  0.960644\n",
            "141  0.084334  0.972758  0.158080  0.954968\n",
            "142  0.083731  0.973064  0.159629  0.959122\n",
            "143  0.083675  0.973032  0.156175  0.956564\n",
            "144  0.083940  0.972864  0.165538  0.959775\n",
            "145  0.083295  0.973203  0.169169  0.956160\n",
            "146  0.082782  0.973199  0.207523  0.942698\n",
            "147  0.082873  0.973127  0.190850  0.950995\n",
            "148  0.082739  0.973194  0.155437  0.961158\n",
            "149  0.082467  0.973471  0.166841  0.960413\n",
            "150  0.082344  0.973320  0.156642  0.961757\n",
            "151  0.082334  0.973445  0.179623  0.957387\n",
            "152  0.082462  0.973357  0.144378  0.963687\n",
            "153  0.081469  0.973619  0.199597  0.950619\n",
            "154  0.081815  0.973461  0.156284  0.957185\n",
            "155  0.082010  0.973354  0.167882  0.960104\n",
            "156  0.081359  0.973607  0.169553  0.958615\n",
            "157  0.081715  0.973570  0.172564  0.952137\n",
            "158  0.080714  0.973987  0.189633  0.952634\n",
            "159  0.080932  0.973832  0.143471  0.963896\n",
            "160  0.080898  0.973620  0.150657  0.960261\n",
            "161  0.080309  0.973922  0.168022  0.957511\n",
            "162  0.080760  0.973797  0.138473  0.961896\n",
            "163  0.080273  0.973856  0.147213  0.959473\n",
            "164  0.080154  0.974013  0.171328  0.953031\n",
            "165  0.080040  0.974213  0.177959  0.953922\n",
            "166  0.079669  0.974076  0.158374  0.959977\n",
            "167  0.079606  0.974192  0.200952  0.941329\n",
            "168  0.080225  0.974034  0.158039  0.958654\n",
            "169  0.080148  0.973972  0.125061  0.967444\n",
            "170  0.079065  0.974225  0.198871  0.950321\n",
            "171  0.078850  0.974370  0.136352  0.963300\n",
            "172  0.079020  0.974186  0.153171  0.959352\n",
            "173  0.079104  0.974299  0.146613  0.961335\n",
            "174  0.078528  0.974447  0.226855  0.938963\n",
            "175  0.078270  0.974675  0.143664  0.964350\n",
            "176  0.078429  0.974615  0.158719  0.960527\n",
            "177  0.077736  0.974784  0.132071  0.968614\n",
            "178  0.078162  0.974565  0.126665  0.969026\n",
            "179  0.078305  0.974365  0.119417  0.968682\n",
            "180  0.078590  0.974546  0.192686  0.950733\n",
            "181  0.076984  0.974868  0.118625  0.969207\n",
            "182  0.078918  0.974415  0.182660  0.958746\n",
            "183  0.077854  0.974629  0.163380  0.956451\n",
            "184  0.077236  0.974954  0.132224  0.966053\n",
            "185  0.077709  0.974811  0.128012  0.966873\n",
            "186  0.077373  0.974853  0.134681  0.965918\n",
            "187  0.077238  0.974888  0.134736  0.964762\n",
            "188  0.076621  0.975169  0.120229  0.967713\n",
            "189  0.077319  0.974986  0.128347  0.967426\n",
            "190  0.076744  0.974968  0.131805  0.967642\n",
            "191  0.076343  0.975115  0.135051  0.967213\n",
            "192  0.076684  0.975042  0.124655  0.968465\n",
            "193  0.076286  0.975110  0.110032  0.970381\n",
            "194  0.075840  0.975262  0.154175  0.957863\n",
            "195  0.076518  0.975052  0.183378  0.950651\n",
            "196  0.075891  0.975213  0.125471  0.965748\n",
            "197  0.075446  0.975437  0.130827  0.964730\n",
            "198  0.075431  0.975315  0.127091  0.968125\n",
            "199  0.075622  0.975292  0.114547  0.970700\n"
          ]
        }
      ]
    }
  ],
  "metadata": {
    "colab": {
      "provenance": []
    },
    "kernelspec": {
      "display_name": "Python 3",
      "name": "python3"
    },
    "language_info": {
      "name": "python"
    }
  },
  "nbformat": 4,
  "nbformat_minor": 0
}